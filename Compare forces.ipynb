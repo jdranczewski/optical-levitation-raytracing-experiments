{
 "cells": [
  {
   "cell_type": "code",
   "execution_count": 1,
   "metadata": {},
   "outputs": [],
   "source": [
    "y_config = \"\"\"params:\n",
    "  mass: 1.3e-12\n",
    "  start: 0\n",
    "  end: 500000\n",
    "  steps: 100\n",
    "  initial-conditions: [-1.5e-6, 100.e-6, 0, 0]\n",
    "\n",
    "forces:\n",
    "  - type: ray_tracer\n",
    "    params:\n",
    "      objects:\n",
    "      - type: Sphere\n",
    "        origin:\n",
    "          type: offset\n",
    "          value: [0,0]\n",
    "        params:\n",
    "          radius: 5.e-6\n",
    "          n_in: 1.52\n",
    "      ray-factory:\n",
    "        type: AdaptiveGaussianRF\n",
    "        origin:\n",
    "          type: offset\n",
    "          value: [0, -15.e-6]\n",
    "        params:\n",
    "          waist_origin: [0, 0]\n",
    "          dir: [0,1]\n",
    "          waist_radius: 3.4e-6\n",
    "          power: 300.e-3\n",
    "          n: 100\n",
    "          wavelength: 532\n",
    "          emit_radius: 5.e-6\"\"\""
   ]
  },
  {
   "cell_type": "code",
   "execution_count": 2,
   "metadata": {},
   "outputs": [],
   "source": [
    "import yaml\n",
    "import forces.ray_tracer as rt\n",
    "import tdt2\n",
    "\n",
    "import sys\n",
    "sys.path.append(\"../old code\")\n",
    "import single_sphere_kim\n",
    "import beam_intensity\n",
    "\n",
    "import matplotlib.pyplot as plt\n",
    "import numpy as np"
   ]
  },
  {
   "cell_type": "markdown",
   "metadata": {},
   "source": [
    "# New code"
   ]
  },
  {
   "cell_type": "code",
   "execution_count": 3,
   "metadata": {},
   "outputs": [
    {
     "data": {
      "text/plain": [
       "array([3.59271083e-11, 6.82002966e-11])"
      ]
     },
     "execution_count": 3,
     "metadata": {},
     "output_type": "execute_result"
    }
   ],
   "source": [
    "config = yaml.safe_load(y_config)\n",
    "sim_params = config[\"params\"]\n",
    "rtf = rt.factory(config, config[\"forces\"][0][\"params\"])\n",
    "rtf(config[\"params\"][\"initial-conditions\"], 0)"
   ]
  },
  {
   "cell_type": "markdown",
   "metadata": {},
   "source": [
    "# Old code"
   ]
  },
  {
   "cell_type": "code",
   "execution_count": 4,
   "metadata": {},
   "outputs": [],
   "source": [
    "class Inp:\n",
    "    optical_switch = True\n",
    "    target_n = config[\"forces\"][0][\"params\"][\"objects\"][0][\"params\"][\"n_in\"]\n",
    "    medium_n = 1\n",
    "    polarisation='un_kim'\n",
    "    target_radius = config[\"forces\"][0][\"params\"][\"objects\"][0][\"params\"][\"radius\"]\n",
    "    beam_type = \"gaussian\"\n",
    "    W0 = config[\"forces\"][0][\"params\"][\"ray-factory\"][\"params\"][\"waist_radius\"]\n",
    "    wavelength = config[\"forces\"][0][\"params\"][\"ray-factory\"][\"params\"][\"wavelength\"] * 1e-9\n",
    "    power_profile = \"constant\"\n",
    "    p_max = config[\"forces\"][0][\"params\"][\"ray-factory\"][\"params\"][\"power\"]\n",
    "    noise_switch = False\n",
    "    c = 299792458\n",
    "    target_abs = 0\n",
    "inp = Inp()\n",
    "single_sphere_kim.inp = inp\n",
    "beam_intensity.inp = inp"
   ]
  },
  {
   "cell_type": "code",
   "execution_count": 5,
   "metadata": {
    "scrolled": true
   },
   "outputs": [
    {
     "data": {
      "text/plain": [
       "array([7.00277963e-11, 0.00000000e+00, 2.21306297e-10])"
      ]
     },
     "execution_count": 5,
     "metadata": {},
     "output_type": "execute_result"
    }
   ],
   "source": [
    "init = config[\"params\"][\"initial-conditions\"]\n",
    "single_sphere_kim.optical_force([init[0], 0, init[1]], 0)"
   ]
  },
  {
   "cell_type": "markdown",
   "metadata": {},
   "source": [
    "# Compare intensities"
   ]
  },
  {
   "cell_type": "code",
   "execution_count": 6,
   "metadata": {},
   "outputs": [
    {
     "name": "stdout",
     "output_type": "stream",
     "text": [
      "20706346733.638374\n",
      "16521274369.4009\n"
     ]
    }
   ],
   "source": [
    "waist_radius = 3.4e-6\n",
    "wavelength = 532\n",
    "z = 0\n",
    "power = 300.e-3\n",
    "r=0\n",
    "\n",
    "w = waist_radius * np.sqrt(1 + ((z*wavelength*1e-9)/(np.pi*waist_radius**2))**2)\n",
    "intensities = np.sqrt(2 / np.pi) * power / w**2 * np.exp(-2 * r**2 / w ** 2)\n",
    "print(intensities)\n",
    "\n",
    "W=waist_radius*(1+((wavelength*1e-9*z)/(np.pi*waist_radius**2))**2)**0.5\n",
    "I=((2.*power)/(np.pi*W**2.))*np.exp(-(2.*r**2.)/(W**2.))\n",
    "print(I)"
   ]
  },
  {
   "cell_type": "markdown",
   "metadata": {},
   "source": [
    "# Check weights"
   ]
  },
  {
   "cell_type": "code",
   "execution_count": 7,
   "metadata": {},
   "outputs": [],
   "source": [
    "# rf = tdt2.AdaptiveGaussianRF(origin=[0,0], **config[\"forces\"][0][\"params\"][\"ray-factory\"][\"params\"])\n",
    "rf = tdt2.AdaptiveGaussianRF([0,0], [0,1], .25, 3, 100, 1, [0,0], 3)"
   ]
  },
  {
   "cell_type": "code",
   "execution_count": 8,
   "metadata": {},
   "outputs": [
    {
     "data": {
      "text/plain": [
       "0.9549296585513724"
      ]
     },
     "execution_count": 8,
     "metadata": {},
     "output_type": "execute_result"
    }
   ],
   "source": [
    "np.sum(rf.weights) * 6.62607004e-25 * 299792458 / rf.wavelength"
   ]
  },
  {
   "cell_type": "markdown",
   "metadata": {},
   "source": [
    "# Compare x dependedce"
   ]
  },
  {
   "cell_type": "code",
   "execution_count": 11,
   "metadata": {},
   "outputs": [
    {
     "data": {
      "image/png": "[encoded data removed]",
      "text/plain": [
       "<Figure size 432x288 with 4 Axes>"
      ]
     },
     "metadata": {
      "needs_background": "light"
     },
     "output_type": "display_data"
    }
   ],
   "source": [
    "fig, ax = plt.subplots(4)\n",
    "w = 10e-6\n",
    "xs = np.linspace(-w, w, 20)\n",
    "y = 50e-6\n",
    "old_f = []\n",
    "new_f = []\n",
    "for x in xs:\n",
    "    old_f.append(single_sphere_kim.optical_force([x, 0, y], 0))\n",
    "    new_f.append(rtf([x, y, 0, 0], 0))\n",
    "old_f = np.array(old_f)\n",
    "new_f = np.array(new_f)\n",
    "\n",
    "ax[0].plot(xs, old_f[:,0], label=\"Old\")\n",
    "ax[0].plot(xs, new_f[:,0], label=\"New\")\n",
    "ax[0].legend()\n",
    "ax[0].set_ylabel(\"X\")\n",
    "\n",
    "ax[1].plot(xs, old_f[:,0]/new_f[:,0], label=\"Old/New\")\n",
    "ax[1].legend()\n",
    "\n",
    "ax[2].plot(xs, old_f[:,2])\n",
    "ax[2].plot(xs, new_f[:,1])\n",
    "ax[2].set_ylabel(\"Y\")\n",
    "\n",
    "ax[3].plot(xs, old_f[:,2]/new_f[:,1], label=\"Old/New\")\n",
    "ax[3].legend()\n",
    "\n",
    "plt.show()"
   ]
  },
  {
   "cell_type": "code",
   "execution_count": null,
   "metadata": {},
   "outputs": [],
   "source": []
  }
 ],
 "metadata": {
  "kernelspec": {
   "display_name": "UROP20",
   "language": "python",
   "name": "urop20"
  },
  "language_info": {
   "codemirror_mode": {
    "name": "ipython",
    "version": 3
   },
   "file_extension": ".py",
   "mimetype": "text/x-python",
   "name": "python",
   "nbconvert_exporter": "python",
   "pygments_lexer": "ipython3",
   "version": "3.7.7"
  }
 },
 "nbformat": 4,
 "nbformat_minor": 4
}
