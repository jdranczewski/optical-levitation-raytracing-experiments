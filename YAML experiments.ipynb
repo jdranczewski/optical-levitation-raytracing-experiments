{
 "cells": [
  {
   "cell_type": "code",
   "execution_count": 1,
   "metadata": {},
   "outputs": [],
   "source": [
    "import yaml"
   ]
  },
  {
   "cell_type": "code",
   "execution_count": 9,
   "metadata": {},
   "outputs": [],
   "source": [
    "a = yaml.safe_load(\"\"\"a: b\n",
    "c: d\"\"\")"
   ]
  },
  {
   "cell_type": "code",
   "execution_count": 11,
   "metadata": {},
   "outputs": [
    {
     "data": {
      "text/plain": [
       "{'a': 'b', 'c': 'd'}"
      ]
     },
     "execution_count": 11,
     "metadata": {},
     "output_type": "execute_result"
    }
   ],
   "source": [
    "a"
   ]
  },
  {
   "cell_type": "code",
   "execution_count": 73,
   "metadata": {},
   "outputs": [
    {
     "name": "stdout",
     "output_type": "stream",
     "text": [
      "{'variables': {'steps': 10, 'vars': [{'start': 0, 'end': 1, 'step': 1}, {'start': 1, 'end': 3, 'step': 2}, '__yes__']}, 'params': {'mass': '1e-6', 'steps': 1000, 'delta-t': '1e-3', 'initial-conditions': [0.0, 0.0, 1.0, 0.0]}, 'forces': [{'type': 'gravity', 'coeff': -9.81}, {'type': 'constant-force', 'strength': {'start': 0, 'end': 1, 'step': 1}}], 'test': '__yes__'}\n"
     ]
    }
   ],
   "source": [
    "with open(\"test.yaml\", 'r') as f:\n",
    "    o = yaml.safe_load(f)\n",
    "    print(o)"
   ]
  },
  {
   "cell_type": "code",
   "execution_count": 24,
   "metadata": {},
   "outputs": [
    {
     "data": {
      "text/plain": [
       "{'start': 0, 'end': 1}"
      ]
     },
     "execution_count": 24,
     "metadata": {},
     "output_type": "execute_result"
    }
   ],
   "source": [
    "o[\"forces\"][1][\"strength\"]"
   ]
  },
  {
   "cell_type": "code",
   "execution_count": 63,
   "metadata": {},
   "outputs": [
    {
     "data": {
      "text/plain": [
       "{'variables': {'steps': 10,\n",
       "  'vars': [{'start': 0, 'end': 1, 'step': 1},\n",
       "   {'start': 1, 'end': 3, 'step': 2},\n",
       "   1]},\n",
       " 'params': {'mass': '1e-6',\n",
       "  'steps': 1000,\n",
       "  'delta-t': '1e-3',\n",
       "  'initial-conditions': [0.0, 0.0, 1.0, 0.0]},\n",
       " 'forces': [{'type': 'gravity', 'coeff': -9.81},\n",
       "  {'type': 'constant-force', 'strength': {'start': 0, 'end': 1, 'step': 1}}],\n",
       " 'test': 5}"
      ]
     },
     "execution_count": 63,
     "metadata": {},
     "output_type": "execute_result"
    }
   ],
   "source": [
    "o"
   ]
  },
  {
   "cell_type": "code",
   "execution_count": 27,
   "metadata": {},
   "outputs": [],
   "source": [
    "o[\"variables\"][0][\"value\"] = 0.5"
   ]
  },
  {
   "cell_type": "code",
   "execution_count": 28,
   "metadata": {},
   "outputs": [
    {
     "data": {
      "text/plain": [
       "{'variables': [{'start': 0, 'end': 1, 'value': 0.5}],\n",
       " 'params': {'mass': '1e-6',\n",
       "  'steps': 1000,\n",
       "  'delta-t': '1e-3',\n",
       "  'initial-conditions': [0.0, 0.0, 1.0, 0.0]},\n",
       " 'forces': [{'type': 'gravity', 'coeff': -9.81},\n",
       "  {'type': 'constant-force',\n",
       "   'strength': {'start': 0, 'end': 1, 'value': 0.5}}]}"
      ]
     },
     "execution_count": 28,
     "metadata": {},
     "output_type": "execute_result"
    }
   ],
   "source": [
    "o"
   ]
  },
  {
   "cell_type": "code",
   "execution_count": 35,
   "metadata": {},
   "outputs": [
    {
     "name": "stdout",
     "output_type": "stream",
     "text": [
      "forces:\n",
      "- coeff: -9.81\n",
      "  type: gravity\n",
      "- strength: &id001\n",
      "    end: 1\n",
      "    start: 0\n",
      "    step: 1\n",
      "  type: constant-force\n",
      "params:\n",
      "  delta-t: 1e-3\n",
      "  initial-conditions:\n",
      "  - 0.0\n",
      "  - 0.0\n",
      "  - 1.0\n",
      "  - 0.0\n",
      "  mass: 1e-6\n",
      "  steps: 1000\n",
      "variables:\n",
      "  steps: 10\n",
      "  vars:\n",
      "  - *id001\n",
      "  - end: 3\n",
      "    start: 1\n",
      "    step: 2\n",
      "\n"
     ]
    }
   ],
   "source": [
    "print(yaml.safe_dump(o))"
   ]
  },
  {
   "cell_type": "code",
   "execution_count": 70,
   "metadata": {},
   "outputs": [
    {
     "name": "stdout",
     "output_type": "stream",
     "text": [
      "StreamStartEvent()\n",
      "DocumentStartEvent()\n",
      "MappingStartEvent(anchor=None, tag=None, implicit=True)\n",
      "ScalarEvent(anchor=None, tag=None, implicit=(True, False), value='variables')\n",
      "MappingStartEvent(anchor=None, tag=None, implicit=True)\n",
      "ScalarEvent(anchor=None, tag=None, implicit=(True, False), value='steps')\n",
      "ScalarEvent(anchor=None, tag=None, implicit=(True, False), value='10')\n",
      "ScalarEvent(anchor=None, tag=None, implicit=(True, False), value='vars')\n",
      "SequenceStartEvent(anchor=None, tag=None, implicit=True)\n",
      "MappingStartEvent(anchor='var1', tag=None, implicit=True)\n",
      "ScalarEvent(anchor=None, tag=None, implicit=(True, False), value='start')\n",
      "ScalarEvent(anchor=None, tag=None, implicit=(True, False), value='0')\n",
      "ScalarEvent(anchor=None, tag=None, implicit=(True, False), value='end')\n",
      "ScalarEvent(anchor=None, tag=None, implicit=(True, False), value='1')\n",
      "ScalarEvent(anchor=None, tag=None, implicit=(True, False), value='step')\n",
      "ScalarEvent(anchor=None, tag=None, implicit=(True, False), value='1')\n",
      "MappingEndEvent()\n",
      "MappingStartEvent(anchor='var2', tag=None, implicit=True)\n",
      "ScalarEvent(anchor=None, tag=None, implicit=(True, False), value='start')\n",
      "ScalarEvent(anchor=None, tag=None, implicit=(True, False), value='1')\n",
      "ScalarEvent(anchor=None, tag=None, implicit=(True, False), value='end')\n",
      "ScalarEvent(anchor=None, tag=None, implicit=(True, False), value='3')\n",
      "ScalarEvent(anchor=None, tag=None, implicit=(True, False), value='step')\n",
      "ScalarEvent(anchor=None, tag=None, implicit=(True, False), value='2')\n",
      "MappingEndEvent()\n",
      "ScalarEvent(anchor='var3', tag=None, implicit=(True, False), value='5')\n",
      "SequenceEndEvent()\n",
      "MappingEndEvent()\n",
      "ScalarEvent(anchor=None, tag=None, implicit=(True, False), value='params')\n",
      "MappingStartEvent(anchor=None, tag=None, implicit=True)\n",
      "ScalarEvent(anchor=None, tag=None, implicit=(True, False), value='mass')\n",
      "ScalarEvent(anchor=None, tag=None, implicit=(True, False), value='1e-6')\n",
      "ScalarEvent(anchor=None, tag=None, implicit=(True, False), value='steps')\n",
      "ScalarEvent(anchor=None, tag=None, implicit=(True, False), value='1000')\n",
      "ScalarEvent(anchor=None, tag=None, implicit=(True, False), value='delta-t')\n",
      "ScalarEvent(anchor=None, tag=None, implicit=(True, False), value='1e-3')\n",
      "ScalarEvent(anchor=None, tag=None, implicit=(True, False), value='initial-conditions')\n",
      "SequenceStartEvent(anchor=None, tag=None, implicit=True)\n",
      "ScalarEvent(anchor=None, tag=None, implicit=(True, False), value='0.')\n",
      "ScalarEvent(anchor=None, tag=None, implicit=(True, False), value='0.')\n",
      "ScalarEvent(anchor=None, tag=None, implicit=(True, False), value='1.')\n",
      "ScalarEvent(anchor=None, tag=None, implicit=(True, False), value='0.')\n",
      "SequenceEndEvent()\n",
      "MappingEndEvent()\n",
      "ScalarEvent(anchor=None, tag=None, implicit=(True, False), value='forces')\n",
      "SequenceStartEvent(anchor=None, tag=None, implicit=True)\n",
      "MappingStartEvent(anchor=None, tag=None, implicit=True)\n",
      "ScalarEvent(anchor=None, tag=None, implicit=(True, False), value='type')\n",
      "ScalarEvent(anchor=None, tag=None, implicit=(True, False), value='gravity')\n",
      "ScalarEvent(anchor=None, tag=None, implicit=(True, False), value='coeff')\n",
      "ScalarEvent(anchor=None, tag=None, implicit=(True, False), value='-9.81')\n",
      "MappingEndEvent()\n",
      "MappingStartEvent(anchor=None, tag=None, implicit=True)\n",
      "ScalarEvent(anchor=None, tag=None, implicit=(True, False), value='type')\n",
      "ScalarEvent(anchor=None, tag=None, implicit=(True, False), value='constant-force')\n",
      "ScalarEvent(anchor=None, tag=None, implicit=(True, False), value='strength')\n",
      "AliasEvent(anchor='var1')\n",
      "MappingEndEvent()\n",
      "SequenceEndEvent()\n",
      "ScalarEvent(anchor=None, tag=None, implicit=(True, False), value='test')\n",
      "AliasEvent(anchor='var3')\n",
      "MappingEndEvent()\n",
      "DocumentEndEvent()\n",
      "StreamEndEvent()\n"
     ]
    }
   ],
   "source": [
    "with open(\"test.yaml\", 'r') as f:\n",
    "    for event in yaml.parse(f):\n",
    "        print(event)\n",
    "        if isinstance(event, yaml.AliasEvent):\n",
    "            e = event"
   ]
  },
  {
   "cell_type": "code",
   "execution_count": null,
   "metadata": {},
   "outputs": [],
   "source": []
  }
 ],
 "metadata": {
  "kernelspec": {
   "display_name": "Python 3",
   "language": "python",
   "name": "python3"
  },
  "language_info": {
   "codemirror_mode": {
    "name": "ipython",
    "version": 3
   },
   "file_extension": ".py",
   "mimetype": "text/x-python",
   "name": "python",
   "nbconvert_exporter": "python",
   "pygments_lexer": "ipython3",
   "version": "3.7.7"
  }
 },
 "nbformat": 4,
 "nbformat_minor": 4
}
