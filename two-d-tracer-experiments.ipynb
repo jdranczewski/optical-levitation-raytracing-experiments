{
 "cells": [
  {
   "cell_type": "code",
   "execution_count": 9,
   "metadata": {},
   "outputs": [],
   "source": [
    "%matplotlib inline"
   ]
  },
  {
   "cell_type": "code",
   "execution_count": 1,
   "metadata": {
    "cell_style": "center"
   },
   "outputs": [],
   "source": [
    "import numpy as np\n",
    "import matplotlib.pyplot as plt\n",
    "%matplotlib notebook\n",
    "from ipywidgets import interact, interact_manual\n",
    "from tqdm.notebook import tqdm\n",
    "from time import sleep\n",
    "%load_ext snakeviz\n",
    "\n",
    "# https://refractiveindex.info/?shelf=3d&book=glass&page=BK7\n",
    "def n_glass(wavelength):\n",
    "    x = wavelength * 1e-3 # The formula below works in micormeters\n",
    "    return (1+1.03961212/(1-0.00600069867/x**2)+0.231792344/(1-0.0200179144/x**2)+1.01046945/(1-103.560653/x**2))**.5"
   ]
  },
  {
   "cell_type": "code",
   "execution_count": 2,
   "metadata": {},
   "outputs": [],
   "source": [
    "rad = lambda x: x/180*np.pi"
   ]
  },
  {
   "cell_type": "code",
   "execution_count": 67,
   "metadata": {},
   "outputs": [
    {
     "data": {
      "text/plain": [
       "<module 'two_d_tracer' from '/home/jdranczewski/Documents/Imperial/UROP20/optical-levitation-raytracing-experiments/two_d_tracer.py'>"
      ]
     },
     "execution_count": 67,
     "metadata": {},
     "output_type": "execute_result"
    }
   ],
   "source": [
    "import importlib\n",
    "import two_d_tracer\n",
    "importlib.reload(two_d_tracer)"
   ]
  },
  {
   "cell_type": "markdown",
   "metadata": {
    "heading_collapsed": true
   },
   "source": [
    "# Mirrors"
   ]
  },
  {
   "cell_type": "code",
   "execution_count": 5,
   "metadata": {
    "hidden": true
   },
   "outputs": [],
   "source": [
    "scene = two_d_tracer.Scene([two_d_tracer.Ray([-10, y], [1,0]) for y in np.linspace(-2.5,2.5, 5)],\n",
    "                           [two_d_tracer.SurfaceReflective([0,0],[-np.cos(rad(45/2)),-np.sin(rad(45/2))]),\n",
    "                           two_d_tracer.SurfaceReflective([0,-5], [0,1])])"
   ]
  },
  {
   "cell_type": "code",
   "execution_count": 6,
   "metadata": {
    "hidden": true
   },
   "outputs": [
    {
     "data": {
      "text/plain": [
       "[Ray([-10.   -2.5], [1. 0.]),\n",
       " Ray([-10.    -1.25], [1. 0.]),\n",
       " Ray([-10.   0.], [1. 0.]),\n",
       " Ray([-10.     1.25], [1. 0.]),\n",
       " Ray([-10.    2.5], [1. 0.])]"
      ]
     },
     "execution_count": 6,
     "metadata": {},
     "output_type": "execute_result"
    }
   ],
   "source": [
    "scene.rays"
   ]
  },
  {
   "cell_type": "code",
   "execution_count": 7,
   "metadata": {
    "hidden": true
   },
   "outputs": [],
   "source": [
    "scene.run(margin=1e-10)"
   ]
  },
  {
   "cell_type": "code",
   "execution_count": 10,
   "metadata": {
    "hidden": true
   },
   "outputs": [
    {
     "data": {
      "text/plain": [
       "(-10.551776695293102, 1.5873106011551301, -5.375, 2.875)"
      ]
     },
     "execution_count": 10,
     "metadata": {},
     "output_type": "execute_result"
    },
    {
     "data": {
      "image/png": "[encoded data removed]",
      "text/plain": [
       "<Figure size 432x288 with 1 Axes>"
      ]
     },
     "metadata": {
      "needs_background": "light"
     },
     "output_type": "display_data"
    }
   ],
   "source": [
    "fig, ax = plt.subplots()\n",
    "scene.plot(ax)\n",
    "ax.axis(\"equal\")"
   ]
  },
  {
   "cell_type": "markdown",
   "metadata": {
    "heading_collapsed": true
   },
   "source": [
    "# Refracting surfaces"
   ]
  },
  {
   "cell_type": "code",
   "execution_count": 11,
   "metadata": {
    "hidden": true
   },
   "outputs": [],
   "source": [
    "sc_dsc = {\n",
    "    \"rays\": [two_d_tracer.Ray([-10, y], [1,0]) for y in np.linspace(-2.5,2.5, 5)],\n",
    "    \"objects\": [two_d_tracer.Surface([0,0], [-1, -1], None, 1, 1.5)]\n",
    "}\n",
    "scene = two_d_tracer.Scene(**sc_dsc)"
   ]
  },
  {
   "cell_type": "code",
   "execution_count": 12,
   "metadata": {
    "hidden": true,
    "scrolled": false
   },
   "outputs": [],
   "source": [
    "scene.run()"
   ]
  },
  {
   "cell_type": "code",
   "execution_count": 13,
   "metadata": {
    "hidden": true
   },
   "outputs": [
    {
     "data": {
      "text/plain": [
       "(-10.672847144899352,\n",
       " 4.129790042886396,\n",
       " -3.8145138117693524,\n",
       " 3.1047900427563975)"
      ]
     },
     "execution_count": 13,
     "metadata": {},
     "output_type": "execute_result"
    },
    {
     "data": {
      "image/png": "[encoded data removed]",
      "text/plain": [
       "<Figure size 432x288 with 1 Axes>"
      ]
     },
     "metadata": {
      "needs_background": "light"
     },
     "output_type": "display_data"
    }
   ],
   "source": [
    "fig, ax = plt.subplots()\n",
    "scene.plot(ax)    \n",
    "ax.axis(\"equal\")"
   ]
  },
  {
   "cell_type": "code",
   "execution_count": 14,
   "metadata": {
    "hidden": true
   },
   "outputs": [
    {
     "data": {
      "text/plain": [
       "[Ray([ 3.4569429  -2.20972377], [0.9569429  0.29027623]),\n",
       " Ray([ 2.2069429  -0.95972377], [0.9569429  0.29027623]),\n",
       " Ray([0.9569429  0.29027623], [0.9569429  0.29027623]),\n",
       " Ray([-0.2930571   1.54027623], [0.9569429  0.29027623]),\n",
       " Ray([-1.5430571   2.79027623], [0.9569429  0.29027623]),\n",
       " Ray([ 2.5 -3.5], [ 2.22044605e-16 -1.00000000e+00]),\n",
       " Ray([ 1.25 -2.25], [ 2.22044605e-16 -1.00000000e+00]),\n",
       " Ray([ 2.22044605e-16 -1.00000000e+00], [ 2.22044605e-16 -1.00000000e+00]),\n",
       " Ray([-1.25  0.25], [ 2.22044605e-16 -1.00000000e+00]),\n",
       " Ray([-2.5  1.5], [ 2.22044605e-16 -1.00000000e+00])]"
      ]
     },
     "execution_count": 14,
     "metadata": {},
     "output_type": "execute_result"
    }
   ],
   "source": [
    "scene.rays"
   ]
  },
  {
   "cell_type": "code",
   "execution_count": 15,
   "metadata": {
    "hidden": true
   },
   "outputs": [
    {
     "data": {
      "text/plain": [
       "0.2945154851081369"
      ]
     },
     "execution_count": 15,
     "metadata": {},
     "output_type": "execute_result"
    }
   ],
   "source": [
    "scene.rays[0].angle"
   ]
  },
  {
   "cell_type": "code",
   "execution_count": 16,
   "metadata": {
    "hidden": true
   },
   "outputs": [
    {
     "data": {
      "text/plain": [
       "0.29451548510813697"
      ]
     },
     "execution_count": 16,
     "metadata": {},
     "output_type": "execute_result"
    }
   ],
   "source": [
    "# Compare to Snell's (algebra in Xournal)\n",
    "rad(45) - np.arcsin(1/1.5*np.sin(rad(45)))"
   ]
  },
  {
   "cell_type": "markdown",
   "metadata": {
    "heading_collapsed": true
   },
   "source": [
    "# A glass slab"
   ]
  },
  {
   "cell_type": "code",
   "execution_count": 17,
   "metadata": {
    "hidden": true
   },
   "outputs": [],
   "source": [
    "sc_dsc = {\n",
    "    \"rays\": [two_d_tracer.Ray([-5, y], [1,-0.5]) for y in np.linspace(-2.5,2.5, 5)],\n",
    "    \"objects\": [two_d_tracer.Surface([0,0], [-1, 0], None, 1, 1.5),\n",
    "                two_d_tracer.Surface([2,0], [1, 0], None, 1, 1.5)]\n",
    "}\n",
    "scene = two_d_tracer.Scene(**sc_dsc)"
   ]
  },
  {
   "cell_type": "code",
   "execution_count": 18,
   "metadata": {
    "hidden": true
   },
   "outputs": [
    {
     "data": {
      "text/plain": [
       "-0.4636476090008061"
      ]
     },
     "execution_count": 18,
     "metadata": {},
     "output_type": "execute_result"
    }
   ],
   "source": [
    "scene.rays[0].angle"
   ]
  },
  {
   "cell_type": "code",
   "execution_count": 19,
   "metadata": {
    "hidden": true
   },
   "outputs": [
    {
     "data": {
      "text/plain": [
       "-0.30274595162300433"
      ]
     },
     "execution_count": 19,
     "metadata": {},
     "output_type": "execute_result"
    }
   ],
   "source": [
    "np.arcsin(1/1.5*np.sin(scene.rays[0].angle))"
   ]
  },
  {
   "cell_type": "code",
   "execution_count": 20,
   "metadata": {
    "hidden": true
   },
   "outputs": [
    {
     "name": "stdout",
     "output_type": "stream",
     "text": [
      "-0.30274595162300433\n"
     ]
    }
   ],
   "source": [
    "scene.step()\n",
    "scene.propagate(1e-14)\n",
    "print(scene.rays[0].angle)\n",
    "scene.step()\n",
    "scene.propagate(1e-14)\n",
    "scene.step()"
   ]
  },
  {
   "cell_type": "code",
   "execution_count": 21,
   "metadata": {
    "hidden": true
   },
   "outputs": [
    {
     "data": {
      "text/plain": [
       "(-5.3947213595499965,\n",
       " 3.289148550549921,\n",
       " -6.686859599864289,\n",
       " 2.9374695047554424)"
      ]
     },
     "execution_count": 21,
     "metadata": {},
     "output_type": "execute_result"
    },
    {
     "data": {
      "image/png": "[encoded data removed]",
      "text/plain": [
       "<Figure size 432x288 with 1 Axes>"
      ]
     },
     "metadata": {
      "needs_background": "light"
     },
     "output_type": "display_data"
    }
   ],
   "source": [
    "fig, ax = plt.subplots()\n",
    "scene.plot(ax)   \n",
    "ax.axis(\"equal\")"
   ]
  },
  {
   "cell_type": "code",
   "execution_count": 22,
   "metadata": {
    "hidden": true
   },
   "outputs": [
    {
     "data": {
      "text/plain": [
       "-0.463647609000806"
      ]
     },
     "execution_count": 22,
     "metadata": {},
     "output_type": "execute_result"
    }
   ],
   "source": [
    "scene.rays[0].angle"
   ]
  },
  {
   "cell_type": "markdown",
   "metadata": {
    "heading_collapsed": true
   },
   "source": [
    "# Retroreflector"
   ]
  },
  {
   "cell_type": "code",
   "execution_count": 23,
   "metadata": {
    "hidden": true
   },
   "outputs": [],
   "source": [
    "sc_dsc = {\n",
    "    \"rays\": [two_d_tracer.Ray([-5, y], [1,0]) for y in np.linspace(0.1,2.5, 5)],\n",
    "    \"objects\": [two_d_tracer.Surface([0,2], [1, 1], None, 1, 1.5),\n",
    "                two_d_tracer.Surface([0,-2], [1, -1], None, 1, 1.5)]\n",
    "}\n",
    "scene = two_d_tracer.Scene(**sc_dsc)"
   ]
  },
  {
   "cell_type": "code",
   "execution_count": 24,
   "metadata": {
    "hidden": true
   },
   "outputs": [],
   "source": [
    "scene.run()"
   ]
  },
  {
   "cell_type": "code",
   "execution_count": 25,
   "metadata": {
    "hidden": true
   },
   "outputs": [
    {
     "data": {
      "text/plain": [
       "(-5.345, 2.244999999999999, -2.9778174593052023, 2.9778174593052023)"
      ]
     },
     "execution_count": 25,
     "metadata": {},
     "output_type": "execute_result"
    },
    {
     "data": {
      "image/png": "[encoded data removed]",
      "text/plain": [
       "<Figure size 432x288 with 1 Axes>"
      ]
     },
     "metadata": {
      "needs_background": "light"
     },
     "output_type": "display_data"
    }
   ],
   "source": [
    "fig, ax = plt.subplots()\n",
    "scene.plot(ax)\n",
    "ax.axis(\"equal\")"
   ]
  },
  {
   "cell_type": "code",
   "execution_count": 26,
   "metadata": {
    "hidden": true
   },
   "outputs": [
    {
     "data": {
      "text/plain": [
       "[Ray([ 0.9 -0.1], [-1.  0.]),\n",
       " Ray([ 0.3 -0.7], [-1.  0.]),\n",
       " Ray([-0.3 -1.3], [-1.  0.]),\n",
       " Ray([-0.9 -1.9], [-1.  0.]),\n",
       " Ray([-1.5 -2.5], [-1.  0.])]"
      ]
     },
     "execution_count": 26,
     "metadata": {},
     "output_type": "execute_result"
    }
   ],
   "source": [
    "scene.rays"
   ]
  },
  {
   "cell_type": "markdown",
   "metadata": {
    "heading_collapsed": true
   },
   "source": [
    "# Testing Total Internal Reflection"
   ]
  },
  {
   "cell_type": "code",
   "execution_count": 27,
   "metadata": {
    "hidden": true
   },
   "outputs": [],
   "source": [
    "sc_dsc = {\n",
    "    \"rays\": [two_d_tracer.Ray([-1, y], [np.cos(y),np.sin(y)]) for y in np.linspace(0,np.pi/4,100)] + [two_d_tracer.Ray([-1, np.arcsin(1/1.5)], [np.cos(np.arcsin(1/1.5)),np.sin(np.arcsin(1/1.5))],600)],\n",
    "    \"objects\": [two_d_tracer.Surface([0,0], [1, 0], None, 1, 1.5)]\n",
    "}\n",
    "scene = two_d_tracer.Scene(**sc_dsc)"
   ]
  },
  {
   "cell_type": "code",
   "execution_count": 28,
   "metadata": {
    "hidden": true
   },
   "outputs": [
    {
     "data": {
      "text/plain": [
       "41.810314895778596"
      ]
     },
     "execution_count": 28,
     "metadata": {},
     "output_type": "execute_result"
    }
   ],
   "source": [
    "# Critical angle\n",
    "np.arcsin(1/1.5)*180/np.pi"
   ]
  },
  {
   "cell_type": "code",
   "execution_count": 29,
   "metadata": {
    "hidden": true
   },
   "outputs": [
    {
     "data": {
      "text/plain": [
       "array([ 0.        ,  1.55172414,  3.10344828,  4.65517241,  6.20689655,\n",
       "        7.75862069,  9.31034483, 10.86206897, 12.4137931 , 13.96551724,\n",
       "       15.51724138, 17.06896552, 18.62068966, 20.17241379, 21.72413793,\n",
       "       23.27586207, 24.82758621, 26.37931034, 27.93103448, 29.48275862,\n",
       "       31.03448276, 32.5862069 , 34.13793103, 35.68965517, 37.24137931,\n",
       "       38.79310345, 40.34482759, 41.89655172, 43.44827586, 45.        ])"
      ]
     },
     "execution_count": 29,
     "metadata": {},
     "output_type": "execute_result"
    }
   ],
   "source": [
    "# Three of the angles tested are above the critical angle, those, are reflected\n",
    "np.linspace(0,np.pi/4,30)*180/np.pi"
   ]
  },
  {
   "cell_type": "code",
   "execution_count": 30,
   "metadata": {
    "hidden": true
   },
   "outputs": [],
   "source": [
    "scene.run()"
   ]
  },
  {
   "cell_type": "code",
   "execution_count": 31,
   "metadata": {
    "hidden": true
   },
   "outputs": [
    {
     "data": {
      "text/plain": [
       "(-1.10000000022, 1.10000000022, -1.181207742371344, 2.8053625897982264)"
      ]
     },
     "execution_count": 31,
     "metadata": {},
     "output_type": "execute_result"
    },
    {
     "data": {
      "image/png": "[encoded data removed]",
      "text/plain": [
       "<Figure size 432x288 with 1 Axes>"
      ]
     },
     "metadata": {
      "needs_background": "light"
     },
     "output_type": "display_data"
    }
   ],
   "source": [
    "fig, ax = plt.subplots()\n",
    "scene.plot(ax)\n",
    "ax.axis(\"equal\")"
   ]
  },
  {
   "cell_type": "markdown",
   "metadata": {
    "heading_collapsed": true
   },
   "source": [
    "# Ray canvas"
   ]
  },
  {
   "cell_type": "code",
   "execution_count": 32,
   "metadata": {
    "hidden": true
   },
   "outputs": [],
   "source": [
    "canvas = two_d_tracer.RayCanvas([0,-3], [0,1])\n",
    "sc_dsc = {\n",
    "    \"rays\": [two_d_tracer.Ray([-5, y], [1,0], 400+((y+2.5)*50)) for y in np.linspace(-2.5,2.5, 5)],\n",
    "    \"objects\": [two_d_tracer.Surface([0,0], [1, 1], None, 1, 1.5),\n",
    "                canvas]\n",
    "}\n",
    "scene = two_d_tracer.Scene(**sc_dsc)"
   ]
  },
  {
   "cell_type": "code",
   "execution_count": 33,
   "metadata": {
    "hidden": true
   },
   "outputs": [],
   "source": [
    "scene.run()"
   ]
  },
  {
   "cell_type": "code",
   "execution_count": 34,
   "metadata": {
    "hidden": true
   },
   "outputs": [
    {
     "data": {
      "text/plain": [
       "RayCanvas([0, -3], [0. 1.]): [2.5, 1.2499999999999996, 6.66133814775094e-16, -1.2499999999999991, -2.4999999999999987]"
      ]
     },
     "execution_count": 34,
     "metadata": {},
     "output_type": "execute_result"
    }
   ],
   "source": [
    "canvas"
   ]
  },
  {
   "cell_type": "code",
   "execution_count": 35,
   "metadata": {
    "hidden": true
   },
   "outputs": [
    {
     "data": {
      "text/plain": [
       "<matplotlib.collections.PathCollection at 0x7fdab7277f90>"
      ]
     },
     "execution_count": 35,
     "metadata": {},
     "output_type": "execute_result"
    },
    {
     "data": {
      "image/png": "[encoded data removed]",
      "text/plain": [
       "<Figure size 432x288 with 2 Axes>"
      ]
     },
     "metadata": {
      "needs_background": "light"
     },
     "output_type": "display_data"
    }
   ],
   "source": [
    "fig, ax = plt.subplots(2, gridspec_kw={\"height_ratios\":(3,1)})\n",
    "scene.plot(ax[0])\n",
    "ax[0].axis(\"equal\")\n",
    "ax[1].scatter(canvas.points, canvas.wavelengths, c=canvas.c)"
   ]
  },
  {
   "cell_type": "markdown",
   "metadata": {
    "heading_collapsed": true
   },
   "source": [
    "# Sphere"
   ]
  },
  {
   "cell_type": "code",
   "execution_count": 36,
   "metadata": {
    "hidden": true
   },
   "outputs": [],
   "source": [
    "canvas = two_d_tracer.RayCanvas([0,0],[0,1])\n",
    "sc_dsc = {\n",
    "    \"rays\": [two_d_tracer.Ray([-5, y], [1,0]) for y in np.linspace(-2.6,2.6, 10)],\n",
    "    \"objects\": [two_d_tracer.Sphere([0,0], 2.5, None, 1, 1.5),two_d_tracer.SphereReflective([8,0], 2.5, None, 1, 1.5),\n",
    "                canvas]\n",
    "}\n",
    "scene = two_d_tracer.Scene(**sc_dsc)"
   ]
  },
  {
   "cell_type": "code",
   "execution_count": 37,
   "metadata": {
    "hidden": true
   },
   "outputs": [],
   "source": [
    "scene.run()\n",
    "scene.propagate(2)"
   ]
  },
  {
   "cell_type": "code",
   "execution_count": 38,
   "metadata": {
    "hidden": true
   },
   "outputs": [
    {
     "data": {
      "text/plain": [
       "(-5.0, 10.0)"
      ]
     },
     "execution_count": 38,
     "metadata": {},
     "output_type": "execute_result"
    },
    {
     "data": {
      "image/png": "[encoded data removed]",
      "text/plain": [
       "<Figure size 432x288 with 2 Axes>"
      ]
     },
     "metadata": {
      "needs_background": "light"
     },
     "output_type": "display_data"
    }
   ],
   "source": [
    "fig, ax = plt.subplots(2, sharex=True, gridspec_kw={\"height_ratios\":(3,1)})\n",
    "scene.plot(ax[0])\n",
    "ax[1].plot(canvas.points, [0 for p in canvas.points], \"x\")\n",
    "ax[0].axis(\"equal\")\n",
    "ax[0].set_xlim(-5,10)"
   ]
  },
  {
   "cell_type": "markdown",
   "metadata": {
    "heading_collapsed": true
   },
   "source": [
    "# Focus in the sphere"
   ]
  },
  {
   "cell_type": "code",
   "execution_count": 39,
   "metadata": {
    "hidden": true
   },
   "outputs": [],
   "source": [
    "canvas = two_d_tracer.RayCanvas([0,0],[0,1])\n",
    "n2 = 3\n",
    "# two_d_tracer.ReflectiveSphere([8,0], 2.5, 1, 1.5)\n",
    "sc_dsc = {\n",
    "    \"rays\": [two_d_tracer.Ray([-1, y], [1,0]) for y in np.linspace(-0.1,0.1, 50)],\n",
    "    \"objects\": [two_d_tracer.Sphere([2.5,0], 2.5, [rad(90), rad(-90)], 1, n2),\n",
    "                canvas]\n",
    "}\n",
    "scene = two_d_tracer.Scene(**sc_dsc)"
   ]
  },
  {
   "cell_type": "code",
   "execution_count": 40,
   "metadata": {
    "hidden": true
   },
   "outputs": [],
   "source": [
    "scene.run()"
   ]
  },
  {
   "cell_type": "code",
   "execution_count": 41,
   "metadata": {
    "hidden": true
   },
   "outputs": [
    {
     "data": {
      "text/plain": [
       "[<matplotlib.lines.Line2D at 0x7fdab6e8c190>]"
      ]
     },
     "execution_count": 41,
     "metadata": {},
     "output_type": "execute_result"
    },
    {
     "data": {
      "image/png": "[encoded data removed]",
      "text/plain": [
       "<Figure size 432x288 with 2 Axes>"
      ]
     },
     "metadata": {
      "needs_background": "light"
     },
     "output_type": "display_data"
    }
   ],
   "source": [
    "fig, ax = plt.subplots(2, sharex=True, gridspec_kw={\"height_ratios\":(3,1)})\n",
    "scene.plot(ax[0])\n",
    "ax[1].plot(canvas.points, [0 for p in canvas.points], \"x\")\n",
    "ax[0].axis(\"equal\")\n",
    "\n",
    "# Focus for a single spherical surface in the paraxial approximation, rays colimated:\n",
    "f = (n2 * 2.5 / (n2-1))\n",
    "ax[0].plot([f,f], [-2.5,2.5])\n",
    "ax[1].plot([f,f], [-0.05,0.05])"
   ]
  },
  {
   "cell_type": "markdown",
   "metadata": {
    "heading_collapsed": true
   },
   "source": [
    "# Limits"
   ]
  },
  {
   "cell_type": "markdown",
   "metadata": {
    "hidden": true
   },
   "source": [
    "## Mirrors"
   ]
  },
  {
   "cell_type": "code",
   "execution_count": 42,
   "metadata": {
    "hidden": true
   },
   "outputs": [],
   "source": [
    "sc_dsc = {\n",
    "    \"rays\": [two_d_tracer.Ray([-5, y], [1,0]) for y in np.linspace(-2.5,2.5, 5)],\n",
    "    \"objects\": [two_d_tracer.SurfaceReflective([0,0], [-1,1], 2.5)]\n",
    "}\n",
    "scene = two_d_tracer.Scene(**sc_dsc)"
   ]
  },
  {
   "cell_type": "code",
   "execution_count": 43,
   "metadata": {
    "hidden": true
   },
   "outputs": [],
   "source": [
    "scene.run()"
   ]
  },
  {
   "cell_type": "code",
   "execution_count": 44,
   "metadata": {
    "hidden": true
   },
   "outputs": [
    {
     "data": {
      "text/plain": [
       "(-5.42500000001, 3.92500000021, -2.75, 2.75)"
      ]
     },
     "execution_count": 44,
     "metadata": {},
     "output_type": "execute_result"
    },
    {
     "data": {
      "image/png": "[encoded data removed]",
      "text/plain": [
       "<Figure size 432x288 with 1 Axes>"
      ]
     },
     "metadata": {
      "needs_background": "light"
     },
     "output_type": "display_data"
    }
   ],
   "source": [
    "fig, ax = plt.subplots()\n",
    "scene.plot(ax)\n",
    "ax.axis(\"equal\")"
   ]
  },
  {
   "cell_type": "markdown",
   "metadata": {
    "hidden": true
   },
   "source": [
    "## Refractive planes"
   ]
  },
  {
   "cell_type": "code",
   "execution_count": 45,
   "metadata": {
    "hidden": true
   },
   "outputs": [],
   "source": [
    "sc_dsc = {\n",
    "    \"rays\": [two_d_tracer.Ray([-5, y], [1,0.3]) for y in np.linspace(-1.5,1.5, 11)],\n",
    "    \"objects\": [two_d_tracer.Surface([-1,1], [-1,1], np.sqrt(2), 1, 1.3),\n",
    "                two_d_tracer.Surface([1,1], [1,1], np.sqrt(2), 1, 1.3),\n",
    "                two_d_tracer.Surface([0,0], [0,-1], 2, 1, 1.3)]\n",
    "}\n",
    "scene = two_d_tracer.Scene(**sc_dsc)"
   ]
  },
  {
   "cell_type": "code",
   "execution_count": 46,
   "metadata": {
    "hidden": true
   },
   "outputs": [],
   "source": [
    "scene.run()"
   ]
  },
  {
   "cell_type": "code",
   "execution_count": 47,
   "metadata": {
    "hidden": true
   },
   "outputs": [
    {
     "data": {
      "text/plain": [
       "(-1.0, 2.5)"
      ]
     },
     "execution_count": 47,
     "metadata": {},
     "output_type": "execute_result"
    },
    {
     "data": {
      "image/png": "[encoded data removed]",
      "text/plain": [
       "<Figure size 432x288 with 1 Axes>"
      ]
     },
     "metadata": {
      "needs_background": "light"
     },
     "output_type": "display_data"
    }
   ],
   "source": [
    "fig, ax = plt.subplots()\n",
    "scene.plot(ax)\n",
    "ax.axis(\"equal\")\n",
    "ax.set_xlim(-2.5,2.5)\n",
    "ax.set_ylim(-1,2.5)"
   ]
  },
  {
   "cell_type": "markdown",
   "metadata": {
    "hidden": true
   },
   "source": [
    "## Spheres"
   ]
  },
  {
   "cell_type": "code",
   "execution_count": 48,
   "metadata": {
    "hidden": true
   },
   "outputs": [],
   "source": [
    "sc_dsc = {\n",
    "    \"rays\": [two_d_tracer.Ray([-5, y], [1,0]) for y in np.linspace(-2.6,2.6, 10)],\n",
    "    \"objects\": [two_d_tracer.Sphere([0,0], 2.5, [rad(150), rad(-150)], 1, 1.5),\n",
    "               two_d_tracer.SphereReflective([4,0], 2.5, [rad(-50), rad(50)])]\n",
    "}\n",
    "scene = two_d_tracer.Scene(**sc_dsc)"
   ]
  },
  {
   "cell_type": "code",
   "execution_count": 49,
   "metadata": {
    "hidden": true
   },
   "outputs": [],
   "source": [
    "scene.run()"
   ]
  },
  {
   "cell_type": "code",
   "execution_count": 50,
   "metadata": {
    "hidden": true
   },
   "outputs": [
    {
     "data": {
      "text/plain": [
       "(-5.57499126479342, 7.074816560661817, -3.6824830170401643, 3.682483017040163)"
      ]
     },
     "execution_count": 50,
     "metadata": {},
     "output_type": "execute_result"
    },
    {
     "data": {
      "image/png": "[encoded data removed]",
      "text/plain": [
       "<Figure size 432x288 with 1 Axes>"
      ]
     },
     "metadata": {
      "needs_background": "light"
     },
     "output_type": "display_data"
    }
   ],
   "source": [
    "fig, ax = plt.subplots()\n",
    "scene.plot(ax)\n",
    "ax.axis(\"equal\")"
   ]
  },
  {
   "cell_type": "markdown",
   "metadata": {
    "heading_collapsed": true
   },
   "source": [
    "# The lensmaker equation"
   ]
  },
  {
   "cell_type": "markdown",
   "metadata": {
    "hidden": true
   },
   "source": [
    "$$\\frac{1}{f}=(n-1)\\left(\\frac{1}{R_1}-\\frac{1}{R_2}\\right)$$ for a think lens. This doesn't quite work, so let's try $$\\frac{1}{f} = (n-1) \\left( \\frac{1}{R_1} - \\frac{1}{R_2} + \\frac{(n-1)d}{n R_1 R_2} \\right),$$\n",
    "then the distance from the end of the lens to the focus is given as\n",
    "$$\\mbox{BFD} = f \\left( 1 - \\frac{ (n-1) d}{n R_1} \\right),$$\n",
    "which is taken from https://en.wikipedia.org/wiki/Focal_length."
   ]
  },
  {
   "cell_type": "code",
   "execution_count": 51,
   "metadata": {
    "hidden": true
   },
   "outputs": [
    {
     "data": {
      "image/png": "[encoded data removed]",
      "text/plain": [
       "<Figure size 432x288 with 4 Axes>"
      ]
     },
     "metadata": {
      "needs_background": "light"
     },
     "output_type": "display_data"
    },
    {
     "data": {
      "application/vnd.jupyter.widget-view+json": {
       "model_id": "627d1c12d4e04444aa91d5ed583a9066",
       "version_major": 2,
       "version_minor": 0
      },
      "text/plain": [
       "interactive(children=(FloatSlider(value=1.5, description='n', max=4.5, min=-1.5), FloatSlider(value=2.0, descr…"
      ]
     },
     "metadata": {},
     "output_type": "display_data"
    }
   ],
   "source": [
    "def f(n, R1, R2):\n",
    "    return 1 / ((n-1)*(1/R1-1/R2))\n",
    "\n",
    "def f(n, R1, R2, d):\n",
    "    return 1 / ((n-1)*(1/R1 - 1/R2 + ((n-1)*d)/(n*R1*R2)))\n",
    "\n",
    "def ffd(f, n, R1, R2, d):\n",
    "    return f*(1-(n-1)*d/(n*R1))\n",
    "\n",
    "fig, ax = plt.subplots(2, 2, gridspec_kw={\"height_ratios\":(3,1), \"width_ratios\": (3,1)})\n",
    "ax = ax.flatten()\n",
    "\n",
    "@interact\n",
    "def draw(n=1.5, R1=2., R2=-2., d=1.):\n",
    "    global canvas, canvas2\n",
    "    fc = f(n, R1, R2, d)\n",
    "    ffdc = ffd(fc, n, R1, R2, d) + d/2\n",
    "    canvas = two_d_tracer.RayCanvas([0,0],[0,1])\n",
    "    canvas2 = two_d_tracer.RayCanvas([ffdc,0],[-1,0])\n",
    "    sc_dsc = {\n",
    "        \"rays\": [two_d_tracer.Ray([-5, y], [1,0]) for y in np.linspace(-0.1,0.1, 20)],\n",
    "        \"objects\": [two_d_tracer.Sphere([R1-d/2,0], R1, [rad(150), rad(-150)], 1, n),\n",
    "                    two_d_tracer.Sphere([R2+d/2,0], -R2, [rad(-30), rad(30)], 1, n), canvas, canvas2]\n",
    "    }\n",
    "    scene = two_d_tracer.Scene(**sc_dsc)\n",
    "    scene.run()\n",
    "    scene.propagate(2)\n",
    "    ax[0].clear()\n",
    "    ax[1].clear()\n",
    "    ax[2].clear()\n",
    "    scene.plot(ax[0], true_color=False)\n",
    "#     ax[0].plot([ffdc,ffdc], [-1, 1])\n",
    "    if len(canvas.points):\n",
    "        ax[2].scatter(canvas.points, [0 for p in canvas.points], c=canvas.ca, marker=\"x\")\n",
    "    if len(canvas2.points):\n",
    "        ax[1].scatter([0 for p in canvas2.points], canvas2.points, c=canvas2.ca, marker=\"x\")\n",
    "    ax[2].plot([ffdc,ffdc], [-1, 1])\n",
    "    ax[0].axis(\"equal\")\n",
    "    ax[0].set_xlim(-1, 1.5*ffdc)\n",
    "    print(ffdc)"
   ]
  },
  {
   "cell_type": "markdown",
   "metadata": {
    "heading_collapsed": true
   },
   "source": [
    "# Wavelength to rgb testing"
   ]
  },
  {
   "cell_type": "code",
   "execution_count": 52,
   "metadata": {
    "hidden": true
   },
   "outputs": [
    {
     "data": {
      "image/png": "[encoded data removed]",
      "text/plain": [
       "<Figure size 360x72 with 1 Axes>"
      ]
     },
     "metadata": {
      "needs_background": "light"
     },
     "output_type": "display_data"
    }
   ],
   "source": [
    "wvl = np.linspace(300, 800, 100)\n",
    "w = [two_d_tracer.nm_to_rgb(x) for x in wvl]\n",
    "\n",
    "fig, ax = plt.subplots(figsize=(5,1))\n",
    "ax.scatter(wvl, np.zeros(wvl.size), c=w)\n",
    "plt.tight_layout()"
   ]
  },
  {
   "cell_type": "markdown",
   "metadata": {
    "heading_collapsed": true
   },
   "source": [
    "# Rainbow prism"
   ]
  },
  {
   "cell_type": "code",
   "execution_count": 53,
   "metadata": {
    "hidden": true
   },
   "outputs": [],
   "source": [
    "prism_angle = rad(80)/2\n",
    "sc_dsc = {\n",
    "    \"rays\": [two_d_tracer.Ray([-1.5, 0], [1,1], wl) for wl in np.linspace(410,710, 11)],\n",
    "    \"objects\": [two_d_tracer.Surface([-np.sin(prism_angle),np.cos(prism_angle)], [-np.cos(prism_angle),np.sin(prism_angle)], 1, 1, n_glass),\n",
    "                two_d_tracer.Surface([np.sin(prism_angle),np.cos(prism_angle)], [+np.cos(prism_angle),np.sin(prism_angle)], 1, 1, n_glass),\n",
    "                two_d_tracer.Surface([0,0], [0,-1], 2*np.sin(prism_angle), 1, n_glass)]\n",
    "}\n",
    "scene = two_d_tracer.Scene(**sc_dsc)"
   ]
  },
  {
   "cell_type": "code",
   "execution_count": 54,
   "metadata": {
    "hidden": true
   },
   "outputs": [
    {
     "name": "stdout",
     "output_type": "stream",
     "text": [
      "Step 0\n",
      "Step 1\n",
      "Step 2\n",
      "Step 3\n",
      "Step 4\n",
      "Step 5\n",
      "Step 6\n",
      "Step 7\n",
      "Step 8\n",
      "Step 9\n"
     ]
    }
   ],
   "source": [
    "scene.run(announce_steps=True)"
   ]
  },
  {
   "cell_type": "code",
   "execution_count": 55,
   "metadata": {
    "hidden": true
   },
   "outputs": [
    {
     "data": {
      "text/plain": [
       "(-1.0, 1.0)"
      ]
     },
     "execution_count": 55,
     "metadata": {},
     "output_type": "execute_result"
    },
    {
     "data": {
      "image/png": "[encoded data removed]",
      "text/plain": [
       "<Figure size 432x288 with 1 Axes>"
      ]
     },
     "metadata": {
      "needs_background": "light"
     },
     "output_type": "display_data"
    }
   ],
   "source": [
    "fig, ax = plt.subplots()\n",
    "scene.plot(ax, ray_kwargs={\"lw\":0.7})\n",
    "ax.axis(\"equal\")\n",
    "ax.set_xlim(-1,1)"
   ]
  },
  {
   "cell_type": "markdown",
   "metadata": {
    "heading_collapsed": true
   },
   "source": [
    "# Chromatic aberration"
   ]
  },
  {
   "cell_type": "code",
   "execution_count": 57,
   "metadata": {
    "hidden": true
   },
   "outputs": [
    {
     "data": {
      "image/png": "[encoded data removed]",
      "text/plain": [
       "<Figure size 432x288 with 4 Axes>"
      ]
     },
     "metadata": {
      "needs_background": "light"
     },
     "output_type": "display_data"
    },
    {
     "data": {
      "application/vnd.jupyter.widget-view+json": {
       "model_id": "74a9cff3a3774260b723012aa2922acd",
       "version_major": 2,
       "version_minor": 0
      },
      "text/plain": [
       "interactive(children=(FloatSlider(value=1.514, description='n', max=1.5295687672239824, min=1.5128024728723604…"
      ]
     },
     "metadata": {},
     "output_type": "display_data"
    }
   ],
   "source": [
    "def f(n, R1, R2):\n",
    "    return 1 / ((n-1)*(1/R1-1/R2))\n",
    "\n",
    "def f(n, R1, R2, d):\n",
    "    return 1 / ((n-1)*(1/R1 - 1/R2 + ((n-1)*d)/(n*R1*R2)))\n",
    "\n",
    "def ffd(f, n, R1, R2, d):\n",
    "    return f*(1-(n-1)*d/(n*R1))\n",
    "\n",
    "fig, ax = plt.subplots(2, 2, gridspec_kw={\"height_ratios\":(3,1), \"width_ratios\": (3,1)})\n",
    "ax = ax.flatten()\n",
    "\n",
    "canvas = None\n",
    "\n",
    "@interact(n=(1.5128024728723604, 1.5295687672239824, 0.005))\n",
    "def draw(n=1.514, R1=2., R2=-2., d=1.):\n",
    "    global canvas\n",
    "    fc = f(n, R1, R2, d)\n",
    "    ffdc = ffd(fc, n, R1, R2, d) + d/2\n",
    "    canvas = two_d_tracer.RayCanvas([0,0],[0,1])\n",
    "    canvas2 = two_d_tracer.RayCanvas([ffdc,0],[-1,0])\n",
    "    sc_dsc = {\n",
    "        \"rays\": [two_d_tracer.Ray([-5, y], [1,0], wl) for wl in np.linspace(410,710, 10) for y in np.linspace(-0.1,0.1,10)],\n",
    "        \"objects\": [two_d_tracer.Sphere([R1-d/2,0], R1, [rad(150), rad(-150)], 1, n_glass),\n",
    "                    two_d_tracer.Sphere([R2+d/2,0], -R2, [rad(-30), rad(30)], 1, n_glass), canvas, canvas2]\n",
    "    }\n",
    "    scene = two_d_tracer.Scene(**sc_dsc)\n",
    "    scene.run(limit=5)\n",
    "    scene.propagate(2)\n",
    "    ax[0].clear()\n",
    "    ax[1].clear()\n",
    "    ax[2].clear()\n",
    "    scene.plot(ax[0], ray_kwargs={\"lw\":.1})\n",
    "#     ax[0].plot([ffdc,ffdc], [-1, 1])\n",
    "    ax[2].scatter(canvas.points, canvas.wavelengths, c=canvas.c)\n",
    "    ax[1].scatter(canvas2.wavelengths, canvas2.points, c=canvas2.c)\n",
    "    ax[2].plot([ffdc,ffdc], [410, 710])\n",
    "#     ax[0].axis(\"equal\")\n",
    "    ax[0].set_xlim(-1, 1.5*ffdc)\n",
    "    print(ffdc)"
   ]
  },
  {
   "cell_type": "markdown",
   "metadata": {
    "heading_collapsed": true
   },
   "source": [
    "# Reflection momentum calculation"
   ]
  },
  {
   "cell_type": "markdown",
   "metadata": {
    "hidden": true
   },
   "source": [
    "## Plane"
   ]
  },
  {
   "cell_type": "code",
   "execution_count": 58,
   "metadata": {
    "hidden": true
   },
   "outputs": [],
   "source": [
    "mirror = two_d_tracer.SurfaceReflective([0,0], [1, 1], None)\n",
    "sc_dsc = {\n",
    "    \"rays\": [two_d_tracer.Ray([-5, y], [1,0], 400+((y+2.5)*50)) for y in np.linspace(-2.5,2.5, 5)],\n",
    "    \"objects\": [mirror]\n",
    "}\n",
    "scene = two_d_tracer.Scene(**sc_dsc)"
   ]
  },
  {
   "cell_type": "code",
   "execution_count": 59,
   "metadata": {
    "hidden": true
   },
   "outputs": [
    {
     "name": "stdout",
     "output_type": "stream",
     "text": [
      "[0.00980751 0.        ]\n"
     ]
    }
   ],
   "source": [
    "# Initial momentum of the photons\n",
    "initial = np.sum([1/ray.wavelength*ray.dir for ray in scene.rays], axis=0)\n",
    "print(initial)"
   ]
  },
  {
   "cell_type": "code",
   "execution_count": 60,
   "metadata": {
    "hidden": true
   },
   "outputs": [],
   "source": [
    "scene.run()"
   ]
  },
  {
   "cell_type": "code",
   "execution_count": 61,
   "metadata": {
    "hidden": true
   },
   "outputs": [
    {
     "data": {
      "text/plain": [
       "(-5.375, 2.875, -3.80000000021, 2.80000000001)"
      ]
     },
     "execution_count": 61,
     "metadata": {},
     "output_type": "execute_result"
    },
    {
     "data": {
      "image/png": "[encoded data removed]",
      "text/plain": [
       "<Figure size 432x288 with 1 Axes>"
      ]
     },
     "metadata": {
      "needs_background": "light"
     },
     "output_type": "display_data"
    }
   ],
   "source": [
    "fig,ax = plt.subplots()\n",
    "scene.plot(ax, m_quiver=True)\n",
    "ax.axis(\"equal\")"
   ]
  },
  {
   "cell_type": "code",
   "execution_count": 62,
   "metadata": {
    "hidden": true
   },
   "outputs": [
    {
     "data": {
      "text/plain": [
       "[array([0.0025, 0.0025]),\n",
       " array([0.00216216, 0.00216216]),\n",
       " array([0.00190476, 0.00190476]),\n",
       " array([0.00170213, 0.00170213]),\n",
       " array([0.00153846, 0.00153846])]"
      ]
     },
     "execution_count": 62,
     "metadata": {},
     "output_type": "execute_result"
    }
   ],
   "source": [
    "# The momentum change observed by the plane\n",
    "mirror.momenta"
   ]
  },
  {
   "cell_type": "code",
   "execution_count": 63,
   "metadata": {
    "hidden": true
   },
   "outputs": [
    {
     "data": {
      "text/plain": [
       "array([0.00980751, 0.00980751])"
      ]
     },
     "execution_count": 63,
     "metadata": {},
     "output_type": "execute_result"
    }
   ],
   "source": [
    "# Total change of mirror momentum\n",
    "np.sum(mirror.momenta, axis=0)"
   ]
  },
  {
   "cell_type": "code",
   "execution_count": 64,
   "metadata": {
    "hidden": true
   },
   "outputs": [
    {
     "name": "stdout",
     "output_type": "stream",
     "text": [
      "[ 2.17770541e-18 -9.80751326e-03]\n"
     ]
    }
   ],
   "source": [
    "# Final momentum of the photons\n",
    "final = np.sum([1/ray.wavelength*ray.dir for ray in scene.rays], axis=0)\n",
    "print(final)"
   ]
  },
  {
   "cell_type": "code",
   "execution_count": 65,
   "metadata": {
    "hidden": true
   },
   "outputs": [
    {
     "data": {
      "text/plain": [
       "array([-0.00980751, -0.00980751])"
      ]
     },
     "execution_count": 65,
     "metadata": {},
     "output_type": "execute_result"
    }
   ],
   "source": [
    "# Change in total photon momentum\n",
    "final-initial"
   ]
  },
  {
   "cell_type": "code",
   "execution_count": 66,
   "metadata": {
    "hidden": true
   },
   "outputs": [
    {
     "data": {
      "text/plain": [
       "array([0., 0.])"
      ]
     },
     "execution_count": 66,
     "metadata": {},
     "output_type": "execute_result"
    }
   ],
   "source": [
    "# Change of momentum for the entire system:\n",
    "np.sum(mirror.momenta, axis=0) + final - initial\n",
    "# Woo, the system has conserved momentum!"
   ]
  },
  {
   "cell_type": "markdown",
   "metadata": {
    "hidden": true
   },
   "source": [
    "## Sphere"
   ]
  },
  {
   "cell_type": "code",
   "execution_count": 67,
   "metadata": {
    "hidden": true
   },
   "outputs": [],
   "source": [
    "sc_dsc = {\n",
    "    \"rays\": [two_d_tracer.Ray([-5, y], [1,0]) for y in np.linspace(0,2.49, 5)],\n",
    "    \"objects\": [two_d_tracer.SphereReflective([0,0],2.5)]\n",
    "}\n",
    "scene = two_d_tracer.Scene(**sc_dsc)\n",
    "scene.run()"
   ]
  },
  {
   "cell_type": "code",
   "execution_count": 68,
   "metadata": {
    "hidden": true
   },
   "outputs": [
    {
     "data": {
      "image/png": "[encoded data removed]",
      "text/plain": [
       "<Figure size 432x288 with 1 Axes>"
      ]
     },
     "metadata": {
      "needs_background": "light"
     },
     "output_type": "display_data"
    }
   ],
   "source": [
    "fig, ax = plt.subplots()\n",
    "scene.plot(ax, m_quiver=True)\n",
    "ax.axis(\"equal\")\n",
    "plt.show()"
   ]
  },
  {
   "cell_type": "code",
   "execution_count": 69,
   "metadata": {
    "hidden": true
   },
   "outputs": [
    {
     "data": {
      "text/plain": [
       "array([ 0.01344741, -0.00539028])"
      ]
     },
     "execution_count": 69,
     "metadata": {},
     "output_type": "execute_result"
    }
   ],
   "source": [
    "scene.momentum"
   ]
  },
  {
   "cell_type": "markdown",
   "metadata": {
    "heading_collapsed": true
   },
   "source": [
    "# Refraction momentum calculation"
   ]
  },
  {
   "cell_type": "markdown",
   "metadata": {
    "hidden": true
   },
   "source": [
    "## Surface"
   ]
  },
  {
   "cell_type": "code",
   "execution_count": 70,
   "metadata": {
    "hidden": true
   },
   "outputs": [],
   "source": [
    "surface1 = two_d_tracer.Surface([2,0], [1,1], 5*np.sqrt(2), 1, 1.2)\n",
    "surface2 = two_d_tracer.Surface([-2,0], [-1,1], 2*np.sqrt(2), 1, 1.2)\n",
    "sc_dsc = {\n",
    "    \"rays\": [two_d_tracer.Ray([-5, y], [1,0], 400+((y+1.5)*50)) for y in np.linspace(-1.5,1.5, 5)],\n",
    "    \"objects\": [two_d_tracer.LineSegment([-4,-2],[0,2],1,1.2),\n",
    "                two_d_tracer.LineSegment([0,2],[4,-2],1,1.2),\n",
    "                two_d_tracer.LineSegment([4,-2],[-4,-2],1,1.2)]\n",
    "}\n",
    "scene = two_d_tracer.Scene(**sc_dsc)"
   ]
  },
  {
   "cell_type": "code",
   "execution_count": 71,
   "metadata": {
    "hidden": true
   },
   "outputs": [
    {
     "name": "stdout",
     "output_type": "stream",
     "text": [
      "[0.01066038 0.        ]\n"
     ]
    }
   ],
   "source": [
    "# Initial momentum of the photons\n",
    "initial = np.sum([1/ray.wavelength*ray.dir*ray.weight for ray in scene.rays], axis=0)\n",
    "print(initial)"
   ]
  },
  {
   "cell_type": "code",
   "execution_count": 72,
   "metadata": {
    "hidden": true
   },
   "outputs": [],
   "source": [
    "scene.run()"
   ]
  },
  {
   "cell_type": "code",
   "execution_count": 73,
   "metadata": {
    "hidden": true
   },
   "outputs": [
    {
     "data": {
      "text/plain": [
       "(-5.481469028576641, 5.11084960010947, -3.256763500435529, 2.774131595992168)"
      ]
     },
     "execution_count": 73,
     "metadata": {},
     "output_type": "execute_result"
    },
    {
     "data": {
      "image/png": "[encoded data removed]",
      "text/plain": [
       "<Figure size 432x288 with 1 Axes>"
      ]
     },
     "metadata": {
      "needs_background": "light"
     },
     "output_type": "display_data"
    }
   ],
   "source": [
    "fig,ax = plt.subplots()\n",
    "scene.plot(ax, m_quiver=True)\n",
    "ax.axis(\"equal\")"
   ]
  },
  {
   "cell_type": "code",
   "execution_count": 74,
   "metadata": {
    "hidden": true
   },
   "outputs": [
    {
     "name": "stdout",
     "output_type": "stream",
     "text": [
      "[ 0.00840706 -0.00466035]\n"
     ]
    }
   ],
   "source": [
    "# Final momentum of the photons\n",
    "final = np.sum([1/ray.wavelength*ray.dir*ray.weight for ray in scene.rays], axis=0)\n",
    "print(final)"
   ]
  },
  {
   "cell_type": "code",
   "execution_count": 75,
   "metadata": {
    "hidden": true
   },
   "outputs": [
    {
     "data": {
      "text/plain": [
       "array([-0.00225332, -0.00466035])"
      ]
     },
     "execution_count": 75,
     "metadata": {},
     "output_type": "execute_result"
    }
   ],
   "source": [
    "# Change in total photon momentum\n",
    "final-initial"
   ]
  },
  {
   "cell_type": "code",
   "execution_count": 76,
   "metadata": {
    "hidden": true
   },
   "outputs": [
    {
     "data": {
      "text/plain": [
       "array([0.00225332, 0.00466035])"
      ]
     },
     "execution_count": 76,
     "metadata": {},
     "output_type": "execute_result"
    }
   ],
   "source": [
    "np.sum(scene.momenta, axis=0)"
   ]
  },
  {
   "cell_type": "markdown",
   "metadata": {
    "hidden": true
   },
   "source": [
    "## Sphere"
   ]
  },
  {
   "cell_type": "code",
   "execution_count": 77,
   "metadata": {
    "hidden": true
   },
   "outputs": [],
   "source": [
    "sphere = two_d_tracer.Sphere([0,0], 2.5, None, 1, 1.3)\n",
    "sc_dsc = {\n",
    "    \"rays\": [two_d_tracer.Ray([-5, y], [1,0], 400+((y)*200)) for y in np.linspace(0,1.5, 5)],\n",
    "    \"objects\": [sphere]\n",
    "}\n",
    "scene = two_d_tracer.Scene(**sc_dsc)"
   ]
  },
  {
   "cell_type": "code",
   "execution_count": 78,
   "metadata": {
    "hidden": true
   },
   "outputs": [
    {
     "name": "stdout",
     "output_type": "stream",
     "text": [
      "[0.00945202 0.        ]\n"
     ]
    }
   ],
   "source": [
    "# Initial momentum of the photons\n",
    "initial = np.sum([1/ray.wavelength*ray.dir*ray.weight for ray in scene.rays], axis=0)\n",
    "print(initial)"
   ]
  },
  {
   "cell_type": "code",
   "execution_count": 79,
   "metadata": {
    "hidden": true
   },
   "outputs": [],
   "source": [
    "scene.run()"
   ]
  },
  {
   "cell_type": "code",
   "execution_count": 80,
   "metadata": {
    "hidden": true
   },
   "outputs": [
    {
     "data": {
      "text/plain": [
       "(-5.42500000002, 3.92500000042, -3.302471395566306, 3.73875218157154)"
      ]
     },
     "execution_count": 80,
     "metadata": {},
     "output_type": "execute_result"
    },
    {
     "data": {
      "image/png": "[encoded data removed]",
      "text/plain": [
       "<Figure size 432x288 with 1 Axes>"
      ]
     },
     "metadata": {
      "needs_background": "light"
     },
     "output_type": "display_data"
    }
   ],
   "source": [
    "fig,ax = plt.subplots()\n",
    "scene.plot(ax, m_quiver=True)\n",
    "ax.axis(\"equal\")"
   ]
  },
  {
   "cell_type": "code",
   "execution_count": 81,
   "metadata": {
    "hidden": true
   },
   "outputs": [
    {
     "name": "stdout",
     "output_type": "stream",
     "text": [
      "[ 0.00871404 -0.00114629]\n"
     ]
    }
   ],
   "source": [
    "# Final momentum of the photons\n",
    "final = np.sum([1/ray.wavelength*ray.dir*ray.weight for ray in scene.rays], axis=0)\n",
    "print(final)"
   ]
  },
  {
   "cell_type": "code",
   "execution_count": 82,
   "metadata": {
    "hidden": true
   },
   "outputs": [
    {
     "data": {
      "text/plain": [
       "array([-0.00073797, -0.00114629])"
      ]
     },
     "execution_count": 82,
     "metadata": {},
     "output_type": "execute_result"
    }
   ],
   "source": [
    "# Change in total photon momentum\n",
    "final-initial"
   ]
  },
  {
   "cell_type": "code",
   "execution_count": 83,
   "metadata": {
    "hidden": true
   },
   "outputs": [
    {
     "data": {
      "text/plain": [
       "array([0.00073797, 0.00114629])"
      ]
     },
     "execution_count": 83,
     "metadata": {},
     "output_type": "execute_result"
    }
   ],
   "source": [
    "np.sum(scene.momenta, axis=0)"
   ]
  },
  {
   "cell_type": "markdown",
   "metadata": {
    "heading_collapsed": true
   },
   "source": [
    "# Sphere stability"
   ]
  },
  {
   "cell_type": "code",
   "execution_count": 210,
   "metadata": {
    "hidden": true
   },
   "outputs": [],
   "source": [
    "sc_dsc = {\n",
    "#     \"rays\": [two_d_tracer.Ray([-5, y], [1,0]) for y in np.linspace(2,-2, 2**10+1)],\n",
    "    \"rays\": [two_d_tracer.Ray([-5, y], [1,0]) for y in two_d_tracer.linspace(-2,2,20000)],\n",
    "    \"objects\": [two_d_tracer.SphereReflective([0,0],2.5)]\n",
    "}\n",
    "scene = two_d_tracer.Scene(**sc_dsc)\n",
    "scene.run()"
   ]
  },
  {
   "cell_type": "code",
   "execution_count": 218,
   "metadata": {
    "hidden": true
   },
   "outputs": [
    {
     "data": {
      "application/javascript": [
       "/* Put everything inside the global mpl namespace */\n",
       "window.mpl = {};\n",
       "\n",
       "\n",
       "mpl.get_websocket_type = function() {\n",
       "    if (typeof(WebSocket) !== 'undefined') {\n",
       "        return WebSocket;\n",
       "    } else if (typeof(MozWebSocket) !== 'undefined') {\n",
       "        return MozWebSocket;\n",
       "    } else {\n",
       "        alert('Your browser does not have WebSocket support. ' +\n",
       "              'Please try Chrome, Safari or Firefox ≥ 6. ' +\n",
       "              'Firefox 4 and 5 are also supported but you ' +\n",
       "              'have to enable WebSockets in about:config.');\n",
       "    };\n",
       "}\n",
       "\n",
       "mpl.figure = function(figure_id, websocket, ondownload, parent_element) {\n",
       "    this.id = figure_id;\n",
       "\n",
       "    this.ws = websocket;\n",
       "\n",
       "    this.supports_binary = (this.ws.binaryType != undefined);\n",
       "\n",
       "    if (!this.supports_binary) {\n",
       "        var warnings = document.getElementById(\"mpl-warnings\");\n",
       "        if (warnings) {\n",
       "            warnings.style.display = 'block';\n",
       "            warnings.textContent = (\n",
       "                \"This browser does not support binary websocket messages. \" +\n",
       "                    \"Performance may be slow.\");\n",
       "        }\n",
       "    }\n",
       "\n",
       "    this.imageObj = new Image();\n",
       "\n",
       "    this.context = undefined;\n",
       "    this.message = undefined;\n",
       "    this.canvas = undefined;\n",
       "    this.rubberband_canvas = undefined;\n",
       "    this.rubberband_context = undefined;\n",
       "    this.format_dropdown = undefined;\n",
       "\n",
       "    this.image_mode = 'full';\n",
       "\n",
       "    this.root = $('<div/>');\n",
       "    this._root_extra_style(this.root)\n",
       "    this.root.attr('style', 'display: inline-block');\n",
       "\n",
       "    $(parent_element).append(this.root);\n",
       "\n",
       "    this._init_header(this);\n",
       "    this._init_canvas(this);\n",
       "    this._init_toolbar(this);\n",
       "\n",
       "    var fig = this;\n",
       "\n",
       "    this.waiting = false;\n",
       "\n",
       "    this.ws.onopen =  function () {\n",
       "            fig.send_message(\"supports_binary\", {value: fig.supports_binary});\n",
       "            fig.send_message(\"send_image_mode\", {});\n",
       "            if (mpl.ratio != 1) {\n",
       "                fig.send_message(\"set_dpi_ratio\", {'dpi_ratio': mpl.ratio});\n",
       "            }\n",
       "            fig.send_message(\"refresh\", {});\n",
       "        }\n",
       "\n",
       "    this.imageObj.onload = function() {\n",
       "            if (fig.image_mode == 'full') {\n",
       "                // Full images could contain transparency (where diff images\n",
       "                // almost always do), so we need to clear the canvas so that\n",
       "                // there is no ghosting.\n",
       "                fig.context.clearRect(0, 0, fig.canvas.width, fig.canvas.height);\n",
       "            }\n",
       "            fig.context.drawImage(fig.imageObj, 0, 0);\n",
       "        };\n",
       "\n",
       "    this.imageObj.onunload = function() {\n",
       "        fig.ws.close();\n",
       "    }\n",
       "\n",
       "    this.ws.onmessage = this._make_on_message_function(this);\n",
       "\n",
       "    this.ondownload = ondownload;\n",
       "}\n",
       "\n",
       "mpl.figure.prototype._init_header = function() {\n",
       "    var titlebar = $(\n",
       "        '<div class=\"ui-dialog-titlebar ui-widget-header ui-corner-all ' +\n",
       "        'ui-helper-clearfix\"/>');\n",
       "    var titletext = $(\n",
       "        '<div class=\"ui-dialog-title\" style=\"width: 100%; ' +\n",
       "        'text-align: center; padding: 3px;\"/>');\n",
       "    titlebar.append(titletext)\n",
       "    this.root.append(titlebar);\n",
       "    this.header = titletext[0];\n",
       "}\n",
       "\n",
       "\n",
       "\n",
       "mpl.figure.prototype._canvas_extra_style = function(canvas_div) {\n",
       "\n",
       "}\n",
       "\n",
       "\n",
       "mpl.figure.prototype._root_extra_style = function(canvas_div) {\n",
       "\n",
       "}\n",
       "\n",
       "mpl.figure.prototype._init_canvas = function() {\n",
       "    var fig = this;\n",
       "\n",
       "    var canvas_div = $('<div/>');\n",
       "\n",
       "    canvas_div.attr('style', 'position: relative; clear: both; outline: 0');\n",
       "\n",
       "    function canvas_keyboard_event(event) {\n",
       "        return fig.key_event(event, event['data']);\n",
       "    }\n",
       "\n",
       "    canvas_div.keydown('key_press', canvas_keyboard_event);\n",
       "    canvas_div.keyup('key_release', canvas_keyboard_event);\n",
       "    this.canvas_div = canvas_div\n",
       "    this._canvas_extra_style(canvas_div)\n",
       "    this.root.append(canvas_div);\n",
       "\n",
       "    var canvas = $('<canvas/>');\n",
       "    canvas.addClass('mpl-canvas');\n",
       "    canvas.attr('style', \"left: 0; top: 0; z-index: 0; outline: 0\")\n",
       "\n",
       "    this.canvas = canvas[0];\n",
       "    this.context = canvas[0].getContext(\"2d\");\n",
       "\n",
       "    var backingStore = this.context.backingStorePixelRatio ||\n",
       "\tthis.context.webkitBackingStorePixelRatio ||\n",
       "\tthis.context.mozBackingStorePixelRatio ||\n",
       "\tthis.context.msBackingStorePixelRatio ||\n",
       "\tthis.context.oBackingStorePixelRatio ||\n",
       "\tthis.context.backingStorePixelRatio || 1;\n",
       "\n",
       "    mpl.ratio = (window.devicePixelRatio || 1) / backingStore;\n",
       "\n",
       "    var rubberband = $('<canvas/>');\n",
       "    rubberband.attr('style', \"position: absolute; left: 0; top: 0; z-index: 1;\")\n",
       "\n",
       "    var pass_mouse_events = true;\n",
       "\n",
       "    canvas_div.resizable({\n",
       "        start: function(event, ui) {\n",
       "            pass_mouse_events = false;\n",
       "        },\n",
       "        resize: function(event, ui) {\n",
       "            fig.request_resize(ui.size.width, ui.size.height);\n",
       "        },\n",
       "        stop: function(event, ui) {\n",
       "            pass_mouse_events = true;\n",
       "            fig.request_resize(ui.size.width, ui.size.height);\n",
       "        },\n",
       "    });\n",
       "\n",
       "    function mouse_event_fn(event) {\n",
       "        if (pass_mouse_events)\n",
       "            return fig.mouse_event(event, event['data']);\n",
       "    }\n",
       "\n",
       "    rubberband.mousedown('button_press', mouse_event_fn);\n",
       "    rubberband.mouseup('button_release', mouse_event_fn);\n",
       "    // Throttle sequential mouse events to 1 every 20ms.\n",
       "    rubberband.mousemove('motion_notify', mouse_event_fn);\n",
       "\n",
       "    rubberband.mouseenter('figure_enter', mouse_event_fn);\n",
       "    rubberband.mouseleave('figure_leave', mouse_event_fn);\n",
       "\n",
       "    canvas_div.on(\"wheel\", function (event) {\n",
       "        event = event.originalEvent;\n",
       "        event['data'] = 'scroll'\n",
       "        if (event.deltaY < 0) {\n",
       "            event.step = 1;\n",
       "        } else {\n",
       "            event.step = -1;\n",
       "        }\n",
       "        mouse_event_fn(event);\n",
       "    });\n",
       "\n",
       "    canvas_div.append(canvas);\n",
       "    canvas_div.append(rubberband);\n",
       "\n",
       "    this.rubberband = rubberband;\n",
       "    this.rubberband_canvas = rubberband[0];\n",
       "    this.rubberband_context = rubberband[0].getContext(\"2d\");\n",
       "    this.rubberband_context.strokeStyle = \"#000000\";\n",
       "\n",
       "    this._resize_canvas = function(width, height) {\n",
       "        // Keep the size of the canvas, canvas container, and rubber band\n",
       "        // canvas in synch.\n",
       "        canvas_div.css('width', width)\n",
       "        canvas_div.css('height', height)\n",
       "\n",
       "        canvas.attr('width', width * mpl.ratio);\n",
       "        canvas.attr('height', height * mpl.ratio);\n",
       "        canvas.attr('style', 'width: ' + width + 'px; height: ' + height + 'px;');\n",
       "\n",
       "        rubberband.attr('width', width);\n",
       "        rubberband.attr('height', height);\n",
       "    }\n",
       "\n",
       "    // Set the figure to an initial 600x600px, this will subsequently be updated\n",
       "    // upon first draw.\n",
       "    this._resize_canvas(600, 600);\n",
       "\n",
       "    // Disable right mouse context menu.\n",
       "    $(this.rubberband_canvas).bind(\"contextmenu\",function(e){\n",
       "        return false;\n",
       "    });\n",
       "\n",
       "    function set_focus () {\n",
       "        canvas.focus();\n",
       "        canvas_div.focus();\n",
       "    }\n",
       "\n",
       "    window.setTimeout(set_focus, 100);\n",
       "}\n",
       "\n",
       "mpl.figure.prototype._init_toolbar = function() {\n",
       "    var fig = this;\n",
       "\n",
       "    var nav_element = $('<div/>');\n",
       "    nav_element.attr('style', 'width: 100%');\n",
       "    this.root.append(nav_element);\n",
       "\n",
       "    // Define a callback function for later on.\n",
       "    function toolbar_event(event) {\n",
       "        return fig.toolbar_button_onclick(event['data']);\n",
       "    }\n",
       "    function toolbar_mouse_event(event) {\n",
       "        return fig.toolbar_button_onmouseover(event['data']);\n",
       "    }\n",
       "\n",
       "    for(var toolbar_ind in mpl.toolbar_items) {\n",
       "        var name = mpl.toolbar_items[toolbar_ind][0];\n",
       "        var tooltip = mpl.toolbar_items[toolbar_ind][1];\n",
       "        var image = mpl.toolbar_items[toolbar_ind][2];\n",
       "        var method_name = mpl.toolbar_items[toolbar_ind][3];\n",
       "\n",
       "        if (!name) {\n",
       "            // put a spacer in here.\n",
       "            continue;\n",
       "        }\n",
       "        var button = $('<button/>');\n",
       "        button.addClass('ui-button ui-widget ui-state-default ui-corner-all ' +\n",
       "                        'ui-button-icon-only');\n",
       "        button.attr('role', 'button');\n",
       "        button.attr('aria-disabled', 'false');\n",
       "        button.click(method_name, toolbar_event);\n",
       "        button.mouseover(tooltip, toolbar_mouse_event);\n",
       "\n",
       "        var icon_img = $('<span/>');\n",
       "        icon_img.addClass('ui-button-icon-primary ui-icon');\n",
       "        icon_img.addClass(image);\n",
       "        icon_img.addClass('ui-corner-all');\n",
       "\n",
       "        var tooltip_span = $('<span/>');\n",
       "        tooltip_span.addClass('ui-button-text');\n",
       "        tooltip_span.html(tooltip);\n",
       "\n",
       "        button.append(icon_img);\n",
       "        button.append(tooltip_span);\n",
       "\n",
       "        nav_element.append(button);\n",
       "    }\n",
       "\n",
       "    var fmt_picker_span = $('<span/>');\n",
       "\n",
       "    var fmt_picker = $('<select/>');\n",
       "    fmt_picker.addClass('mpl-toolbar-option ui-widget ui-widget-content');\n",
       "    fmt_picker_span.append(fmt_picker);\n",
       "    nav_element.append(fmt_picker_span);\n",
       "    this.format_dropdown = fmt_picker[0];\n",
       "\n",
       "    for (var ind in mpl.extensions) {\n",
       "        var fmt = mpl.extensions[ind];\n",
       "        var option = $(\n",
       "            '<option/>', {selected: fmt === mpl.default_extension}).html(fmt);\n",
       "        fmt_picker.append(option);\n",
       "    }\n",
       "\n",
       "    // Add hover states to the ui-buttons\n",
       "    $( \".ui-button\" ).hover(\n",
       "        function() { $(this).addClass(\"ui-state-hover\");},\n",
       "        function() { $(this).removeClass(\"ui-state-hover\");}\n",
       "    );\n",
       "\n",
       "    var status_bar = $('<span class=\"mpl-message\"/>');\n",
       "    nav_element.append(status_bar);\n",
       "    this.message = status_bar[0];\n",
       "}\n",
       "\n",
       "mpl.figure.prototype.request_resize = function(x_pixels, y_pixels) {\n",
       "    // Request matplotlib to resize the figure. Matplotlib will then trigger a resize in the client,\n",
       "    // which will in turn request a refresh of the image.\n",
       "    this.send_message('resize', {'width': x_pixels, 'height': y_pixels});\n",
       "}\n",
       "\n",
       "mpl.figure.prototype.send_message = function(type, properties) {\n",
       "    properties['type'] = type;\n",
       "    properties['figure_id'] = this.id;\n",
       "    this.ws.send(JSON.stringify(properties));\n",
       "}\n",
       "\n",
       "mpl.figure.prototype.send_draw_message = function() {\n",
       "    if (!this.waiting) {\n",
       "        this.waiting = true;\n",
       "        this.ws.send(JSON.stringify({type: \"draw\", figure_id: this.id}));\n",
       "    }\n",
       "}\n",
       "\n",
       "\n",
       "mpl.figure.prototype.handle_save = function(fig, msg) {\n",
       "    var format_dropdown = fig.format_dropdown;\n",
       "    var format = format_dropdown.options[format_dropdown.selectedIndex].value;\n",
       "    fig.ondownload(fig, format);\n",
       "}\n",
       "\n",
       "\n",
       "mpl.figure.prototype.handle_resize = function(fig, msg) {\n",
       "    var size = msg['size'];\n",
       "    if (size[0] != fig.canvas.width || size[1] != fig.canvas.height) {\n",
       "        fig._resize_canvas(size[0], size[1]);\n",
       "        fig.send_message(\"refresh\", {});\n",
       "    };\n",
       "}\n",
       "\n",
       "mpl.figure.prototype.handle_rubberband = function(fig, msg) {\n",
       "    var x0 = msg['x0'] / mpl.ratio;\n",
       "    var y0 = (fig.canvas.height - msg['y0']) / mpl.ratio;\n",
       "    var x1 = msg['x1'] / mpl.ratio;\n",
       "    var y1 = (fig.canvas.height - msg['y1']) / mpl.ratio;\n",
       "    x0 = Math.floor(x0) + 0.5;\n",
       "    y0 = Math.floor(y0) + 0.5;\n",
       "    x1 = Math.floor(x1) + 0.5;\n",
       "    y1 = Math.floor(y1) + 0.5;\n",
       "    var min_x = Math.min(x0, x1);\n",
       "    var min_y = Math.min(y0, y1);\n",
       "    var width = Math.abs(x1 - x0);\n",
       "    var height = Math.abs(y1 - y0);\n",
       "\n",
       "    fig.rubberband_context.clearRect(\n",
       "        0, 0, fig.canvas.width / mpl.ratio, fig.canvas.height / mpl.ratio);\n",
       "\n",
       "    fig.rubberband_context.strokeRect(min_x, min_y, width, height);\n",
       "}\n",
       "\n",
       "mpl.figure.prototype.handle_figure_label = function(fig, msg) {\n",
       "    // Updates the figure title.\n",
       "    fig.header.textContent = msg['label'];\n",
       "}\n",
       "\n",
       "mpl.figure.prototype.handle_cursor = function(fig, msg) {\n",
       "    var cursor = msg['cursor'];\n",
       "    switch(cursor)\n",
       "    {\n",
       "    case 0:\n",
       "        cursor = 'pointer';\n",
       "        break;\n",
       "    case 1:\n",
       "        cursor = 'default';\n",
       "        break;\n",
       "    case 2:\n",
       "        cursor = 'crosshair';\n",
       "        break;\n",
       "    case 3:\n",
       "        cursor = 'move';\n",
       "        break;\n",
       "    }\n",
       "    fig.rubberband_canvas.style.cursor = cursor;\n",
       "}\n",
       "\n",
       "mpl.figure.prototype.handle_message = function(fig, msg) {\n",
       "    fig.message.textContent = msg['message'];\n",
       "}\n",
       "\n",
       "mpl.figure.prototype.handle_draw = function(fig, msg) {\n",
       "    // Request the server to send over a new figure.\n",
       "    fig.send_draw_message();\n",
       "}\n",
       "\n",
       "mpl.figure.prototype.handle_image_mode = function(fig, msg) {\n",
       "    fig.image_mode = msg['mode'];\n",
       "}\n",
       "\n",
       "mpl.figure.prototype.updated_canvas_event = function() {\n",
       "    // Called whenever the canvas gets updated.\n",
       "    this.send_message(\"ack\", {});\n",
       "}\n",
       "\n",
       "// A function to construct a web socket function for onmessage handling.\n",
       "// Called in the figure constructor.\n",
       "mpl.figure.prototype._make_on_message_function = function(fig) {\n",
       "    return function socket_on_message(evt) {\n",
       "        if (evt.data instanceof Blob) {\n",
       "            /* FIXME: We get \"Resource interpreted as Image but\n",
       "             * transferred with MIME type text/plain:\" errors on\n",
       "             * Chrome.  But how to set the MIME type?  It doesn't seem\n",
       "             * to be part of the websocket stream */\n",
       "            evt.data.type = \"image/png\";\n",
       "\n",
       "            /* Free the memory for the previous frames */\n",
       "            if (fig.imageObj.src) {\n",
       "                (window.URL || window.webkitURL).revokeObjectURL(\n",
       "                    fig.imageObj.src);\n",
       "            }\n",
       "\n",
       "            fig.imageObj.src = (window.URL || window.webkitURL).createObjectURL(\n",
       "                evt.data);\n",
       "            fig.updated_canvas_event();\n",
       "            fig.waiting = false;\n",
       "            return;\n",
       "        }\n",
       "        else if (typeof evt.data === 'string' && evt.data.slice(0, 21) == \"data:image/png;base64\") {\n",
       "            fig.imageObj.src = evt.data;\n",
       "            fig.updated_canvas_event();\n",
       "            fig.waiting = false;\n",
       "            return;\n",
       "        }\n",
       "\n",
       "        var msg = JSON.parse(evt.data);\n",
       "        var msg_type = msg['type'];\n",
       "\n",
       "        // Call the  \"handle_{type}\" callback, which takes\n",
       "        // the figure and JSON message as its only arguments.\n",
       "        try {\n",
       "            var callback = fig[\"handle_\" + msg_type];\n",
       "        } catch (e) {\n",
       "            console.log(\"No handler for the '\" + msg_type + \"' message type: \", msg);\n",
       "            return;\n",
       "        }\n",
       "\n",
       "        if (callback) {\n",
       "            try {\n",
       "                // console.log(\"Handling '\" + msg_type + \"' message: \", msg);\n",
       "                callback(fig, msg);\n",
       "            } catch (e) {\n",
       "                console.log(\"Exception inside the 'handler_\" + msg_type + \"' callback:\", e, e.stack, msg);\n",
       "            }\n",
       "        }\n",
       "    };\n",
       "}\n",
       "\n",
       "// from http://stackoverflow.com/questions/1114465/getting-mouse-location-in-canvas\n",
       "mpl.findpos = function(e) {\n",
       "    //this section is from http://www.quirksmode.org/js/events_properties.html\n",
       "    var targ;\n",
       "    if (!e)\n",
       "        e = window.event;\n",
       "    if (e.target)\n",
       "        targ = e.target;\n",
       "    else if (e.srcElement)\n",
       "        targ = e.srcElement;\n",
       "    if (targ.nodeType == 3) // defeat Safari bug\n",
       "        targ = targ.parentNode;\n",
       "\n",
       "    // jQuery normalizes the pageX and pageY\n",
       "    // pageX,Y are the mouse positions relative to the document\n",
       "    // offset() returns the position of the element relative to the document\n",
       "    var x = e.pageX - $(targ).offset().left;\n",
       "    var y = e.pageY - $(targ).offset().top;\n",
       "\n",
       "    return {\"x\": x, \"y\": y};\n",
       "};\n",
       "\n",
       "/*\n",
       " * return a copy of an object with only non-object keys\n",
       " * we need this to avoid circular references\n",
       " * http://stackoverflow.com/a/24161582/3208463\n",
       " */\n",
       "function simpleKeys (original) {\n",
       "  return Object.keys(original).reduce(function (obj, key) {\n",
       "    if (typeof original[key] !== 'object')\n",
       "        obj[key] = original[key]\n",
       "    return obj;\n",
       "  }, {});\n",
       "}\n",
       "\n",
       "mpl.figure.prototype.mouse_event = function(event, name) {\n",
       "    var canvas_pos = mpl.findpos(event)\n",
       "\n",
       "    if (name === 'button_press')\n",
       "    {\n",
       "        this.canvas.focus();\n",
       "        this.canvas_div.focus();\n",
       "    }\n",
       "\n",
       "    var x = canvas_pos.x * mpl.ratio;\n",
       "    var y = canvas_pos.y * mpl.ratio;\n",
       "\n",
       "    this.send_message(name, {x: x, y: y, button: event.button,\n",
       "                             step: event.step,\n",
       "                             guiEvent: simpleKeys(event)});\n",
       "\n",
       "    /* This prevents the web browser from automatically changing to\n",
       "     * the text insertion cursor when the button is pressed.  We want\n",
       "     * to control all of the cursor setting manually through the\n",
       "     * 'cursor' event from matplotlib */\n",
       "    event.preventDefault();\n",
       "    return false;\n",
       "}\n",
       "\n",
       "mpl.figure.prototype._key_event_extra = function(event, name) {\n",
       "    // Handle any extra behaviour associated with a key event\n",
       "}\n",
       "\n",
       "mpl.figure.prototype.key_event = function(event, name) {\n",
       "\n",
       "    // Prevent repeat events\n",
       "    if (name == 'key_press')\n",
       "    {\n",
       "        if (event.which === this._key)\n",
       "            return;\n",
       "        else\n",
       "            this._key = event.which;\n",
       "    }\n",
       "    if (name == 'key_release')\n",
       "        this._key = null;\n",
       "\n",
       "    var value = '';\n",
       "    if (event.ctrlKey && event.which != 17)\n",
       "        value += \"ctrl+\";\n",
       "    if (event.altKey && event.which != 18)\n",
       "        value += \"alt+\";\n",
       "    if (event.shiftKey && event.which != 16)\n",
       "        value += \"shift+\";\n",
       "\n",
       "    value += 'k';\n",
       "    value += event.which.toString();\n",
       "\n",
       "    this._key_event_extra(event, name);\n",
       "\n",
       "    this.send_message(name, {key: value,\n",
       "                             guiEvent: simpleKeys(event)});\n",
       "    return false;\n",
       "}\n",
       "\n",
       "mpl.figure.prototype.toolbar_button_onclick = function(name) {\n",
       "    if (name == 'download') {\n",
       "        this.handle_save(this, null);\n",
       "    } else {\n",
       "        this.send_message(\"toolbar_button\", {name: name});\n",
       "    }\n",
       "};\n",
       "\n",
       "mpl.figure.prototype.toolbar_button_onmouseover = function(tooltip) {\n",
       "    this.message.textContent = tooltip;\n",
       "};\n",
       "mpl.toolbar_items = [[\"Home\", \"Reset original view\", \"fa fa-home icon-home\", \"home\"], [\"Back\", \"Back to previous view\", \"fa fa-arrow-left icon-arrow-left\", \"back\"], [\"Forward\", \"Forward to next view\", \"fa fa-arrow-right icon-arrow-right\", \"forward\"], [\"\", \"\", \"\", \"\"], [\"Pan\", \"Pan axes with left mouse, zoom with right\", \"fa fa-arrows icon-move\", \"pan\"], [\"Zoom\", \"Zoom to rectangle\", \"fa fa-square-o icon-check-empty\", \"zoom\"], [\"\", \"\", \"\", \"\"], [\"Download\", \"Download plot\", \"fa fa-floppy-o icon-save\", \"download\"]];\n",
       "\n",
       "mpl.extensions = [\"eps\", \"jpeg\", \"pdf\", \"png\", \"ps\", \"raw\", \"svg\", \"tif\"];\n",
       "\n",
       "mpl.default_extension = \"png\";var comm_websocket_adapter = function(comm) {\n",
       "    // Create a \"websocket\"-like object which calls the given IPython comm\n",
       "    // object with the appropriate methods. Currently this is a non binary\n",
       "    // socket, so there is still some room for performance tuning.\n",
       "    var ws = {};\n",
       "\n",
       "    ws.close = function() {\n",
       "        comm.close()\n",
       "    };\n",
       "    ws.send = function(m) {\n",
       "        //console.log('sending', m);\n",
       "        comm.send(m);\n",
       "    };\n",
       "    // Register the callback with on_msg.\n",
       "    comm.on_msg(function(msg) {\n",
       "        //console.log('receiving', msg['content']['data'], msg);\n",
       "        // Pass the mpl event to the overridden (by mpl) onmessage function.\n",
       "        ws.onmessage(msg['content']['data'])\n",
       "    });\n",
       "    return ws;\n",
       "}\n",
       "\n",
       "mpl.mpl_figure_comm = function(comm, msg) {\n",
       "    // This is the function which gets called when the mpl process\n",
       "    // starts-up an IPython Comm through the \"matplotlib\" channel.\n",
       "\n",
       "    var id = msg.content.data.id;\n",
       "    // Get hold of the div created by the display call when the Comm\n",
       "    // socket was opened in Python.\n",
       "    var element = $(\"#\" + id);\n",
       "    var ws_proxy = comm_websocket_adapter(comm)\n",
       "\n",
       "    function ondownload(figure, format) {\n",
       "        window.open(figure.imageObj.src);\n",
       "    }\n",
       "\n",
       "    var fig = new mpl.figure(id, ws_proxy,\n",
       "                           ondownload,\n",
       "                           element.get(0));\n",
       "\n",
       "    // Call onopen now - mpl needs it, as it is assuming we've passed it a real\n",
       "    // web socket which is closed, not our websocket->open comm proxy.\n",
       "    ws_proxy.onopen();\n",
       "\n",
       "    fig.parent_element = element.get(0);\n",
       "    fig.cell_info = mpl.find_output_cell(\"<div id='\" + id + \"'></div>\");\n",
       "    if (!fig.cell_info) {\n",
       "        console.error(\"Failed to find cell for figure\", id, fig);\n",
       "        return;\n",
       "    }\n",
       "\n",
       "    var output_index = fig.cell_info[2]\n",
       "    var cell = fig.cell_info[0];\n",
       "\n",
       "};\n",
       "\n",
       "mpl.figure.prototype.handle_close = function(fig, msg) {\n",
       "    var width = fig.canvas.width/mpl.ratio\n",
       "    fig.root.unbind('remove')\n",
       "\n",
       "    // Update the output cell to use the data from the current canvas.\n",
       "    fig.push_to_output();\n",
       "    var dataURL = fig.canvas.toDataURL();\n",
       "    // Re-enable the keyboard manager in IPython - without this line, in FF,\n",
       "    // the notebook keyboard shortcuts fail.\n",
       "    IPython.keyboard_manager.enable()\n",
       "    $(fig.parent_element).html('<img src=\"' + dataURL + '\" width=\"' + width + '\">');\n",
       "    fig.close_ws(fig, msg);\n",
       "}\n",
       "\n",
       "mpl.figure.prototype.close_ws = function(fig, msg){\n",
       "    fig.send_message('closing', msg);\n",
       "    // fig.ws.close()\n",
       "}\n",
       "\n",
       "mpl.figure.prototype.push_to_output = function(remove_interactive) {\n",
       "    // Turn the data on the canvas into data in the output cell.\n",
       "    var width = this.canvas.width/mpl.ratio\n",
       "    var dataURL = this.canvas.toDataURL();\n",
       "    this.cell_info[1]['text/html'] = '<img src=\"' + dataURL + '\" width=\"' + width + '\">';\n",
       "}\n",
       "\n",
       "mpl.figure.prototype.updated_canvas_event = function() {\n",
       "    // Tell IPython that the notebook contents must change.\n",
       "    IPython.notebook.set_dirty(true);\n",
       "    this.send_message(\"ack\", {});\n",
       "    var fig = this;\n",
       "    // Wait a second, then push the new image to the DOM so\n",
       "    // that it is saved nicely (might be nice to debounce this).\n",
       "    setTimeout(function () { fig.push_to_output() }, 1000);\n",
       "}\n",
       "\n",
       "mpl.figure.prototype._init_toolbar = function() {\n",
       "    var fig = this;\n",
       "\n",
       "    var nav_element = $('<div/>');\n",
       "    nav_element.attr('style', 'width: 100%');\n",
       "    this.root.append(nav_element);\n",
       "\n",
       "    // Define a callback function for later on.\n",
       "    function toolbar_event(event) {\n",
       "        return fig.toolbar_button_onclick(event['data']);\n",
       "    }\n",
       "    function toolbar_mouse_event(event) {\n",
       "        return fig.toolbar_button_onmouseover(event['data']);\n",
       "    }\n",
       "\n",
       "    for(var toolbar_ind in mpl.toolbar_items){\n",
       "        var name = mpl.toolbar_items[toolbar_ind][0];\n",
       "        var tooltip = mpl.toolbar_items[toolbar_ind][1];\n",
       "        var image = mpl.toolbar_items[toolbar_ind][2];\n",
       "        var method_name = mpl.toolbar_items[toolbar_ind][3];\n",
       "\n",
       "        if (!name) { continue; };\n",
       "\n",
       "        var button = $('<button class=\"btn btn-default\" href=\"#\" title=\"' + name + '\"><i class=\"fa ' + image + ' fa-lg\"></i></button>');\n",
       "        button.click(method_name, toolbar_event);\n",
       "        button.mouseover(tooltip, toolbar_mouse_event);\n",
       "        nav_element.append(button);\n",
       "    }\n",
       "\n",
       "    // Add the status bar.\n",
       "    var status_bar = $('<span class=\"mpl-message\" style=\"text-align:right; float: right;\"/>');\n",
       "    nav_element.append(status_bar);\n",
       "    this.message = status_bar[0];\n",
       "\n",
       "    // Add the close button to the window.\n",
       "    var buttongrp = $('<div class=\"btn-group inline pull-right\"></div>');\n",
       "    var button = $('<button class=\"btn btn-mini btn-primary\" href=\"#\" title=\"Stop Interaction\"><i class=\"fa fa-power-off icon-remove icon-large\"></i></button>');\n",
       "    button.click(function (evt) { fig.handle_close(fig, {}); } );\n",
       "    button.mouseover('Stop Interaction', toolbar_mouse_event);\n",
       "    buttongrp.append(button);\n",
       "    var titlebar = this.root.find($('.ui-dialog-titlebar'));\n",
       "    titlebar.prepend(buttongrp);\n",
       "}\n",
       "\n",
       "mpl.figure.prototype._root_extra_style = function(el){\n",
       "    var fig = this\n",
       "    el.on(\"remove\", function(){\n",
       "\tfig.close_ws(fig, {});\n",
       "    });\n",
       "}\n",
       "\n",
       "mpl.figure.prototype._canvas_extra_style = function(el){\n",
       "    // this is important to make the div 'focusable\n",
       "    el.attr('tabindex', 0)\n",
       "    // reach out to IPython and tell the keyboard manager to turn it's self\n",
       "    // off when our div gets focus\n",
       "\n",
       "    // location in version 3\n",
       "    if (IPython.notebook.keyboard_manager) {\n",
       "        IPython.notebook.keyboard_manager.register_events(el);\n",
       "    }\n",
       "    else {\n",
       "        // location in version 2\n",
       "        IPython.keyboard_manager.register_events(el);\n",
       "    }\n",
       "\n",
       "}\n",
       "\n",
       "mpl.figure.prototype._key_event_extra = function(event, name) {\n",
       "    var manager = IPython.notebook.keyboard_manager;\n",
       "    if (!manager)\n",
       "        manager = IPython.keyboard_manager;\n",
       "\n",
       "    // Check for shift+enter\n",
       "    if (event.shiftKey && event.which == 13) {\n",
       "        this.canvas_div.blur();\n",
       "        // select the cell after this one\n",
       "        var index = IPython.notebook.find_cell_index(this.cell_info[0]);\n",
       "        IPython.notebook.select(index + 1);\n",
       "    }\n",
       "}\n",
       "\n",
       "mpl.figure.prototype.handle_save = function(fig, msg) {\n",
       "    fig.ondownload(fig, null);\n",
       "}\n",
       "\n",
       "\n",
       "mpl.find_output_cell = function(html_output) {\n",
       "    // Return the cell and output element which can be found *uniquely* in the notebook.\n",
       "    // Note - this is a bit hacky, but it is done because the \"notebook_saving.Notebook\"\n",
       "    // IPython event is triggered only after the cells have been serialised, which for\n",
       "    // our purposes (turning an active figure into a static one), is too late.\n",
       "    var cells = IPython.notebook.get_cells();\n",
       "    var ncells = cells.length;\n",
       "    for (var i=0; i<ncells; i++) {\n",
       "        var cell = cells[i];\n",
       "        if (cell.cell_type === 'code'){\n",
       "            for (var j=0; j<cell.output_area.outputs.length; j++) {\n",
       "                var data = cell.output_area.outputs[j];\n",
       "                if (data.data) {\n",
       "                    // IPython >= 3 moved mimebundle to data attribute of output\n",
       "                    data = data.data;\n",
       "                }\n",
       "                if (data['text/html'] == html_output) {\n",
       "                    return [cell, data, j];\n",
       "                }\n",
       "            }\n",
       "        }\n",
       "    }\n",
       "}\n",
       "\n",
       "// Register the function which deals with the matplotlib target/channel.\n",
       "// The kernel may be null if the page has been refreshed.\n",
       "if (IPython.notebook.kernel != null) {\n",
       "    IPython.notebook.kernel.comm_manager.register_target('matplotlib', mpl.mpl_figure_comm);\n",
       "}\n"
      ],
      "text/plain": [
       "<IPython.core.display.Javascript object>"
      ]
     },
     "metadata": {},
     "output_type": "display_data"
    },
    {
     "data": {
      "text/html": [
       "<img src=\"data:image/png;base64,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\" width=\"432\">"
      ],
      "text/plain": [
       "<IPython.core.display.HTML object>"
      ]
     },
     "metadata": {},
     "output_type": "display_data"
    }
   ],
   "source": [
    "fig, ax = plt.subplots()\n",
    "scene.plot(ax, m_quiver=True, sparse=400)\n",
    "ax.axis(\"equal\")\n",
    "plt.show()"
   ]
  },
  {
   "cell_type": "code",
   "execution_count": 86,
   "metadata": {
    "hidden": true
   },
   "outputs": [
    {
     "data": {
      "text/plain": [
       "array([6.73786152e+01, 2.51534904e-17])"
      ]
     },
     "execution_count": 86,
     "metadata": {},
     "output_type": "execute_result"
    }
   ],
   "source": [
    "np.sum(scene.momenta, axis=0)"
   ]
  },
  {
   "cell_type": "code",
   "execution_count": 87,
   "metadata": {
    "hidden": true
   },
   "outputs": [
    {
     "data": {
      "text/plain": [
       "array([6.73786152e+01, 2.51534904e-17])"
      ]
     },
     "execution_count": 87,
     "metadata": {},
     "output_type": "execute_result"
    }
   ],
   "source": [
    "scene.momentum"
   ]
  },
  {
   "cell_type": "code",
   "execution_count": 88,
   "metadata": {
    "hidden": true
   },
   "outputs": [
    {
     "data": {
      "text/plain": [
       "array([-2.   , -1.996, -1.992, ...,  1.992,  1.996,  2.   ])"
      ]
     },
     "execution_count": 88,
     "metadata": {},
     "output_type": "execute_result"
    }
   ],
   "source": [
    "two_d_tracer.linspace(-2,2,1001)"
   ]
  },
  {
   "cell_type": "markdown",
   "metadata": {
    "hidden": true
   },
   "source": [
    "## np.linspace issues"
   ]
  },
  {
   "cell_type": "code",
   "execution_count": 94,
   "metadata": {
    "hidden": true
   },
   "outputs": [
    {
     "data": {
      "text/plain": [
       "<matplotlib.legend.Legend at 0x7fdaa459fa90>"
      ]
     },
     "execution_count": 94,
     "metadata": {},
     "output_type": "execute_result"
    },
    {
     "data": {
      "image/png": "[encoded data removed]",
      "text/plain": [
       "<Figure size 432x288 with 1 Axes>"
      ]
     },
     "metadata": {
      "needs_background": "light"
     },
     "output_type": "display_data"
    }
   ],
   "source": [
    "ar = two_d_tracer.linspace(-2,2,1000)\n",
    "br = np.linspace(-2,2,1000)\n",
    "fig, ax = plt.subplots()\n",
    "ax.plot(ar[1:]-ar[:-1], label=\"Mine\", alpha=0.5)\n",
    "ax.plot(br[1:]-br[:-1], label=\"np\", alpha=0.5)\n",
    "ax.legend()"
   ]
  },
  {
   "cell_type": "code",
   "execution_count": 97,
   "metadata": {
    "hidden": true
   },
   "outputs": [
    {
     "data": {
      "text/plain": [
       "<matplotlib.legend.Legend at 0x7fdaa3e2c2d0>"
      ]
     },
     "execution_count": 97,
     "metadata": {},
     "output_type": "execute_result"
    },
    {
     "data": {
      "image/png": "[encoded data removed]",
      "text/plain": [
       "<Figure size 432x288 with 1 Axes>"
      ]
     },
     "metadata": {
      "needs_background": "light"
     },
     "output_type": "display_data"
    }
   ],
   "source": [
    "# Does reasonably well with ranges at the same order of magnitude\n",
    "ar = two_d_tracer.linspace(2,3,1000)\n",
    "br = np.linspace(2,3,1000)\n",
    "fig, ax = plt.subplots()\n",
    "ax.plot(ar[1:]-ar[:-1], label=\"Mine\", alpha=0.5)\n",
    "ax.plot(br[1:]-br[:-1], label=\"np\", alpha=0.5)\n",
    "ax.legend()"
   ]
  },
  {
   "cell_type": "code",
   "execution_count": 98,
   "metadata": {
    "hidden": true
   },
   "outputs": [
    {
     "data": {
      "text/plain": [
       "<matplotlib.legend.Legend at 0x7fdaa4a2cdd0>"
      ]
     },
     "execution_count": 98,
     "metadata": {},
     "output_type": "execute_result"
    },
    {
     "data": {
      "image/png": "[encoded data removed]",
      "text/plain": [
       "<Figure size 432x288 with 1 Axes>"
      ]
     },
     "metadata": {
      "needs_background": "light"
     },
     "output_type": "display_data"
    }
   ],
   "source": [
    "# Does much better  with ranges at the same order of magnitude and odd numbers of samples\n",
    "ar = two_d_tracer.linspace(2,3,1001)\n",
    "br = np.linspace(2,3,1001)\n",
    "fig, ax = plt.subplots()\n",
    "ax.plot(ar[1:]-ar[:-1], label=\"Mine\", alpha=0.5)\n",
    "ax.plot(br[1:]-br[:-1], label=\"np\", alpha=0.5)\n",
    "ax.legend()"
   ]
  },
  {
   "cell_type": "markdown",
   "metadata": {
    "heading_collapsed": true
   },
   "source": [
    "# Hollow sphere"
   ]
  },
  {
   "cell_type": "code",
   "execution_count": 200,
   "metadata": {
    "hidden": true
   },
   "outputs": [],
   "source": [
    "sc_dsc = {\n",
    "    \"rays\": [two_d_tracer.Ray([-5, y], [1,0], 400+((y)*100)) for y in np.linspace(0.2,2.4, 5)],\n",
    "    \"objects\": [two_d_tracer.Sphere([0,0], 2.5, None, 1, 1.5), two_d_tracer.Sphere([0,0], 2, None, 1.5, 1)]\n",
    "}\n",
    "scene = two_d_tracer.Scene(**sc_dsc)"
   ]
  },
  {
   "cell_type": "code",
   "execution_count": 201,
   "metadata": {
    "hidden": true
   },
   "outputs": [],
   "source": [
    "scene.run(limit=7)"
   ]
  },
  {
   "cell_type": "code",
   "execution_count": 202,
   "metadata": {
    "hidden": true
   },
   "outputs": [
    {
     "data": {
      "text/plain": [
       "(-5.424716653102247, 3.9190497151471804, -3.49038386343652, 3.6927510883683636)"
      ]
     },
     "execution_count": 202,
     "metadata": {},
     "output_type": "execute_result"
    },
    {
     "data": {
      "image/png": "[encoded data removed]",
      "text/plain": [
       "<Figure size 432x288 with 1 Axes>"
      ]
     },
     "metadata": {
      "needs_background": "light"
     },
     "output_type": "display_data"
    }
   ],
   "source": [
    "fig,ax = plt.subplots()\n",
    "scene.plot(ax, m_quiver=True, m_quiver_kwargs={\"scale\":1e-2})\n",
    "ax.axis(\"equal\")"
   ]
  },
  {
   "cell_type": "code",
   "execution_count": 102,
   "metadata": {
    "hidden": true
   },
   "outputs": [
    {
     "data": {
      "text/plain": [
       "array([ 0.00218686, -0.0009763 ])"
      ]
     },
     "execution_count": 102,
     "metadata": {},
     "output_type": "execute_result"
    }
   ],
   "source": [
    "# The y component is expected to be negative - the hollow sphere is pushed out of the ray.\n",
    "np.sum(scene.momenta, axis=0)"
   ]
  },
  {
   "cell_type": "markdown",
   "metadata": {
    "hidden": true
   },
   "source": [
    "## Inner radius dependence"
   ]
  },
  {
   "cell_type": "code",
   "execution_count": 203,
   "metadata": {
    "hidden": true
   },
   "outputs": [
    {
     "data": {
      "application/vnd.jupyter.widget-view+json": {
       "model_id": "b37cb62152354f11bc7cb39d0b4c0690",
       "version_major": 2,
       "version_minor": 0
      },
      "text/plain": [
       "HBox(children=(FloatProgress(value=0.0, max=25.0), HTML(value='')))"
      ]
     },
     "metadata": {},
     "output_type": "display_data"
    },
    {
     "name": "stdout",
     "output_type": "stream",
     "text": [
      "\n"
     ]
    }
   ],
   "source": [
    "# Uncomment the commented lines to get a progress animation\n",
    "# fig, ax = plt.subplots()\n",
    "mms = []\n",
    "rs = np.linspace(0.1,2.49,25)\n",
    "for r in tqdm(rs):\n",
    "    sc_dsc = {\n",
    "        \"rays\": [two_d_tracer.Ray([-5, y], [1,0]) for y in np.linspace(0,2.4, 100)],\n",
    "        \"objects\": [two_d_tracer.Sphere([0,0], 2.5, None, 1, 1.5), two_d_tracer.Sphere([0,0], r, None, 1.5, 1)]\n",
    "    }\n",
    "    scene = two_d_tracer.Scene(**sc_dsc)\n",
    "    scene.run()\n",
    "    mms.append(np.sum(scene.momenta, axis=0))\n",
    "#     ax.clear()\n",
    "#     scene.plot(ax, m_quiver=False)\n",
    "#     ax.axis(\"equal\")\n",
    "#     fig.canvas.draw()\n",
    "#     sleep(1)\n",
    "mms = np.array(mms)"
   ]
  },
  {
   "cell_type": "code",
   "execution_count": 204,
   "metadata": {
    "hidden": true
   },
   "outputs": [
    {
     "data": {
      "text/plain": [
       "<matplotlib.legend.Legend at 0x7fdae76607d0>"
      ]
     },
     "execution_count": 204,
     "metadata": {},
     "output_type": "execute_result"
    },
    {
     "data": {
      "image/png": "[encoded data removed]",
      "text/plain": [
       "<Figure size 432x288 with 1 Axes>"
      ]
     },
     "metadata": {
      "needs_background": "light"
     },
     "output_type": "display_data"
    }
   ],
   "source": [
    "fig, ax = plt.subplots()\n",
    "ax.plot(rs, mms[:,0], label=\"X\")\n",
    "ax.plot(rs, mms[:,1], label=\"Y\")\n",
    "ax.legend()"
   ]
  },
  {
   "cell_type": "markdown",
   "metadata": {
    "heading_collapsed": true
   },
   "source": [
    "# Parabola"
   ]
  },
  {
   "cell_type": "code",
   "execution_count": 105,
   "metadata": {
    "hidden": true
   },
   "outputs": [],
   "source": [
    "canvas = two_d_tracer.RayCanvas([0,1],[1,0],1)\n",
    "sc_dsc = {\n",
    "    \"rays\": [two_d_tracer.Ray([y, -0.5], [0,1]) for y in np.linspace(-2,2, 21)]+\n",
    "            [two_d_tracer.Ray([y, 4], [0,-1], 600) for y in np.linspace(0.2,1.5, 11)]+\n",
    "            [two_d_tracer.Ray([-4, y+0.3], [1,0], 500) for y in np.linspace(0.2,1.5, 11)]+\n",
    "            [two_d_tracer.Ray([y, 4], [0.01,-1], 700) for y in np.linspace(0.2,1.5, 11)],\n",
    "    \"objects\": [two_d_tracer.ParabolaReflective(1,0,0), two_d_tracer.RayCanvas([0,5],[0,1]), canvas]\n",
    "}\n",
    "scene = two_d_tracer.Scene(**sc_dsc)"
   ]
  },
  {
   "cell_type": "code",
   "execution_count": 106,
   "metadata": {
    "hidden": true
   },
   "outputs": [],
   "source": [
    "scene.run(limit=4)"
   ]
  },
  {
   "cell_type": "code",
   "execution_count": 107,
   "metadata": {
    "hidden": true
   },
   "outputs": [
    {
     "data": {
      "text/plain": [
       "<matplotlib.collections.PathCollection at 0x7fdab7600050>"
      ]
     },
     "execution_count": 107,
     "metadata": {},
     "output_type": "execute_result"
    },
    {
     "data": {
      "image/png": "[encoded data removed]",
      "text/plain": [
       "<Figure size 432x288 with 2 Axes>"
      ]
     },
     "metadata": {
      "needs_background": "light"
     },
     "output_type": "display_data"
    }
   ],
   "source": [
    "fig, ax = plt.subplots(1, 2, gridspec_kw={\"width_ratios\":(3,1)})\n",
    "scene.plot(ax[0])\n",
    "ax[0].axis(\"equal\")\n",
    "ax[0].set_xlim(-2,2)\n",
    "ax[0].set_ylim(-1,5)\n",
    "ax[1].scatter([0 for p in canvas.points], canvas.points, color=canvas.c, marker=\"x\", s=0.2)"
   ]
  },
  {
   "cell_type": "code",
   "execution_count": 108,
   "metadata": {
    "hidden": true
   },
   "outputs": [],
   "source": [
    "sc_dsc = {\n",
    "    \"rays\": [two_d_tracer.Ray([-2, y+0.3], [1,0]) for y in np.linspace(0.2,1.5, 11)]+\n",
    "            [two_d_tracer.Ray([-2, 2.5], [1,0])],\n",
    "    \"objects\": [two_d_tracer.Parabola(1,0,0, [-1.5,1.5], n_in=1.3)]\n",
    "}\n",
    "scene = two_d_tracer.Scene(**sc_dsc)"
   ]
  },
  {
   "cell_type": "code",
   "execution_count": 109,
   "metadata": {
    "hidden": true
   },
   "outputs": [],
   "source": [
    "scene.run()"
   ]
  },
  {
   "cell_type": "code",
   "execution_count": 110,
   "metadata": {
    "hidden": true
   },
   "outputs": [
    {
     "data": {
      "text/plain": [
       "(-4.151734557338313,\n",
       " 2.9017518488471663,\n",
       " -1.1148289963613707,\n",
       " 13.669610000486665)"
      ]
     },
     "execution_count": 110,
     "metadata": {},
     "output_type": "execute_result"
    },
    {
     "data": {
      "image/png": "[encoded data removed]",
      "text/plain": [
       "<Figure size 432x288 with 1 Axes>"
      ]
     },
     "metadata": {
      "needs_background": "light"
     },
     "output_type": "display_data"
    }
   ],
   "source": [
    "fig,ax = plt.subplots()\n",
    "scene.plot(ax)\n",
    "ax.axis(\"equal\")"
   ]
  },
  {
   "cell_type": "markdown",
   "metadata": {
    "heading_collapsed": true
   },
   "source": [
    "# Line segments"
   ]
  },
  {
   "cell_type": "code",
   "execution_count": 111,
   "metadata": {
    "hidden": true
   },
   "outputs": [],
   "source": [
    "sc_dsc = {\n",
    "    \"rays\": [two_d_tracer.Ray([-2, y], [1,0]) for y in np.linspace(-2.5,2.5, 11)],\n",
    "    \"objects\": [two_d_tracer.LineSegment([-2,-1], [2,1],n_in=1.5),\n",
    "                two_d_tracer.LineSegmentReflective([1,-2], [3,-1]),\n",
    "                two_d_tracer.LineSegment([3,1], [1,0], n_in=1.5)]\n",
    "}\n",
    "scene = two_d_tracer.Scene(**sc_dsc)\n",
    "scene.run()"
   ]
  },
  {
   "cell_type": "code",
   "execution_count": 112,
   "metadata": {
    "hidden": true
   },
   "outputs": [
    {
     "data": {
      "text/plain": [
       "(-2.288317859529106, 4.054675050111223, -2.75, 2.75)"
      ]
     },
     "execution_count": 112,
     "metadata": {},
     "output_type": "execute_result"
    },
    {
     "data": {
      "image/png": "[encoded data removed]",
      "text/plain": [
       "<Figure size 432x288 with 1 Axes>"
      ]
     },
     "metadata": {
      "needs_background": "light"
     },
     "output_type": "display_data"
    }
   ],
   "source": [
    "fig, ax = plt.subplots()\n",
    "scene.plot(ax)\n",
    "ax.axis(\"equal\")"
   ]
  },
  {
   "cell_type": "markdown",
   "metadata": {
    "heading_collapsed": true
   },
   "source": [
    "# Prism v2: Line Segment Boogaloo"
   ]
  },
  {
   "cell_type": "markdown",
   "metadata": {
    "hidden": true
   },
   "source": [
    "The results are consistent with the previous implementation"
   ]
  },
  {
   "cell_type": "code",
   "execution_count": 113,
   "metadata": {
    "hidden": true
   },
   "outputs": [],
   "source": [
    "# https://refractiveindex.info/?shelf=3d&book=glass&page=BK7\n",
    "def n_glass(wavelength):\n",
    "    x = wavelength * 1e-3 # The formula below works in micormeters\n",
    "    return (1+1.03961212/(1-0.00600069867/x**2)+0.231792344/(1-0.0200179144/x**2)+1.01046945/(1-103.560653/x**2))**.5\n",
    "    \n",
    "prism_angle = rad(80)/2\n",
    "sc_dsc = {\n",
    "    \"rays\": [two_d_tracer.Ray([-1.5, 0], [1,1], wl) for wl in np.linspace(410,710, 11)],\n",
    "    \"objects\": [two_d_tracer.LineSegment([-2*np.sin(prism_angle),0], [0,2*np.cos(prism_angle)], n_in=n_glass),\n",
    "                two_d_tracer.LineSegment([0,2*np.cos(prism_angle)], [2*np.sin(prism_angle),0], n_in=n_glass),\n",
    "                two_d_tracer.LineSegment([2*np.sin(prism_angle),0], [-2*np.sin(prism_angle),0], n_in=n_glass)]\n",
    "}\n",
    "scene = two_d_tracer.Scene(**sc_dsc)\n",
    "scene.run()"
   ]
  },
  {
   "cell_type": "code",
   "execution_count": 114,
   "metadata": {
    "hidden": true
   },
   "outputs": [
    {
     "data": {
      "text/plain": [
       "(-1.6392787609686539,\n",
       " 1.4248539803417324,\n",
       " -1.1353525691596666,\n",
       " 2.4415815364671634)"
      ]
     },
     "execution_count": 114,
     "metadata": {},
     "output_type": "execute_result"
    },
    {
     "data": {
      "image/png": "[encoded data removed]",
      "text/plain": [
       "<Figure size 432x288 with 1 Axes>"
      ]
     },
     "metadata": {
      "needs_background": "light"
     },
     "output_type": "display_data"
    }
   ],
   "source": [
    "fig, ax = plt.subplots()\n",
    "scene.plot(ax, ray_kwargs={\"lw\":0.7})\n",
    "ax.axis(\"equal\")"
   ]
  },
  {
   "cell_type": "markdown",
   "metadata": {
    "heading_collapsed": true
   },
   "source": [
    "# Object containers"
   ]
  },
  {
   "cell_type": "code",
   "execution_count": 116,
   "metadata": {
    "hidden": true
   },
   "outputs": [],
   "source": [
    "# https://refractiveindex.info/?shelf=3d&book=glass&page=BK7\n",
    "def n_glass(wavelength):\n",
    "    x = wavelength * 1e-3 # The formula below works in micormeters\n",
    "    return (1+1.03961212/(1-0.00600069867/x**2)+0.231792344/(1-0.0200179144/x**2)+1.01046945/(1-103.560653/x**2))**.5\n",
    "    \n",
    "prism_angle = rad(60)/2\n",
    "\n",
    "prism1 = two_d_tracer.ObjectContainer([\n",
    "    two_d_tracer.LineSegment([-2*np.sin(prism_angle),0], [0,2*np.cos(prism_angle)], n_in=n_glass),\n",
    "    two_d_tracer.LineSegment([0,2*np.cos(prism_angle)], [2*np.sin(prism_angle),0], n_in=n_glass),\n",
    "    two_d_tracer.LineSegment([2*np.sin(prism_angle),0], [-2*np.sin(prism_angle),0], n_in=n_glass)\n",
    "])\n",
    "\n",
    "d=1.5\n",
    "prism2 = two_d_tracer.ObjectContainer([\n",
    "    two_d_tracer.LineSegment([-2*np.sin(prism_angle)+d,2*np.cos(prism_angle)], [2*np.sin(prism_angle)+d,2*np.cos(prism_angle)], n_in=n_glass),\n",
    "    two_d_tracer.LineSegment([2*np.sin(prism_angle)+d,2*np.cos(prism_angle)], [d,0], n_in=n_glass),\n",
    "    two_d_tracer.LineSegment([d,0],[-2*np.sin(prism_angle)+d,2*np.cos(prism_angle)], n_in=n_glass),\n",
    "], label=\"Prism 2\")\n",
    "\n",
    "sc_dsc = {\n",
    "    \"rays\": [two_d_tracer.Ray([-1.5, 0], [1,1], wl) for wl in np.linspace(410,710, 5)],\n",
    "    \"objects\": prism1.objects + prism2.objects\n",
    "}\n",
    "scene = two_d_tracer.Scene(**sc_dsc)\n",
    "scene.run()"
   ]
  },
  {
   "cell_type": "code",
   "execution_count": 117,
   "metadata": {
    "hidden": true
   },
   "outputs": [
    {
     "name": "stdout",
     "output_type": "stream",
     "text": [
      "ObjectContainer([Surface([-0.5        0.8660254], [-0.8660254  0.5      ]), Surface([0.5       0.8660254], [0.8660254 0.5      ]), Surface([0. 0.], [ 0. -1.])])\n",
      "\n",
      "Prism 2: ObjectContainer([Surface([1.5        1.73205081], [0. 1.]), Surface([2.        0.8660254], [ 0.8660254 -0.5      ]), Surface([1.        0.8660254], [-0.8660254 -0.5      ])])\n"
     ]
    }
   ],
   "source": [
    "print(prism1)\n",
    "print()\n",
    "print(prism2)"
   ]
  },
  {
   "cell_type": "code",
   "execution_count": 118,
   "metadata": {
    "hidden": true
   },
   "outputs": [
    {
     "data": {
      "text/plain": [
       "(-2.012260614337779,\n",
       " 3.3413839744395393,\n",
       " -1.0225861390120765,\n",
       " 2.7546369468362224)"
      ]
     },
     "execution_count": 118,
     "metadata": {},
     "output_type": "execute_result"
    },
    {
     "data": {
      "image/png": "[encoded data removed]",
      "text/plain": [
       "<Figure size 432x288 with 1 Axes>"
      ]
     },
     "metadata": {
      "needs_background": "light"
     },
     "output_type": "display_data"
    }
   ],
   "source": [
    "fig, ax = plt.subplots()\n",
    "scene.plot(ax, ray_kwargs={\"lw\":0.7}, m_quiver=True)\n",
    "ax.axis(\"equal\")"
   ]
  },
  {
   "cell_type": "code",
   "execution_count": 122,
   "metadata": {
    "hidden": true
   },
   "outputs": [
    {
     "data": {
      "text/plain": [
       "array([-0.00029906,  0.00424485])"
      ]
     },
     "execution_count": 122,
     "metadata": {},
     "output_type": "execute_result"
    }
   ],
   "source": [
    "prism1.momentum"
   ]
  },
  {
   "cell_type": "code",
   "execution_count": 123,
   "metadata": {
    "hidden": true
   },
   "outputs": [
    {
     "data": {
      "text/plain": [
       "array([ 0.00427426, -0.00456054])"
      ]
     },
     "execution_count": 123,
     "metadata": {},
     "output_type": "execute_result"
    }
   ],
   "source": [
    "prism2.momentum"
   ]
  },
  {
   "cell_type": "code",
   "execution_count": 124,
   "metadata": {
    "hidden": true
   },
   "outputs": [
    {
     "data": {
      "text/plain": [
       "array([ 0.0039752 , -0.00031568])"
      ]
     },
     "execution_count": 124,
     "metadata": {},
     "output_type": "execute_result"
    }
   ],
   "source": [
    "scene.momentum"
   ]
  },
  {
   "cell_type": "code",
   "execution_count": 125,
   "metadata": {
    "hidden": true
   },
   "outputs": [
    {
     "data": {
      "text/plain": [
       "array([8.67361738e-19, 1.73472348e-18])"
      ]
     },
     "execution_count": 125,
     "metadata": {},
     "output_type": "execute_result"
    }
   ],
   "source": [
    "scene.momentum - prism1.momentum - prism2.momentum"
   ]
  },
  {
   "cell_type": "markdown",
   "metadata": {
    "heading_collapsed": true
   },
   "source": [
    "# Angular momentum test"
   ]
  },
  {
   "cell_type": "code",
   "execution_count": 126,
   "metadata": {
    "hidden": true
   },
   "outputs": [
    {
     "data": {
      "text/plain": [
       "2.0"
      ]
     },
     "execution_count": 126,
     "metadata": {},
     "output_type": "execute_result"
    }
   ],
   "source": [
    "line = two_d_tracer.LineSegment([-2,0], [2,0])\n",
    "line.momenta = [np.array([0,-1]), np.array([0,1])]\n",
    "line.m_pos = [np.array([-1,0]), np.array([1,0])]\n",
    "line.angular_momentum"
   ]
  },
  {
   "cell_type": "code",
   "execution_count": 127,
   "metadata": {
    "hidden": true
   },
   "outputs": [
    {
     "data": {
      "text/plain": [
       "1.0"
      ]
     },
     "execution_count": 127,
     "metadata": {},
     "output_type": "execute_result"
    }
   ],
   "source": [
    "line = two_d_tracer.LineSegment([-2,0], [2,0])\n",
    "line.momenta = [np.array([0,-1]), np.array([0,1])]\n",
    "line.m_pos = [np.array([-0.5,0]), np.array([0.5,0])]\n",
    "line.angular_momentum"
   ]
  },
  {
   "cell_type": "code",
   "execution_count": 128,
   "metadata": {
    "hidden": true
   },
   "outputs": [
    {
     "data": {
      "text/plain": [
       "2.0"
      ]
     },
     "execution_count": 128,
     "metadata": {},
     "output_type": "execute_result"
    }
   ],
   "source": [
    "line = two_d_tracer.LineSegment([-2,0], [2,0])\n",
    "line.momenta = [np.array([1,-1]), np.array([1,1])]\n",
    "line.m_pos = [np.array([-1,0]), np.array([1,0])]\n",
    "line.angular_momentum"
   ]
  },
  {
   "cell_type": "code",
   "execution_count": 129,
   "metadata": {
    "hidden": true
   },
   "outputs": [
    {
     "data": {
      "text/plain": [
       "-4.0"
      ]
     },
     "execution_count": 129,
     "metadata": {},
     "output_type": "execute_result"
    }
   ],
   "source": [
    "line = two_d_tracer.LineSegment([-2,0], [2,0])\n",
    "line.momenta = [np.array([1,1]), np.array([-1,-1])]\n",
    "line.m_pos = [np.array([-1,1]), np.array([1,-1])]\n",
    "line.angular_momentum"
   ]
  },
  {
   "cell_type": "code",
   "execution_count": 130,
   "metadata": {
    "hidden": true
   },
   "outputs": [
    {
     "data": {
      "image/png": "[encoded data removed]",
      "text/plain": [
       "<Figure size 432x288 with 1 Axes>"
      ]
     },
     "metadata": {
      "needs_background": "light"
     },
     "output_type": "display_data"
    }
   ],
   "source": [
    "scene = two_d_tracer.Scene([], [line])\n",
    "fig, ax = plt.subplots()\n",
    "scene.plot(ax, m_quiver=True)"
   ]
  },
  {
   "cell_type": "markdown",
   "metadata": {
    "heading_collapsed": true
   },
   "source": [
    "# Angular momentum for a sphere"
   ]
  },
  {
   "cell_type": "code",
   "execution_count": 131,
   "metadata": {
    "hidden": true
   },
   "outputs": [],
   "source": [
    "sphere = two_d_tracer.Sphere([0,0], 2.5, None, 1, 1.5)\n",
    "sc_dsc = {\n",
    "    \"rays\": [two_d_tracer.Ray([-5, y], [1,0]) for y in np.linspace(1,2.6, 100)],\n",
    "    \"objects\": [sphere]\n",
    "}\n",
    "scene = two_d_tracer.Scene(**sc_dsc)\n",
    "scene.run()"
   ]
  },
  {
   "cell_type": "code",
   "execution_count": 132,
   "metadata": {
    "hidden": true
   },
   "outputs": [
    {
     "data": {
      "text/plain": [
       "(-5.42198057990622, 3.86159217803062, -3.7738886791772033, 3.7138577595472904)"
      ]
     },
     "execution_count": 132,
     "metadata": {},
     "output_type": "execute_result"
    },
    {
     "data": {
      "image/png": "[encoded data removed]",
      "text/plain": [
       "<Figure size 432x288 with 1 Axes>"
      ]
     },
     "metadata": {
      "needs_background": "light"
     },
     "output_type": "display_data"
    }
   ],
   "source": [
    "fig, ax = plt.subplots()\n",
    "scene.plot(ax, ray_kwargs={\"lw\":0.1}, m_quiver=True)\n",
    "ax.axis(\"equal\")"
   ]
  },
  {
   "cell_type": "code",
   "execution_count": 133,
   "metadata": {
    "hidden": true
   },
   "outputs": [
    {
     "data": {
      "text/plain": [
       "array([0.06919284, 0.08317025])"
      ]
     },
     "execution_count": 133,
     "metadata": {},
     "output_type": "execute_result"
    }
   ],
   "source": [
    "sphere.momentum"
   ]
  },
  {
   "cell_type": "code",
   "execution_count": 134,
   "metadata": {
    "hidden": true
   },
   "outputs": [
    {
     "data": {
      "text/plain": [
       "-2.5423808062762357e-17"
      ]
     },
     "execution_count": 134,
     "metadata": {},
     "output_type": "execute_result"
    }
   ],
   "source": [
    "sphere.angular_momentum"
   ]
  },
  {
   "cell_type": "code",
   "execution_count": 135,
   "metadata": {
    "hidden": true,
    "scrolled": true
   },
   "outputs": [
    {
     "data": {
      "text/plain": [
       "[0.9999999999999998,\n",
       " 0.9999999999999998,\n",
       " 0.9999999999999998,\n",
       " 0.9999999999999998,\n",
       " 0.9999999999999998,\n",
       " 0.9999999999999998,\n",
       " 0.9999999999999998,\n",
       " 0.9999999999999998,\n",
       " 0.9999999999999998,\n",
       " 0.9999999999999998,\n",
       " 0.9999999999999998,\n",
       " 0.9999999999999998,\n",
       " 0.9999999999999998,\n",
       " 0.9999999999999998,\n",
       " 0.9999999999999998,\n",
       " 0.9999999999999998,\n",
       " 0.9999999999999998,\n",
       " 0.9999999999999998,\n",
       " 0.9999999999999998,\n",
       " 0.9999999999999998,\n",
       " 0.9999999999999998,\n",
       " 0.9999999999999998,\n",
       " 0.9999999999999998,\n",
       " 0.9999999999999998,\n",
       " 0.9999999999999998,\n",
       " 0.9999999999999998,\n",
       " 0.9999999999999998,\n",
       " 0.9999999999999998,\n",
       " 0.9999999999999998,\n",
       " 0.9999999999999998,\n",
       " 0.9999999999999998,\n",
       " 0.9999999999999998,\n",
       " 0.9999999999999998,\n",
       " 0.9999999999999998,\n",
       " 0.9999999999999998,\n",
       " 0.9999999999999998,\n",
       " 0.9999999999999998,\n",
       " 0.9999999999999998,\n",
       " 0.9999999999999998,\n",
       " 0.9999999999999998,\n",
       " 0.9999999999999998,\n",
       " 0.9999999999999998,\n",
       " 0.9999999999999998,\n",
       " 0.9999999999999998,\n",
       " 0.9999999999999998,\n",
       " 0.9999999999999998,\n",
       " 0.9999999999999998,\n",
       " 0.9999999999999998,\n",
       " 0.9999999999999998,\n",
       " 0.9999999999999998,\n",
       " 0.9999999999999998,\n",
       " 0.9999999999999998,\n",
       " 0.9999999999999998,\n",
       " 0.9999999999999998,\n",
       " 0.9999999999999998,\n",
       " 0.9999999999999998,\n",
       " 0.9999999999999998,\n",
       " 0.9999999999999998,\n",
       " 0.9999999999999998,\n",
       " 0.9999999999999998,\n",
       " 0.9999999999999998,\n",
       " 0.9999999999999998,\n",
       " 0.9999999999999998,\n",
       " 0.9999999999999998,\n",
       " 0.9999999999999998,\n",
       " 0.9999999999999998,\n",
       " 0.9999999999999998,\n",
       " 0.9999999999999998,\n",
       " 0.9999999999999998,\n",
       " 0.9999999999999998,\n",
       " 0.9999999999999998,\n",
       " 0.9999999999999998,\n",
       " 0.9999999999999998,\n",
       " 0.9999999999999998,\n",
       " 0.9999999999999998,\n",
       " 0.9999999999999998,\n",
       " 0.9999999999999998,\n",
       " 0.9999999999999998,\n",
       " 0.9999999999999998,\n",
       " 0.9999999999999998,\n",
       " 0.9999999999999998,\n",
       " 0.9999999999999998,\n",
       " 0.9999999999999998,\n",
       " 0.9999999999999998,\n",
       " 0.9999999999999998,\n",
       " 0.9999999999999998,\n",
       " 0.9999999999999998,\n",
       " 0.9999999999999998,\n",
       " 0.9999999999999998,\n",
       " 0.9999999999999998,\n",
       " 0.9999999999999998,\n",
       " 0.9999999999999998,\n",
       " 0.9999999999999998,\n",
       " 0.9999999999999998,\n",
       " 0.9999999999999998,\n",
       " 0.9999999999999998,\n",
       " 0.9999999999999998,\n",
       " 0.9999999999999998,\n",
       " 0.9999999999999998,\n",
       " 0.9999999999999998,\n",
       " 0.9999999999999998,\n",
       " 0.9999999999999998,\n",
       " 0.9999999999999998,\n",
       " 0.9999999999999998,\n",
       " 0.9999999999999998,\n",
       " 0.9999999999999998,\n",
       " 0.9999999999999998,\n",
       " 0.9999999999999998,\n",
       " 0.9999999999999998,\n",
       " 0.9999999999999998,\n",
       " 0.9999999999999998,\n",
       " 0.9999999999999998,\n",
       " 0.9999999999999998,\n",
       " 0.9999999999999998,\n",
       " 0.9999999999999998,\n",
       " 0.9999999999999998,\n",
       " 0.9999999999999998,\n",
       " 0.9999999999999998,\n",
       " 0.9999999999999998,\n",
       " 0.9999999999999998,\n",
       " 0.9999999999999998,\n",
       " 0.9999999999999998,\n",
       " 0.9999999999999998,\n",
       " 0.9999999999999998,\n",
       " 0.9999999999999998,\n",
       " 0.9999999999999998,\n",
       " 0.9999999999999998,\n",
       " 0.9999999999999998,\n",
       " 0.9999999999999998,\n",
       " 0.9999999999999998,\n",
       " 0.9999999999999998,\n",
       " 0.9999999999999998,\n",
       " 0.9999999999999998,\n",
       " 0.9999999999999998,\n",
       " 0.9999999999999998,\n",
       " 0.9999999999999998,\n",
       " 0.9999999999999998,\n",
       " 0.9999999999999998,\n",
       " 0.9999999999999998,\n",
       " 0.9999999999999998,\n",
       " 0.9999999999999998,\n",
       " 0.9999999999999998,\n",
       " 0.9999999999999998,\n",
       " 0.9999999999999998,\n",
       " 0.9999999999999998,\n",
       " 0.9999999999999998,\n",
       " 0.9999999999999998,\n",
       " 0.9999999999999998,\n",
       " 0.9999999999999998,\n",
       " 0.9999999999999998,\n",
       " 0.9999999999999998,\n",
       " 0.9999999999999998,\n",
       " 0.9999999999999998,\n",
       " 0.9999999999999998,\n",
       " 0.9999999999999998,\n",
       " 0.9999999999999998,\n",
       " 0.9999999999999998,\n",
       " 0.9999999999999998,\n",
       " 0.9999999999999998,\n",
       " 0.9999999999999998,\n",
       " 0.9999999999999998,\n",
       " 0.9999999999999998,\n",
       " 0.9999999999999998,\n",
       " 0.9999999999999998,\n",
       " 0.9999999999999998,\n",
       " 0.9999999999999998,\n",
       " 0.9999999999999998,\n",
       " 0.9999999999999998,\n",
       " 0.9999999999999998,\n",
       " 0.9999999999999998,\n",
       " 0.9999999999999998,\n",
       " 0.9999999999999998,\n",
       " 0.9999999999999998,\n",
       " 0.9999999999999998,\n",
       " 0.9999999999999998,\n",
       " 0.9999999999999998,\n",
       " 0.9999999999999998,\n",
       " 0.9999999999999998,\n",
       " 0.9999999999999998,\n",
       " 0.9999999999999998,\n",
       " 0.9999999999999998,\n",
       " 0.9999999999999998,\n",
       " 0.9999999999999998,\n",
       " 0.9999999999999998,\n",
       " 0.9999999999999998,\n",
       " 0.9999999999999998,\n",
       " 0.9999999999999998,\n",
       " 0.9999999999999998,\n",
       " 0.9999999999999998,\n",
       " 0.9999999999999998,\n",
       " 0.9999999999999998,\n",
       " 0.9999999999999998,\n",
       " 0.9999999999999998,\n",
       " 0.9999999999999998,\n",
       " 0.9999999999999998,\n",
       " 0.9999999999999998,\n",
       " 0.9999999999999998,\n",
       " 0.9999999999999998,\n",
       " 0.9999999999999998,\n",
       " 0.9999999999999998,\n",
       " 0.9999999999999998,\n",
       " 0.9999999999999998,\n",
       " 0.9999999999999998,\n",
       " 0.9999999999999998,\n",
       " 0.9999999999999998,\n",
       " 0.9999999999999998,\n",
       " 0.9999999999999998,\n",
       " 0.9999999999999998,\n",
       " 0.9999999999999998,\n",
       " 0.9999999999999998,\n",
       " 0.9999999999999998,\n",
       " 0.9999999999999998,\n",
       " 0.9999999999999998,\n",
       " 0.9999999999999998,\n",
       " 0.9999999999999998,\n",
       " 0.9999999999999998,\n",
       " 0.9999999999999998,\n",
       " 0.9999999999999998,\n",
       " 0.9999999999999998,\n",
       " 0.9999999999999998,\n",
       " 0.9999999999999998,\n",
       " 0.9999999999999998,\n",
       " 0.9999999999999998,\n",
       " 0.9999999999999998,\n",
       " 0.9999999999999998,\n",
       " 0.9999999999999998,\n",
       " 0.9999999999999998,\n",
       " 0.9999999999999998,\n",
       " 0.9999999999999998,\n",
       " 0.9999999999999998,\n",
       " 0.9999999999999998,\n",
       " 0.9999999999999998,\n",
       " 0.9999999999999998,\n",
       " 0.9999999999999998,\n",
       " 0.9999999999999998,\n",
       " 0.9999999999999998,\n",
       " 0.9999999999999998,\n",
       " 0.9999999999999998,\n",
       " 0.9999999999999998,\n",
       " 0.9999999999999998,\n",
       " 0.9999999999999998,\n",
       " 0.9999999999999998,\n",
       " 0.9999999999999998,\n",
       " 0.9999999999999998,\n",
       " 0.9999999999999998,\n",
       " 0.9999999999999998,\n",
       " 0.9999999999999998,\n",
       " 0.9999999999999998,\n",
       " 0.9999999999999998,\n",
       " 0.9999999999999998,\n",
       " 0.9999999999999998,\n",
       " 0.9999999999999998,\n",
       " 0.9999999999999998,\n",
       " 0.9999999999999998,\n",
       " 0.9999999999999998,\n",
       " 0.9999999999999998,\n",
       " 0.9999999999999998,\n",
       " 0.9999999999999998,\n",
       " 0.9999999999999998,\n",
       " 0.9999999999999998,\n",
       " 0.9999999999999998,\n",
       " 0.9999999999999998,\n",
       " 0.9999999999999998,\n",
       " 0.9999999999999998,\n",
       " 0.9999999999999998,\n",
       " 0.9999999999999998,\n",
       " 0.9999999999999998,\n",
       " 0.9999999999999998,\n",
       " 0.9999999999999998,\n",
       " 0.9999999999999998,\n",
       " 0.9999999999999998,\n",
       " 0.9999999999999998,\n",
       " 0.9999999999999998,\n",
       " 0.9999999999999998,\n",
       " 0.9999999999999998,\n",
       " 0.9999999999999998,\n",
       " 0.9999999999999998,\n",
       " 0.9999999999999998,\n",
       " 0.9999999999999998,\n",
       " 0.9999999999999998,\n",
       " 0.9999999999999998,\n",
       " 0.9999999999999998,\n",
       " 0.9999999999999998,\n",
       " 0.9999999999999998,\n",
       " 0.9999999999999998,\n",
       " 0.9999999999999998,\n",
       " 0.9999999999999998,\n",
       " 0.9999999999999998,\n",
       " 0.9999999999999998,\n",
       " 0.9999999999999998,\n",
       " 0.9999999999999998,\n",
       " 0.9999999999999998,\n",
       " 0.9999999999999998,\n",
       " 0.9999999999999998,\n",
       " 0.9999999999999998,\n",
       " 0.9999999999999998,\n",
       " 0.9999999999999998,\n",
       " 0.9999999999999998,\n",
       " 0.9999999999999998,\n",
       " 0.9999999999999998,\n",
       " 0.9999999999999998,\n",
       " 0.9999999999999998,\n",
       " 0.9999999999999998,\n",
       " 0.9999999999999998,\n",
       " 0.9999999999999998,\n",
       " 0.9999999999999998,\n",
       " 0.9999999999999998,\n",
       " 0.9999999999999998,\n",
       " 0.9999999999999998,\n",
       " 0.9999999999999998,\n",
       " 0.9999999999999998,\n",
       " 0.9999999999999998,\n",
       " 0.9999999999999998,\n",
       " 0.9999999999999998,\n",
       " 0.9999999999999998,\n",
       " 0.9999999999999998,\n",
       " 0.9999999999999998,\n",
       " 0.9999999999999998,\n",
       " 0.9999999999999998,\n",
       " 0.9999999999999998,\n",
       " 0.9999999999999998,\n",
       " 0.9999999999999998,\n",
       " 0.9999999999999998,\n",
       " 0.9999999999999998,\n",
       " 0.9999999999999998,\n",
       " 0.9999999999999998,\n",
       " 0.9999999999999998,\n",
       " 0.9999999999999998,\n",
       " 0.9999999999999998,\n",
       " 0.9999999999999998,\n",
       " 0.9999999999999998,\n",
       " 0.9999999999999998,\n",
       " 0.9999999999999998,\n",
       " 0.9999999999999998,\n",
       " 0.9999999999999998,\n",
       " 0.9999999999999998,\n",
       " 0.9999999999999998,\n",
       " 0.9999999999999998,\n",
       " 0.9999999999999998,\n",
       " 0.9999999999999998,\n",
       " 0.9999999999999998,\n",
       " 0.9999999999999998,\n",
       " 0.9999999999999998,\n",
       " 0.9999999999999998,\n",
       " 0.9999999999999998,\n",
       " 0.9999999999999998,\n",
       " 0.9999999999999998,\n",
       " 0.9999999999999998,\n",
       " 0.9999999999999998,\n",
       " 0.9999999999999998,\n",
       " 0.9999999999999998,\n",
       " 0.9999999999999998,\n",
       " 0.9999999999999998,\n",
       " 0.9999999999999998,\n",
       " 0.9999999999999998,\n",
       " 0.9999999999999998,\n",
       " 0.9999999999999998,\n",
       " 0.9999999999999998,\n",
       " 0.9999999999999998,\n",
       " 0.9999999999999998,\n",
       " 0.9999999999999998,\n",
       " 0.9999999999999998,\n",
       " 0.9999999999999998,\n",
       " 0.9999999999999998,\n",
       " 0.9999999999999998,\n",
       " 0.9999999999999998,\n",
       " 0.9999999999999998,\n",
       " 0.9999999999999998,\n",
       " 0.9999999999999998,\n",
       " 0.9999999999999998,\n",
       " 0.9999999999999998,\n",
       " 0.9999999999999998,\n",
       " 0.9999999999999998,\n",
       " 0.9999999999999998,\n",
       " 0.9999999999999998,\n",
       " 0.9999999999999998,\n",
       " 0.9999999999999998,\n",
       " 0.9999999999999998,\n",
       " 0.9999999999999998,\n",
       " 0.9999999999999998,\n",
       " 0.9999999999999998,\n",
       " 0.9999999999999998,\n",
       " 0.9999999999999998,\n",
       " 0.9999999999999998,\n",
       " 0.9999999999999998,\n",
       " 0.9999999999999998,\n",
       " 0.9999999999999998,\n",
       " 0.9999999999999998,\n",
       " 0.9999999999999998,\n",
       " 0.9999999999999998,\n",
       " 0.9999999999999998,\n",
       " 0.9999999999999998,\n",
       " 0.9999999999999998,\n",
       " 0.9999999999999998,\n",
       " 0.9999999999999998,\n",
       " 0.9999999999999998,\n",
       " 0.9999999999999998,\n",
       " 0.9999999999999998,\n",
       " 0.9999999999999998,\n",
       " 0.9999999999999998,\n",
       " 0.9999999999999998,\n",
       " 0.9999999999999998,\n",
       " 0.9999999999999998,\n",
       " 0.9999999999999998,\n",
       " 0.9999999999999998,\n",
       " 0.9999999999999998,\n",
       " 0.9999999999999998,\n",
       " 0.9999999999999998,\n",
       " 0.9999999999999998,\n",
       " 0.9999999999999998,\n",
       " 0.9999999999999998,\n",
       " 0.9999999999999998,\n",
       " 0.9999999999999998,\n",
       " 0.9999999999999998,\n",
       " 0.9999999999999998,\n",
       " 0.9999999999999998,\n",
       " 0.9999999999999998,\n",
       " 0.9999999999999998,\n",
       " 0.9999999999999998,\n",
       " 0.9999999999999998,\n",
       " 0.9999999999999998,\n",
       " 0.9999999999999998,\n",
       " 0.9999999999999998,\n",
       " 0.9999999999999998,\n",
       " 0.9999999999999998,\n",
       " 0.9999999999999998,\n",
       " 0.9999999999999998,\n",
       " 0.9999999999999998,\n",
       " 0.9999999999999998,\n",
       " 0.9999999999999998,\n",
       " 0.9999999999999998,\n",
       " 0.9999999999999998,\n",
       " 0.9999999999999998,\n",
       " 0.9999999999999998,\n",
       " 0.9999999999999998,\n",
       " 0.9999999999999998,\n",
       " 0.9999999999999998,\n",
       " 0.9999999999999998,\n",
       " 0.9999999999999998,\n",
       " 0.9999999999999998,\n",
       " 0.9999999999999998,\n",
       " 0.9999999999999998,\n",
       " 0.9999999999999998,\n",
       " 0.9999999999999998,\n",
       " 0.9999999999999998,\n",
       " 0.9999999999999998,\n",
       " 0.9999999999999998,\n",
       " 0.9999999999999998,\n",
       " 0.9999999999999998,\n",
       " 0.9999999999999998,\n",
       " 0.9999999999999998,\n",
       " 0.9999999999999998,\n",
       " 0.9999999999999998,\n",
       " 0.9999999999999998,\n",
       " 0.9999999999999998,\n",
       " 0.9999999999999998,\n",
       " 0.9999999999999998,\n",
       " 0.9999999999999998,\n",
       " 0.9999999999999998,\n",
       " 0.9999999999999998,\n",
       " 0.9999999999999998,\n",
       " 0.9999999999999998,\n",
       " 0.9999999999999998,\n",
       " 0.9999999999999998,\n",
       " 0.9999999999999998,\n",
       " 0.9999999999999998,\n",
       " 0.9999999999999998,\n",
       " 0.9999999999999998,\n",
       " 0.9999999999999998,\n",
       " 0.9999999999999998,\n",
       " 0.9999999999999998,\n",
       " 0.9999999999999998,\n",
       " 0.9999999999999998,\n",
       " 0.9999999999999998,\n",
       " 0.9999999999999998,\n",
       " 0.9999999999999998,\n",
       " 0.9999999999999998,\n",
       " 0.9999999999999998,\n",
       " 0.9999999999999998,\n",
       " 0.9999999999999998,\n",
       " 0.9999999999999998,\n",
       " 0.9999999999999998,\n",
       " 0.9999999999999998,\n",
       " 0.9999999999999998,\n",
       " 0.9999999999999998,\n",
       " 0.9999999999999998,\n",
       " 0.9999999999999998,\n",
       " 0.9999999999999998,\n",
       " 0.9999999999999998,\n",
       " 0.9999999999999998,\n",
       " 0.9999999999999998,\n",
       " 0.9999999999999998,\n",
       " 0.9999999999999998,\n",
       " 0.9999999999999998,\n",
       " 0.9999999999999998,\n",
       " 0.9999999999999998,\n",
       " 0.9999999999999998,\n",
       " 0.9999999999999998,\n",
       " 0.9999999999999998,\n",
       " 0.9999999999999998,\n",
       " 0.9999999999999998,\n",
       " 0.9999999999999998,\n",
       " 0.9999999999999998,\n",
       " 0.9999999999999998,\n",
       " 0.9999999999999998,\n",
       " 0.9999999999999998,\n",
       " 0.9999999999999998,\n",
       " 0.9999999999999998,\n",
       " 0.9999999999999998,\n",
       " 0.9999999999999998,\n",
       " 0.9999999999999998,\n",
       " 0.9999999999999998,\n",
       " 0.9999999999999998,\n",
       " 0.9999999999999998,\n",
       " 0.9999999999999998,\n",
       " 0.9999999999999998,\n",
       " 0.9999999999999998,\n",
       " 0.9999999999999998,\n",
       " 0.9999999999999998,\n",
       " 0.9999999999999998,\n",
       " 0.9999999999999998,\n",
       " 0.9999999999999998,\n",
       " 0.9999999999999998,\n",
       " 0.9999999999999998,\n",
       " 0.9999999999999998,\n",
       " 0.9999999999999998,\n",
       " 0.9999999999999998,\n",
       " 0.9999999999999998,\n",
       " 0.9999999999999998,\n",
       " 0.9999999999999998,\n",
       " 0.9999999999999998,\n",
       " 0.9999999999999998,\n",
       " 0.9999999999999998,\n",
       " 0.9999999999999998,\n",
       " 0.9999999999999998,\n",
       " 0.9999999999999998,\n",
       " 0.9999999999999998,\n",
       " 0.9999999999999998,\n",
       " 0.9999999999999998,\n",
       " 0.9999999999999998,\n",
       " 0.9999999999999998,\n",
       " 0.9999999999999998,\n",
       " 0.9999999999999998,\n",
       " 0.9999999999999998,\n",
       " 0.9999999999999998,\n",
       " 0.9999999999999998,\n",
       " 0.9999999999999998,\n",
       " 0.9999999999999998,\n",
       " 0.9999999999999998,\n",
       " 0.9999999999999998,\n",
       " 0.9999999999999998,\n",
       " 0.9999999999999998,\n",
       " 0.9999999999999998,\n",
       " 0.9999999999999998,\n",
       " 0.9999999999999998,\n",
       " 0.9999999999999998,\n",
       " 0.9999999999999998,\n",
       " 0.9999999999999998,\n",
       " 0.9999999999999998,\n",
       " 0.9999999999999998,\n",
       " 0.9999999999999998,\n",
       " 0.9999999999999998,\n",
       " 0.9999999999999998,\n",
       " 0.9999999999999998,\n",
       " 0.9999999999999998,\n",
       " 0.9999999999999998,\n",
       " 0.9999999999999998,\n",
       " 0.9999999999999998,\n",
       " 0.9999999999999998,\n",
       " 0.9999999999999998,\n",
       " 0.9999999999999998,\n",
       " 0.9999999999999998,\n",
       " 0.9999999999999998,\n",
       " 0.9999999999999998,\n",
       " 0.9999999999999998,\n",
       " 0.9999999999999998,\n",
       " 0.9999999999999998,\n",
       " 0.9999999999999998,\n",
       " 0.9999999999999998,\n",
       " 0.9999999999999998,\n",
       " 0.9999999999999998,\n",
       " 0.9999999999999998,\n",
       " 0.9999999999999998,\n",
       " 0.9999999999999998,\n",
       " 0.9999999999999998,\n",
       " 0.9999999999999998,\n",
       " 0.9999999999999998,\n",
       " 0.9999999999999998,\n",
       " 0.9999999999999998,\n",
       " 0.9999999999999998,\n",
       " 0.9999999999999998,\n",
       " 0.9999999999999998,\n",
       " 0.9999999999999998,\n",
       " 0.9999999999999998,\n",
       " 0.9999999999999998,\n",
       " 0.9999999999999998,\n",
       " 0.9999999999999998,\n",
       " 0.9999999999999998,\n",
       " 0.9999999999999998,\n",
       " 0.9999999999999998,\n",
       " 0.9999999999999998,\n",
       " 0.9999999999999998,\n",
       " 0.9999999999999998,\n",
       " 0.9999999999999998,\n",
       " 0.9999999999999998,\n",
       " 0.9999999999999998,\n",
       " 0.9999999999999998,\n",
       " 0.9999999999999998,\n",
       " 0.9999999999999998,\n",
       " 0.9999999999999998,\n",
       " 0.9999999999999998,\n",
       " 0.9999999999999998,\n",
       " 0.9999999999999998,\n",
       " 0.9999999999999998,\n",
       " 0.9999999999999998,\n",
       " 0.9999999999999998,\n",
       " 0.9999999999999998,\n",
       " 0.9999999999999998,\n",
       " 0.9999999999999998,\n",
       " 0.9999999999999998,\n",
       " 0.9999999999999998,\n",
       " 0.9999999999999998,\n",
       " 0.9999999999999998,\n",
       " 0.9999999999999998,\n",
       " 0.9999999999999998,\n",
       " 0.9999999999999998,\n",
       " 0.9999999999999998,\n",
       " 0.9999999999999998,\n",
       " 0.9999999999999998,\n",
       " 0.9999999999999998,\n",
       " 0.9999999999999998,\n",
       " 0.9999999999999998,\n",
       " 0.9999999999999998,\n",
       " 0.9999999999999998,\n",
       " 0.9999999999999998,\n",
       " 0.9999999999999998,\n",
       " 0.9999999999999998,\n",
       " 0.9999999999999998,\n",
       " 0.9999999999999998,\n",
       " 0.9999999999999998,\n",
       " 0.9999999999999998,\n",
       " 0.9999999999999998,\n",
       " 0.9999999999999998,\n",
       " 0.9999999999999998,\n",
       " 0.9999999999999998,\n",
       " 0.9999999999999998,\n",
       " 0.9999999999999998,\n",
       " 0.9999999999999998,\n",
       " 0.9999999999999998,\n",
       " 0.9999999999999998,\n",
       " 0.9999999999999998,\n",
       " 0.9999999999999998,\n",
       " 0.9999999999999998,\n",
       " 0.9999999999999998,\n",
       " 0.9999999999999998,\n",
       " 0.9999999999999998,\n",
       " 0.9999999999999998,\n",
       " 0.9999999999999998,\n",
       " 0.9999999999999998,\n",
       " 0.9999999999999998,\n",
       " 0.9999999999999998,\n",
       " 0.9999999999999998,\n",
       " 0.9999999999999998,\n",
       " 0.9999999999999998,\n",
       " 0.9999999999999998,\n",
       " 0.9999999999999998,\n",
       " 0.9999999999999998,\n",
       " 0.9999999999999998,\n",
       " 0.9999999999999998,\n",
       " 0.9999999999999998,\n",
       " 0.9999999999999998,\n",
       " 0.9999999999999998,\n",
       " 0.9999999999999998,\n",
       " 0.9999999999999998,\n",
       " 0.9999999999999998,\n",
       " 0.9999999999999998,\n",
       " 0.9999999999999998,\n",
       " 0.9999999999999998,\n",
       " 0.9999999999999998,\n",
       " 0.9999999999999998,\n",
       " 0.9999999999999998,\n",
       " 0.9999999999999998,\n",
       " 0.9999999999999998,\n",
       " 0.9999999999999998,\n",
       " 0.9999999999999998,\n",
       " 0.9999999999999998,\n",
       " 0.9999999999999998,\n",
       " 0.9999999999999998,\n",
       " 0.9999999999999998,\n",
       " 0.9999999999999998,\n",
       " 0.9999999999999998,\n",
       " 0.9999999999999998,\n",
       " 0.9999999999999998,\n",
       " 0.9999999999999998,\n",
       " 0.9999999999999998,\n",
       " 0.9999999999999998,\n",
       " 0.9999999999999998,\n",
       " 0.9999999999999998,\n",
       " 0.9999999999999998,\n",
       " 0.9999999999999998,\n",
       " 0.9999999999999998,\n",
       " 0.9999999999999998,\n",
       " 0.9999999999999998,\n",
       " 0.9999999999999998,\n",
       " 0.9999999999999998,\n",
       " 0.9999999999999998,\n",
       " 0.9999999999999998,\n",
       " 0.9999999999999998,\n",
       " 0.9999999999999998,\n",
       " 0.9999999999999998,\n",
       " 0.9999999999999998,\n",
       " 0.9999999999999998,\n",
       " 0.9999999999999998,\n",
       " 0.9999999999999998,\n",
       " 0.9999999999999998,\n",
       " 0.9999999999999998,\n",
       " 0.9999999999999998,\n",
       " 0.9999999999999998,\n",
       " 0.9999999999999998,\n",
       " 0.9999999999999998,\n",
       " 0.9999999999999998,\n",
       " 0.9999999999999998,\n",
       " 0.9999999999999998,\n",
       " 0.9999999999999998,\n",
       " 0.9999999999999998,\n",
       " 0.9999999999999998,\n",
       " 0.9999999999999998,\n",
       " 0.9999999999999998,\n",
       " 0.9999999999999998,\n",
       " 0.9999999999999998,\n",
       " 0.9999999999999998,\n",
       " 0.9999999999999998,\n",
       " 0.9999999999999998,\n",
       " 0.9999999999999998,\n",
       " 0.9999999999999998,\n",
       " 0.9999999999999998,\n",
       " 0.9999999999999998,\n",
       " 0.9999999999999998,\n",
       " 0.9999999999999998,\n",
       " 0.9999999999999998,\n",
       " 0.9999999999999998,\n",
       " 0.9999999999999998,\n",
       " 0.9999999999999998,\n",
       " 0.9999999999999998,\n",
       " 0.9999999999999998,\n",
       " 0.9999999999999998,\n",
       " 0.9999999999999998,\n",
       " 0.9999999999999998,\n",
       " 0.9999999999999998,\n",
       " 0.9999999999999998,\n",
       " 0.9999999999999998,\n",
       " 0.9999999999999998,\n",
       " 0.9999999999999998,\n",
       " 0.9999999999999998,\n",
       " 0.9999999999999998,\n",
       " 0.9999999999999998,\n",
       " 0.9999999999999998,\n",
       " 0.9999999999999998,\n",
       " 0.9999999999999998,\n",
       " 0.9999999999999998,\n",
       " 0.9999999999999998,\n",
       " 0.9999999999999998,\n",
       " 0.9999999999999998,\n",
       " 0.9999999999999998,\n",
       " 0.9999999999999998,\n",
       " 0.9999999999999998,\n",
       " 0.9999999999999998,\n",
       " 0.9999999999999998,\n",
       " 0.9999999999999998,\n",
       " 0.9999999999999998,\n",
       " 0.9999999999999998,\n",
       " 0.9999999999999998,\n",
       " 0.9999999999999998,\n",
       " 0.9999999999999998,\n",
       " 0.9999999999999998,\n",
       " 0.9999999999999998,\n",
       " 0.9999999999999998,\n",
       " 0.9999999999999998,\n",
       " 0.9999999999999998,\n",
       " 0.9999999999999998,\n",
       " 0.9999999999999998,\n",
       " 0.9999999999999998,\n",
       " 0.9999999999999998,\n",
       " 0.9999999999999998,\n",
       " 0.9999999999999998,\n",
       " 0.9999999999999998,\n",
       " 0.9999999999999998,\n",
       " 0.9999999999999998,\n",
       " 0.9999999999999998,\n",
       " 0.9999999999999998,\n",
       " 0.9999999999999998,\n",
       " 0.9999999999999998,\n",
       " 0.9999999999999998,\n",
       " 0.9999999999999998,\n",
       " 0.9999999999999998,\n",
       " 0.9999999999999998,\n",
       " 0.9999999999999998,\n",
       " 0.9999999999999998,\n",
       " 0.9999999999999998,\n",
       " 0.9999999999999998,\n",
       " 0.9999999999999998,\n",
       " 0.9999999999999998,\n",
       " 0.9999999999999998,\n",
       " 0.9999999999999998,\n",
       " 0.9999999999999998,\n",
       " 0.9999999999999998,\n",
       " 0.9999999999999998,\n",
       " 0.9999999999999998,\n",
       " 0.9999999999999998,\n",
       " 0.9999999999999998,\n",
       " 0.9999999999999998,\n",
       " 0.9999999999999998,\n",
       " 0.9999999999999998,\n",
       " 0.9999999999999998,\n",
       " 0.9999999999999998,\n",
       " 0.9999999999999998,\n",
       " 0.9999999999999998,\n",
       " 0.9999999999999998,\n",
       " 0.9999999999999998,\n",
       " 0.9999999999999998,\n",
       " 0.9999999999999998,\n",
       " 0.9999999999999998,\n",
       " 0.9999999999999998,\n",
       " 0.9999999999999998,\n",
       " 0.9999999999999998,\n",
       " 0.9999999999999998,\n",
       " 0.9999999999999998,\n",
       " 0.9999999999999998,\n",
       " 0.9999999999999998,\n",
       " 0.9999999999999998,\n",
       " 0.9999999999999998,\n",
       " 0.9999999999999998,\n",
       " 0.9999999999999998,\n",
       " 0.9999999999999998,\n",
       " 0.9999999999999998,\n",
       " 0.9999999999999998,\n",
       " 0.9999999999999998,\n",
       " 0.9999999999999998,\n",
       " 0.9999999999999998,\n",
       " 0.9999999999999998,\n",
       " 0.9999999999999998,\n",
       " 0.9999999999999998,\n",
       " 0.9999999999999998,\n",
       " 0.9999999999999998,\n",
       " 0.9999999999999998,\n",
       " 0.9999999999999998,\n",
       " 0.9999999999999998,\n",
       " 0.9999999999999998,\n",
       " 0.9999999999999998,\n",
       " 0.9999999999999998,\n",
       " 0.9999999999999998,\n",
       " 0.9999999999999998,\n",
       " 0.9999999999999998,\n",
       " 0.9999999999999998,\n",
       " 0.9999999999999998,\n",
       " 0.9999999999999998,\n",
       " 0.9999999999999998,\n",
       " 0.9999999999999998,\n",
       " 0.9999999999999998,\n",
       " 0.9999999999999998,\n",
       " 0.9999999999999998,\n",
       " 0.9999999999999998,\n",
       " 0.9999999999999998,\n",
       " 0.9999999999999998,\n",
       " 0.9999999999999998,\n",
       " 0.9999999999999998,\n",
       " 0.9999999999999998,\n",
       " 0.9999999999999998,\n",
       " 0.9999999999999998,\n",
       " 0.9999999999999998,\n",
       " 0.9999999999999998,\n",
       " 0.9999999999999998,\n",
       " 0.9999999999999998,\n",
       " 0.9999999999999998,\n",
       " 0.9999999999999998,\n",
       " 0.9999999999999998,\n",
       " 0.9999999999999998,\n",
       " 0.9999999999999998,\n",
       " 0.9999999999999998,\n",
       " 0.9999999999999998,\n",
       " 0.9999999999999998,\n",
       " 0.9999999999999998,\n",
       " 0.9999999999999998,\n",
       " 0.9999999999999998,\n",
       " 0.9999999999999998,\n",
       " 0.9999999999999998,\n",
       " 0.9999999999999998,\n",
       " 0.9999999999999998,\n",
       " 0.9999999999999998,\n",
       " 0.9999999999999998,\n",
       " 0.9999999999999998,\n",
       " 0.9999999999999998,\n",
       " 0.9999999999999998,\n",
       " 0.9999999999999998,\n",
       " 0.9999999999999998,\n",
       " 0.9999999999999998,\n",
       " 0.9999999999999998,\n",
       " 0.9999999999999998,\n",
       " 0.9999999999999998,\n",
       " 0.9999999999999998,\n",
       " 0.9999999999999998,\n",
       " 0.9999999999999998,\n",
       " 0.9999999999999998,\n",
       " 0.9999999999999998,\n",
       " 0.9999999999999998,\n",
       " 0.9999999999999998,\n",
       " 0.9999999999999998,\n",
       " 0.9999999999999998,\n",
       " 0.9999999999999998,\n",
       " 0.9999999999999998,\n",
       " 0.9999999999999998,\n",
       " 0.9999999999999998,\n",
       " 0.9999999999999998,\n",
       " 0.9999999999999998,\n",
       " 0.9999999999999998,\n",
       " 0.9999999999999998,\n",
       " 0.9999999999999998,\n",
       " 0.9999999999999998,\n",
       " 0.9999999999999998,\n",
       " 0.9999999999999998,\n",
       " 0.9999999999999998,\n",
       " 0.9999999999999998,\n",
       " 0.9999999999999998,\n",
       " 0.9999999999999998,\n",
       " 0.9999999999999998,\n",
       " 0.9999999999999998,\n",
       " 0.9999999999999998,\n",
       " 0.9999999999999998,\n",
       " 0.9999999999999998,\n",
       " 0.9999999999999998,\n",
       " 0.9999999999999998,\n",
       " 0.9999999999999998,\n",
       " 0.9999999999999998,\n",
       " 0.9999999999999998,\n",
       " 0.9999999999999998,\n",
       " 0.9999999999999998,\n",
       " 0.9999999999999998,\n",
       " 0.9999999999999998,\n",
       " 0.9999999999999998,\n",
       " 0.9999999999999998,\n",
       " 0.9999999999999998,\n",
       " 0.9999999999999998,\n",
       " 0.9999999999999998,\n",
       " 0.9999999999999998,\n",
       " 0.9999999999999998,\n",
       " 0.9999999999999998,\n",
       " 0.9999999999999998,\n",
       " 0.9999999999999998,\n",
       " 0.9999999999999998,\n",
       " 0.9999999999999998,\n",
       " 0.9999999999999998,\n",
       " 0.9999999999999998,\n",
       " 0.9999999999999998,\n",
       " 0.9999999999999998,\n",
       " 0.9999999999999998,\n",
       " 0.9999999999999998,\n",
       " 0.9999999999999998,\n",
       " 0.9999999999999998,\n",
       " 0.9999999999999998,\n",
       " 0.9999999999999998,\n",
       " 0.9999999999999998,\n",
       " 0.9999999999999998,\n",
       " 0.9999999999999998,\n",
       " 0.9999999999999998,\n",
       " 0.9999999999999998,\n",
       " 0.9999999999999998,\n",
       " 0.9999999999999998,\n",
       " 0.9999999999999998,\n",
       " 0.9999999999999998,\n",
       " 0.9999999999999998,\n",
       " 0.9999999999999998,\n",
       " 0.9999999999999998,\n",
       " 0.9999999999999998,\n",
       " 0.9999999999999998,\n",
       " 0.9999999999999998,\n",
       " 0.9999999999999998,\n",
       " 0.9999999999999998,\n",
       " 0.9999999999999998,\n",
       " 0.9999999999999998,\n",
       " 0.9999999999999998,\n",
       " 0.9999999999999998,\n",
       " 0.9999999999999998,\n",
       " 0.9999999999999998,\n",
       " 0.9999999999999998,\n",
       " 0.9999999999999998,\n",
       " 0.9999999999999998,\n",
       " 0.9999999999999998,\n",
       " 0.9999999999999998,\n",
       " 0.9999999999999998,\n",
       " 0.9999999999999998,\n",
       " 0.9999999999999998,\n",
       " 0.9999999999999998,\n",
       " 0.9999999999999998,\n",
       " 0.9999999999999998,\n",
       " 0.9999999999999998,\n",
       " 0.9999999999999998,\n",
       " 0.9999999999999998,\n",
       " 0.9999999999999998,\n",
       " 0.9999999999999998,\n",
       " 0.9999999999999998,\n",
       " ...]"
      ]
     },
     "execution_count": 135,
     "metadata": {},
     "output_type": "execute_result"
    }
   ],
   "source": [
    "# The momentum and normal are parallel, but not quite\n",
    "[np.dot(sphere.m_pos[0],sphere.momenta[0])/np.linalg.norm(sphere.m_pos[0])/np.linalg.norm(sphere.momenta[0]) for i in range(len(sphere.momenta))]"
   ]
  },
  {
   "cell_type": "markdown",
   "metadata": {
    "heading_collapsed": true
   },
   "source": [
    "# Angular momentum for a mirror"
   ]
  },
  {
   "cell_type": "code",
   "execution_count": 136,
   "metadata": {
    "hidden": true
   },
   "outputs": [],
   "source": [
    "mirror = two_d_tracer.SurfaceReflective([0,0], [-1, 0])\n",
    "sc_dsc = {\n",
    "    \"rays\": [two_d_tracer.Ray([-2, y], [1,0.5]) for y in np.linspace(1,2.6, 25)],\n",
    "    \"objects\": [mirror]\n",
    "}\n",
    "scene = two_d_tracer.Scene(**sc_dsc)\n",
    "scene.run()"
   ]
  },
  {
   "cell_type": "code",
   "execution_count": 137,
   "metadata": {
    "hidden": true
   },
   "outputs": [
    {
     "data": {
      "text/plain": [
       "(-2.1, 0.1, -1.25236067977947, 4.2995742753688715)"
      ]
     },
     "execution_count": 137,
     "metadata": {},
     "output_type": "execute_result"
    },
    {
     "data": {
      "image/png": "[encoded data removed]",
      "text/plain": [
       "<Figure size 432x288 with 1 Axes>"
      ]
     },
     "metadata": {
      "needs_background": "light"
     },
     "output_type": "display_data"
    }
   ],
   "source": [
    "fig, ax = plt.subplots()\n",
    "scene.plot(ax)\n",
    "ax.axis(\"equal\")"
   ]
  },
  {
   "cell_type": "code",
   "execution_count": 138,
   "metadata": {
    "hidden": true
   },
   "outputs": [
    {
     "data": {
      "text/plain": [
       "-0.2681366311348784"
      ]
     },
     "execution_count": 138,
     "metadata": {},
     "output_type": "execute_result"
    }
   ],
   "source": [
    "mirror.angular_momentum"
   ]
  },
  {
   "cell_type": "markdown",
   "metadata": {
    "heading_collapsed": true
   },
   "source": [
    "# Random ray bundles"
   ]
  },
  {
   "cell_type": "markdown",
   "metadata": {
    "hidden": true
   },
   "source": [
    "## Basic distribution test"
   ]
  },
  {
   "cell_type": "code",
   "execution_count": 139,
   "metadata": {
    "hidden": true
   },
   "outputs": [],
   "source": [
    "bundle = two_d_tracer.RandomRayBundle([0,0], [0,1], 10000, 1, 600, two_d_tracer.gaussian_randoms_factory(1), two_d_tracer.random_sign, label=\"Test bundle\")"
   ]
  },
  {
   "cell_type": "code",
   "execution_count": 140,
   "metadata": {
    "hidden": true
   },
   "outputs": [
    {
     "name": "stdout",
     "output_type": "stream",
     "text": [
      "Test bundle: RandomRayBundle(10000 rays)\n"
     ]
    }
   ],
   "source": [
    "print(bundle)"
   ]
  },
  {
   "cell_type": "code",
   "execution_count": 141,
   "metadata": {
    "hidden": true
   },
   "outputs": [
    {
     "data": {
      "image/png": "[encoded data removed]",
      "text/plain": [
       "<Figure size 432x288 with 1 Axes>"
      ]
     },
     "metadata": {
      "needs_background": "light"
     },
     "output_type": "display_data"
    }
   ],
   "source": [
    "fig, ax = plt.subplots()\n",
    "ax.hist([ray.origin[0] for ray in bundle.rays], bins=100)\n",
    "plt.show()"
   ]
  },
  {
   "cell_type": "code",
   "execution_count": 142,
   "metadata": {
    "hidden": true
   },
   "outputs": [],
   "source": [
    "canvas = two_d_tracer.RayCanvas([-2,0], [-1,0])\n",
    "sc_dsc = {\n",
    "    \"rays\": two_d_tracer.RandomRayBundle([0,1.5], [0,-1], 100, 1, 600, two_d_tracer.gaussian_randoms_factory(0.5), two_d_tracer.random_sign).rays,\n",
    "    \"objects\": [two_d_tracer.SurfaceReflective([0,0], [-1,1], radius=1),\n",
    "                canvas]\n",
    "}\n",
    "scene = two_d_tracer.Scene(**sc_dsc)\n",
    "scene.run()"
   ]
  },
  {
   "cell_type": "code",
   "execution_count": 143,
   "metadata": {
    "hidden": true
   },
   "outputs": [
    {
     "data": {
      "text/plain": [
       "(array([ 5.,  6., 13.,  9., 11., 17., 20., 13.,  3.,  2.]),\n",
       " array([-0.52562104, -0.42284462, -0.32006819, -0.21729177, -0.11451534,\n",
       "        -0.01173891,  0.09103751,  0.19381394,  0.29659036,  0.39936679,\n",
       "         0.50214321]),\n",
       " <a list of 10 Patch objects>)"
      ]
     },
     "execution_count": 143,
     "metadata": {},
     "output_type": "execute_result"
    },
    {
     "data": {
      "image/png": "[encoded data removed]",
      "text/plain": [
       "<Figure size 432x288 with 2 Axes>"
      ]
     },
     "metadata": {
      "needs_background": "light"
     },
     "output_type": "display_data"
    }
   ],
   "source": [
    "fig, ax = plt.subplots(1,2, gridspec_kw={\"width_ratios\":(1,3)})\n",
    "scene.plot(ax[1])\n",
    "ax[1].axis(\"equal\")\n",
    "ax[0].hist(canvas.points, orientation=\"horizontal\")"
   ]
  },
  {
   "cell_type": "markdown",
   "metadata": {
    "heading_collapsed": true
   },
   "source": [
    "# Momentum transferred as a function of ray number (random bundle)"
   ]
  },
  {
   "cell_type": "code",
   "execution_count": 144,
   "metadata": {
    "hidden": true
   },
   "outputs": [
    {
     "data": {
      "application/vnd.jupyter.widget-view+json": {
       "model_id": "0d61a0db41834957b67bf06d4d863305",
       "version_major": 2,
       "version_minor": 0
      },
      "text/plain": [
       "HBox(children=(FloatProgress(value=0.0, max=20.0), HTML(value='')))"
      ]
     },
     "metadata": {},
     "output_type": "display_data"
    },
    {
     "name": "stdout",
     "output_type": "stream",
     "text": [
      "\n"
     ]
    }
   ],
   "source": [
    "ms = []\n",
    "ns = np.linspace(1e2,1e4,20).astype(int)\n",
    "for n in tqdm(ns):\n",
    "    bundle = two_d_tracer.RandomRayBundle([-4,2], [1,0], n, 1, 600, two_d_tracer.gaussian_randoms_factory(4), two_d_tracer.random_sign)\n",
    "    sc_dsc = {\n",
    "        \"rays\": bundle.rays,\n",
    "        \"objects\": [two_d_tracer.Sphere([0,0], 2, None, 1, n_glass)]\n",
    "    }\n",
    "    scene = two_d_tracer.Scene(**sc_dsc)\n",
    "    scene.run(limit=7)\n",
    "    ms.append(scene.momentum)\n",
    "ms = np.array(ms)"
   ]
  },
  {
   "cell_type": "code",
   "execution_count": 145,
   "metadata": {
    "hidden": true
   },
   "outputs": [
    {
     "data": {
      "text/plain": [
       "<matplotlib.legend.Legend at 0x7fdab7218d50>"
      ]
     },
     "execution_count": 145,
     "metadata": {},
     "output_type": "execute_result"
    },
    {
     "data": {
      "image/png": "[encoded data removed]",
      "text/plain": [
       "<Figure size 432x288 with 1 Axes>"
      ]
     },
     "metadata": {
      "needs_background": "light"
     },
     "output_type": "display_data"
    }
   ],
   "source": [
    "fig,ax = plt.subplots()\n",
    "ax.plot(ns, ms[:,0], label=\"X\")\n",
    "ax.plot(ns, ms[:,1], label=\"Y\")\n",
    "ax.legend()"
   ]
  },
  {
   "cell_type": "markdown",
   "metadata": {
    "heading_collapsed": true
   },
   "source": [
    "# RayBundle (with weights)"
   ]
  },
  {
   "cell_type": "code",
   "execution_count": 146,
   "metadata": {
    "hidden": true
   },
   "outputs": [],
   "source": [
    "sc_dsc = {\n",
    "    \"rays\": two_d_tracer.RayBundle([0,1.5], [0,-1], 2, 1000, 600, lambda pos: np.exp(-5*pos[0]**2)).rays,\n",
    "    \"objects\": [two_d_tracer.Sphere([0,0],1.5,n_in=n_glass, mask=[0,np.pi])]\n",
    "}\n",
    "scene = two_d_tracer.Scene(**sc_dsc)\n",
    "scene.run()\n",
    "scene.propagate(2)"
   ]
  },
  {
   "cell_type": "code",
   "execution_count": 147,
   "metadata": {
    "hidden": true
   },
   "outputs": [
    {
     "data": {
      "text/plain": [
       "(-4.514082683908517, 4.514082683908517, -4.949998933126871, 4.949987378081611)"
      ]
     },
     "execution_count": 147,
     "metadata": {},
     "output_type": "execute_result"
    },
    {
     "data": {
      "image/png": "[encoded data removed]",
      "text/plain": [
       "<Figure size 432x288 with 1 Axes>"
      ]
     },
     "metadata": {
      "needs_background": "light"
     },
     "output_type": "display_data"
    }
   ],
   "source": [
    "fig, ax = plt.subplots()\n",
    "scene.plot(ax)\n",
    "ax.axis(\"equal\")"
   ]
  },
  {
   "cell_type": "code",
   "execution_count": 148,
   "metadata": {
    "hidden": true
   },
   "outputs": [],
   "source": [
    "canvas = two_d_tracer.RayCanvas([0,0.5],[-1,0],0.5)\n",
    "sc_dsc = {\n",
    "    \"rays\": two_d_tracer.RayBundle([1,1.5], [0.01,-1], 1, 100, 600, lambda pos: np.exp(-5*(pos[0]-1)**2)).rays,\n",
    "    \"objects\": [two_d_tracer.ParabolaReflective(0.5,0,0, xrange=(-2,2)), canvas]\n",
    "}\n",
    "scene = two_d_tracer.Scene(**sc_dsc)\n",
    "scene.run(limit=2)\n",
    "scene.propagate(2)"
   ]
  },
  {
   "cell_type": "code",
   "execution_count": 149,
   "metadata": {
    "hidden": true
   },
   "outputs": [
    {
     "data": {
      "text/plain": [
       "(-2.2009999250057244,\n",
       " 2.220998425120215,\n",
       " -1.6981772579606766,\n",
       " 2.830022165295044)"
      ]
     },
     "execution_count": 149,
     "metadata": {},
     "output_type": "execute_result"
    },
    {
     "data": {
      "image/png": "[encoded data removed]",
      "text/plain": [
       "<Figure size 432x288 with 2 Axes>"
      ]
     },
     "metadata": {
      "needs_background": "light"
     },
     "output_type": "display_data"
    }
   ],
   "source": [
    "fig, ax = plt.subplots(1,2, gridspec_kw={\"width_ratios\":(1,3)})\n",
    "ax[0].scatter([0 for p in canvas.points], canvas.points, c=canvas.ca)\n",
    "scene.plot(ax[1])\n",
    "ax[1].axis(\"equal\")"
   ]
  },
  {
   "cell_type": "markdown",
   "metadata": {
    "heading_collapsed": true
   },
   "source": [
    "# Actual Gaussian distribution?"
   ]
  },
  {
   "cell_type": "code",
   "execution_count": 150,
   "metadata": {
    "hidden": true
   },
   "outputs": [
    {
     "data": {
      "text/plain": [
       "[<matplotlib.lines.Line2D at 0x7fdab3e8ad10>]"
      ]
     },
     "execution_count": 150,
     "metadata": {},
     "output_type": "execute_result"
    },
    {
     "data": {
      "image/png": "[encoded data removed]",
      "text/plain": [
       "<Figure size 432x288 with 1 Axes>"
      ]
     },
     "metadata": {
      "needs_background": "light"
     },
     "output_type": "display_data"
    }
   ],
   "source": [
    "g = two_d_tracer.gaussian_intensity_factory(2, 1.5, [1,1.5])\n",
    "start = np.array([0,0.5])\n",
    "d = np.array([1,1])/np.sqrt(2)\n",
    "xrange = np.linspace(0,3,100)\n",
    "posrange = np.array([start+s*d for s in xrange])\n",
    "fig, ax = plt.subplots()\n",
    "ax.plot(xrange, [g(pos) for pos in posrange])\n",
    "ax.plot(xrange, 2*2/np.pi/1.5**2 * np.exp(-2*(xrange-np.sqrt(2))**2/1.5**2))\n",
    "ax.plot(xrange, np.sqrt(2/np.pi)* 2/1.5 * np.exp(-2*(xrange-np.sqrt(2))**2/1.5**2))"
   ]
  },
  {
   "cell_type": "code",
   "execution_count": 151,
   "metadata": {
    "hidden": true
   },
   "outputs": [],
   "source": [
    "tb = two_d_tracer.RayBundle([0,0],[1,0],2,100,600, two_d_tracer.gaussian_intensity_factory(1,0.5,[0,0]), label=\"Test\")"
   ]
  },
  {
   "cell_type": "code",
   "execution_count": 152,
   "metadata": {
    "hidden": true
   },
   "outputs": [
    {
     "data": {
      "text/plain": [
       "Test: RayBundle(100 rays)"
      ]
     },
     "execution_count": 152,
     "metadata": {},
     "output_type": "execute_result"
    }
   ],
   "source": [
    "tb"
   ]
  },
  {
   "cell_type": "code",
   "execution_count": 153,
   "metadata": {
    "hidden": true
   },
   "outputs": [
    {
     "data": {
      "text/plain": [
       "3.0204699906687257e+27"
      ]
     },
     "execution_count": 153,
     "metadata": {},
     "output_type": "execute_result"
    }
   ],
   "source": [
    "# If power is 1, how many photons is that?\n",
    "1 / (6.62607004e-25 * 299792458/600*1e-9)"
   ]
  },
  {
   "cell_type": "code",
   "execution_count": 154,
   "metadata": {
    "hidden": true
   },
   "outputs": [
    {
     "data": {
      "text/plain": [
       "3.0204699906687224e+27"
      ]
     },
     "execution_count": 154,
     "metadata": {},
     "output_type": "execute_result"
    }
   ],
   "source": [
    "# How many \"photons\" have we generated?\n",
    "np.sum([ray.weight for ray in tb.rays])"
   ]
  },
  {
   "cell_type": "code",
   "execution_count": 155,
   "metadata": {
    "hidden": true
   },
   "outputs": [
    {
     "data": {
      "text/plain": [
       "0.9999999999999989"
      ]
     },
     "execution_count": 155,
     "metadata": {},
     "output_type": "execute_result"
    }
   ],
   "source": [
    "np.sum([ray.weight*6.62607004e-25 * 299792458/ray.wavelength*1e-9 for ray in tb.rays])"
   ]
  },
  {
   "cell_type": "code",
   "execution_count": 156,
   "metadata": {
    "hidden": true
   },
   "outputs": [],
   "source": [
    "canvas = two_d_tracer.RayCanvas([0,-2.9],[0,1],0.5)\n",
    "sc_dsc = {\n",
    "    \"rays\": two_d_tracer.RayBundle([0,1.5], [0,-1], 1, 100, 600, two_d_tracer.gaussian_intensity_factory(1,0.5,[0,1.5])).rays,\n",
    "    \"objects\": [two_d_tracer.Sphere([0,0],1.5,n_in=n_glass, mask=[0,np.pi]), canvas]\n",
    "}\n",
    "scene = two_d_tracer.Scene(**sc_dsc)\n",
    "scene.run()\n",
    "scene.propagate(2)"
   ]
  },
  {
   "cell_type": "code",
   "execution_count": 157,
   "metadata": {
    "hidden": true
   },
   "outputs": [
    {
     "data": {
      "text/plain": [
       "0.999936942328989"
      ]
     },
     "execution_count": 157,
     "metadata": {},
     "output_type": "execute_result"
    }
   ],
   "source": [
    "np.sum([ray.weight*6.62607004e-25 * 299792458/ray.wavelength*1e-9 for ray in scene.rays])"
   ]
  },
  {
   "cell_type": "code",
   "execution_count": 158,
   "metadata": {
    "hidden": true
   },
   "outputs": [
    {
     "data": {
      "text/plain": [
       "<matplotlib.collections.PathCollection at 0x7fdab3b5c610>"
      ]
     },
     "execution_count": 158,
     "metadata": {},
     "output_type": "execute_result"
    },
    {
     "data": {
      "image/png": "[encoded data removed]",
      "text/plain": [
       "<Figure size 432x288 with 2 Axes>"
      ]
     },
     "metadata": {
      "needs_background": "light"
     },
     "output_type": "display_data"
    }
   ],
   "source": [
    "fig, ax = plt.subplots(2, gridspec_kw={\"height_ratios\":(3,1)}, sharex=True)\n",
    "scene.plot(ax[0])\n",
    "ax[0].axis(\"equal\")\n",
    "ax[1].scatter(canvas.points, [0 for p in canvas.points], c=np.column_stack((np.array(canvas.c), canvas.alphas)))"
   ]
  },
  {
   "cell_type": "markdown",
   "metadata": {
    "heading_collapsed": true
   },
   "source": [
    "# Ray number dependence for the new ray bundle"
   ]
  },
  {
   "cell_type": "code",
   "execution_count": 159,
   "metadata": {
    "hidden": true,
    "scrolled": false
   },
   "outputs": [
    {
     "data": {
      "application/vnd.jupyter.widget-view+json": {
       "model_id": "0b2a0404f367487cbe91a4c267b665c2",
       "version_major": 2,
       "version_minor": 0
      },
      "text/plain": [
       "HBox(children=(FloatProgress(value=0.0, max=10.0), HTML(value='')))"
      ]
     },
     "metadata": {},
     "output_type": "display_data"
    },
    {
     "name": "stdout",
     "output_type": "stream",
     "text": [
      "\n",
      " \n",
      "*** Profile stats marshalled to file '/tmp/tmp_xjkn_cb'. \n",
      "Embedding SnakeViz in this document...\n"
     ]
    },
    {
     "data": {
      "text/html": [
       "\n",
       "<iframe id='snakeviz-9650480a-c83f-11ea-b815-f079590a236e' frameborder=0 seamless width='100%' height='1000'></iframe>\n",
       "<script>document.getElementById(\"snakeviz-9650480a-c83f-11ea-b815-f079590a236e\").setAttribute(\"src\", \"http://\" + document.location.hostname + \":8080/snakeviz/%2Ftmp%2Ftmp_xjkn_cb\")</script>\n"
      ],
      "text/plain": [
       "<IPython.core.display.HTML object>"
      ]
     },
     "metadata": {},
     "output_type": "display_data"
    }
   ],
   "source": [
    "%%snakeviz\n",
    "ms = []\n",
    "ns = np.linspace(5e1,1e4,10).astype(int)\n",
    "for n in tqdm(ns):\n",
    "    bundle = two_d_tracer.RayBundle([-4,-3], [1,0], 1, n, 600, two_d_tracer.gaussian_intensity_factory(1,4,[-3,0]))\n",
    "    sc_dsc = {\n",
    "        \"rays\": bundle.rays,\n",
    "        \"objects\": [two_d_tracer.Sphere([0,-3], 1, None, 1, n_glass)]\n",
    "    }\n",
    "    scene = two_d_tracer.Scene(**sc_dsc)\n",
    "    scene.run(limit=7)\n",
    "    ms.append(scene.momentum)\n",
    "ms = np.array(ms)"
   ]
  },
  {
   "cell_type": "code",
   "execution_count": 160,
   "metadata": {
    "hidden": true
   },
   "outputs": [
    {
     "data": {
      "text/plain": [
       "<matplotlib.legend.Legend at 0x7fdab3a91f10>"
      ]
     },
     "execution_count": 160,
     "metadata": {},
     "output_type": "execute_result"
    },
    {
     "data": {
      "image/png": "[encoded data removed]",
      "text/plain": [
       "<Figure size 432x288 with 1 Axes>"
      ]
     },
     "metadata": {
      "needs_background": "light"
     },
     "output_type": "display_data"
    }
   ],
   "source": [
    "fig,ax = plt.subplots()\n",
    "ax.plot(ns, ms[:,0], label=\"X\")\n",
    "ax.plot(ns, ms[:,1], label=\"Y\")\n",
    "ax.legend()"
   ]
  },
  {
   "cell_type": "code",
   "execution_count": 161,
   "metadata": {
    "hidden": true
   },
   "outputs": [
    {
     "data": {
      "text/plain": [
       "0.1199358491463557"
      ]
     },
     "execution_count": 161,
     "metadata": {},
     "output_type": "execute_result"
    }
   ],
   "source": [
    "# Should be smaller than 1\n",
    "np.sum([ray.weight*6.62607004e-25 * 299792458/ray.wavelength*1e-9 for ray in scene.rays])"
   ]
  },
  {
   "cell_type": "markdown",
   "metadata": {
    "heading_collapsed": true
   },
   "source": [
    "# Partial reflection and refraction"
   ]
  },
  {
   "cell_type": "code",
   "execution_count": 162,
   "metadata": {
    "hidden": true
   },
   "outputs": [],
   "source": [
    "sc_dsc = {\n",
    "    \"rays\": [two_d_tracer.Ray([-1,0.1], [1,-0.1])],\n",
    "    \"objects\": [two_d_tracer.Surface([0,0], [0, 1], None, 1, 1.5)]\n",
    "}\n",
    "scene = two_d_tracer.Scene(**sc_dsc)\n",
    "scene.run()"
   ]
  },
  {
   "cell_type": "code",
   "execution_count": 163,
   "metadata": {
    "hidden": true
   },
   "outputs": [
    {
     "data": {
      "text/plain": [
       "(-1.1, 1.1, -0.8007171790125603, 0.35241510376250285)"
      ]
     },
     "execution_count": 163,
     "metadata": {},
     "output_type": "execute_result"
    },
    {
     "data": {
      "image/png": "[encoded data removed]",
      "text/plain": [
       "<Figure size 432x288 with 1 Axes>"
      ]
     },
     "metadata": {
      "needs_background": "light"
     },
     "output_type": "display_data"
    }
   ],
   "source": [
    "fig, ax = plt.subplots()\n",
    "scene.plot(ax)    \n",
    "ax.axis(\"equal\")"
   ]
  },
  {
   "cell_type": "code",
   "execution_count": 164,
   "metadata": {
    "hidden": true
   },
   "outputs": [
    {
     "data": {
      "text/plain": [
       "0.4268743379291373"
      ]
     },
     "execution_count": 164,
     "metadata": {},
     "output_type": "execute_result"
    }
   ],
   "source": [
    "scene.rays[0].weight"
   ]
  },
  {
   "cell_type": "markdown",
   "metadata": {
    "heading_collapsed": true
   },
   "source": [
    "# Momentum conservation for partial ref"
   ]
  },
  {
   "cell_type": "code",
   "execution_count": 165,
   "metadata": {
    "hidden": true
   },
   "outputs": [],
   "source": [
    "sc_dsc = {\n",
    "    \"rays\": [two_d_tracer.Ray([-1,0], [1,0],1)],\n",
    "    \"objects\": [two_d_tracer.Surface([0,0], [-1, 0], None, 1, 1.5)]\n",
    "}\n",
    "scene = two_d_tracer.Scene(**sc_dsc)"
   ]
  },
  {
   "cell_type": "code",
   "execution_count": 166,
   "metadata": {
    "hidden": true
   },
   "outputs": [
    {
     "name": "stdout",
     "output_type": "stream",
     "text": [
      "[1. 0.]\n"
     ]
    }
   ],
   "source": [
    "initial = np.sum([1/ray.wavelength*ray.dir*ray.weight for ray in scene.rays], axis=0)\n",
    "print(initial)"
   ]
  },
  {
   "cell_type": "code",
   "execution_count": 167,
   "metadata": {
    "hidden": true
   },
   "outputs": [],
   "source": [
    "scene.run(limit=100)"
   ]
  },
  {
   "cell_type": "code",
   "execution_count": 168,
   "metadata": {
    "hidden": true
   },
   "outputs": [
    {
     "data": {
      "text/plain": [
       "array([0.92, 0.  ])"
      ]
     },
     "execution_count": 168,
     "metadata": {},
     "output_type": "execute_result"
    }
   ],
   "source": [
    "np.sum([1/ray.wavelength*ray.dir*ray.weight for ray in scene.rays], axis=0)"
   ]
  },
  {
   "cell_type": "code",
   "execution_count": 169,
   "metadata": {
    "hidden": true
   },
   "outputs": [
    {
     "data": {
      "text/plain": [
       "array([1.4, 0. ])"
      ]
     },
     "execution_count": 169,
     "metadata": {},
     "output_type": "execute_result"
    }
   ],
   "source": [
    "1/scene.rays[0].wavelength*scene.rays[0].dir*scene.rays[0].weight*1.5 + 1/scene.rays[1].wavelength*scene.rays[1].dir*scene.rays[1].weight"
   ]
  },
  {
   "cell_type": "code",
   "execution_count": 170,
   "metadata": {
    "hidden": true
   },
   "outputs": [
    {
     "data": {
      "text/plain": [
       "array([-0.4,  0. ])"
      ]
     },
     "execution_count": 170,
     "metadata": {},
     "output_type": "execute_result"
    }
   ],
   "source": [
    "scene.momentum"
   ]
  },
  {
   "cell_type": "code",
   "execution_count": 171,
   "metadata": {
    "hidden": true
   },
   "outputs": [
    {
     "data": {
      "text/plain": [
       "(-1.10000000022, 1.10000000022, -1.1, 1.1)"
      ]
     },
     "execution_count": 171,
     "metadata": {},
     "output_type": "execute_result"
    },
    {
     "data": {
      "image/png": "[encoded data removed]",
      "text/plain": [
       "<Figure size 432x288 with 1 Axes>"
      ]
     },
     "metadata": {
      "needs_background": "light"
     },
     "output_type": "display_data"
    }
   ],
   "source": [
    "fig, ax = plt.subplots()\n",
    "scene.plot(ax)    \n",
    "ax.axis(\"equal\")"
   ]
  },
  {
   "cell_type": "markdown",
   "metadata": {},
   "source": [
    "# Momentum and analytical solutions"
   ]
  },
  {
   "cell_type": "markdown",
   "metadata": {},
   "source": [
    "## A single photon"
   ]
  },
  {
   "cell_type": "code",
   "execution_count": 44,
   "metadata": {},
   "outputs": [],
   "source": [
    "sc_dsc = {\n",
    "    \"rays\": [two_d_tracer.Ray([-1.5,0],[1,0],600,15,1)],\n",
    "    \"objects\": [two_d_tracer.SurfaceReflective([0,0], [-1,0])]\n",
    "}\n",
    "scene = two_d_tracer.Scene(**sc_dsc)\n",
    "scene.run()\n",
    "scene.propagate(2)"
   ]
  },
  {
   "cell_type": "code",
   "execution_count": 45,
   "metadata": {},
   "outputs": [
    {
     "data": {
      "text/plain": [
       "3.31303502e-26"
      ]
     },
     "execution_count": 45,
     "metadata": {},
     "output_type": "execute_result"
    }
   ],
   "source": [
    "# All momenta values need to be multiplied by h (Planck's constant) * 1e9 (wavelength is stored in nm)\n",
    "scene.momentum[0]*6.62607004e-34*1e9"
   ]
  },
  {
   "cell_type": "code",
   "execution_count": 46,
   "metadata": {},
   "outputs": [
    {
     "data": {
      "text/plain": [
       "3.31303502e-26"
      ]
     },
     "execution_count": 46,
     "metadata": {},
     "output_type": "execute_result"
    }
   ],
   "source": [
    "# Expected:\n",
    "2*6.62607004e-34/600e-9*15"
   ]
  },
  {
   "cell_type": "markdown",
   "metadata": {},
   "source": [
    "## Ray bundle"
   ]
  },
  {
   "cell_type": "code",
   "execution_count": 92,
   "metadata": {},
   "outputs": [],
   "source": [
    "sc_dsc = {\n",
    "    \"rays\": two_d_tracer.RayBundle([-1.5,2], [1,0], 1.5, 100, 600, two_d_tracer.gaussian_intensity_factory(1,0.5,[-1.5,2])).rays,\n",
    "    \"objects\": [two_d_tracer.SurfaceReflective([0,0], [-1,0])]\n",
    "}\n",
    "scene = two_d_tracer.Scene(**sc_dsc)\n",
    "scene.run()\n",
    "scene.propagate(2)"
   ]
  },
  {
   "cell_type": "code",
   "execution_count": 93,
   "metadata": {},
   "outputs": [
    {
     "data": {
      "application/javascript": [
       "/* Put everything inside the global mpl namespace */\n",
       "window.mpl = {};\n",
       "\n",
       "\n",
       "mpl.get_websocket_type = function() {\n",
       "    if (typeof(WebSocket) !== 'undefined') {\n",
       "        return WebSocket;\n",
       "    } else if (typeof(MozWebSocket) !== 'undefined') {\n",
       "        return MozWebSocket;\n",
       "    } else {\n",
       "        alert('Your browser does not have WebSocket support. ' +\n",
       "              'Please try Chrome, Safari or Firefox ≥ 6. ' +\n",
       "              'Firefox 4 and 5 are also supported but you ' +\n",
       "              'have to enable WebSockets in about:config.');\n",
       "    };\n",
       "}\n",
       "\n",
       "mpl.figure = function(figure_id, websocket, ondownload, parent_element) {\n",
       "    this.id = figure_id;\n",
       "\n",
       "    this.ws = websocket;\n",
       "\n",
       "    this.supports_binary = (this.ws.binaryType != undefined);\n",
       "\n",
       "    if (!this.supports_binary) {\n",
       "        var warnings = document.getElementById(\"mpl-warnings\");\n",
       "        if (warnings) {\n",
       "            warnings.style.display = 'block';\n",
       "            warnings.textContent = (\n",
       "                \"This browser does not support binary websocket messages. \" +\n",
       "                    \"Performance may be slow.\");\n",
       "        }\n",
       "    }\n",
       "\n",
       "    this.imageObj = new Image();\n",
       "\n",
       "    this.context = undefined;\n",
       "    this.message = undefined;\n",
       "    this.canvas = undefined;\n",
       "    this.rubberband_canvas = undefined;\n",
       "    this.rubberband_context = undefined;\n",
       "    this.format_dropdown = undefined;\n",
       "\n",
       "    this.image_mode = 'full';\n",
       "\n",
       "    this.root = $('<div/>');\n",
       "    this._root_extra_style(this.root)\n",
       "    this.root.attr('style', 'display: inline-block');\n",
       "\n",
       "    $(parent_element).append(this.root);\n",
       "\n",
       "    this._init_header(this);\n",
       "    this._init_canvas(this);\n",
       "    this._init_toolbar(this);\n",
       "\n",
       "    var fig = this;\n",
       "\n",
       "    this.waiting = false;\n",
       "\n",
       "    this.ws.onopen =  function () {\n",
       "            fig.send_message(\"supports_binary\", {value: fig.supports_binary});\n",
       "            fig.send_message(\"send_image_mode\", {});\n",
       "            if (mpl.ratio != 1) {\n",
       "                fig.send_message(\"set_dpi_ratio\", {'dpi_ratio': mpl.ratio});\n",
       "            }\n",
       "            fig.send_message(\"refresh\", {});\n",
       "        }\n",
       "\n",
       "    this.imageObj.onload = function() {\n",
       "            if (fig.image_mode == 'full') {\n",
       "                // Full images could contain transparency (where diff images\n",
       "                // almost always do), so we need to clear the canvas so that\n",
       "                // there is no ghosting.\n",
       "                fig.context.clearRect(0, 0, fig.canvas.width, fig.canvas.height);\n",
       "            }\n",
       "            fig.context.drawImage(fig.imageObj, 0, 0);\n",
       "        };\n",
       "\n",
       "    this.imageObj.onunload = function() {\n",
       "        fig.ws.close();\n",
       "    }\n",
       "\n",
       "    this.ws.onmessage = this._make_on_message_function(this);\n",
       "\n",
       "    this.ondownload = ondownload;\n",
       "}\n",
       "\n",
       "mpl.figure.prototype._init_header = function() {\n",
       "    var titlebar = $(\n",
       "        '<div class=\"ui-dialog-titlebar ui-widget-header ui-corner-all ' +\n",
       "        'ui-helper-clearfix\"/>');\n",
       "    var titletext = $(\n",
       "        '<div class=\"ui-dialog-title\" style=\"width: 100%; ' +\n",
       "        'text-align: center; padding: 3px;\"/>');\n",
       "    titlebar.append(titletext)\n",
       "    this.root.append(titlebar);\n",
       "    this.header = titletext[0];\n",
       "}\n",
       "\n",
       "\n",
       "\n",
       "mpl.figure.prototype._canvas_extra_style = function(canvas_div) {\n",
       "\n",
       "}\n",
       "\n",
       "\n",
       "mpl.figure.prototype._root_extra_style = function(canvas_div) {\n",
       "\n",
       "}\n",
       "\n",
       "mpl.figure.prototype._init_canvas = function() {\n",
       "    var fig = this;\n",
       "\n",
       "    var canvas_div = $('<div/>');\n",
       "\n",
       "    canvas_div.attr('style', 'position: relative; clear: both; outline: 0');\n",
       "\n",
       "    function canvas_keyboard_event(event) {\n",
       "        return fig.key_event(event, event['data']);\n",
       "    }\n",
       "\n",
       "    canvas_div.keydown('key_press', canvas_keyboard_event);\n",
       "    canvas_div.keyup('key_release', canvas_keyboard_event);\n",
       "    this.canvas_div = canvas_div\n",
       "    this._canvas_extra_style(canvas_div)\n",
       "    this.root.append(canvas_div);\n",
       "\n",
       "    var canvas = $('<canvas/>');\n",
       "    canvas.addClass('mpl-canvas');\n",
       "    canvas.attr('style', \"left: 0; top: 0; z-index: 0; outline: 0\")\n",
       "\n",
       "    this.canvas = canvas[0];\n",
       "    this.context = canvas[0].getContext(\"2d\");\n",
       "\n",
       "    var backingStore = this.context.backingStorePixelRatio ||\n",
       "\tthis.context.webkitBackingStorePixelRatio ||\n",
       "\tthis.context.mozBackingStorePixelRatio ||\n",
       "\tthis.context.msBackingStorePixelRatio ||\n",
       "\tthis.context.oBackingStorePixelRatio ||\n",
       "\tthis.context.backingStorePixelRatio || 1;\n",
       "\n",
       "    mpl.ratio = (window.devicePixelRatio || 1) / backingStore;\n",
       "\n",
       "    var rubberband = $('<canvas/>');\n",
       "    rubberband.attr('style', \"position: absolute; left: 0; top: 0; z-index: 1;\")\n",
       "\n",
       "    var pass_mouse_events = true;\n",
       "\n",
       "    canvas_div.resizable({\n",
       "        start: function(event, ui) {\n",
       "            pass_mouse_events = false;\n",
       "        },\n",
       "        resize: function(event, ui) {\n",
       "            fig.request_resize(ui.size.width, ui.size.height);\n",
       "        },\n",
       "        stop: function(event, ui) {\n",
       "            pass_mouse_events = true;\n",
       "            fig.request_resize(ui.size.width, ui.size.height);\n",
       "        },\n",
       "    });\n",
       "\n",
       "    function mouse_event_fn(event) {\n",
       "        if (pass_mouse_events)\n",
       "            return fig.mouse_event(event, event['data']);\n",
       "    }\n",
       "\n",
       "    rubberband.mousedown('button_press', mouse_event_fn);\n",
       "    rubberband.mouseup('button_release', mouse_event_fn);\n",
       "    // Throttle sequential mouse events to 1 every 20ms.\n",
       "    rubberband.mousemove('motion_notify', mouse_event_fn);\n",
       "\n",
       "    rubberband.mouseenter('figure_enter', mouse_event_fn);\n",
       "    rubberband.mouseleave('figure_leave', mouse_event_fn);\n",
       "\n",
       "    canvas_div.on(\"wheel\", function (event) {\n",
       "        event = event.originalEvent;\n",
       "        event['data'] = 'scroll'\n",
       "        if (event.deltaY < 0) {\n",
       "            event.step = 1;\n",
       "        } else {\n",
       "            event.step = -1;\n",
       "        }\n",
       "        mouse_event_fn(event);\n",
       "    });\n",
       "\n",
       "    canvas_div.append(canvas);\n",
       "    canvas_div.append(rubberband);\n",
       "\n",
       "    this.rubberband = rubberband;\n",
       "    this.rubberband_canvas = rubberband[0];\n",
       "    this.rubberband_context = rubberband[0].getContext(\"2d\");\n",
       "    this.rubberband_context.strokeStyle = \"#000000\";\n",
       "\n",
       "    this._resize_canvas = function(width, height) {\n",
       "        // Keep the size of the canvas, canvas container, and rubber band\n",
       "        // canvas in synch.\n",
       "        canvas_div.css('width', width)\n",
       "        canvas_div.css('height', height)\n",
       "\n",
       "        canvas.attr('width', width * mpl.ratio);\n",
       "        canvas.attr('height', height * mpl.ratio);\n",
       "        canvas.attr('style', 'width: ' + width + 'px; height: ' + height + 'px;');\n",
       "\n",
       "        rubberband.attr('width', width);\n",
       "        rubberband.attr('height', height);\n",
       "    }\n",
       "\n",
       "    // Set the figure to an initial 600x600px, this will subsequently be updated\n",
       "    // upon first draw.\n",
       "    this._resize_canvas(600, 600);\n",
       "\n",
       "    // Disable right mouse context menu.\n",
       "    $(this.rubberband_canvas).bind(\"contextmenu\",function(e){\n",
       "        return false;\n",
       "    });\n",
       "\n",
       "    function set_focus () {\n",
       "        canvas.focus();\n",
       "        canvas_div.focus();\n",
       "    }\n",
       "\n",
       "    window.setTimeout(set_focus, 100);\n",
       "}\n",
       "\n",
       "mpl.figure.prototype._init_toolbar = function() {\n",
       "    var fig = this;\n",
       "\n",
       "    var nav_element = $('<div/>');\n",
       "    nav_element.attr('style', 'width: 100%');\n",
       "    this.root.append(nav_element);\n",
       "\n",
       "    // Define a callback function for later on.\n",
       "    function toolbar_event(event) {\n",
       "        return fig.toolbar_button_onclick(event['data']);\n",
       "    }\n",
       "    function toolbar_mouse_event(event) {\n",
       "        return fig.toolbar_button_onmouseover(event['data']);\n",
       "    }\n",
       "\n",
       "    for(var toolbar_ind in mpl.toolbar_items) {\n",
       "        var name = mpl.toolbar_items[toolbar_ind][0];\n",
       "        var tooltip = mpl.toolbar_items[toolbar_ind][1];\n",
       "        var image = mpl.toolbar_items[toolbar_ind][2];\n",
       "        var method_name = mpl.toolbar_items[toolbar_ind][3];\n",
       "\n",
       "        if (!name) {\n",
       "            // put a spacer in here.\n",
       "            continue;\n",
       "        }\n",
       "        var button = $('<button/>');\n",
       "        button.addClass('ui-button ui-widget ui-state-default ui-corner-all ' +\n",
       "                        'ui-button-icon-only');\n",
       "        button.attr('role', 'button');\n",
       "        button.attr('aria-disabled', 'false');\n",
       "        button.click(method_name, toolbar_event);\n",
       "        button.mouseover(tooltip, toolbar_mouse_event);\n",
       "\n",
       "        var icon_img = $('<span/>');\n",
       "        icon_img.addClass('ui-button-icon-primary ui-icon');\n",
       "        icon_img.addClass(image);\n",
       "        icon_img.addClass('ui-corner-all');\n",
       "\n",
       "        var tooltip_span = $('<span/>');\n",
       "        tooltip_span.addClass('ui-button-text');\n",
       "        tooltip_span.html(tooltip);\n",
       "\n",
       "        button.append(icon_img);\n",
       "        button.append(tooltip_span);\n",
       "\n",
       "        nav_element.append(button);\n",
       "    }\n",
       "\n",
       "    var fmt_picker_span = $('<span/>');\n",
       "\n",
       "    var fmt_picker = $('<select/>');\n",
       "    fmt_picker.addClass('mpl-toolbar-option ui-widget ui-widget-content');\n",
       "    fmt_picker_span.append(fmt_picker);\n",
       "    nav_element.append(fmt_picker_span);\n",
       "    this.format_dropdown = fmt_picker[0];\n",
       "\n",
       "    for (var ind in mpl.extensions) {\n",
       "        var fmt = mpl.extensions[ind];\n",
       "        var option = $(\n",
       "            '<option/>', {selected: fmt === mpl.default_extension}).html(fmt);\n",
       "        fmt_picker.append(option);\n",
       "    }\n",
       "\n",
       "    // Add hover states to the ui-buttons\n",
       "    $( \".ui-button\" ).hover(\n",
       "        function() { $(this).addClass(\"ui-state-hover\");},\n",
       "        function() { $(this).removeClass(\"ui-state-hover\");}\n",
       "    );\n",
       "\n",
       "    var status_bar = $('<span class=\"mpl-message\"/>');\n",
       "    nav_element.append(status_bar);\n",
       "    this.message = status_bar[0];\n",
       "}\n",
       "\n",
       "mpl.figure.prototype.request_resize = function(x_pixels, y_pixels) {\n",
       "    // Request matplotlib to resize the figure. Matplotlib will then trigger a resize in the client,\n",
       "    // which will in turn request a refresh of the image.\n",
       "    this.send_message('resize', {'width': x_pixels, 'height': y_pixels});\n",
       "}\n",
       "\n",
       "mpl.figure.prototype.send_message = function(type, properties) {\n",
       "    properties['type'] = type;\n",
       "    properties['figure_id'] = this.id;\n",
       "    this.ws.send(JSON.stringify(properties));\n",
       "}\n",
       "\n",
       "mpl.figure.prototype.send_draw_message = function() {\n",
       "    if (!this.waiting) {\n",
       "        this.waiting = true;\n",
       "        this.ws.send(JSON.stringify({type: \"draw\", figure_id: this.id}));\n",
       "    }\n",
       "}\n",
       "\n",
       "\n",
       "mpl.figure.prototype.handle_save = function(fig, msg) {\n",
       "    var format_dropdown = fig.format_dropdown;\n",
       "    var format = format_dropdown.options[format_dropdown.selectedIndex].value;\n",
       "    fig.ondownload(fig, format);\n",
       "}\n",
       "\n",
       "\n",
       "mpl.figure.prototype.handle_resize = function(fig, msg) {\n",
       "    var size = msg['size'];\n",
       "    if (size[0] != fig.canvas.width || size[1] != fig.canvas.height) {\n",
       "        fig._resize_canvas(size[0], size[1]);\n",
       "        fig.send_message(\"refresh\", {});\n",
       "    };\n",
       "}\n",
       "\n",
       "mpl.figure.prototype.handle_rubberband = function(fig, msg) {\n",
       "    var x0 = msg['x0'] / mpl.ratio;\n",
       "    var y0 = (fig.canvas.height - msg['y0']) / mpl.ratio;\n",
       "    var x1 = msg['x1'] / mpl.ratio;\n",
       "    var y1 = (fig.canvas.height - msg['y1']) / mpl.ratio;\n",
       "    x0 = Math.floor(x0) + 0.5;\n",
       "    y0 = Math.floor(y0) + 0.5;\n",
       "    x1 = Math.floor(x1) + 0.5;\n",
       "    y1 = Math.floor(y1) + 0.5;\n",
       "    var min_x = Math.min(x0, x1);\n",
       "    var min_y = Math.min(y0, y1);\n",
       "    var width = Math.abs(x1 - x0);\n",
       "    var height = Math.abs(y1 - y0);\n",
       "\n",
       "    fig.rubberband_context.clearRect(\n",
       "        0, 0, fig.canvas.width / mpl.ratio, fig.canvas.height / mpl.ratio);\n",
       "\n",
       "    fig.rubberband_context.strokeRect(min_x, min_y, width, height);\n",
       "}\n",
       "\n",
       "mpl.figure.prototype.handle_figure_label = function(fig, msg) {\n",
       "    // Updates the figure title.\n",
       "    fig.header.textContent = msg['label'];\n",
       "}\n",
       "\n",
       "mpl.figure.prototype.handle_cursor = function(fig, msg) {\n",
       "    var cursor = msg['cursor'];\n",
       "    switch(cursor)\n",
       "    {\n",
       "    case 0:\n",
       "        cursor = 'pointer';\n",
       "        break;\n",
       "    case 1:\n",
       "        cursor = 'default';\n",
       "        break;\n",
       "    case 2:\n",
       "        cursor = 'crosshair';\n",
       "        break;\n",
       "    case 3:\n",
       "        cursor = 'move';\n",
       "        break;\n",
       "    }\n",
       "    fig.rubberband_canvas.style.cursor = cursor;\n",
       "}\n",
       "\n",
       "mpl.figure.prototype.handle_message = function(fig, msg) {\n",
       "    fig.message.textContent = msg['message'];\n",
       "}\n",
       "\n",
       "mpl.figure.prototype.handle_draw = function(fig, msg) {\n",
       "    // Request the server to send over a new figure.\n",
       "    fig.send_draw_message();\n",
       "}\n",
       "\n",
       "mpl.figure.prototype.handle_image_mode = function(fig, msg) {\n",
       "    fig.image_mode = msg['mode'];\n",
       "}\n",
       "\n",
       "mpl.figure.prototype.updated_canvas_event = function() {\n",
       "    // Called whenever the canvas gets updated.\n",
       "    this.send_message(\"ack\", {});\n",
       "}\n",
       "\n",
       "// A function to construct a web socket function for onmessage handling.\n",
       "// Called in the figure constructor.\n",
       "mpl.figure.prototype._make_on_message_function = function(fig) {\n",
       "    return function socket_on_message(evt) {\n",
       "        if (evt.data instanceof Blob) {\n",
       "            /* FIXME: We get \"Resource interpreted as Image but\n",
       "             * transferred with MIME type text/plain:\" errors on\n",
       "             * Chrome.  But how to set the MIME type?  It doesn't seem\n",
       "             * to be part of the websocket stream */\n",
       "            evt.data.type = \"image/png\";\n",
       "\n",
       "            /* Free the memory for the previous frames */\n",
       "            if (fig.imageObj.src) {\n",
       "                (window.URL || window.webkitURL).revokeObjectURL(\n",
       "                    fig.imageObj.src);\n",
       "            }\n",
       "\n",
       "            fig.imageObj.src = (window.URL || window.webkitURL).createObjectURL(\n",
       "                evt.data);\n",
       "            fig.updated_canvas_event();\n",
       "            fig.waiting = false;\n",
       "            return;\n",
       "        }\n",
       "        else if (typeof evt.data === 'string' && evt.data.slice(0, 21) == \"data:image/png;base64\") {\n",
       "            fig.imageObj.src = evt.data;\n",
       "            fig.updated_canvas_event();\n",
       "            fig.waiting = false;\n",
       "            return;\n",
       "        }\n",
       "\n",
       "        var msg = JSON.parse(evt.data);\n",
       "        var msg_type = msg['type'];\n",
       "\n",
       "        // Call the  \"handle_{type}\" callback, which takes\n",
       "        // the figure and JSON message as its only arguments.\n",
       "        try {\n",
       "            var callback = fig[\"handle_\" + msg_type];\n",
       "        } catch (e) {\n",
       "            console.log(\"No handler for the '\" + msg_type + \"' message type: \", msg);\n",
       "            return;\n",
       "        }\n",
       "\n",
       "        if (callback) {\n",
       "            try {\n",
       "                // console.log(\"Handling '\" + msg_type + \"' message: \", msg);\n",
       "                callback(fig, msg);\n",
       "            } catch (e) {\n",
       "                console.log(\"Exception inside the 'handler_\" + msg_type + \"' callback:\", e, e.stack, msg);\n",
       "            }\n",
       "        }\n",
       "    };\n",
       "}\n",
       "\n",
       "// from http://stackoverflow.com/questions/1114465/getting-mouse-location-in-canvas\n",
       "mpl.findpos = function(e) {\n",
       "    //this section is from http://www.quirksmode.org/js/events_properties.html\n",
       "    var targ;\n",
       "    if (!e)\n",
       "        e = window.event;\n",
       "    if (e.target)\n",
       "        targ = e.target;\n",
       "    else if (e.srcElement)\n",
       "        targ = e.srcElement;\n",
       "    if (targ.nodeType == 3) // defeat Safari bug\n",
       "        targ = targ.parentNode;\n",
       "\n",
       "    // jQuery normalizes the pageX and pageY\n",
       "    // pageX,Y are the mouse positions relative to the document\n",
       "    // offset() returns the position of the element relative to the document\n",
       "    var x = e.pageX - $(targ).offset().left;\n",
       "    var y = e.pageY - $(targ).offset().top;\n",
       "\n",
       "    return {\"x\": x, \"y\": y};\n",
       "};\n",
       "\n",
       "/*\n",
       " * return a copy of an object with only non-object keys\n",
       " * we need this to avoid circular references\n",
       " * http://stackoverflow.com/a/24161582/3208463\n",
       " */\n",
       "function simpleKeys (original) {\n",
       "  return Object.keys(original).reduce(function (obj, key) {\n",
       "    if (typeof original[key] !== 'object')\n",
       "        obj[key] = original[key]\n",
       "    return obj;\n",
       "  }, {});\n",
       "}\n",
       "\n",
       "mpl.figure.prototype.mouse_event = function(event, name) {\n",
       "    var canvas_pos = mpl.findpos(event)\n",
       "\n",
       "    if (name === 'button_press')\n",
       "    {\n",
       "        this.canvas.focus();\n",
       "        this.canvas_div.focus();\n",
       "    }\n",
       "\n",
       "    var x = canvas_pos.x * mpl.ratio;\n",
       "    var y = canvas_pos.y * mpl.ratio;\n",
       "\n",
       "    this.send_message(name, {x: x, y: y, button: event.button,\n",
       "                             step: event.step,\n",
       "                             guiEvent: simpleKeys(event)});\n",
       "\n",
       "    /* This prevents the web browser from automatically changing to\n",
       "     * the text insertion cursor when the button is pressed.  We want\n",
       "     * to control all of the cursor setting manually through the\n",
       "     * 'cursor' event from matplotlib */\n",
       "    event.preventDefault();\n",
       "    return false;\n",
       "}\n",
       "\n",
       "mpl.figure.prototype._key_event_extra = function(event, name) {\n",
       "    // Handle any extra behaviour associated with a key event\n",
       "}\n",
       "\n",
       "mpl.figure.prototype.key_event = function(event, name) {\n",
       "\n",
       "    // Prevent repeat events\n",
       "    if (name == 'key_press')\n",
       "    {\n",
       "        if (event.which === this._key)\n",
       "            return;\n",
       "        else\n",
       "            this._key = event.which;\n",
       "    }\n",
       "    if (name == 'key_release')\n",
       "        this._key = null;\n",
       "\n",
       "    var value = '';\n",
       "    if (event.ctrlKey && event.which != 17)\n",
       "        value += \"ctrl+\";\n",
       "    if (event.altKey && event.which != 18)\n",
       "        value += \"alt+\";\n",
       "    if (event.shiftKey && event.which != 16)\n",
       "        value += \"shift+\";\n",
       "\n",
       "    value += 'k';\n",
       "    value += event.which.toString();\n",
       "\n",
       "    this._key_event_extra(event, name);\n",
       "\n",
       "    this.send_message(name, {key: value,\n",
       "                             guiEvent: simpleKeys(event)});\n",
       "    return false;\n",
       "}\n",
       "\n",
       "mpl.figure.prototype.toolbar_button_onclick = function(name) {\n",
       "    if (name == 'download') {\n",
       "        this.handle_save(this, null);\n",
       "    } else {\n",
       "        this.send_message(\"toolbar_button\", {name: name});\n",
       "    }\n",
       "};\n",
       "\n",
       "mpl.figure.prototype.toolbar_button_onmouseover = function(tooltip) {\n",
       "    this.message.textContent = tooltip;\n",
       "};\n",
       "mpl.toolbar_items = [[\"Home\", \"Reset original view\", \"fa fa-home icon-home\", \"home\"], [\"Back\", \"Back to previous view\", \"fa fa-arrow-left icon-arrow-left\", \"back\"], [\"Forward\", \"Forward to next view\", \"fa fa-arrow-right icon-arrow-right\", \"forward\"], [\"\", \"\", \"\", \"\"], [\"Pan\", \"Pan axes with left mouse, zoom with right\", \"fa fa-arrows icon-move\", \"pan\"], [\"Zoom\", \"Zoom to rectangle\", \"fa fa-square-o icon-check-empty\", \"zoom\"], [\"\", \"\", \"\", \"\"], [\"Download\", \"Download plot\", \"fa fa-floppy-o icon-save\", \"download\"]];\n",
       "\n",
       "mpl.extensions = [\"eps\", \"jpeg\", \"pdf\", \"png\", \"ps\", \"raw\", \"svg\", \"tif\"];\n",
       "\n",
       "mpl.default_extension = \"png\";var comm_websocket_adapter = function(comm) {\n",
       "    // Create a \"websocket\"-like object which calls the given IPython comm\n",
       "    // object with the appropriate methods. Currently this is a non binary\n",
       "    // socket, so there is still some room for performance tuning.\n",
       "    var ws = {};\n",
       "\n",
       "    ws.close = function() {\n",
       "        comm.close()\n",
       "    };\n",
       "    ws.send = function(m) {\n",
       "        //console.log('sending', m);\n",
       "        comm.send(m);\n",
       "    };\n",
       "    // Register the callback with on_msg.\n",
       "    comm.on_msg(function(msg) {\n",
       "        //console.log('receiving', msg['content']['data'], msg);\n",
       "        // Pass the mpl event to the overridden (by mpl) onmessage function.\n",
       "        ws.onmessage(msg['content']['data'])\n",
       "    });\n",
       "    return ws;\n",
       "}\n",
       "\n",
       "mpl.mpl_figure_comm = function(comm, msg) {\n",
       "    // This is the function which gets called when the mpl process\n",
       "    // starts-up an IPython Comm through the \"matplotlib\" channel.\n",
       "\n",
       "    var id = msg.content.data.id;\n",
       "    // Get hold of the div created by the display call when the Comm\n",
       "    // socket was opened in Python.\n",
       "    var element = $(\"#\" + id);\n",
       "    var ws_proxy = comm_websocket_adapter(comm)\n",
       "\n",
       "    function ondownload(figure, format) {\n",
       "        window.open(figure.imageObj.src);\n",
       "    }\n",
       "\n",
       "    var fig = new mpl.figure(id, ws_proxy,\n",
       "                           ondownload,\n",
       "                           element.get(0));\n",
       "\n",
       "    // Call onopen now - mpl needs it, as it is assuming we've passed it a real\n",
       "    // web socket which is closed, not our websocket->open comm proxy.\n",
       "    ws_proxy.onopen();\n",
       "\n",
       "    fig.parent_element = element.get(0);\n",
       "    fig.cell_info = mpl.find_output_cell(\"<div id='\" + id + \"'></div>\");\n",
       "    if (!fig.cell_info) {\n",
       "        console.error(\"Failed to find cell for figure\", id, fig);\n",
       "        return;\n",
       "    }\n",
       "\n",
       "    var output_index = fig.cell_info[2]\n",
       "    var cell = fig.cell_info[0];\n",
       "\n",
       "};\n",
       "\n",
       "mpl.figure.prototype.handle_close = function(fig, msg) {\n",
       "    var width = fig.canvas.width/mpl.ratio\n",
       "    fig.root.unbind('remove')\n",
       "\n",
       "    // Update the output cell to use the data from the current canvas.\n",
       "    fig.push_to_output();\n",
       "    var dataURL = fig.canvas.toDataURL();\n",
       "    // Re-enable the keyboard manager in IPython - without this line, in FF,\n",
       "    // the notebook keyboard shortcuts fail.\n",
       "    IPython.keyboard_manager.enable()\n",
       "    $(fig.parent_element).html('<img src=\"' + dataURL + '\" width=\"' + width + '\">');\n",
       "    fig.close_ws(fig, msg);\n",
       "}\n",
       "\n",
       "mpl.figure.prototype.close_ws = function(fig, msg){\n",
       "    fig.send_message('closing', msg);\n",
       "    // fig.ws.close()\n",
       "}\n",
       "\n",
       "mpl.figure.prototype.push_to_output = function(remove_interactive) {\n",
       "    // Turn the data on the canvas into data in the output cell.\n",
       "    var width = this.canvas.width/mpl.ratio\n",
       "    var dataURL = this.canvas.toDataURL();\n",
       "    this.cell_info[1]['text/html'] = '<img src=\"' + dataURL + '\" width=\"' + width + '\">';\n",
       "}\n",
       "\n",
       "mpl.figure.prototype.updated_canvas_event = function() {\n",
       "    // Tell IPython that the notebook contents must change.\n",
       "    IPython.notebook.set_dirty(true);\n",
       "    this.send_message(\"ack\", {});\n",
       "    var fig = this;\n",
       "    // Wait a second, then push the new image to the DOM so\n",
       "    // that it is saved nicely (might be nice to debounce this).\n",
       "    setTimeout(function () { fig.push_to_output() }, 1000);\n",
       "}\n",
       "\n",
       "mpl.figure.prototype._init_toolbar = function() {\n",
       "    var fig = this;\n",
       "\n",
       "    var nav_element = $('<div/>');\n",
       "    nav_element.attr('style', 'width: 100%');\n",
       "    this.root.append(nav_element);\n",
       "\n",
       "    // Define a callback function for later on.\n",
       "    function toolbar_event(event) {\n",
       "        return fig.toolbar_button_onclick(event['data']);\n",
       "    }\n",
       "    function toolbar_mouse_event(event) {\n",
       "        return fig.toolbar_button_onmouseover(event['data']);\n",
       "    }\n",
       "\n",
       "    for(var toolbar_ind in mpl.toolbar_items){\n",
       "        var name = mpl.toolbar_items[toolbar_ind][0];\n",
       "        var tooltip = mpl.toolbar_items[toolbar_ind][1];\n",
       "        var image = mpl.toolbar_items[toolbar_ind][2];\n",
       "        var method_name = mpl.toolbar_items[toolbar_ind][3];\n",
       "\n",
       "        if (!name) { continue; };\n",
       "\n",
       "        var button = $('<button class=\"btn btn-default\" href=\"#\" title=\"' + name + '\"><i class=\"fa ' + image + ' fa-lg\"></i></button>');\n",
       "        button.click(method_name, toolbar_event);\n",
       "        button.mouseover(tooltip, toolbar_mouse_event);\n",
       "        nav_element.append(button);\n",
       "    }\n",
       "\n",
       "    // Add the status bar.\n",
       "    var status_bar = $('<span class=\"mpl-message\" style=\"text-align:right; float: right;\"/>');\n",
       "    nav_element.append(status_bar);\n",
       "    this.message = status_bar[0];\n",
       "\n",
       "    // Add the close button to the window.\n",
       "    var buttongrp = $('<div class=\"btn-group inline pull-right\"></div>');\n",
       "    var button = $('<button class=\"btn btn-mini btn-primary\" href=\"#\" title=\"Stop Interaction\"><i class=\"fa fa-power-off icon-remove icon-large\"></i></button>');\n",
       "    button.click(function (evt) { fig.handle_close(fig, {}); } );\n",
       "    button.mouseover('Stop Interaction', toolbar_mouse_event);\n",
       "    buttongrp.append(button);\n",
       "    var titlebar = this.root.find($('.ui-dialog-titlebar'));\n",
       "    titlebar.prepend(buttongrp);\n",
       "}\n",
       "\n",
       "mpl.figure.prototype._root_extra_style = function(el){\n",
       "    var fig = this\n",
       "    el.on(\"remove\", function(){\n",
       "\tfig.close_ws(fig, {});\n",
       "    });\n",
       "}\n",
       "\n",
       "mpl.figure.prototype._canvas_extra_style = function(el){\n",
       "    // this is important to make the div 'focusable\n",
       "    el.attr('tabindex', 0)\n",
       "    // reach out to IPython and tell the keyboard manager to turn it's self\n",
       "    // off when our div gets focus\n",
       "\n",
       "    // location in version 3\n",
       "    if (IPython.notebook.keyboard_manager) {\n",
       "        IPython.notebook.keyboard_manager.register_events(el);\n",
       "    }\n",
       "    else {\n",
       "        // location in version 2\n",
       "        IPython.keyboard_manager.register_events(el);\n",
       "    }\n",
       "\n",
       "}\n",
       "\n",
       "mpl.figure.prototype._key_event_extra = function(event, name) {\n",
       "    var manager = IPython.notebook.keyboard_manager;\n",
       "    if (!manager)\n",
       "        manager = IPython.keyboard_manager;\n",
       "\n",
       "    // Check for shift+enter\n",
       "    if (event.shiftKey && event.which == 13) {\n",
       "        this.canvas_div.blur();\n",
       "        // select the cell after this one\n",
       "        var index = IPython.notebook.find_cell_index(this.cell_info[0]);\n",
       "        IPython.notebook.select(index + 1);\n",
       "    }\n",
       "}\n",
       "\n",
       "mpl.figure.prototype.handle_save = function(fig, msg) {\n",
       "    fig.ondownload(fig, null);\n",
       "}\n",
       "\n",
       "\n",
       "mpl.find_output_cell = function(html_output) {\n",
       "    // Return the cell and output element which can be found *uniquely* in the notebook.\n",
       "    // Note - this is a bit hacky, but it is done because the \"notebook_saving.Notebook\"\n",
       "    // IPython event is triggered only after the cells have been serialised, which for\n",
       "    // our purposes (turning an active figure into a static one), is too late.\n",
       "    var cells = IPython.notebook.get_cells();\n",
       "    var ncells = cells.length;\n",
       "    for (var i=0; i<ncells; i++) {\n",
       "        var cell = cells[i];\n",
       "        if (cell.cell_type === 'code'){\n",
       "            for (var j=0; j<cell.output_area.outputs.length; j++) {\n",
       "                var data = cell.output_area.outputs[j];\n",
       "                if (data.data) {\n",
       "                    // IPython >= 3 moved mimebundle to data attribute of output\n",
       "                    data = data.data;\n",
       "                }\n",
       "                if (data['text/html'] == html_output) {\n",
       "                    return [cell, data, j];\n",
       "                }\n",
       "            }\n",
       "        }\n",
       "    }\n",
       "}\n",
       "\n",
       "// Register the function which deals with the matplotlib target/channel.\n",
       "// The kernel may be null if the page has been refreshed.\n",
       "if (IPython.notebook.kernel != null) {\n",
       "    IPython.notebook.kernel.comm_manager.register_target('matplotlib', mpl.mpl_figure_comm);\n",
       "}\n"
      ],
      "text/plain": [
       "<IPython.core.display.Javascript object>"
      ]
     },
     "metadata": {},
     "output_type": "display_data"
    },
    {
     "data": {
      "text/html": [
       "<img src=\"data:image/png;base64,iVBORw0KGgoAAAANSUhEUgAAAoAAAAHgCAYAAAA10dzkAAAgAElEQVR4Xu3deZRlZXkv4LeqJ4aemJqpqwUE5YoohCB2NAYMRiS5Ssxw9apAYnKzNJCYxIUYo3abcA2LXDUqC7lLElg3cS2GSNAQNA7MGKJEDMggjQLddAM90E2P1XRX3bWPMghIVfPWrn32t59ai3/0fPvs9/l+1d+vT9U5PTA6OjoavggQIECAAAECBDojMKAAdmavDUqAAAECBAgQ6AkogIJAgAABAgQIEOiYgALYsQ03LgECBAgQIEBAAZQBAgQIECBAgEDHBBTAjm24cQkQIECAAAECCqAMECBAgAABAgQ6JqAAdmzDjUuAAAECBAgQUABlgAABAgQIECDQMQEFsGMbblwCBAgQIECAgAIoAwQIECBAgACBjgkogB3bcOMSIECAAAECBBRAGSBAgAABAgQIdExAAezYhhuXAAECBAgQIKAAygABAgQIECBAoGMCCmDHNty4BAgQIECAAAEFUAYIECBAgAABAh0TUAA7tuHGJUCAAAECBAgogDJAgAABAgQIEOiYgALYsQ03LgECBAgQIEBAAZQBAgQIECBAgEDHBBTAjm24cQkQIECAAAECCqAMECBAgAABAgQ6JqAAdmzDjUuAAAECBAgQUABlgAABAgQIECDQMQEFsGMbblwCBAgQIECAgAIoAwQIECBAgACBjgkogB3bcOMSIECAAAECBBRAGSBAgAABAgQIdExAAezYhhuXAAECBAgQIKAAygABAgQIECBAoGMCCmDHNty4BAgQIECAAAEFUAYIECBAgAABAh0TUAA7tuHGJUCAAAECBAgogDJAgAABAgQIEOiYgALYsQ03LgECBAgQIEBAAZQBAgQIECBAgEDHBBTAjm24cQkQIECAAAECCqAMECBAgAABAgQ6JqAAdmzDjUuAAAECBAgQUABlgAABAgQIECDQMQEFsGMbblwCBAgQIECAgAIoAwQIECBAgACBjgkogB3bcOMSIECAAAECBBRAGSBAgAABAgQIdExAAezYhhuXAAECBAgQIKAAygABAgQIECBAoGMCCmDHNty4BAgQIECAAAEFUAYIECBAgAABAh0TUAA7tuHGJUCAAAECBAgogDJAgAABAgQIEOiYgALYsQ03LgECBAgQIEBAAZQBAgQIECBAgEDHBBTAjm24cQkQIECAAAECCqAMECBAgAABAgQ6JqAAdmzDjUuAAAECBAgQUABlgAABAgQIECDQMQEFMLHhIyMjsXz58pg1a1YMDAwkrmQpAQIECBAgMFkCo6OjsX79+thvv/1icHBwsp62r55HAUxsx7Jly2JoaChxBUsJECBAgACBpgSWLl0a8+fPb+rpG31eBTDBv27dupg7d25UAZo9e3biSpYSIECAAAECkyXw2GOP9V7AWbt2bcyZM2eynravnkcBTGxHFaAqOFURVAATkJYSIECAAIFJFHB+RyiAicAJUALPUgIECBAg0JCA81sBTEVPgFJ8FhMgQIAAgUYEnN8KYCp4ApTis5gAAQIECDQi4PxWAFPBE6AUn8UECBAgQKARAee3ApgKngCl+CwmQIAAAQKNCDi/FcBU8AQoxWcxAQIECBBoRMD5rQCmgidAKT6LCRAgQIBAIwLObwUwFTwBSvFZTIAAAQIEGhFwfiuAqeAJUIrPYgIECBAg0IiA81sBTAVPgFJ8FhMgQIAAgUYEnN8KYCp4ApTis5gAAQIECDQi4PxWAFPBE6AUn8UECBAgQKARAee3ApgKngCl+CwmQIAAAQKNCDi/FcBU8AQoxWcxAQIECBBoRMD5rQCmgidAKT6LCRAgQIBAIwLObwUwFTwBSvFZTIAAAQIEGhFwfiuAqeAJUIrPYgIECBAg0IiA81sBTAVPgFJ8FhMgQIAAgUYEnN8KYCp4ApTis5gAAQIECDQi4PxWAFPBE6AUn8UECBAgQKARAee3ApgKngCl+CwmQIAAAQKNCDi/FcBU8AQoxWcxAQIECBBoRMD5rQCmgidAKT6LCRAgQIBAIwLObwUwFTwBSvFZTIAAAQIEGhFwfiuAqeAJUIrPYgIECBAg0IiA81sBTAVPgFJ8FhMgQIAAgUYEnN8KYCp4ApTis5gAAQIECDQi4PxWAFPBE6AUn8UECBAgQKARAee3ApgKngCl+CwmQIAAAQKNCDi/FcBU8AQoxWcxAQIECBBoRMD5rQCmgidAKT6LCRAgQIBAIwLObwUwFTwBSvFZTIAAAQIEGhFwfiuAqeAJUIrPYgIECBAg0IiA81sBTAVPgFJ8FhMgQIAAgUYEnN8KYCp4ApTis5gAAQIECDQi4PxWAFPBE6AUn8UECBAgQKARAee3ApgKngCl+CwmQIAAAQKNCDi/FcBU8AQoxWcxAQIECBBoRMD5rQCmgidAKT6LCRAgQIBAIwLObwUwFTwBSvFZTIAAAQIEGhFwfiuAqeAJUIrPYgIECBAg0IiA81sBTAVPgFJ8FhMgQIAAgUYEnN8KYCp4ApTis5gAAQIECDQi4PxWAFPBE6AUn8UECBAgQKARAee3ApgKngCl+CwmQIAAAQKNCDi/O14AzzvvvKj+u++++3oBPOyww+IjH/lIvOlNbxpXIAVoXEweRIAAAQIE+krA+d3xAvjlL385pkyZEoccckiMjo7GRRddFOecc05897vf7ZXBsb4EaCwh/z8BAgQIEOg/Aed3xwvgc0Vy991375XAd7/73WMmVoDGJPIAAgQIECDQdwLObwXwyVBu3749Lr300jjllFN6rwC+7GUvGzOwAjQmkQcQIECAAIG+E3B+K4Bx2223xcKFC2PLli0xc+bM+MIXvhAnnnjic4Z1eHg4qv+e+KoCNDQ0FOvWrYvZs2f3XcDdEAECBAgQIPBsAQVQAYytW7fGAw880Ctxl112WXz+85+Pa6+99jlfAVy0aFEsXrz4WUlSAP3xQoAAAQIE2iOgACqAz0rr8ccfHy9+8Yvj/PPPf9b/5xXA9nxzu1MCBAgQIPCzBBRABfBZ2Xj9618fCxYsiAsvvHDM7xwBGpPIAwgQIECAQN8JOL87XgA/+MEP9j7zryp869ev7/3+39lnnx1f/epX4w1veMOYgRWgMYk8gAABAgQI9J2A87vjBbD6qJdvfOMbsWLFipgzZ0684hWviA984APjKn9VmgWo776n3RABAgQIEBhTwPnd8QI4ZkLGeIAAZQWtJ0CAAAECky/g/FYAU6kToBSfxQQIECBAoBEB57cCmAqeAKX4LCZAgAABAo0IOL8VwFTwBCjFZzEBAgQIEGhEwPmtAKaCJ0ApPosJECBAgEAjAs5vBTAVPAFK8ZW/eHS0/BlNSKDfBQYG+v0O3V8DAs5vBTAVOwFK8ZW/WAEsf49N2P8CCmD/71EDd+j8VgBTsROgFF/5ixXA8vfYhP0voAD2/x41cIfObwUwFTsBSvGVv1gBLH+PTdj/Agpg/+9RA3fo/FYAU7EToBRf+YtHR8qf0YQE+l1gYLDf79D9NSDg/FYAU7EToBRf+YsVwPL32IT9L6AA9v8eNXCHzm8FMBU7AUrxlb9YASx/j03Y/wIKYP/vUQN36PxWAFOxE6AUX/mLFcDy99iE/S+gAPb/HjVwh85vBTAVOwFK8VlMgAABAgQaEXB+K4Cp4AlQiq/8xaPby5/RhAT6XWBgSr/foftrQMD5rQCmYidAKb7yFyuA5e+xCftfQAHs/z1q4A6d3wpgKnYClOIrf/Ho4+XPaEIC/S4wMK3f79D9NSDg/FYAU7EToBRf+YsVwHbvsQ/ybvf+VXdffQi0Atj+faxhAue3ApiKlQCl+MpfPDpc/owmJNDvAgMz+v0O3V8DAs5vBTAVOwFK8ZW/WAFs9x57BbDd+/fkK4AKYPs3cuIncH4rgKlUCVCKr/zFI5vLn7HkCRXA9u9u9SPgwZ3bP4cJJlzA+a0ApkIlQCm+8hcrgOXvsQn7X0AB7P89auAOnd8KYCp2ApTiK3+xV5Davcf2r937V9394GD7ZzBBLQLObwUwFSwBSvGVvbgqD6Mby57RdATaIDA4sw136R4nWcD5rQCmIidAKb6yF1cFcGRD2TOajkC/C/R+B1AB7PdtauL+nN8KYCp3ApTiK3txrwA+WvaMpiPQ9wIDEVN26/u7dIOTL+D8VgBTqROgFF/Zi6sCuF0BbPcmj7b79t19xMCgAigHzyng/FYAU98aApTiK3txrwA+UvaMpiPQ7wLVj4CnzOv3u3R/DQg4vxXAVOwEKMVX9mIFsID99Qpg6zex9wqgAtj6faxhAOe3ApiKlQCl+MpeXBXAbcvKnrH46RTA1m9xVQCnzm/9GAaYeAHntwKYSpUApfjKXtx7BfDBsmc0HYE2CCiAbdilSb9H57cCmAqdAKX4yl88sr38GYuecKTo6Tox3OC0ToxpyB0XcH4rgDuemqetEKAUX9mLR0citv2w7BlNR6ANAtMObsNdusdJFnB+K4CpyAlQiq/sxVUBfHxJ2TMWP51XAFu/xQNTIxTA1m9jHQM4vxXAVK4EKMVX9uKqAG69rewZi5/Om0Bav8UDUyKmH976MQww8QLObwUwlSoBSvGVvVgBbPn+VuXPK4At38SIgWkKYOs3sZ4BnN8KYCpZApTiK3txVQCH/73sGYufTgFs/RZXPwKe8erWj2GAiRdwfiuAqVQJUIqv7MW9AvitsmcsfjoFsP1bPDVip4XtH8MEEy7g/FYAU6ESoBRf2YtHt0ds/nrZMxY9XfUjYL8D2Potrl4B3On4iOqfhPNF4GkCzm8FMPUNIUApvrIXVwVwyzfLntF0BNogoAC2YZcm/R6d3wpgKnQClOIrf/HIcPkzFj3h1qKn68Zwu0YMDnZjVFPukIDzWwHcocA888EClOIre/HotohNV5Q9o+kItEFgl7f6EXAb9mmS79H5rQCmIidAKb6yF1cFcOMXy56x6Omq3//zT/m1f4unR+z6Gwpg+zdywidwfiuAqVAJUIqv7MVVAdzwd2XPWPx03gXc/i2eGjHz3Qpg+zdywidwfiuAqVAJUIqv7MVVAVx/QdkzFj+dVwDbv8XTI2YpgO3fx4mfwPmtAKZSJUApvrIXjz4e8dinyp6x6OlGI6rPcvTVboHqY2Bm/5lXANu9i7XcvfNbAUwFS4BSfGUvHtkasf6TZc9Y/HReAWz/Fk9XANu/ibVM4PxWAFPBEqAUX9mLR7dGrP1I2TOWPp1XANu/w9UrgHPP8gpg+3dywidwfiuAqVAJUIqv7MW9Ari47BlNR6ANAnP/SgFswz5N8j06vxXAVOQEKMVX9uKR6vfHNpY9Y+nTjdi/1m/x4DwfBN36TaxnAOe3AphKlgCl+MpePDocseaPy57RdATaILD7eV4BbMM+TfI9Or8VwFTkBCjFV/bikS0Ra04ve8aip/NB0GVs7/SIPT6nAJaxmRM6hfNbAUwFSoBSfGUvrgrg6neWPWPp03kTSPt3uHoTyJ4XK4Dt38kJn8D5rQCmQiVAKb6yF1cFcNU7yp6x+Ol8DEz7t3haxF6XKIDt38gJn8D5rQCmQiVAKb6yF49sjnjkV8uesfjpfBB0+7d4asTeX1MA27+REz6B81sBTIVKgFJ8ZS/uFcATy56x+OkUwPZvcVUAv64Atn8jJ3wC57cCmAqVAKX4yl68fVPEw68te8aip6veBFL956vdAlMi9v12xMBgu8dw9xMu4PxWAFOhEqAUX9mLq1cAFcCy99h07RDYRwFsx0ZN7l06vxXAVOIEKMVX9uLqg6BHHi17xqKnG40YWVv0hJ0YbuoBEYNTOzGqIXdMwPmtAO5YYp7xaAFK8ZW9eGRTxIrDy57RdATaILDfPX4E3IZ9muR7dH4rgKnICVCKr+zF2zdGrHh52TMWP53fAWz/Fg9G7L9EAWz/Rk74BM5vBTAVKgFK8ZW9uCqAyw8oe0bTEeh7gYGI+Q8pgH2/T5N/g85vBTCVOgFK8ZW9uCqADyqA7d5krwC2e/+qux+IGHpYAWz/Rk74BM5vBTAVKgFK8ZW9ePuGiAf3KXvG4qdTANu/xVUBfEwBbP9GTvgEzm8FMBUqAUrxlb24KoDL9i57RtMRaIPAgvUKYBv2aZLv0fnd8QL48Y9/PL74xS/GXXfdFTvvvHP8wi/8Qpx99tnx0pe+dFxRFKBxMXXzQb0CuFs3Zzc1gX4SWDCsAPbTfvTJvTi/O14ATzjhhHjb294WRx99dGzbti3+/M//PG6//fa44447Ytdddx0zpgI0JlF3HzCyMWLp3O7Ob3IC/SKgAPbLTvTVfTi/O14An5nGlStXxrx58+Laa6+N173udWOGVYDGJOruA3ofBL2qu/O3fvJq/1a3forODzD1pT4IuvMheG4A57cC+FPJWLJkSRxyyCFx2223xctfPvZnuAmQP1l+pkDvFcCZgAgQaFpgwXY/Am56D/rw+Z3fCuCTsRwZGYk3v/nNsXbt2rjhhhueM67Dw8NR/ffEVxWgoaGhWLduXcyePbsPI+6WGhPo/Q7grMae3hMTIPATAQVQFJ5DQAFUAJ+MxXve85646qqreuVv/vz5z/kNs2jRoli8ePGz/j8F0J8vzxJQAIWCQH8IKID9sQ99dhcKoALYi+Rpp50WV1xxRVx33XVx4IEH/syYegWwz76D+/l2FMB+3h331iUBBbBLuz3uWRXAjhfA0dHROP300+Pyyy+Pa665pvf7fzvyJUA7otWxx/oYmI5tuHH7VsC7gPt2a5q8Med3xwvge9/73vjCF77Qe/Xv6Z/9N2fOnN7nAo71JUBjCXX4/+8VQB8D0+EEGL1fBBZs9SaQftmLProP53fHC+DAwMBzxvHv//7v49RTTx0zqgI0JlF3H+Cfgitg7/1TcO3fRP8UXPv3sJ4JnN8dL4DZWAlQVrDg9dXHwPin4AreYKO1RsC/BdyarZrMG3V+K4CpvAlQiq/sxb0PgvZBwu3d5NGIkTXtvX13/mOBqQf7IGhZeE4B57cCmPrWEKAUX9mLRzZFPHhA2TOajkAbBOY/5HcA27BPk3yPzm8FMBU5AUrxlb14+0YFsPU77HcAW7+FUf0O4MMKYPs3csIncH4rgKlQCVCKr+zFVQFccXjZMxY/nQLY+i0eGIzY7x4FsPUbOfEDOL8VwFSqBCjFV/biXgEc+9+TLhuh7dMpgG3fwYjBiP2XKIDt38gJn8D5rQCmQiVAKb6yF2/fFPHwa8qesfjpRoqfsPwBp0bs+20FsPyN3uEJnd8K4A6H5ukLBCjFV/ZiBbCA/VUA27+JUyL2/Y4C2P6NnPAJnN8KYCpUApTiK3vxyOaIR3617BmLnq768a8C2P4tnhax99cifsaH/rd/PhO8UAHntwL4QrPTWydAKb6yF49uiXjk18qe0XQE2iAwTwFswzZN9j06vxXAVOYEKMVX9uLqg6Bjfdkzljzd6EjE6GMlT9iN2QaHIgYHuzGrKXdIwPmtAO5QYJ75YAFK8ZW9eHQ4YtW7yp7RdATaILDnxX4E3IZ9muR7dH4rgKnICVCKr+zFI1siVr2j7BmLn87vALZ/i6dG7HWJAtj+jZzwCZzfCmAqVAKU4it7cVUAHz297BlLn250e+kTlj/fwLSI3T+nAJa/0zs8ofNbAdzh0Dx9gQCl+MpeXBXANQpguzfZK4Dt3r/q7qdG7KEAtn8fJ34C57cCmEqVAKX4yl48Mhyx7iNlz1j6dNUbQXy1W6B6BXDuWV4BbPcu1nL3zm8FMBUsAUrxlb14dGvEowpguzdZAWz3/v3kFcDdFMD27+PET+D8VgBTqRKgFF/Zi0e2Rqz/ZNkzlj6dVwDbv8PVK4Cz/8wrgO3fyQmfwPmtAKZCJUApvrIXjz4e8ZgC2O5N9gpgu/fvJ68AKoDt38YaJnB+K4CpWAlQiq/sxaPbIjb8Xdkzlj6ddwG3f4erVwBnvtsrgO3fyQmfwPmtAKZCJUApvrIX9wrgRWXPaDoCbRCY+bsKYBv2aZLv0fmtAKYiJ0ApvvIXVx8F46ulAqMR1b/m4qvdAgOz/VNw7d7B2u7e+a0ApsIlQCm+shdXrwBuuqLsGU1HoA0Cu7zVK4Bt2KdJvkfntwKYipwApfjKXlwVwI1fLHvG4qfzJpD2b/HUiF1/QwFs/0ZO+ATObwUwFSoBSvGVvbh6A8Hmr5U9Y/HT+afg2r/F0yJ2foMC2P6NnPAJnN8KYCpUApTiK3txrwB+vewZi55uNCKq/3y1WmBgasROxyuArd7Eem7e+a0AppIlQCm+shdXHyI8/K2yZyx+Oj8Cbv8WVwVwYfvHMMGECzi/FcBUqAQoxVf24l4B/PeyZyx+OgWw9VtcvQI449WtH8MAEy/g/FYAU6kSoBRf2YurArj1trJnLHq66se/CmDrt7j6IOjph7d+DANMvIDzWwFMpUqAUnxlL64K4OPfL3tG0xFog4AC2IZdmvR7dH4rgKnQCVCKr/zFI9vKn7HoCb0LuPXbOzij9SMYoB4B57cCmEqWAKX4yl5cvQK47Ydlz2g6Am0QmHZwG+7SPU6ygPNbAUxFToBSfGUv7v0I+N6yZyx+Oh8D0/otHhiMUABbv411DOD8VgBTuRKgFF/Zi0dHI7YtLXvG4qdTAFu/xQNTIqbOb/0YBph4Aee3AphKlQCl+Mpe3CuAy8qesfjpFMDWb3H1CqAC2PptrGMA57cCmMqVAKX4yl5cFcDtj5Q9Y/HTKYCt3+KqAE6Z1/oxDDDxAs5vBTCVKgFK8ZW9WAEse39N1w6BgQEFsB07Nel36fxWAFOhE6AUX9mLqwI48mjZMxY/nVcA27/F1SuAu7V/DBNMuIDzWwFMhUqAUnxlL+4VwLVlz2g6Am0QUADbsEuTfo/ObwUwFToBSvGVv3jEPyVW/iabsK8FBgf7+vbcXHMCzm8FMJU+AUrxlb24egVwdGPZM5qOQBsEBme24S7d4yQLOL8VwFTkBCjFV/ZiBbD9+1vtoa92C1RvAlEA272HNd2981sBTEVLgFJ85S/evqn8GU1IoJ8FegVw536+Q/fWkIDzWwFMRU+AUnzlLx7ZXP6MJU/oFcD2764C2P49rGkC57cCmIqWAKX4yl88Olz+jCVPqAC2f3erAjgwo/1zmGDCBZzfCmAqVAKU4it/sQJY/h6bsP8FFMD+36MG7tD5rQCmYidAKb7yF48+Xv6MJU/oFcD2727vFcBp7Z/DBBMu4PxWAFOhEqAUX/mLFcDy99iE/S+gAPb/HjVwh85vBTAVOwFK8VlMgAABAgQaEXB+K4Cp4AlQiq/8xaPby5/RhAT6XWBgSr/foftrQMD5rQCmYidAKb7yFyuA5e+xCftfQAHs/z1q4A6d3wpgKnYClOIrf/Gofwu4/E02Yd8LDPj3gPt+jxq4Qee3ApiKnQCl+MpfrACWv8cm7H8BBbD/96iBO3R+K4Cp2AlQiq/8xQpg+Xtswv4XUAD7f48auEPntwKYip0ApfjKX6wAlr/HJux/AQWw//eogTt0fiuAqdgJUIqv/MU+SLj8PTZh/wtUHwbti8AzBJzfCmDqm0KAUnzlL1YAy99jE/a/gALY/3vUwB06vxXAVOwEKMVnMQECBAgQaETA+a0ApoInQCm+8hd7BbD8PTZh/wt4BbD/96iBO3R+K4Cp2AlQiq/8xQpg+Xtswv4XUAD7f48auEPntwKYip0ApfgsJkCAAAECjQg4vxXAVPAEKMVnMQECBAgQaETA+a0ApoInQCk+iwkQIECAQCMCzm8FMBU8AUrxWUyAAAECBBoRcH4rgKngCVCKz2ICBAgQINCIgPO74wXwuuuui3POOSduueWWWLFiRVx++eVx0kknjTuMAjRuKg8kQIAAAQJ9I+D87ngBvOqqq+LGG2+Mo446Kt761rcqgH3zrelGCBAgQIBAfQIKYMcL4NOjNTAwoADW973mygQIECBAoG8EFEAF8MkwKoB9833pRggQIECAQK0CCqACuEMFcHh4OKr/nviqAjQ0NBTr1q2L2bNn1xpWFydAgACB8Qt8866H475Vm+LVB+0RL9vPn8/jl+vGIxVABXCHCuCiRYti8eLFz/ruUAC78QeGKQkQaI/Ae//xlvjX2x6Kj73lsDh54QHtuXF3OikCCqACuEMF0CuAk/J96UkIECCQFrjghh/FrUvXxm8dNT9e95K90tdzgbIEFEAFcIcK4DPjL0Bl/YFgGgIECBDohoDzu+MFcMOGDbFkyZJe2o888sj4xCc+Eccdd1zsvvvusWDBgjG/CwRoTCIPIECAAAECfSfg/O54Abzmmmt6he+ZX6ecckpceOGFYwZWgMYk8gACBAgQINB3As7vjhfAbCIFKCtoPQECBOoR+MBl/xXfuOvhOOONh8ZvHz1Uz5O4amsFnN8KYCq8ApTis5gAAQK1CXgXcG20RVzY+a0ApoIsQCk+iwkQIFCbwINrN8eGLdti3qwZsduu02t7Hhdup4DzWwFMJVeAUnwWEyBAgACBRgSc3wpgKngClOKzmAABAgQINCLg/FYAU8EToBSfxQQIEKhN4MYlq2Lpmk1x1It2i0P2nlXb87hwOwWc3wpgKrkClOKzmAABArUJeBNIbbRFXNj5rQCmgixAKT6LCRAgUJvAedfcG7fc/2i845gFcdyh82p7Hhdup4DzWwFMJVeAUnwWEyBAgACBRgSc3wpgKngClOKzmAABAgQINCLg/FYAU8EToBSfxQQIECBAoBEB57cCmAqeAKX4LCZAgEBtAh/+59vj6rsfiT85/iXxG0fNr+15XLidAs5vBTCVXAFK8VlMgACB2gS8C7g22iIu7PxWAFNBFqAUn8UECBCoTeBHqzbG2k1bY/5uu8Res2bU9jwu3E4B57cCmEquAKX4LCZAgAABAo0IOL8VwFTwBCjFZzEBAgQIEGhEwPmtAKaCJ0ApPosJECBQm8C371sTy9dujsP3nxMH7TWztudx4XYKOL8VwFRyBSjFZzEBAgRqE/AmkIGKlQwAABp7SURBVNpoi7iw81sBTAVZgFJ8FhMgQKA2gb/9+j3xH/etjlMWHhC/ctg+tT2PC7dTwPmtAKaSK0ApPosJECBAgEAjAs5vBTAVPAFK8VlMgAABAgQaEXB+K4Cp4AlQis9iAgQIECDQiIDzWwFMBU+AUnwWEyBAoDaBv/yXO+L6e1bGHx53cLzliP1rex4XbqeA81sBTCVXgFJ8FhMgQKA2Ae8Cro22iAs7vxXAVJAFKMVnMQECBGoTuPuh9bF643AcuOeuse+cnWt7Hhdup4DzWwFMJVeAUnwWEyBAgACBRgSc3wpgKngClOKzmAABAgQINCLg/FYAU8EToBSfxQQIEKhN4HtL18bDj22JQ/eZHQv22KW253Hhdgo4vxXAVHIFKMVnMQECBGoT8CaQ2miLuLDzWwFMBVmAUnwWEyBAoDaBc756V9x07+r4/V88KE48fN/anseF2yng/FYAU8kVoBSfxQQIECBAoBEB57cCmAqeAKX4LCZAgAABAo0IOL8VwFTwBCjFZzEBAgQIEGhEwPmtAKaCJ0ApPosJECBQm8DZX/nx7wD+r188KH71FX4HsDboll7Y+a0ApqIrQCk+iwkQIFCbgHcB10ZbxIWd3wpgKsgClOKzmAABArUJ3LZsXTyyfku8ZO9ZMbS7zwGsDbqlF3Z+K4Cp6ApQis9iAgQIECDQiIDzWwFMBU+AUnwWEyBAgACBRgSc3wpgKngClOKzmAABArUJ3LnisVi9YWsctNeusd/cnWt7Hhdup4DzWwFMJVeAUnwWEyBAoDYBbwKpjbaICzu/FcBUkAUoxWcxAQIEahM468o74vp7VsV7jzs43vzK/Wp7Hhdup4DzWwFMJVeAUnwWEyBAgACBRgSc3wpgKngClOKzmAABAgQINCLg/FYAU8EToBSfxQQIECBAoBEB57cCmAqeAKX4LCZAgEBtAp/82g/i5h+tjt95zYHxxsP2qe15XLidAs5vBTCVXAFK8VlMgACB2gS8C7g22iIu7PxWAFNBFqAUn8UECBCoTeA7962JFeu2xMv3nxMH7rlrbc/jwu0UcH4rgKnkClCKz2ICBAgQINCIgPNbAUwFT4BSfBYTIECAAIFGBJzfCmAqeAKU4rOYAAECtQncu3JDrN30eAztvnPMm7VTbc/jwu0UcH4rgKnkClCKz2ICBAjUJuBNILXRFnFh57cCmAqyAKX4LCZAgEBtAh+94va45gcr433HHxK/fuT82p7Hhdsp4PxWAFPJFaAUn8UECBAgQKARAee3ApgKngCl+CwmQIAAAQKNCDi/FcBU8AQoxWcxAQIECBBoRMD5rQCmgidAKT6LCRAgUJvAuVcviVvufzTeccyC+OX/tndtz+PC7RRwfiuAqeQKUIrPYgIECNQm4F3AtdEWcWHntwKYCrIApfgsJkCAQG0CN927KpY9ujl+bsHcOHjerNqex4XbKeD8VgBTyRWgFJ/FBAgQIECgEQHntwKYCp4ApfgsJkCAAAECjQg4vxXAVPAEKMVnMQECBGoTWLpmU6zfsi32mbNT7L7r9Nqex4XbKeD8VgBTyRWgFJ/FBAgQqE3g0A9fFVseH4mPveWwOHnhAbU9jwu3U8D5rQCmkitAKT6LCRAgMCEC967cEF+5/aH4vV88MGZMndK75v/71n3xV1feGRf/wcI4YmjuhDyPi5Qj4PxWAFNpFqAUn8UECBBIC4yMjMbCv/5GPPzYcFxwys8/+Zl/G4a3xbbtIzF3Fz/+TSMXeAHntwKYirUApfgsJkCAwA4JPLpxa/zDv98f9zyyIT799iOfXHvWlXfEDx7eEO899sVxzEF77NA1PbibAs5vBTDOPffcOOecc+Khhx6KV77ylfGZz3wmXvWqV43rO0KAxsXkQQQIEHjBAlse3x47Tfvxj3WrAvjzZ309to+MxtXvPzYO3HPX3v8+OjoaAwMDL/g5LOyegPO74wXw4osvjpNPPjk+97nPxTHHHBOf+tSn4tJLL42777475s2bN+Z3hACNSeQBBAgQeEECN9yzKv7qyjvi4Hkz47P/8+eevMb/+be7Y2i3XeJNh+8Ts3aa9oKubREB53fHC2BV+o4++uj47Gc/2/tuGBkZiaGhoTj99NPjzDPPHPM7RIDGJPIAAgQIjEugeiPHzBlTY+/ZO/Uef+vStXHSuTfG7J2mxi0ffkNMmzI4rut4EIHxCDi/O1wAt27dGrvssktcdtllcdJJJz2Zl1NOOSXWrl0bV1xxxbMyNDw8HNV/T3xVAaoK47p162L27NnjyZzHECBAgMAzBBZ96ftx4U33xR/98iHxp294Se//rX6se8Wty+PYl+7ljRwSM+ECCmCHC+Dy5ctj//33j5tuuikWLlz4ZLjOOOOMuPbaa+Pmm29+VuAWLVoUixcvftb/rgBO+PemCxIg0CGBL/7nsjjjsv+Kn3vRbvFrr9g3Tnj5PjFv1o9fCfRFoA4BBVAB3KEC6BXAOr4NXZMAga4LbN66PYa3bY/PfHNJXHDDj+ItR+wXf/u2p97l23Uf80+8gALY4QL4Qn4E/MwICtDEf1O6IgEC3RW45DtL4ws3P9D7OJdfOWyfHsTqDcPxh1/4zzjx8H3jXa9+kXf7djceEzq587vDBbBKUvUmkOojX6qPfqm+qjeBLFiwIE477TRvApnQbzUXI0CAwAsT+Meb748PXX57HL7/nPjy6a998iLVq4Y7T//xx8P4IrCjAgpgxwtg9TEw1Zs+zj///F4RrD4G5pJLLom77ror9t577zHzJEBjEnkAAQIEUgIr1m2OK/9rRew1a0a85Yj9e9eqPgdw4ce/0fscwE+97YjYd87OqeewuHsCzu+OF8Aq8tVHwDzxQdBHHHFEfPrTn+69MjieLwEaj5LHECBAYGIF/mvZ2njzZ2+MOTtPi+/8xfFPfkTMnSseiz1mTvcGkonlLvJqzm8FMBVsAUrxWUyAAIEXLLDs0U2x5JENcexLn/rQ/t8876a45YFH4zNvPzJ+7RX7veBrW1i+gPNbAUylXIBSfBYTIEBgwgS2bhuJt/3fb8V3l66Nm858vR8LT5hsmRdyfiuAqWQLUIrPYgIECEy4wCPrt/gR8ISrlndB57cCmEq1AKX4LCZAgEBtAh/84m3xzbsejvf/ykvjt35+qLbnceF2Cji/FcBUcgUoxWcxAQIEahN47z/eEv9620PxsbccFicvPKC253Hhdgo4vxXAVHIFKMVnMQECBGoTWLpmU6zb/HjsO2en2GPmjNqex4XbKeD8VgBTyRWgFJ/FBAgQIECgEQHntwKYCp4ApfgsJkCAAAECjQg4vxXAVPAEKMVnMQECBGoT+Na9q+PBtZvjiKG5cfC8mbU9jwu3U8D5rQCmkitAKT6LCRAgUJuAN4HURlvEhZ3fCmAqyAKU4rOYAAECtQmce/WS+PZ9a+Kdx7wojn/Z2P+2e2034sJ9KeD8VgBTwRSgFJ/FBAgQIECgEQHntwKYCp4ApfgsJkCAAAECjQg4vxXAVPAEKMVnMQECBAgQaETA+a0ApoInQCk+iwkQIFCbwKIvfT+u/cHK+KNfPjh+/cj5tT2PC7dTwPmtAKaSK0ApPosJECBQm4B3AddGW8SFnd8KYCrIApTis5gAAQK1CSx5ZEOs3bQ1Fuy+S8ybvVNtz+PC7RRwfiuAqeQKUIrPYgIECBAg0IiA81sBTAVPgFJ8FhMgQIAAgUYEnN8KYCp4ApTis5gAAQK1Cdxy/6Px0Lotcdh+s+OAPXet7XlcuJ0Czm8FMJVcAUrxWUyAAIHaBLwJpDbaIi7s/FYAU0EWoBSfxQQIEKhN4BNf+0H8+w9Xx+++5sA44eX71PY8LtxOAee3AphKrgCl+CwmQIAAAQKNCDi/FcBU8AQoxWcxAQIECBBoRMD5rQCmgidAKT6LCRAgQIBAIwLObwUwFTwBSvFZTIAAgdoE/ve/3hk33LMq3nPsi+O/v3K/2p7Hhdsp4PxWAFPJFaAUn8UECBCoTcC7gGujLeLCzm8FMBVkAUrxWUyAAIHaBO5Y/lis2jAcL543M/afu3Ntz+PC7RRwfiuAqeQKUIrPYgIECBAg0IiA81sBTAVPgFJ8FhMgQIAAgUYEnN8KYCp4ApTis5gAAQK1Cdz+4LpYuX44Dtl7ZszfbZfanseF2yng/FYAU8kVoBSfxQQIEKhNwJtAaqMt4sLObwUwFWQBSvFZTIAAgdoE/vqqu+Kme1fFH7zuxfGrr9i3tudx4XYKOL8VwFRyBSjFZzEBAgQIEGhEwPmtAKaCJ0ApPosJECBAgEAjAs5vBTAVPAFK8VlMgAABAgQaEXB+K4Cp4AlQis9iAgQI1CbwN1+9O771w9Xxe689MN50uN8BrA26pRd2fiuAqegKUIrPYgIECNQm4F3AtdEWcWHntwKYCrIApfgsJkCAQG0C333g0Xj4seF42b6zY8EePgewNuiWXtj5rQCmoitAKT6LCRAgQIBAIwLObwUwFTwBSvFZTIAAAQIEGhFwfiuAqeAJUIrPYgIECNQm8IOH18eajVvjgD12jX3m7FTb87hwOwWc3wpgKrkClOKzmAABArUJeBNIbbRFXNj5rQCmgixAKT6LCRAgUJvAx758R1x3z8o4/fUHx1uO2L+253Hhdgo4vxXAVHIFKMVnMQECBAgQaETA+a0ApoInQCk+iwkQIECAQCMCzm8FMBU8AUrxWUyAAAECBBoRcH4rgKngCVCKz2ICBAjUJvDpb9wT375vTZy88IB4w8v2ru15XLidAs5vBTCVXAFK8VlMgACB2gS8C7g22iIu7PxWAFNBFqAUn8UECBCoTeA/frQmlq/dHIfPnxMv3mtmbc/jwu0UcH4rgKnkClCKz2ICBAgQINCIgPNbAUwFT4BSfBYTIECAAIFGBJzfCmAqeAKU4rOYAAECtQnct2pjrNv8eOw3d+fYa9aM2p7Hhdsp4PxWAFPJFaAUn8UECBCoTcCbQGqjLeLCzm8FMBVkAUrxWUyAAIHaBD50+W1xzd0r40/e8JL4zaPm1/Y8LtxOAee3AphKrgCl+CwmQIAAAQKNCDi/FcBU8AQoxWcxAQIECBBoRMD5rQCmgidAKT6LCRAgQIBAIwLObwUwFTwBSvFZTIAAgdoEzr/23rjl/kfj7a9aEMcdOq+253Hhdgo4vxXAVHIFKMVnMQECBGoT8C7g2miLuLDzWwFMBVmAUnwWEyBAoDaB6+9ZGUvXbI6fP2C3eMnes2p7Hhdup4DzWwFMJVeAUnwWEyBAgACBRgSc3wpgKngClOKzmAABAgQINCLg/FYAU8EToBSfxQQIEKhNYPnazbFxeFvvn4Gbu8v02p7Hhdsp4PxWAFPJFaAUn8UECBCoTcCbQGqjLeLCzu8OF8Czzjorrrzyyrj11ltj+vTpsXbt2h0OtQDtMJkFBAgQmBSBMy77Xnz9zkfiAye8NP7H0Qsm5Tk9SXsEnN8dLoAf/ehHY+7cubFs2bK44IILFMD2fN+6UwIECBAgkBJQADtcAJ9IzoUXXhjve9/7FMDUt5LFBAgQIECgPQIKoAIYO1IAh4eHo/rvia8qQENDQ7Fu3bqYPXt2e5LvTgkQIECAQIcFFEAFcIcK4KJFi2Lx4sXP+pZRADv8p4jRCRDoS4Etj2+PkdHRmDZlsPefLwJPF1AACyuAZ555Zpx99tnPm/I777wzDj300Ccf4xVAfygQIECAAIFuCSiAhRXAlStXxurVq583xQcddFDvXb9PfO1IAXzmhQWoW39gmJYAAQIEyhBwfhdWAF9ILBXAF6JmDQECBAgQaK+AAtjhAvjAAw/EmjVr4ktf+lKcc845cf311/eSfPDBB8fMmTPHlWoBGheTBxEgQIAAgb4ScH53uACeeuqpcdFFFz0rkFdffXUce+yx4wqqAI2LyYMIECBAgEBfCTi/O1wAJyKJAjQRiq5BgAABAgQmV8D5rQCmEidAKT6LCRAgQIBAIwLObwUwFTwBSvFZTIAAAQIEGhFwfiuAqeAJUIrPYgIECBAg0IiA81sBTAVPgFJ8FhMgQIAAgUYEnN8KYCp4ApTis5gAAQIECDQi4PxWAFPBE6AUn8UECBAgQKARAee3ApgKngCl+CwmQIAAAQKNCDi/FcBU8AQoxWcxAQIECBBoRMD5rQCmgidAKT6LCRAgQIBAIwLObwUwFbx169bF3LlzY+nSpTF79uzUtSwmQIAAAQIEJkegKoBDQ0Oxdu3amDNnzuQ8aZ89y8Do6Ohon91Ta25n2bJlvQD5IkCAAAECBNonUL2AM3/+/Pbd+ATcsQKYQBwZGYnly5fHrFmzYmBgIHGl9ix94m9NXvUce89YjW30xCNYjc+K0/icqkexYvV8AtVrX+vXr4/99tsvBgcHx49V0CMVwII2czJG8XsT41dmxWr8AuN7pEyNz+mJAlj9aK/6VR2/ovP8bnI1/lyV9EgFsKTdnIRZ/EExfmRWrMYvML5HytT4nBTA8Tux2jGrkh6tAJa0m5MwiwNo/MisWI1fYHyPlKnxOSk143ditWNWJT1aASxpNydhluHh4fj4xz8eH/zgB2PGjBmT8IztfQpW4987VuOz4jQ+p+pRrFiNX6Cbj1QAu7nvpiZAgAABAgQ6LKAAdnjzjU6AAAECBAh0U0AB7Oa+m5oAAQIECBDosIAC2OHNNzoBAgQIECDQTQEFsJv7bmoCBAgQIECgwwIKYIc3f6JGr95td8wxx8T3vve9+O53vxtHHHHERF26mOu8+c1vjltvvTUeeeSR2G233eL444+Ps88+u/cp9L6eErjvvvviL//yL+Ob3/xmPPTQQz2fd77znfGhD30opk+fjuoZAmeddVZceeWVvWxVPtW/a+rrxwLnnntunHPOOb0cvfKVr4zPfOYz8apXvQrP0wSuu+66ntEtt9wSK1asiMsvvzxOOukkRh0RUAA7stF1jvnHf/zHcc8998RVV12lAP4M6E9+8pOxcOHC2HfffePBBx+M97///b1H3nTTTXVuTeuu/ZWvfCUuvvjiePvb3x4HH3xw3H777fH7v//78a53vSv+5m/+pnXz1H3DH/3oR2Pu3LlR/bvkF1xwgQL4E/AqQyeffHJ87nOf6/3l9FOf+lRceumlcffdd8e8efPq3pbWXL/6M/vGG2+Mo446Kt761rcqgK3ZuYm5UQVwYhw7e5XqD5A//dM/jX/6p3+Kww47TAEcZxK+9KUv9f6mXb16Om3atHGu6ubDqlcozjvvvPjhD3/YTYBxTH3hhRfG+973PgXwJ1ZV6Tv66KPjs5/9bO9/qf7d9qGhoTj99NPjzDPPHIdo9x5S/Xv2XgHs1r4rgN3a7wmd9uGHH+79zfGf//mfY88994wDDzxQARyH8Jo1a+I973lP75XAG264YRwruv2Qv/iLv4jqlcHvfOc73YZ4nukVwKdwtm7dGrvssktcdtllP/XjzFNOOaVXkK+44go5eg4BBbB7sVAAu7fnEzLx6OhonHjiifGa17wmqgO6+t0tBfD5aT/wgQ/0XpHYtGlTvPrVr45/+Zd/iT322GNC9qPUiyxZsqT3l4zqx7/Vj4J9PbeAAviUy/Lly2P//ffv/XpF9WsXT3ydccYZce2118bNN98sRgqgDESEAigGPyVQ/XikenPC833deeed8W//9m9xySWX9P5AnTJlSicL4HitDj300B7nqlWronr17/7774/FixfHnDlzeiWw+pt36V87alV5VK+Q/tIv/VIce+yx8fnPf750oifneyFWCqACmP0G8QpgVrB96xXA9u1ZrXe8cuXKWL169fM+x0EHHRS//du/HV/+8pd/qrxs3769Vwbf8Y53xEUXXVTrffbDxcdr9VzvXq1+ab/6naRnvkrRD3PVcQ87alW9ilMVv+qV0qrcDA4O1nFbfXnNHbWqhlAAn9pKPwJ+YbFWAF+YW5tXKYBt3r0G7/2BBx6Ixx577Mk7qA7sN77xjb3fu6l+AXv+/PkN3l3/P3Xl96IXvSiuvvrqXtHx9ZRA9crfcccd1/vR7z/8wz/0/lLh6/kFFMCf9qn+DKo+8qX66Jfqq3oTyIIFC+K0007zJpCfESUFsHt/yiiA3dvzWib2O4A/m7X6naNvf/vb8drXvrb3GYD33ntvfPjDH47qTTTf//73Y8aMGbXsSRsvWpW/qhBX5bh6Ffnp5W+fffZp40i13nP1F4nq1wqqd5VX75a+/vrre89XfYTOzJkza33ufr549TEw1Zs+zj///F4RrD4GpvqVlbvuuiv23nvvfr71Sb23DRs2RPV7ttXXkUceGZ/4xCd6f/nafffde4XZV9kCCmDZ+ztp0ymAP5v6tttui+qzEqsPyt64cWPvswBPOOGE3ptnql9W9/WUQPVK1u/8zu88J0n1xiNfPy1w6qmnPuevW3hlOXpvuHrig6CrD6f/9Kc/3fvphK+nBK655ppe4XvmV1Weq+9FX2ULKIBl76/pCBAgQIAAAQLPElAAhYIAAQIECBAg0DEBBbBjG25cAgQIECBAgIACKAMECBAgQIAAgY4JKIAd23DjEiBAgAABAgQUQBkgQIAAAQIECHRMQAHs2IYblwABAgQIECCgAMoAAQIECBAgQKBjAgpgxzbcuAQIECBAgAABBVAGCBAgQIAAAQIdE1AAO7bhxiVAgAABAgQIKIAyQIAAAQIECBDomIAC2LENNy4BAgQIECBAQAGUAQIECBAgQIBAxwQUwI5tuHEJECBAgAABAgqgDBAgQIAAAQIEOiagAHZsw41LgAABAgQIEFAAZYAAAQIECBAg0DEBBbBjG25cAgQIECBAgIACKAMECBAgQIAAgY4JKIAd23DjEiBAgAABAgQUQBkgQIAAAQIECHRMQAHs2IYblwABAgQIECCgAMoAAQIECBAgQKBjAgpgxzbcuAQIECBAgAABBVAGCBAgQIAAAQIdE1AAO7bhxiVAgAABAgQIKIAyQIAAAQIECBDomIAC2LENNy4BAgQIECBAQAGUAQIECBAgQIBAxwQUwI5tuHEJECBAgAABAgqgDBAgQIAAAQIEOibw/wEkcQBfdGDQ3gAAAABJRU5ErkJggg==\" width=\"640\">"
      ],
      "text/plain": [
       "<IPython.core.display.HTML object>"
      ]
     },
     "metadata": {},
     "output_type": "display_data"
    },
    {
     "data": {
      "text/plain": [
       "(-3.15000000021, 0.15000000001000002, -1.22425, 3.70925)"
      ]
     },
     "execution_count": 93,
     "metadata": {},
     "output_type": "execute_result"
    }
   ],
   "source": [
    "fig, ax = plt.subplots()\n",
    "scene.plot(ax)    \n",
    "ax.axis(\"equal\")"
   ]
  },
  {
   "cell_type": "code",
   "execution_count": 94,
   "metadata": {},
   "outputs": [
    {
     "data": {
      "text/plain": [
       "array([6.67128189e-09, 0.00000000e+00])"
      ]
     },
     "execution_count": 94,
     "metadata": {},
     "output_type": "execute_result"
    }
   ],
   "source": [
    "# All momenta values need to be multiplied by h (Planck's constant) * 1e-9 (wavelength is stored in nm)\n",
    "scene.momentum*6.62607004e-34*1e9"
   ]
  },
  {
   "cell_type": "code",
   "execution_count": 95,
   "metadata": {},
   "outputs": [
    {
     "data": {
      "text/plain": [
       "6.671281903963041e-09"
      ]
     },
     "execution_count": 95,
     "metadata": {},
     "output_type": "execute_result"
    }
   ],
   "source": [
    "2*1/299792458"
   ]
  },
  {
   "cell_type": "code",
   "execution_count": 99,
   "metadata": {},
   "outputs": [
    {
     "data": {
      "text/plain": [
       "-1.3342563782174555e-08"
      ]
     },
     "execution_count": 99,
     "metadata": {},
     "output_type": "execute_result"
    }
   ],
   "source": [
    "# Angular momentum\n",
    "scene.objects[0].angular_momentum*6.62607004e-34*1e9"
   ]
  },
  {
   "cell_type": "code",
   "execution_count": 98,
   "metadata": {},
   "outputs": [
    {
     "data": {
      "text/plain": [
       "-1.3342563807926082e-08"
      ]
     },
     "execution_count": 98,
     "metadata": {},
     "output_type": "execute_result"
    }
   ],
   "source": [
    "-2*1/299792458*2"
   ]
  },
  {
   "cell_type": "markdown",
   "metadata": {},
   "source": [
    "# Profiling?"
   ]
  },
  {
   "cell_type": "code",
   "execution_count": 172,
   "metadata": {},
   "outputs": [
    {
     "name": "stdout",
     "output_type": "stream",
     "text": [
      "The snakeviz extension is already loaded. To reload it, use:\n",
      "  %reload_ext snakeviz\n"
     ]
    }
   ],
   "source": [
    "import cProfile\n",
    "%load_ext snakeviz"
   ]
  },
  {
   "cell_type": "code",
   "execution_count": 173,
   "metadata": {},
   "outputs": [
    {
     "name": "stdout",
     "output_type": "stream",
     "text": [
      " \n",
      "*** Profile stats marshalled to file '/tmp/tmpc5mk6x8d'. \n",
      "Embedding SnakeViz in this document...\n"
     ]
    },
    {
     "data": {
      "text/html": [
       "\n",
       "<iframe id='snakeviz-9acbf406-c83f-11ea-b815-f079590a236e' frameborder=0 seamless width='100%' height='1000'></iframe>\n",
       "<script>document.getElementById(\"snakeviz-9acbf406-c83f-11ea-b815-f079590a236e\").setAttribute(\"src\", \"http://\" + document.location.hostname + \":8080/snakeviz/%2Ftmp%2Ftmpc5mk6x8d\")</script>\n"
      ],
      "text/plain": [
       "<IPython.core.display.HTML object>"
      ]
     },
     "metadata": {},
     "output_type": "display_data"
    }
   ],
   "source": [
    "sc_dsc = {\n",
    "    \"rays\": two_d_tracer.RayBundle([0,1.5], [0,-1], 1, 10000, 600, two_d_tracer.gaussian_intensity_factory(1,0.5,[0,1.5])).rays,\n",
    "    \"objects\": [two_d_tracer.Sphere([0,0],1.5,n_in=n_glass, mask=[0,np.pi])]\n",
    "}\n",
    "scene = two_d_tracer.Scene(**sc_dsc)\n",
    "%snakeviz scene.run()"
   ]
  },
  {
   "cell_type": "code",
   "execution_count": 174,
   "metadata": {},
   "outputs": [],
   "source": [
    "v = np.array([5,2])"
   ]
  },
  {
   "cell_type": "code",
   "execution_count": 175,
   "metadata": {},
   "outputs": [
    {
     "name": "stdout",
     "output_type": "stream",
     "text": [
      "4.55 µs ± 115 ns per loop (mean ± std. dev. of 7 runs, 100000 loops each)\n"
     ]
    }
   ],
   "source": [
    "%timeit two_d_tracer.normalize(v)"
   ]
  },
  {
   "cell_type": "code",
   "execution_count": 176,
   "metadata": {},
   "outputs": [
    {
     "name": "stdout",
     "output_type": "stream",
     "text": [
      "4.44 µs ± 84 ns per loop (mean ± std. dev. of 7 runs, 100000 loops each)\n"
     ]
    }
   ],
   "source": [
    "def normalize(v):\n",
    "    return v / np.sqrt(v.dot(v))\n",
    "%timeit normalize(v)"
   ]
  },
  {
   "cell_type": "code",
   "execution_count": 177,
   "metadata": {},
   "outputs": [
    {
     "name": "stdout",
     "output_type": "stream",
     "text": [
      "4.33 µs ± 113 ns per loop (mean ± std. dev. of 7 runs, 100000 loops each)\n"
     ]
    }
   ],
   "source": [
    "def normalize(v):\n",
    "    return v / np.sqrt(v[0]**2+v[1]**2)\n",
    "%timeit normalize(v)"
   ]
  },
  {
   "cell_type": "code",
   "execution_count": 178,
   "metadata": {},
   "outputs": [
    {
     "name": "stdout",
     "output_type": "stream",
     "text": [
      "141 ns ± 12.8 ns per loop (mean ± std. dev. of 7 runs, 10000000 loops each)\n"
     ]
    }
   ],
   "source": [
    "%%timeit\n",
    "l = [0,1,2,3,4]\n",
    "l.append(5)"
   ]
  },
  {
   "cell_type": "code",
   "execution_count": 179,
   "metadata": {},
   "outputs": [
    {
     "name": "stdout",
     "output_type": "stream",
     "text": [
      "129 ns ± 7.68 ns per loop (mean ± std. dev. of 7 runs, 10000000 loops each)\n"
     ]
    }
   ],
   "source": [
    "%%timeit\n",
    "l = [0,1,2,3,4]\n",
    "l += [5]"
   ]
  },
  {
   "cell_type": "code",
   "execution_count": 180,
   "metadata": {},
   "outputs": [],
   "source": [
    "def nm_to_hsv(wvl, margin=30):\n",
    "    wv = np.array([380, 460, 480, 515, 590, 630, 670])\n",
    "    hv = np.array([197, 174, 135, 89, 42, 23, 0])/255\n",
    "    h = np.interp(wvl, wv, hv)\n",
    "    v = np.interp(wvl, [380, 380+margin, 740-margin, 740], [0, 1, 1, 0])\n",
    "    return (h, 1, v)"
   ]
  },
  {
   "cell_type": "code",
   "execution_count": 181,
   "metadata": {},
   "outputs": [
    {
     "name": "stdout",
     "output_type": "stream",
     "text": [
      "15.7 µs ± 277 ns per loop (mean ± std. dev. of 7 runs, 100000 loops each)\n"
     ]
    }
   ],
   "source": [
    "%timeit nm_to_hsv(523)"
   ]
  },
  {
   "cell_type": "code",
   "execution_count": 182,
   "metadata": {},
   "outputs": [],
   "source": [
    "from scipy.interpolate import interp1d\n",
    "wv = np.array([380, 460, 480, 515, 590, 630, 670])\n",
    "hv = np.array([197, 174, 135, 89, 42, 23, 0])/255\n",
    "h = interp1d(wv, hv, kind=\"linear\")\n",
    "v = interp1d([380, 380+30, 740-30, 740], [0, 1, 1, 0], kind=\"linear\")\n",
    "def nm_to_hsv2(wvl):\n",
    "    return (h(wvl), 1, v(wvl))"
   ]
  },
  {
   "cell_type": "code",
   "execution_count": 183,
   "metadata": {},
   "outputs": [
    {
     "name": "stdout",
     "output_type": "stream",
     "text": [
      "123 µs ± 15.7 µs per loop (mean ± std. dev. of 7 runs, 10000 loops each)\n"
     ]
    }
   ],
   "source": [
    "%timeit nm_to_hsv2(523)"
   ]
  },
  {
   "cell_type": "code",
   "execution_count": 184,
   "metadata": {},
   "outputs": [
    {
     "name": "stdout",
     "output_type": "stream",
     "text": [
      "79.3 µs ± 3.43 µs per loop (mean ± std. dev. of 7 runs, 10000 loops each)\n"
     ]
    }
   ],
   "source": [
    "%timeit two_d_tracer.nm_to_rgb(532)"
   ]
  },
  {
   "cell_type": "code",
   "execution_count": 185,
   "metadata": {},
   "outputs": [],
   "source": [
    "from skimage.color import hsv2rgb\n",
    "def nm_to_rgb(wvl, margin=30):\n",
    "    wv = np.array([380, 460, 480, 515, 590, 630, 670])\n",
    "    hv = np.array([197, 174, 135, 89, 42, 23, 0])/255\n",
    "    h = np.interp(wvl, wv, hv)\n",
    "    v = np.interp(wvl, [380, 380+margin, 740-margin, 740], [0, 1, 1, 0])\n",
    "    return hsv2rgb((h, 1, v))"
   ]
  },
  {
   "cell_type": "code",
   "execution_count": 186,
   "metadata": {},
   "outputs": [
    {
     "name": "stdout",
     "output_type": "stream",
     "text": [
      "141 µs ± 17.7 µs per loop (mean ± std. dev. of 7 runs, 10000 loops each)\n"
     ]
    }
   ],
   "source": [
    "%timeit nm_to_rgb(532)"
   ]
  },
  {
   "cell_type": "code",
   "execution_count": null,
   "metadata": {},
   "outputs": [],
   "source": []
  }
 ],
 "metadata": {
  "kernelspec": {
   "display_name": "UROP20",
   "language": "python",
   "name": "urop20"
  },
  "language_info": {
   "codemirror_mode": {
    "name": "ipython",
    "version": 3
   },
   "file_extension": ".py",
   "mimetype": "text/x-python",
   "name": "python",
   "nbconvert_exporter": "python",
   "pygments_lexer": "ipython3",
   "version": "3.7.7"
  },
  "notify_time": "5"
 },
 "nbformat": 4,
 "nbformat_minor": 4
}
