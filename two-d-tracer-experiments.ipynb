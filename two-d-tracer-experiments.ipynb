{
 "cells": [
  {
   "cell_type": "code",
   "execution_count": 521,
   "metadata": {},
   "outputs": [],
   "source": [
    "import numpy as np\n",
    "import matplotlib.pyplot as plt\n",
    "%matplotlib notebook"
   ]
  },
  {
   "cell_type": "code",
   "execution_count": 2,
   "metadata": {},
   "outputs": [],
   "source": [
    "rad = lambda x: x/180*np.pi"
   ]
  },
  {
   "cell_type": "code",
   "execution_count": 604,
   "metadata": {},
   "outputs": [
    {
     "data": {
      "text/plain": [
       "<module 'two_d_tracer' from '/home/jdranczewski/Documents/Imperial/UROP20/optical-levitation-raytracing-experiments/two_d_tracer.py'>"
      ]
     },
     "execution_count": 604,
     "metadata": {},
     "output_type": "execute_result"
    }
   ],
   "source": [
    "import importlib\n",
    "import two_d_tracer\n",
    "importlib.reload(two_d_tracer)"
   ]
  },
  {
   "cell_type": "markdown",
   "metadata": {
    "heading_collapsed": true
   },
   "source": [
    "# Mirrors"
   ]
  },
  {
   "cell_type": "code",
   "execution_count": 431,
   "metadata": {
    "hidden": true
   },
   "outputs": [],
   "source": [
    "scene = two_d_tracer.Scene([two_d_tracer.Ray([-10, y], [1,0]) for y in np.linspace(-2.5,2.5, 5)],\n",
    "                           [two_d_tracer.Mirror([0,0],[-np.cos(rad(45/2)),-np.sin(rad(45/2))]),\n",
    "                           two_d_tracer.Mirror([0,-5], [0,1])])"
   ]
  },
  {
   "cell_type": "code",
   "execution_count": 432,
   "metadata": {
    "hidden": true
   },
   "outputs": [
    {
     "data": {
      "text/plain": [
       "[Ray([-10.   -2.5], [1. 0.]),\n",
       " Ray([-10.    -1.25], [1. 0.]),\n",
       " Ray([-10.   0.], [1. 0.]),\n",
       " Ray([-10.     1.25], [1. 0.]),\n",
       " Ray([-10.    2.5], [1. 0.])]"
      ]
     },
     "execution_count": 432,
     "metadata": {},
     "output_type": "execute_result"
    }
   ],
   "source": [
    "scene.rays"
   ]
  },
  {
   "cell_type": "code",
   "execution_count": 433,
   "metadata": {
    "hidden": true
   },
   "outputs": [],
   "source": [
    "scene.run(margin=1e-10)"
   ]
  },
  {
   "cell_type": "code",
   "execution_count": 434,
   "metadata": {
    "hidden": true
   },
   "outputs": [
    {
     "data": {
      "text/plain": [
       "(-10.551776695296637, 1.5873106012293765, -5.375000000000001, 2.875)"
      ]
     },
     "execution_count": 434,
     "metadata": {},
     "output_type": "execute_result"
    },
    {
     "data": {
      "image/png": "[encoded data removed]",
      "text/plain": [
       "<Figure size 432x288 with 1 Axes>"
      ]
     },
     "metadata": {
      "needs_background": "light"
     },
     "output_type": "display_data"
    }
   ],
   "source": [
    "fig, ax = plt.subplots()\n",
    "scene.plot(ax)\n",
    "ax.axis(\"equal\")"
   ]
  },
  {
   "cell_type": "markdown",
   "metadata": {
    "heading_collapsed": true
   },
   "source": [
    "# Refracting surfaces"
   ]
  },
  {
   "cell_type": "code",
   "execution_count": 435,
   "metadata": {
    "hidden": true
   },
   "outputs": [],
   "source": [
    "sc_dsc = {\n",
    "    \"rays\": [two_d_tracer.Ray([-10, y], [1,0]) for y in np.linspace(-2.5,2.5, 5)],\n",
    "    \"objects\": [two_d_tracer.RefractiveSurface([0,0], [-1, -1], 1, 1.5)]\n",
    "}\n",
    "scene = two_d_tracer.Scene(**sc_dsc)"
   ]
  },
  {
   "cell_type": "code",
   "execution_count": 436,
   "metadata": {
    "hidden": true,
    "scrolled": false
   },
   "outputs": [],
   "source": [
    "scene.run()"
   ]
  },
  {
   "cell_type": "code",
   "execution_count": 437,
   "metadata": {
    "hidden": true
   },
   "outputs": [
    {
     "data": {
      "text/plain": [
       "(-10.672847144899352, 4.129790042886396, -2.764513811559352, 3.054790042746397)"
      ]
     },
     "execution_count": 437,
     "metadata": {},
     "output_type": "execute_result"
    },
    {
     "data": {
      "image/png": "[encoded data removed]",
      "text/plain": [
       "<Figure size 432x288 with 1 Axes>"
      ]
     },
     "metadata": {
      "needs_background": "light"
     },
     "output_type": "display_data"
    }
   ],
   "source": [
    "fig, ax = plt.subplots()\n",
    "scene.plot(ax)    \n",
    "ax.axis(\"equal\")"
   ]
  },
  {
   "cell_type": "code",
   "execution_count": 438,
   "metadata": {
    "hidden": true
   },
   "outputs": [
    {
     "data": {
      "text/plain": [
       "[Ray([ 3.4569429  -2.20972377], [0.9569429  0.29027623]),\n",
       " Ray([ 2.2069429  -0.95972377], [0.9569429  0.29027623]),\n",
       " Ray([0.9569429  0.29027623], [0.9569429  0.29027623]),\n",
       " Ray([-0.2930571   1.54027623], [0.9569429  0.29027623]),\n",
       " Ray([-1.5430571   2.79027623], [0.9569429  0.29027623])]"
      ]
     },
     "execution_count": 438,
     "metadata": {},
     "output_type": "execute_result"
    }
   ],
   "source": [
    "scene.rays"
   ]
  },
  {
   "cell_type": "code",
   "execution_count": 439,
   "metadata": {
    "hidden": true
   },
   "outputs": [
    {
     "data": {
      "text/plain": [
       "0.2945154851081369"
      ]
     },
     "execution_count": 439,
     "metadata": {},
     "output_type": "execute_result"
    }
   ],
   "source": [
    "scene.rays[0].angle"
   ]
  },
  {
   "cell_type": "code",
   "execution_count": 440,
   "metadata": {
    "hidden": true
   },
   "outputs": [
    {
     "data": {
      "text/plain": [
       "0.29451548510813697"
      ]
     },
     "execution_count": 440,
     "metadata": {},
     "output_type": "execute_result"
    }
   ],
   "source": [
    "# Compare to Snell's (algebra in Xournal)\n",
    "rad(45) - np.arcsin(1/1.5*np.sin(rad(45)))"
   ]
  },
  {
   "cell_type": "markdown",
   "metadata": {
    "heading_collapsed": true
   },
   "source": [
    "# A glass slab"
   ]
  },
  {
   "cell_type": "code",
   "execution_count": 441,
   "metadata": {
    "hidden": true
   },
   "outputs": [],
   "source": [
    "sc_dsc = {\n",
    "    \"rays\": [two_d_tracer.Ray([-5, y], [1,-0.5]) for y in np.linspace(-2.5,2.5, 5)],\n",
    "    \"objects\": [two_d_tracer.RefractiveSurface([0,0], [-1, 0], 1, 1.5),\n",
    "                two_d_tracer.RefractiveSurface([2,0], [1, 0], 1, 1.5)]\n",
    "}\n",
    "scene = two_d_tracer.Scene(**sc_dsc)"
   ]
  },
  {
   "cell_type": "code",
   "execution_count": 442,
   "metadata": {
    "hidden": true
   },
   "outputs": [
    {
     "data": {
      "text/plain": [
       "-0.4636476090008061"
      ]
     },
     "execution_count": 442,
     "metadata": {},
     "output_type": "execute_result"
    }
   ],
   "source": [
    "scene.rays[0].angle"
   ]
  },
  {
   "cell_type": "code",
   "execution_count": 443,
   "metadata": {
    "hidden": true
   },
   "outputs": [
    {
     "data": {
      "text/plain": [
       "-0.30274595162300433"
      ]
     },
     "execution_count": 443,
     "metadata": {},
     "output_type": "execute_result"
    }
   ],
   "source": [
    "np.arcsin(1/1.5*np.sin(scene.rays[0].angle))"
   ]
  },
  {
   "cell_type": "code",
   "execution_count": 444,
   "metadata": {
    "hidden": true
   },
   "outputs": [
    {
     "name": "stdout",
     "output_type": "stream",
     "text": [
      "-0.30274595162300433\n"
     ]
    }
   ],
   "source": [
    "scene.step()\n",
    "scene.propagate(1e-14)\n",
    "print(scene.rays[0].angle)\n",
    "scene.step()\n",
    "scene.propagate(1e-14)\n",
    "scene.step()"
   ]
  },
  {
   "cell_type": "code",
   "execution_count": 445,
   "metadata": {
    "hidden": true
   },
   "outputs": [
    {
     "data": {
      "text/plain": [
       "(-5.4, 3.4, -6.500504075207105, 2.9285954321527194)"
      ]
     },
     "execution_count": 445,
     "metadata": {},
     "output_type": "execute_result"
    },
    {
     "data": {
      "image/png": "[encoded data removed]",
      "text/plain": [
       "<Figure size 432x288 with 1 Axes>"
      ]
     },
     "metadata": {
      "needs_background": "light"
     },
     "output_type": "display_data"
    }
   ],
   "source": [
    "fig, ax = plt.subplots()\n",
    "scene.plot(ax)   \n",
    "ax.axis(\"equal\")"
   ]
  },
  {
   "cell_type": "code",
   "execution_count": 421,
   "metadata": {
    "hidden": true
   },
   "outputs": [
    {
     "data": {
      "text/plain": [
       "-0.463647609000806"
      ]
     },
     "execution_count": 421,
     "metadata": {},
     "output_type": "execute_result"
    }
   ],
   "source": [
    "scene.rays[0].angle"
   ]
  },
  {
   "cell_type": "markdown",
   "metadata": {
    "heading_collapsed": true
   },
   "source": [
    "# Retroreflector"
   ]
  },
  {
   "cell_type": "code",
   "execution_count": 422,
   "metadata": {
    "hidden": true
   },
   "outputs": [],
   "source": [
    "sc_dsc = {\n",
    "    \"rays\": [two_d_tracer.Ray([-5, y], [1,0]) for y in np.linspace(0.1,2.5, 5)],\n",
    "    \"objects\": [two_d_tracer.RefractiveSurface([0,2], [1, 1], 1, 1.5),\n",
    "                two_d_tracer.RefractiveSurface([0,-2], [1, -1], 1, 1.5)]\n",
    "}\n",
    "scene = two_d_tracer.Scene(**sc_dsc)"
   ]
  },
  {
   "cell_type": "code",
   "execution_count": 423,
   "metadata": {
    "hidden": true
   },
   "outputs": [],
   "source": [
    "scene.run()"
   ]
  },
  {
   "cell_type": "code",
   "execution_count": 424,
   "metadata": {
    "hidden": true
   },
   "outputs": [
    {
     "data": {
      "text/plain": [
       "(-5.345, 2.244999999999999, -2.9778174593052023, 2.9778174593052023)"
      ]
     },
     "execution_count": 424,
     "metadata": {},
     "output_type": "execute_result"
    },
    {
     "data": {
      "image/png": "[encoded data removed]",
      "text/plain": [
       "<Figure size 432x288 with 1 Axes>"
      ]
     },
     "metadata": {
      "needs_background": "light"
     },
     "output_type": "display_data"
    }
   ],
   "source": [
    "fig, ax = plt.subplots()\n",
    "scene.plot(ax)\n",
    "ax.axis(\"equal\")"
   ]
  },
  {
   "cell_type": "code",
   "execution_count": 425,
   "metadata": {
    "hidden": true
   },
   "outputs": [
    {
     "data": {
      "text/plain": [
       "[Ray([ 0.9 -0.1], [-1.  0.]),\n",
       " Ray([ 0.3 -0.7], [-1.  0.]),\n",
       " Ray([-0.3 -1.3], [-1.  0.]),\n",
       " Ray([-0.9 -1.9], [-1.  0.]),\n",
       " Ray([-1.5 -2.5], [-1.  0.])]"
      ]
     },
     "execution_count": 425,
     "metadata": {},
     "output_type": "execute_result"
    }
   ],
   "source": [
    "scene.rays"
   ]
  },
  {
   "cell_type": "markdown",
   "metadata": {
    "heading_collapsed": true
   },
   "source": [
    "# Ray canvas"
   ]
  },
  {
   "cell_type": "code",
   "execution_count": 426,
   "metadata": {
    "hidden": true
   },
   "outputs": [],
   "source": [
    "canvas = two_d_tracer.RayCanvas([0,-3], [0,1])\n",
    "sc_dsc = {\n",
    "    \"rays\": [two_d_tracer.Ray([-5, y], [1,0]) for y in np.linspace(-2.5,2.5, 5)],\n",
    "    \"objects\": [two_d_tracer.RefractiveSurface([0,0], [1, 1], 1, 1.5),\n",
    "                canvas]\n",
    "}\n",
    "scene = two_d_tracer.Scene(**sc_dsc)"
   ]
  },
  {
   "cell_type": "code",
   "execution_count": 427,
   "metadata": {
    "hidden": true
   },
   "outputs": [],
   "source": [
    "scene.run()"
   ]
  },
  {
   "cell_type": "code",
   "execution_count": 428,
   "metadata": {
    "hidden": true
   },
   "outputs": [
    {
     "data": {
      "text/plain": [
       "RayCanvas([0, -3], [0. 1.]): [2.5, 1.2499999999999996, 6.66133814775094e-16, -1.2499999999999991, -2.4999999999999987]"
      ]
     },
     "execution_count": 428,
     "metadata": {},
     "output_type": "execute_result"
    }
   ],
   "source": [
    "canvas"
   ]
  },
  {
   "cell_type": "code",
   "execution_count": 429,
   "metadata": {
    "hidden": true
   },
   "outputs": [
    {
     "data": {
      "text/plain": [
       "(-5.375, 2.875, -4.32500000021, 2.82500000001)"
      ]
     },
     "execution_count": 429,
     "metadata": {},
     "output_type": "execute_result"
    },
    {
     "data": {
      "image/png": "[encoded data removed]",
      "text/plain": [
       "<Figure size 432x288 with 1 Axes>"
      ]
     },
     "metadata": {
      "needs_background": "light"
     },
     "output_type": "display_data"
    }
   ],
   "source": [
    "fig, ax = plt.subplots()\n",
    "scene.plot(ax)\n",
    "ax.axis(\"equal\")"
   ]
  },
  {
   "cell_type": "markdown",
   "metadata": {},
   "source": [
    "# Sphere"
   ]
  },
  {
   "cell_type": "code",
   "execution_count": 607,
   "metadata": {},
   "outputs": [],
   "source": [
    "canvas = two_d_tracer.RayCanvas([0,0],[0,1])\n",
    "sc_dsc = {\n",
    "    \"rays\": [two_d_tracer.Ray([-5, y], [1,0]) for y in np.linspace(-2.6,2.6, 10)],\n",
    "    \"objects\": [two_d_tracer.Sphere([0,0], 2.5, 1, 1.5),two_d_tracer.ReflectiveSphere([8,0], 2.5, 1, 1.5),\n",
    "                canvas]\n",
    "}\n",
    "scene = two_d_tracer.Scene(**sc_dsc)"
   ]
  },
  {
   "cell_type": "code",
   "execution_count": 608,
   "metadata": {},
   "outputs": [],
   "source": [
    "scene.run()\n",
    "scene.propagate(2)"
   ]
  },
  {
   "cell_type": "code",
   "execution_count": 609,
   "metadata": {},
   "outputs": [
    {
     "data": {
      "application/javascript": [
       "/* Put everything inside the global mpl namespace */\n",
       "window.mpl = {};\n",
       "\n",
       "\n",
       "mpl.get_websocket_type = function() {\n",
       "    if (typeof(WebSocket) !== 'undefined') {\n",
       "        return WebSocket;\n",
       "    } else if (typeof(MozWebSocket) !== 'undefined') {\n",
       "        return MozWebSocket;\n",
       "    } else {\n",
       "        alert('Your browser does not have WebSocket support. ' +\n",
       "              'Please try Chrome, Safari or Firefox ≥ 6. ' +\n",
       "              'Firefox 4 and 5 are also supported but you ' +\n",
       "              'have to enable WebSockets in about:config.');\n",
       "    };\n",
       "}\n",
       "\n",
       "mpl.figure = function(figure_id, websocket, ondownload, parent_element) {\n",
       "    this.id = figure_id;\n",
       "\n",
       "    this.ws = websocket;\n",
       "\n",
       "    this.supports_binary = (this.ws.binaryType != undefined);\n",
       "\n",
       "    if (!this.supports_binary) {\n",
       "        var warnings = document.getElementById(\"mpl-warnings\");\n",
       "        if (warnings) {\n",
       "            warnings.style.display = 'block';\n",
       "            warnings.textContent = (\n",
       "                \"This browser does not support binary websocket messages. \" +\n",
       "                    \"Performance may be slow.\");\n",
       "        }\n",
       "    }\n",
       "\n",
       "    this.imageObj = new Image();\n",
       "\n",
       "    this.context = undefined;\n",
       "    this.message = undefined;\n",
       "    this.canvas = undefined;\n",
       "    this.rubberband_canvas = undefined;\n",
       "    this.rubberband_context = undefined;\n",
       "    this.format_dropdown = undefined;\n",
       "\n",
       "    this.image_mode = 'full';\n",
       "\n",
       "    this.root = $('<div/>');\n",
       "    this._root_extra_style(this.root)\n",
       "    this.root.attr('style', 'display: inline-block');\n",
       "\n",
       "    $(parent_element).append(this.root);\n",
       "\n",
       "    this._init_header(this);\n",
       "    this._init_canvas(this);\n",
       "    this._init_toolbar(this);\n",
       "\n",
       "    var fig = this;\n",
       "\n",
       "    this.waiting = false;\n",
       "\n",
       "    this.ws.onopen =  function () {\n",
       "            fig.send_message(\"supports_binary\", {value: fig.supports_binary});\n",
       "            fig.send_message(\"send_image_mode\", {});\n",
       "            if (mpl.ratio != 1) {\n",
       "                fig.send_message(\"set_dpi_ratio\", {'dpi_ratio': mpl.ratio});\n",
       "            }\n",
       "            fig.send_message(\"refresh\", {});\n",
       "        }\n",
       "\n",
       "    this.imageObj.onload = function() {\n",
       "            if (fig.image_mode == 'full') {\n",
       "                // Full images could contain transparency (where diff images\n",
       "                // almost always do), so we need to clear the canvas so that\n",
       "                // there is no ghosting.\n",
       "                fig.context.clearRect(0, 0, fig.canvas.width, fig.canvas.height);\n",
       "            }\n",
       "            fig.context.drawImage(fig.imageObj, 0, 0);\n",
       "        };\n",
       "\n",
       "    this.imageObj.onunload = function() {\n",
       "        fig.ws.close();\n",
       "    }\n",
       "\n",
       "    this.ws.onmessage = this._make_on_message_function(this);\n",
       "\n",
       "    this.ondownload = ondownload;\n",
       "}\n",
       "\n",
       "mpl.figure.prototype._init_header = function() {\n",
       "    var titlebar = $(\n",
       "        '<div class=\"ui-dialog-titlebar ui-widget-header ui-corner-all ' +\n",
       "        'ui-helper-clearfix\"/>');\n",
       "    var titletext = $(\n",
       "        '<div class=\"ui-dialog-title\" style=\"width: 100%; ' +\n",
       "        'text-align: center; padding: 3px;\"/>');\n",
       "    titlebar.append(titletext)\n",
       "    this.root.append(titlebar);\n",
       "    this.header = titletext[0];\n",
       "}\n",
       "\n",
       "\n",
       "\n",
       "mpl.figure.prototype._canvas_extra_style = function(canvas_div) {\n",
       "\n",
       "}\n",
       "\n",
       "\n",
       "mpl.figure.prototype._root_extra_style = function(canvas_div) {\n",
       "\n",
       "}\n",
       "\n",
       "mpl.figure.prototype._init_canvas = function() {\n",
       "    var fig = this;\n",
       "\n",
       "    var canvas_div = $('<div/>');\n",
       "\n",
       "    canvas_div.attr('style', 'position: relative; clear: both; outline: 0');\n",
       "\n",
       "    function canvas_keyboard_event(event) {\n",
       "        return fig.key_event(event, event['data']);\n",
       "    }\n",
       "\n",
       "    canvas_div.keydown('key_press', canvas_keyboard_event);\n",
       "    canvas_div.keyup('key_release', canvas_keyboard_event);\n",
       "    this.canvas_div = canvas_div\n",
       "    this._canvas_extra_style(canvas_div)\n",
       "    this.root.append(canvas_div);\n",
       "\n",
       "    var canvas = $('<canvas/>');\n",
       "    canvas.addClass('mpl-canvas');\n",
       "    canvas.attr('style', \"left: 0; top: 0; z-index: 0; outline: 0\")\n",
       "\n",
       "    this.canvas = canvas[0];\n",
       "    this.context = canvas[0].getContext(\"2d\");\n",
       "\n",
       "    var backingStore = this.context.backingStorePixelRatio ||\n",
       "\tthis.context.webkitBackingStorePixelRatio ||\n",
       "\tthis.context.mozBackingStorePixelRatio ||\n",
       "\tthis.context.msBackingStorePixelRatio ||\n",
       "\tthis.context.oBackingStorePixelRatio ||\n",
       "\tthis.context.backingStorePixelRatio || 1;\n",
       "\n",
       "    mpl.ratio = (window.devicePixelRatio || 1) / backingStore;\n",
       "\n",
       "    var rubberband = $('<canvas/>');\n",
       "    rubberband.attr('style', \"position: absolute; left: 0; top: 0; z-index: 1;\")\n",
       "\n",
       "    var pass_mouse_events = true;\n",
       "\n",
       "    canvas_div.resizable({\n",
       "        start: function(event, ui) {\n",
       "            pass_mouse_events = false;\n",
       "        },\n",
       "        resize: function(event, ui) {\n",
       "            fig.request_resize(ui.size.width, ui.size.height);\n",
       "        },\n",
       "        stop: function(event, ui) {\n",
       "            pass_mouse_events = true;\n",
       "            fig.request_resize(ui.size.width, ui.size.height);\n",
       "        },\n",
       "    });\n",
       "\n",
       "    function mouse_event_fn(event) {\n",
       "        if (pass_mouse_events)\n",
       "            return fig.mouse_event(event, event['data']);\n",
       "    }\n",
       "\n",
       "    rubberband.mousedown('button_press', mouse_event_fn);\n",
       "    rubberband.mouseup('button_release', mouse_event_fn);\n",
       "    // Throttle sequential mouse events to 1 every 20ms.\n",
       "    rubberband.mousemove('motion_notify', mouse_event_fn);\n",
       "\n",
       "    rubberband.mouseenter('figure_enter', mouse_event_fn);\n",
       "    rubberband.mouseleave('figure_leave', mouse_event_fn);\n",
       "\n",
       "    canvas_div.on(\"wheel\", function (event) {\n",
       "        event = event.originalEvent;\n",
       "        event['data'] = 'scroll'\n",
       "        if (event.deltaY < 0) {\n",
       "            event.step = 1;\n",
       "        } else {\n",
       "            event.step = -1;\n",
       "        }\n",
       "        mouse_event_fn(event);\n",
       "    });\n",
       "\n",
       "    canvas_div.append(canvas);\n",
       "    canvas_div.append(rubberband);\n",
       "\n",
       "    this.rubberband = rubberband;\n",
       "    this.rubberband_canvas = rubberband[0];\n",
       "    this.rubberband_context = rubberband[0].getContext(\"2d\");\n",
       "    this.rubberband_context.strokeStyle = \"#000000\";\n",
       "\n",
       "    this._resize_canvas = function(width, height) {\n",
       "        // Keep the size of the canvas, canvas container, and rubber band\n",
       "        // canvas in synch.\n",
       "        canvas_div.css('width', width)\n",
       "        canvas_div.css('height', height)\n",
       "\n",
       "        canvas.attr('width', width * mpl.ratio);\n",
       "        canvas.attr('height', height * mpl.ratio);\n",
       "        canvas.attr('style', 'width: ' + width + 'px; height: ' + height + 'px;');\n",
       "\n",
       "        rubberband.attr('width', width);\n",
       "        rubberband.attr('height', height);\n",
       "    }\n",
       "\n",
       "    // Set the figure to an initial 600x600px, this will subsequently be updated\n",
       "    // upon first draw.\n",
       "    this._resize_canvas(600, 600);\n",
       "\n",
       "    // Disable right mouse context menu.\n",
       "    $(this.rubberband_canvas).bind(\"contextmenu\",function(e){\n",
       "        return false;\n",
       "    });\n",
       "\n",
       "    function set_focus () {\n",
       "        canvas.focus();\n",
       "        canvas_div.focus();\n",
       "    }\n",
       "\n",
       "    window.setTimeout(set_focus, 100);\n",
       "}\n",
       "\n",
       "mpl.figure.prototype._init_toolbar = function() {\n",
       "    var fig = this;\n",
       "\n",
       "    var nav_element = $('<div/>');\n",
       "    nav_element.attr('style', 'width: 100%');\n",
       "    this.root.append(nav_element);\n",
       "\n",
       "    // Define a callback function for later on.\n",
       "    function toolbar_event(event) {\n",
       "        return fig.toolbar_button_onclick(event['data']);\n",
       "    }\n",
       "    function toolbar_mouse_event(event) {\n",
       "        return fig.toolbar_button_onmouseover(event['data']);\n",
       "    }\n",
       "\n",
       "    for(var toolbar_ind in mpl.toolbar_items) {\n",
       "        var name = mpl.toolbar_items[toolbar_ind][0];\n",
       "        var tooltip = mpl.toolbar_items[toolbar_ind][1];\n",
       "        var image = mpl.toolbar_items[toolbar_ind][2];\n",
       "        var method_name = mpl.toolbar_items[toolbar_ind][3];\n",
       "\n",
       "        if (!name) {\n",
       "            // put a spacer in here.\n",
       "            continue;\n",
       "        }\n",
       "        var button = $('<button/>');\n",
       "        button.addClass('ui-button ui-widget ui-state-default ui-corner-all ' +\n",
       "                        'ui-button-icon-only');\n",
       "        button.attr('role', 'button');\n",
       "        button.attr('aria-disabled', 'false');\n",
       "        button.click(method_name, toolbar_event);\n",
       "        button.mouseover(tooltip, toolbar_mouse_event);\n",
       "\n",
       "        var icon_img = $('<span/>');\n",
       "        icon_img.addClass('ui-button-icon-primary ui-icon');\n",
       "        icon_img.addClass(image);\n",
       "        icon_img.addClass('ui-corner-all');\n",
       "\n",
       "        var tooltip_span = $('<span/>');\n",
       "        tooltip_span.addClass('ui-button-text');\n",
       "        tooltip_span.html(tooltip);\n",
       "\n",
       "        button.append(icon_img);\n",
       "        button.append(tooltip_span);\n",
       "\n",
       "        nav_element.append(button);\n",
       "    }\n",
       "\n",
       "    var fmt_picker_span = $('<span/>');\n",
       "\n",
       "    var fmt_picker = $('<select/>');\n",
       "    fmt_picker.addClass('mpl-toolbar-option ui-widget ui-widget-content');\n",
       "    fmt_picker_span.append(fmt_picker);\n",
       "    nav_element.append(fmt_picker_span);\n",
       "    this.format_dropdown = fmt_picker[0];\n",
       "\n",
       "    for (var ind in mpl.extensions) {\n",
       "        var fmt = mpl.extensions[ind];\n",
       "        var option = $(\n",
       "            '<option/>', {selected: fmt === mpl.default_extension}).html(fmt);\n",
       "        fmt_picker.append(option);\n",
       "    }\n",
       "\n",
       "    // Add hover states to the ui-buttons\n",
       "    $( \".ui-button\" ).hover(\n",
       "        function() { $(this).addClass(\"ui-state-hover\");},\n",
       "        function() { $(this).removeClass(\"ui-state-hover\");}\n",
       "    );\n",
       "\n",
       "    var status_bar = $('<span class=\"mpl-message\"/>');\n",
       "    nav_element.append(status_bar);\n",
       "    this.message = status_bar[0];\n",
       "}\n",
       "\n",
       "mpl.figure.prototype.request_resize = function(x_pixels, y_pixels) {\n",
       "    // Request matplotlib to resize the figure. Matplotlib will then trigger a resize in the client,\n",
       "    // which will in turn request a refresh of the image.\n",
       "    this.send_message('resize', {'width': x_pixels, 'height': y_pixels});\n",
       "}\n",
       "\n",
       "mpl.figure.prototype.send_message = function(type, properties) {\n",
       "    properties['type'] = type;\n",
       "    properties['figure_id'] = this.id;\n",
       "    this.ws.send(JSON.stringify(properties));\n",
       "}\n",
       "\n",
       "mpl.figure.prototype.send_draw_message = function() {\n",
       "    if (!this.waiting) {\n",
       "        this.waiting = true;\n",
       "        this.ws.send(JSON.stringify({type: \"draw\", figure_id: this.id}));\n",
       "    }\n",
       "}\n",
       "\n",
       "\n",
       "mpl.figure.prototype.handle_save = function(fig, msg) {\n",
       "    var format_dropdown = fig.format_dropdown;\n",
       "    var format = format_dropdown.options[format_dropdown.selectedIndex].value;\n",
       "    fig.ondownload(fig, format);\n",
       "}\n",
       "\n",
       "\n",
       "mpl.figure.prototype.handle_resize = function(fig, msg) {\n",
       "    var size = msg['size'];\n",
       "    if (size[0] != fig.canvas.width || size[1] != fig.canvas.height) {\n",
       "        fig._resize_canvas(size[0], size[1]);\n",
       "        fig.send_message(\"refresh\", {});\n",
       "    };\n",
       "}\n",
       "\n",
       "mpl.figure.prototype.handle_rubberband = function(fig, msg) {\n",
       "    var x0 = msg['x0'] / mpl.ratio;\n",
       "    var y0 = (fig.canvas.height - msg['y0']) / mpl.ratio;\n",
       "    var x1 = msg['x1'] / mpl.ratio;\n",
       "    var y1 = (fig.canvas.height - msg['y1']) / mpl.ratio;\n",
       "    x0 = Math.floor(x0) + 0.5;\n",
       "    y0 = Math.floor(y0) + 0.5;\n",
       "    x1 = Math.floor(x1) + 0.5;\n",
       "    y1 = Math.floor(y1) + 0.5;\n",
       "    var min_x = Math.min(x0, x1);\n",
       "    var min_y = Math.min(y0, y1);\n",
       "    var width = Math.abs(x1 - x0);\n",
       "    var height = Math.abs(y1 - y0);\n",
       "\n",
       "    fig.rubberband_context.clearRect(\n",
       "        0, 0, fig.canvas.width / mpl.ratio, fig.canvas.height / mpl.ratio);\n",
       "\n",
       "    fig.rubberband_context.strokeRect(min_x, min_y, width, height);\n",
       "}\n",
       "\n",
       "mpl.figure.prototype.handle_figure_label = function(fig, msg) {\n",
       "    // Updates the figure title.\n",
       "    fig.header.textContent = msg['label'];\n",
       "}\n",
       "\n",
       "mpl.figure.prototype.handle_cursor = function(fig, msg) {\n",
       "    var cursor = msg['cursor'];\n",
       "    switch(cursor)\n",
       "    {\n",
       "    case 0:\n",
       "        cursor = 'pointer';\n",
       "        break;\n",
       "    case 1:\n",
       "        cursor = 'default';\n",
       "        break;\n",
       "    case 2:\n",
       "        cursor = 'crosshair';\n",
       "        break;\n",
       "    case 3:\n",
       "        cursor = 'move';\n",
       "        break;\n",
       "    }\n",
       "    fig.rubberband_canvas.style.cursor = cursor;\n",
       "}\n",
       "\n",
       "mpl.figure.prototype.handle_message = function(fig, msg) {\n",
       "    fig.message.textContent = msg['message'];\n",
       "}\n",
       "\n",
       "mpl.figure.prototype.handle_draw = function(fig, msg) {\n",
       "    // Request the server to send over a new figure.\n",
       "    fig.send_draw_message();\n",
       "}\n",
       "\n",
       "mpl.figure.prototype.handle_image_mode = function(fig, msg) {\n",
       "    fig.image_mode = msg['mode'];\n",
       "}\n",
       "\n",
       "mpl.figure.prototype.updated_canvas_event = function() {\n",
       "    // Called whenever the canvas gets updated.\n",
       "    this.send_message(\"ack\", {});\n",
       "}\n",
       "\n",
       "// A function to construct a web socket function for onmessage handling.\n",
       "// Called in the figure constructor.\n",
       "mpl.figure.prototype._make_on_message_function = function(fig) {\n",
       "    return function socket_on_message(evt) {\n",
       "        if (evt.data instanceof Blob) {\n",
       "            /* FIXME: We get \"Resource interpreted as Image but\n",
       "             * transferred with MIME type text/plain:\" errors on\n",
       "             * Chrome.  But how to set the MIME type?  It doesn't seem\n",
       "             * to be part of the websocket stream */\n",
       "            evt.data.type = \"image/png\";\n",
       "\n",
       "            /* Free the memory for the previous frames */\n",
       "            if (fig.imageObj.src) {\n",
       "                (window.URL || window.webkitURL).revokeObjectURL(\n",
       "                    fig.imageObj.src);\n",
       "            }\n",
       "\n",
       "            fig.imageObj.src = (window.URL || window.webkitURL).createObjectURL(\n",
       "                evt.data);\n",
       "            fig.updated_canvas_event();\n",
       "            fig.waiting = false;\n",
       "            return;\n",
       "        }\n",
       "        else if (typeof evt.data === 'string' && evt.data.slice(0, 21) == \"data:image/png;base64\") {\n",
       "            fig.imageObj.src = evt.data;\n",
       "            fig.updated_canvas_event();\n",
       "            fig.waiting = false;\n",
       "            return;\n",
       "        }\n",
       "\n",
       "        var msg = JSON.parse(evt.data);\n",
       "        var msg_type = msg['type'];\n",
       "\n",
       "        // Call the  \"handle_{type}\" callback, which takes\n",
       "        // the figure and JSON message as its only arguments.\n",
       "        try {\n",
       "            var callback = fig[\"handle_\" + msg_type];\n",
       "        } catch (e) {\n",
       "            console.log(\"No handler for the '\" + msg_type + \"' message type: \", msg);\n",
       "            return;\n",
       "        }\n",
       "\n",
       "        if (callback) {\n",
       "            try {\n",
       "                // console.log(\"Handling '\" + msg_type + \"' message: \", msg);\n",
       "                callback(fig, msg);\n",
       "            } catch (e) {\n",
       "                console.log(\"Exception inside the 'handler_\" + msg_type + \"' callback:\", e, e.stack, msg);\n",
       "            }\n",
       "        }\n",
       "    };\n",
       "}\n",
       "\n",
       "// from http://stackoverflow.com/questions/1114465/getting-mouse-location-in-canvas\n",
       "mpl.findpos = function(e) {\n",
       "    //this section is from http://www.quirksmode.org/js/events_properties.html\n",
       "    var targ;\n",
       "    if (!e)\n",
       "        e = window.event;\n",
       "    if (e.target)\n",
       "        targ = e.target;\n",
       "    else if (e.srcElement)\n",
       "        targ = e.srcElement;\n",
       "    if (targ.nodeType == 3) // defeat Safari bug\n",
       "        targ = targ.parentNode;\n",
       "\n",
       "    // jQuery normalizes the pageX and pageY\n",
       "    // pageX,Y are the mouse positions relative to the document\n",
       "    // offset() returns the position of the element relative to the document\n",
       "    var x = e.pageX - $(targ).offset().left;\n",
       "    var y = e.pageY - $(targ).offset().top;\n",
       "\n",
       "    return {\"x\": x, \"y\": y};\n",
       "};\n",
       "\n",
       "/*\n",
       " * return a copy of an object with only non-object keys\n",
       " * we need this to avoid circular references\n",
       " * http://stackoverflow.com/a/24161582/3208463\n",
       " */\n",
       "function simpleKeys (original) {\n",
       "  return Object.keys(original).reduce(function (obj, key) {\n",
       "    if (typeof original[key] !== 'object')\n",
       "        obj[key] = original[key]\n",
       "    return obj;\n",
       "  }, {});\n",
       "}\n",
       "\n",
       "mpl.figure.prototype.mouse_event = function(event, name) {\n",
       "    var canvas_pos = mpl.findpos(event)\n",
       "\n",
       "    if (name === 'button_press')\n",
       "    {\n",
       "        this.canvas.focus();\n",
       "        this.canvas_div.focus();\n",
       "    }\n",
       "\n",
       "    var x = canvas_pos.x * mpl.ratio;\n",
       "    var y = canvas_pos.y * mpl.ratio;\n",
       "\n",
       "    this.send_message(name, {x: x, y: y, button: event.button,\n",
       "                             step: event.step,\n",
       "                             guiEvent: simpleKeys(event)});\n",
       "\n",
       "    /* This prevents the web browser from automatically changing to\n",
       "     * the text insertion cursor when the button is pressed.  We want\n",
       "     * to control all of the cursor setting manually through the\n",
       "     * 'cursor' event from matplotlib */\n",
       "    event.preventDefault();\n",
       "    return false;\n",
       "}\n",
       "\n",
       "mpl.figure.prototype._key_event_extra = function(event, name) {\n",
       "    // Handle any extra behaviour associated with a key event\n",
       "}\n",
       "\n",
       "mpl.figure.prototype.key_event = function(event, name) {\n",
       "\n",
       "    // Prevent repeat events\n",
       "    if (name == 'key_press')\n",
       "    {\n",
       "        if (event.which === this._key)\n",
       "            return;\n",
       "        else\n",
       "            this._key = event.which;\n",
       "    }\n",
       "    if (name == 'key_release')\n",
       "        this._key = null;\n",
       "\n",
       "    var value = '';\n",
       "    if (event.ctrlKey && event.which != 17)\n",
       "        value += \"ctrl+\";\n",
       "    if (event.altKey && event.which != 18)\n",
       "        value += \"alt+\";\n",
       "    if (event.shiftKey && event.which != 16)\n",
       "        value += \"shift+\";\n",
       "\n",
       "    value += 'k';\n",
       "    value += event.which.toString();\n",
       "\n",
       "    this._key_event_extra(event, name);\n",
       "\n",
       "    this.send_message(name, {key: value,\n",
       "                             guiEvent: simpleKeys(event)});\n",
       "    return false;\n",
       "}\n",
       "\n",
       "mpl.figure.prototype.toolbar_button_onclick = function(name) {\n",
       "    if (name == 'download') {\n",
       "        this.handle_save(this, null);\n",
       "    } else {\n",
       "        this.send_message(\"toolbar_button\", {name: name});\n",
       "    }\n",
       "};\n",
       "\n",
       "mpl.figure.prototype.toolbar_button_onmouseover = function(tooltip) {\n",
       "    this.message.textContent = tooltip;\n",
       "};\n",
       "mpl.toolbar_items = [[\"Home\", \"Reset original view\", \"fa fa-home icon-home\", \"home\"], [\"Back\", \"Back to previous view\", \"fa fa-arrow-left icon-arrow-left\", \"back\"], [\"Forward\", \"Forward to next view\", \"fa fa-arrow-right icon-arrow-right\", \"forward\"], [\"\", \"\", \"\", \"\"], [\"Pan\", \"Pan axes with left mouse, zoom with right\", \"fa fa-arrows icon-move\", \"pan\"], [\"Zoom\", \"Zoom to rectangle\", \"fa fa-square-o icon-check-empty\", \"zoom\"], [\"\", \"\", \"\", \"\"], [\"Download\", \"Download plot\", \"fa fa-floppy-o icon-save\", \"download\"]];\n",
       "\n",
       "mpl.extensions = [\"eps\", \"pdf\", \"png\", \"ps\", \"raw\", \"svg\"];\n",
       "\n",
       "mpl.default_extension = \"png\";var comm_websocket_adapter = function(comm) {\n",
       "    // Create a \"websocket\"-like object which calls the given IPython comm\n",
       "    // object with the appropriate methods. Currently this is a non binary\n",
       "    // socket, so there is still some room for performance tuning.\n",
       "    var ws = {};\n",
       "\n",
       "    ws.close = function() {\n",
       "        comm.close()\n",
       "    };\n",
       "    ws.send = function(m) {\n",
       "        //console.log('sending', m);\n",
       "        comm.send(m);\n",
       "    };\n",
       "    // Register the callback with on_msg.\n",
       "    comm.on_msg(function(msg) {\n",
       "        //console.log('receiving', msg['content']['data'], msg);\n",
       "        // Pass the mpl event to the overridden (by mpl) onmessage function.\n",
       "        ws.onmessage(msg['content']['data'])\n",
       "    });\n",
       "    return ws;\n",
       "}\n",
       "\n",
       "mpl.mpl_figure_comm = function(comm, msg) {\n",
       "    // This is the function which gets called when the mpl process\n",
       "    // starts-up an IPython Comm through the \"matplotlib\" channel.\n",
       "\n",
       "    var id = msg.content.data.id;\n",
       "    // Get hold of the div created by the display call when the Comm\n",
       "    // socket was opened in Python.\n",
       "    var element = $(\"#\" + id);\n",
       "    var ws_proxy = comm_websocket_adapter(comm)\n",
       "\n",
       "    function ondownload(figure, format) {\n",
       "        window.open(figure.imageObj.src);\n",
       "    }\n",
       "\n",
       "    var fig = new mpl.figure(id, ws_proxy,\n",
       "                           ondownload,\n",
       "                           element.get(0));\n",
       "\n",
       "    // Call onopen now - mpl needs it, as it is assuming we've passed it a real\n",
       "    // web socket which is closed, not our websocket->open comm proxy.\n",
       "    ws_proxy.onopen();\n",
       "\n",
       "    fig.parent_element = element.get(0);\n",
       "    fig.cell_info = mpl.find_output_cell(\"<div id='\" + id + \"'></div>\");\n",
       "    if (!fig.cell_info) {\n",
       "        console.error(\"Failed to find cell for figure\", id, fig);\n",
       "        return;\n",
       "    }\n",
       "\n",
       "    var output_index = fig.cell_info[2]\n",
       "    var cell = fig.cell_info[0];\n",
       "\n",
       "};\n",
       "\n",
       "mpl.figure.prototype.handle_close = function(fig, msg) {\n",
       "    var width = fig.canvas.width/mpl.ratio\n",
       "    fig.root.unbind('remove')\n",
       "\n",
       "    // Update the output cell to use the data from the current canvas.\n",
       "    fig.push_to_output();\n",
       "    var dataURL = fig.canvas.toDataURL();\n",
       "    // Re-enable the keyboard manager in IPython - without this line, in FF,\n",
       "    // the notebook keyboard shortcuts fail.\n",
       "    IPython.keyboard_manager.enable()\n",
       "    $(fig.parent_element).html('<img src=\"' + dataURL + '\" width=\"' + width + '\">');\n",
       "    fig.close_ws(fig, msg);\n",
       "}\n",
       "\n",
       "mpl.figure.prototype.close_ws = function(fig, msg){\n",
       "    fig.send_message('closing', msg);\n",
       "    // fig.ws.close()\n",
       "}\n",
       "\n",
       "mpl.figure.prototype.push_to_output = function(remove_interactive) {\n",
       "    // Turn the data on the canvas into data in the output cell.\n",
       "    var width = this.canvas.width/mpl.ratio\n",
       "    var dataURL = this.canvas.toDataURL();\n",
       "    this.cell_info[1]['text/html'] = '<img src=\"' + dataURL + '\" width=\"' + width + '\">';\n",
       "}\n",
       "\n",
       "mpl.figure.prototype.updated_canvas_event = function() {\n",
       "    // Tell IPython that the notebook contents must change.\n",
       "    IPython.notebook.set_dirty(true);\n",
       "    this.send_message(\"ack\", {});\n",
       "    var fig = this;\n",
       "    // Wait a second, then push the new image to the DOM so\n",
       "    // that it is saved nicely (might be nice to debounce this).\n",
       "    setTimeout(function () { fig.push_to_output() }, 1000);\n",
       "}\n",
       "\n",
       "mpl.figure.prototype._init_toolbar = function() {\n",
       "    var fig = this;\n",
       "\n",
       "    var nav_element = $('<div/>');\n",
       "    nav_element.attr('style', 'width: 100%');\n",
       "    this.root.append(nav_element);\n",
       "\n",
       "    // Define a callback function for later on.\n",
       "    function toolbar_event(event) {\n",
       "        return fig.toolbar_button_onclick(event['data']);\n",
       "    }\n",
       "    function toolbar_mouse_event(event) {\n",
       "        return fig.toolbar_button_onmouseover(event['data']);\n",
       "    }\n",
       "\n",
       "    for(var toolbar_ind in mpl.toolbar_items){\n",
       "        var name = mpl.toolbar_items[toolbar_ind][0];\n",
       "        var tooltip = mpl.toolbar_items[toolbar_ind][1];\n",
       "        var image = mpl.toolbar_items[toolbar_ind][2];\n",
       "        var method_name = mpl.toolbar_items[toolbar_ind][3];\n",
       "\n",
       "        if (!name) { continue; };\n",
       "\n",
       "        var button = $('<button class=\"btn btn-default\" href=\"#\" title=\"' + name + '\"><i class=\"fa ' + image + ' fa-lg\"></i></button>');\n",
       "        button.click(method_name, toolbar_event);\n",
       "        button.mouseover(tooltip, toolbar_mouse_event);\n",
       "        nav_element.append(button);\n",
       "    }\n",
       "\n",
       "    // Add the status bar.\n",
       "    var status_bar = $('<span class=\"mpl-message\" style=\"text-align:right; float: right;\"/>');\n",
       "    nav_element.append(status_bar);\n",
       "    this.message = status_bar[0];\n",
       "\n",
       "    // Add the close button to the window.\n",
       "    var buttongrp = $('<div class=\"btn-group inline pull-right\"></div>');\n",
       "    var button = $('<button class=\"btn btn-mini btn-primary\" href=\"#\" title=\"Stop Interaction\"><i class=\"fa fa-power-off icon-remove icon-large\"></i></button>');\n",
       "    button.click(function (evt) { fig.handle_close(fig, {}); } );\n",
       "    button.mouseover('Stop Interaction', toolbar_mouse_event);\n",
       "    buttongrp.append(button);\n",
       "    var titlebar = this.root.find($('.ui-dialog-titlebar'));\n",
       "    titlebar.prepend(buttongrp);\n",
       "}\n",
       "\n",
       "mpl.figure.prototype._root_extra_style = function(el){\n",
       "    var fig = this\n",
       "    el.on(\"remove\", function(){\n",
       "\tfig.close_ws(fig, {});\n",
       "    });\n",
       "}\n",
       "\n",
       "mpl.figure.prototype._canvas_extra_style = function(el){\n",
       "    // this is important to make the div 'focusable\n",
       "    el.attr('tabindex', 0)\n",
       "    // reach out to IPython and tell the keyboard manager to turn it's self\n",
       "    // off when our div gets focus\n",
       "\n",
       "    // location in version 3\n",
       "    if (IPython.notebook.keyboard_manager) {\n",
       "        IPython.notebook.keyboard_manager.register_events(el);\n",
       "    }\n",
       "    else {\n",
       "        // location in version 2\n",
       "        IPython.keyboard_manager.register_events(el);\n",
       "    }\n",
       "\n",
       "}\n",
       "\n",
       "mpl.figure.prototype._key_event_extra = function(event, name) {\n",
       "    var manager = IPython.notebook.keyboard_manager;\n",
       "    if (!manager)\n",
       "        manager = IPython.keyboard_manager;\n",
       "\n",
       "    // Check for shift+enter\n",
       "    if (event.shiftKey && event.which == 13) {\n",
       "        this.canvas_div.blur();\n",
       "        // select the cell after this one\n",
       "        var index = IPython.notebook.find_cell_index(this.cell_info[0]);\n",
       "        IPython.notebook.select(index + 1);\n",
       "    }\n",
       "}\n",
       "\n",
       "mpl.figure.prototype.handle_save = function(fig, msg) {\n",
       "    fig.ondownload(fig, null);\n",
       "}\n",
       "\n",
       "\n",
       "mpl.find_output_cell = function(html_output) {\n",
       "    // Return the cell and output element which can be found *uniquely* in the notebook.\n",
       "    // Note - this is a bit hacky, but it is done because the \"notebook_saving.Notebook\"\n",
       "    // IPython event is triggered only after the cells have been serialised, which for\n",
       "    // our purposes (turning an active figure into a static one), is too late.\n",
       "    var cells = IPython.notebook.get_cells();\n",
       "    var ncells = cells.length;\n",
       "    for (var i=0; i<ncells; i++) {\n",
       "        var cell = cells[i];\n",
       "        if (cell.cell_type === 'code'){\n",
       "            for (var j=0; j<cell.output_area.outputs.length; j++) {\n",
       "                var data = cell.output_area.outputs[j];\n",
       "                if (data.data) {\n",
       "                    // IPython >= 3 moved mimebundle to data attribute of output\n",
       "                    data = data.data;\n",
       "                }\n",
       "                if (data['text/html'] == html_output) {\n",
       "                    return [cell, data, j];\n",
       "                }\n",
       "            }\n",
       "        }\n",
       "    }\n",
       "}\n",
       "\n",
       "// Register the function which deals with the matplotlib target/channel.\n",
       "// The kernel may be null if the page has been refreshed.\n",
       "if (IPython.notebook.kernel != null) {\n",
       "    IPython.notebook.kernel.comm_manager.register_target('matplotlib', mpl.mpl_figure_comm);\n",
       "}\n"
      ],
      "text/plain": [
       "<IPython.core.display.Javascript object>"
      ]
     },
     "metadata": {},
     "output_type": "display_data"
    },
    {
     "data": {
      "text/html": [
       "<img src=\"data:image/png;base64,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\" width=\"640\">"
      ],
      "text/plain": [
       "<IPython.core.display.HTML object>"
      ]
     },
     "metadata": {},
     "output_type": "display_data"
    },
    {
     "data": {
      "text/plain": [
       "(-11.630301494360825, 6.596707329560326, -4.476850968607872, 4.476850968607868)"
      ]
     },
     "execution_count": 609,
     "metadata": {},
     "output_type": "execute_result"
    }
   ],
   "source": [
    "fig, ax = plt.subplots(2, sharex=True, gridspec_kw={\"height_ratios\":(3,1)})\n",
    "scene.plot(ax[0])\n",
    "ax[1].plot(canvas.points, [0 for p in canvas.points], \"x\")\n",
    "ax[0].axis(\"equal\")"
   ]
  },
  {
   "cell_type": "code",
   "execution_count": null,
   "metadata": {},
   "outputs": [],
   "source": []
  }
 ],
 "metadata": {
  "kernelspec": {
   "display_name": "UROP20",
   "language": "python",
   "name": "urop20"
  },
  "language_info": {
   "codemirror_mode": {
    "name": "ipython",
    "version": 3
   },
   "file_extension": ".py",
   "mimetype": "text/x-python",
   "name": "python",
   "nbconvert_exporter": "python",
   "pygments_lexer": "ipython3",
   "version": "3.7.7"
  }
 },
 "nbformat": 4,
 "nbformat_minor": 4
}
