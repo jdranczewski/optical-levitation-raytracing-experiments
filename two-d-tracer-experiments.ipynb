{
 "cells": [
  {
   "cell_type": "code",
   "execution_count": 1,
   "metadata": {
    "cell_style": "center"
   },
   "outputs": [],
   "source": [
    "import numpy as np\n",
    "import matplotlib.pyplot as plt\n",
    "%matplotlib notebook\n",
    "from ipywidgets import interact, interact_manual\n",
    "from tqdm.notebook import tqdm\n",
    "from time import sleep"
   ]
  },
  {
   "cell_type": "code",
   "execution_count": 2,
   "metadata": {},
   "outputs": [],
   "source": [
    "rad = lambda x: x/180*np.pi"
   ]
  },
  {
   "cell_type": "code",
   "execution_count": 45,
   "metadata": {},
   "outputs": [
    {
     "data": {
      "text/plain": [
       "<module 'two_d_tracer' from '/home/jdranczewski/Documents/Imperial/UROP20/optical-levitation-raytracing-experiments/two_d_tracer.py'>"
      ]
     },
     "execution_count": 45,
     "metadata": {},
     "output_type": "execute_result"
    }
   ],
   "source": [
    "import importlib\n",
    "import two_d_tracer\n",
    "importlib.reload(two_d_tracer)"
   ]
  },
  {
   "cell_type": "markdown",
   "metadata": {
    "heading_collapsed": true
   },
   "source": [
    "# Mirrors"
   ]
  },
  {
   "cell_type": "code",
   "execution_count": null,
   "metadata": {
    "hidden": true
   },
   "outputs": [],
   "source": [
    "scene = two_d_tracer.Scene([two_d_tracer.Ray([-10, y], [1,0]) for y in np.linspace(-2.5,2.5, 5)],\n",
    "                           [two_d_tracer.SurfaceReflective([0,0],[-np.cos(rad(45/2)),-np.sin(rad(45/2))]),\n",
    "                           two_d_tracer.SurfaceReflective([0,-5], [0,1])])"
   ]
  },
  {
   "cell_type": "code",
   "execution_count": null,
   "metadata": {
    "hidden": true
   },
   "outputs": [],
   "source": [
    "scene.rays"
   ]
  },
  {
   "cell_type": "code",
   "execution_count": null,
   "metadata": {
    "hidden": true
   },
   "outputs": [],
   "source": [
    "scene.run(margin=1e-10)"
   ]
  },
  {
   "cell_type": "code",
   "execution_count": null,
   "metadata": {
    "hidden": true
   },
   "outputs": [],
   "source": [
    "fig, ax = plt.subplots()\n",
    "scene.plot(ax)\n",
    "ax.axis(\"equal\")"
   ]
  },
  {
   "cell_type": "markdown",
   "metadata": {
    "heading_collapsed": true
   },
   "source": [
    "# Refracting surfaces"
   ]
  },
  {
   "cell_type": "code",
   "execution_count": null,
   "metadata": {
    "hidden": true
   },
   "outputs": [],
   "source": [
    "sc_dsc = {\n",
    "    \"rays\": [two_d_tracer.Ray([-10, y], [1,0]) for y in np.linspace(-2.5,2.5, 5)],\n",
    "    \"objects\": [two_d_tracer.Surface([0,0], [-1, -1], None, 1, 1.5)]\n",
    "}\n",
    "scene = two_d_tracer.Scene(**sc_dsc)"
   ]
  },
  {
   "cell_type": "code",
   "execution_count": null,
   "metadata": {
    "hidden": true,
    "scrolled": false
   },
   "outputs": [],
   "source": [
    "scene.run()"
   ]
  },
  {
   "cell_type": "code",
   "execution_count": null,
   "metadata": {
    "hidden": true
   },
   "outputs": [],
   "source": [
    "fig, ax = plt.subplots()\n",
    "scene.plot(ax)    \n",
    "ax.axis(\"equal\")"
   ]
  },
  {
   "cell_type": "code",
   "execution_count": null,
   "metadata": {
    "hidden": true
   },
   "outputs": [],
   "source": [
    "scene.rays"
   ]
  },
  {
   "cell_type": "code",
   "execution_count": null,
   "metadata": {
    "hidden": true
   },
   "outputs": [],
   "source": [
    "scene.rays[0].angle"
   ]
  },
  {
   "cell_type": "code",
   "execution_count": null,
   "metadata": {
    "hidden": true
   },
   "outputs": [],
   "source": [
    "# Compare to Snell's (algebra in Xournal)\n",
    "rad(45) - np.arcsin(1/1.5*np.sin(rad(45)))"
   ]
  },
  {
   "cell_type": "markdown",
   "metadata": {
    "heading_collapsed": true
   },
   "source": [
    "# A glass slab"
   ]
  },
  {
   "cell_type": "code",
   "execution_count": null,
   "metadata": {
    "hidden": true
   },
   "outputs": [],
   "source": [
    "sc_dsc = {\n",
    "    \"rays\": [two_d_tracer.Ray([-5, y], [1,-0.5]) for y in np.linspace(-2.5,2.5, 5)],\n",
    "    \"objects\": [two_d_tracer.Surface([0,0], [-1, 0], None, 1, 1.5),\n",
    "                two_d_tracer.Surface([2,0], [1, 0], None, 1, 1.5)]\n",
    "}\n",
    "scene = two_d_tracer.Scene(**sc_dsc)"
   ]
  },
  {
   "cell_type": "code",
   "execution_count": null,
   "metadata": {
    "hidden": true
   },
   "outputs": [],
   "source": [
    "scene.rays[0].angle"
   ]
  },
  {
   "cell_type": "code",
   "execution_count": null,
   "metadata": {
    "hidden": true
   },
   "outputs": [],
   "source": [
    "np.arcsin(1/1.5*np.sin(scene.rays[0].angle))"
   ]
  },
  {
   "cell_type": "code",
   "execution_count": null,
   "metadata": {
    "hidden": true
   },
   "outputs": [],
   "source": [
    "scene.step()\n",
    "scene.propagate(1e-14)\n",
    "print(scene.rays[0].angle)\n",
    "scene.step()\n",
    "scene.propagate(1e-14)\n",
    "scene.step()"
   ]
  },
  {
   "cell_type": "code",
   "execution_count": null,
   "metadata": {
    "hidden": true
   },
   "outputs": [],
   "source": [
    "fig, ax = plt.subplots()\n",
    "scene.plot(ax)   \n",
    "ax.axis(\"equal\")"
   ]
  },
  {
   "cell_type": "code",
   "execution_count": null,
   "metadata": {
    "hidden": true
   },
   "outputs": [],
   "source": [
    "scene.rays[0].angle"
   ]
  },
  {
   "cell_type": "markdown",
   "metadata": {
    "heading_collapsed": true
   },
   "source": [
    "# Retroreflector"
   ]
  },
  {
   "cell_type": "code",
   "execution_count": null,
   "metadata": {
    "hidden": true
   },
   "outputs": [],
   "source": [
    "sc_dsc = {\n",
    "    \"rays\": [two_d_tracer.Ray([-5, y], [1,0]) for y in np.linspace(0.1,2.5, 5)],\n",
    "    \"objects\": [two_d_tracer.Surface([0,2], [1, 1], None, 1, 1.5),\n",
    "                two_d_tracer.Surface([0,-2], [1, -1], None, 1, 1.5)]\n",
    "}\n",
    "scene = two_d_tracer.Scene(**sc_dsc)"
   ]
  },
  {
   "cell_type": "code",
   "execution_count": null,
   "metadata": {
    "hidden": true
   },
   "outputs": [],
   "source": [
    "scene.run()"
   ]
  },
  {
   "cell_type": "code",
   "execution_count": null,
   "metadata": {
    "hidden": true
   },
   "outputs": [],
   "source": [
    "fig, ax = plt.subplots()\n",
    "scene.plot(ax)\n",
    "ax.axis(\"equal\")"
   ]
  },
  {
   "cell_type": "code",
   "execution_count": null,
   "metadata": {
    "hidden": true
   },
   "outputs": [],
   "source": [
    "scene.rays"
   ]
  },
  {
   "cell_type": "markdown",
   "metadata": {
    "heading_collapsed": true
   },
   "source": [
    "# Testing Total Internal Reflection"
   ]
  },
  {
   "cell_type": "code",
   "execution_count": null,
   "metadata": {
    "hidden": true
   },
   "outputs": [],
   "source": [
    "sc_dsc = {\n",
    "    \"rays\": [two_d_tracer.Ray([-1, y], [np.cos(y),np.sin(y)]) for y in np.linspace(0,np.pi/4,30)] + [two_d_tracer.Ray([-1, np.arcsin(1/1.5)], [np.cos(np.arcsin(1/1.5)),np.sin(np.arcsin(1/1.5))],600)],\n",
    "    \"objects\": [two_d_tracer.Surface([0,0], [1, 0], None, 1, 1.5)]\n",
    "}\n",
    "scene = two_d_tracer.Scene(**sc_dsc)"
   ]
  },
  {
   "cell_type": "code",
   "execution_count": null,
   "metadata": {
    "hidden": true
   },
   "outputs": [],
   "source": [
    "# Critical angle\n",
    "np.arcsin(1/1.5)*180/np.pi"
   ]
  },
  {
   "cell_type": "code",
   "execution_count": null,
   "metadata": {
    "hidden": true
   },
   "outputs": [],
   "source": [
    "# Three of the angles tested are above the critical angle, those, are reflected\n",
    "np.linspace(0,np.pi/4,30)*180/np.pi"
   ]
  },
  {
   "cell_type": "code",
   "execution_count": null,
   "metadata": {
    "hidden": true
   },
   "outputs": [],
   "source": [
    "scene.run()"
   ]
  },
  {
   "cell_type": "code",
   "execution_count": null,
   "metadata": {
    "hidden": true
   },
   "outputs": [],
   "source": [
    "fig, ax = plt.subplots()\n",
    "scene.plot(ax)\n",
    "ax.axis(\"equal\")"
   ]
  },
  {
   "cell_type": "markdown",
   "metadata": {
    "heading_collapsed": true
   },
   "source": [
    "# Ray canvas"
   ]
  },
  {
   "cell_type": "code",
   "execution_count": null,
   "metadata": {
    "hidden": true
   },
   "outputs": [],
   "source": [
    "canvas = two_d_tracer.RayCanvas([0,-3], [0,1])\n",
    "sc_dsc = {\n",
    "    \"rays\": [two_d_tracer.Ray([-5, y], [1,0], 400+((y+2.5)*50)) for y in np.linspace(-2.5,2.5, 5)],\n",
    "    \"objects\": [two_d_tracer.Surface([0,0], [1, 1], None, 1, 1.5),\n",
    "                canvas]\n",
    "}\n",
    "scene = two_d_tracer.Scene(**sc_dsc)"
   ]
  },
  {
   "cell_type": "code",
   "execution_count": null,
   "metadata": {
    "hidden": true
   },
   "outputs": [],
   "source": [
    "scene.run()"
   ]
  },
  {
   "cell_type": "code",
   "execution_count": null,
   "metadata": {
    "hidden": true
   },
   "outputs": [],
   "source": [
    "canvas"
   ]
  },
  {
   "cell_type": "code",
   "execution_count": null,
   "metadata": {
    "hidden": true
   },
   "outputs": [],
   "source": [
    "fig, ax = plt.subplots(2, gridspec_kw={\"height_ratios\":(3,1)})\n",
    "scene.plot(ax[0])\n",
    "ax[0].axis(\"equal\")\n",
    "ax[1].scatter(canvas.points, canvas.wavelengths, c=canvas.c)"
   ]
  },
  {
   "cell_type": "markdown",
   "metadata": {
    "heading_collapsed": true
   },
   "source": [
    "# Sphere"
   ]
  },
  {
   "cell_type": "code",
   "execution_count": null,
   "metadata": {
    "hidden": true
   },
   "outputs": [],
   "source": [
    "canvas = two_d_tracer.RayCanvas([0,0],[0,1])\n",
    "sc_dsc = {\n",
    "    \"rays\": [two_d_tracer.Ray([-5, y], [1,0]) for y in np.linspace(-2.6,2.6, 10)],\n",
    "    \"objects\": [two_d_tracer.Sphere([0,0], 2.5, None, 1, 1.5),two_d_tracer.SphereReflective([8,0], 2.5, None, 1, 1.5),\n",
    "                canvas]\n",
    "}\n",
    "scene = two_d_tracer.Scene(**sc_dsc)"
   ]
  },
  {
   "cell_type": "code",
   "execution_count": null,
   "metadata": {
    "hidden": true
   },
   "outputs": [],
   "source": [
    "scene.run()\n",
    "scene.propagate(2)"
   ]
  },
  {
   "cell_type": "code",
   "execution_count": null,
   "metadata": {
    "hidden": true
   },
   "outputs": [],
   "source": [
    "fig, ax = plt.subplots(2, sharex=True, gridspec_kw={\"height_ratios\":(3,1)})\n",
    "scene.plot(ax[0])\n",
    "ax[1].plot(canvas.points, [0 for p in canvas.points], \"x\")\n",
    "ax[0].axis(\"equal\")"
   ]
  },
  {
   "cell_type": "markdown",
   "metadata": {
    "heading_collapsed": true
   },
   "source": [
    "# Focus in the sphere"
   ]
  },
  {
   "cell_type": "code",
   "execution_count": null,
   "metadata": {
    "hidden": true
   },
   "outputs": [],
   "source": [
    "canvas = two_d_tracer.RayCanvas([0,0],[0,1])\n",
    "n2 = 3\n",
    "# two_d_tracer.ReflectiveSphere([8,0], 2.5, 1, 1.5)\n",
    "sc_dsc = {\n",
    "    \"rays\": [two_d_tracer.Ray([-1, y], [1,0]) for y in np.linspace(-0.1,0.1, 50)],\n",
    "    \"objects\": [two_d_tracer.Sphere([2.5,0], 2.5, [rad(90), rad(-90)], 1, n2),\n",
    "                canvas]\n",
    "}\n",
    "scene = two_d_tracer.Scene(**sc_dsc)"
   ]
  },
  {
   "cell_type": "code",
   "execution_count": null,
   "metadata": {
    "hidden": true
   },
   "outputs": [],
   "source": [
    "scene.run()"
   ]
  },
  {
   "cell_type": "code",
   "execution_count": null,
   "metadata": {
    "hidden": true
   },
   "outputs": [],
   "source": [
    "fig, ax = plt.subplots(2, sharex=True, gridspec_kw={\"height_ratios\":(3,1)})\n",
    "scene.plot(ax[0])\n",
    "ax[1].plot(canvas.points, [0 for p in canvas.points], \"x\")\n",
    "ax[0].axis(\"equal\")\n",
    "\n",
    "# Focus for a single spherical surface in the paraxial approximation, rays colimated:\n",
    "f = (n2 * 2.5 / (n2-1))\n",
    "ax[0].plot([f,f], [-2.5,2.5])\n",
    "ax[1].plot([f,f], [-0.05,0.05])"
   ]
  },
  {
   "cell_type": "markdown",
   "metadata": {
    "heading_collapsed": true
   },
   "source": [
    "# Limits"
   ]
  },
  {
   "cell_type": "markdown",
   "metadata": {
    "hidden": true
   },
   "source": [
    "## Mirrors"
   ]
  },
  {
   "cell_type": "code",
   "execution_count": null,
   "metadata": {
    "hidden": true
   },
   "outputs": [],
   "source": [
    "sc_dsc = {\n",
    "    \"rays\": [two_d_tracer.Ray([-5, y], [1,0]) for y in np.linspace(-2.5,2.5, 5)],\n",
    "    \"objects\": [two_d_tracer.SurfaceReflective([0,0], [-1,1], 2.5)]\n",
    "}\n",
    "scene = two_d_tracer.Scene(**sc_dsc)"
   ]
  },
  {
   "cell_type": "code",
   "execution_count": null,
   "metadata": {
    "hidden": true
   },
   "outputs": [],
   "source": [
    "scene.run()"
   ]
  },
  {
   "cell_type": "code",
   "execution_count": null,
   "metadata": {
    "hidden": true
   },
   "outputs": [],
   "source": [
    "fig, ax = plt.subplots()\n",
    "scene.plot(ax)\n",
    "ax.axis(\"equal\")"
   ]
  },
  {
   "cell_type": "markdown",
   "metadata": {
    "hidden": true
   },
   "source": [
    "## Refractive planes"
   ]
  },
  {
   "cell_type": "code",
   "execution_count": null,
   "metadata": {
    "hidden": true
   },
   "outputs": [],
   "source": [
    "sc_dsc = {\n",
    "    \"rays\": [two_d_tracer.Ray([-5, y], [1,0.3]) for y in np.linspace(-1.5,1.5, 11)],\n",
    "    \"objects\": [two_d_tracer.Surface([-1,1], [-1,1], np.sqrt(2), 1, 1.3),\n",
    "                two_d_tracer.Surface([1,1], [1,1], np.sqrt(2), 1, 1.3),\n",
    "                two_d_tracer.Surface([0,0], [0,-1], 2, 1, 1.3)]\n",
    "}\n",
    "scene = two_d_tracer.Scene(**sc_dsc)"
   ]
  },
  {
   "cell_type": "code",
   "execution_count": null,
   "metadata": {
    "hidden": true
   },
   "outputs": [],
   "source": [
    "scene.run()"
   ]
  },
  {
   "cell_type": "code",
   "execution_count": null,
   "metadata": {
    "hidden": true
   },
   "outputs": [],
   "source": [
    "fig, ax = plt.subplots()\n",
    "scene.plot(ax)\n",
    "ax.axis(\"equal\")\n",
    "ax.set_xlim(-2.5,2.5)"
   ]
  },
  {
   "cell_type": "markdown",
   "metadata": {
    "hidden": true
   },
   "source": [
    "## Spheres"
   ]
  },
  {
   "cell_type": "code",
   "execution_count": null,
   "metadata": {
    "hidden": true
   },
   "outputs": [],
   "source": [
    "sc_dsc = {\n",
    "    \"rays\": [two_d_tracer.Ray([-5, y], [1,0]) for y in np.linspace(-2.6,2.6, 10)],\n",
    "    \"objects\": [two_d_tracer.Sphere([0,0], 2.5, [rad(150), rad(-150)], 1, 1.5),\n",
    "               two_d_tracer.SphereReflective([4,0], 2.5, [rad(-50), rad(50)])]\n",
    "}\n",
    "scene = two_d_tracer.Scene(**sc_dsc)"
   ]
  },
  {
   "cell_type": "code",
   "execution_count": null,
   "metadata": {
    "hidden": true
   },
   "outputs": [],
   "source": [
    "scene.run()"
   ]
  },
  {
   "cell_type": "code",
   "execution_count": null,
   "metadata": {
    "hidden": true
   },
   "outputs": [],
   "source": [
    "fig, ax = plt.subplots()\n",
    "scene.plot(ax)\n",
    "ax.axis(\"equal\")"
   ]
  },
  {
   "cell_type": "markdown",
   "metadata": {
    "heading_collapsed": true
   },
   "source": [
    "# The lensmaker equation"
   ]
  },
  {
   "cell_type": "markdown",
   "metadata": {
    "hidden": true
   },
   "source": [
    "$$\\frac{1}{f}=(n-1)\\left(\\frac{1}{R_1}-\\frac{1}{R_2}\\right)$$ for a think lens. This doesn't quite work, so let's try $$\\frac{1}{f} = (n-1) \\left( \\frac{1}{R_1} - \\frac{1}{R_2} + \\frac{(n-1)d}{n R_1 R_2} \\right),$$\n",
    "then the distance from the end of the lens to the focus is given as\n",
    "$$\\mbox{BFD} = f \\left( 1 - \\frac{ (n-1) d}{n R_1} \\right),$$\n",
    "which is taken from https://en.wikipedia.org/wiki/Focal_length."
   ]
  },
  {
   "cell_type": "code",
   "execution_count": null,
   "metadata": {
    "hidden": true
   },
   "outputs": [],
   "source": [
    "def f(n, R1, R2):\n",
    "    return 1 / ((n-1)*(1/R1-1/R2))\n",
    "\n",
    "def f(n, R1, R2, d):\n",
    "    return 1 / ((n-1)*(1/R1 - 1/R2 + ((n-1)*d)/(n*R1*R2)))\n",
    "\n",
    "def ffd(f, n, R1, R2, d):\n",
    "    return f*(1-(n-1)*d/(n*R1))\n",
    "\n",
    "fig, ax = plt.subplots(2, 2, gridspec_kw={\"height_ratios\":(3,1), \"width_ratios\": (3,1)})\n",
    "ax = ax.flatten()\n",
    "\n",
    "@interact\n",
    "def draw(n=1.5, R1=2., R2=-2., d=1.):\n",
    "    fc = f(n, R1, R2, d)\n",
    "    ffdc = ffd(fc, n, R1, R2, d) + d/2\n",
    "    canvas = two_d_tracer.RayCanvas([0,0],[0,1])\n",
    "    canvas2 = two_d_tracer.RayCanvas([ffdc,0],[-1,0])\n",
    "    sc_dsc = {\n",
    "        \"rays\": [two_d_tracer.Ray([-5, y], [1,0]) for y in np.linspace(-0.1,0.1, 20)],\n",
    "        \"objects\": [two_d_tracer.Sphere([R1-d/2,0], R1, [rad(150), rad(-150)], 1, n),\n",
    "                    two_d_tracer.Sphere([R2+d/2,0], -R2, [rad(-30), rad(30)], 1, n), canvas, canvas2]\n",
    "    }\n",
    "    scene = two_d_tracer.Scene(**sc_dsc)\n",
    "    scene.run()\n",
    "    scene.propagate(2)\n",
    "    ax[0].clear()\n",
    "    ax[1].clear()\n",
    "    ax[2].clear()\n",
    "    scene.plot(ax[0], true_color=False)\n",
    "#     ax[0].plot([ffdc,ffdc], [-1, 1])\n",
    "    ax[2].plot(canvas.points, [0 for p in canvas.points], \"x\")\n",
    "    ax[1].plot([0 for p in canvas.points], canvas2.points, \"x\")\n",
    "    ax[2].plot([ffdc,ffdc], [-1, 1])\n",
    "    ax[0].axis(\"equal\")\n",
    "    ax[0].set_xlim(-1, 1.5*ffdc)\n",
    "    print(ffdc)"
   ]
  },
  {
   "cell_type": "markdown",
   "metadata": {
    "heading_collapsed": true
   },
   "source": [
    "# Wavelength to rgb testing"
   ]
  },
  {
   "cell_type": "code",
   "execution_count": null,
   "metadata": {
    "hidden": true
   },
   "outputs": [],
   "source": [
    "wvl = np.linspace(300, 800, 100)\n",
    "w = [two_d_tracer.nm_to_rgb(x) for x in wvl]\n",
    "\n",
    "fig, ax = plt.subplots(figsize=(5,1))\n",
    "ax.scatter(wvl, np.zeros(wvl.size), c=w)\n",
    "plt.tight_layout()"
   ]
  },
  {
   "cell_type": "markdown",
   "metadata": {
    "heading_collapsed": true
   },
   "source": [
    "# Rainbow prism"
   ]
  },
  {
   "cell_type": "code",
   "execution_count": null,
   "metadata": {
    "hidden": true
   },
   "outputs": [],
   "source": [
    "# https://refractiveindex.info/?shelf=3d&book=glass&page=BK7\n",
    "def n_glass(wavelength):\n",
    "    x = wavelength * 1e-3 # The formula below works in micormeters\n",
    "    return (1+1.03961212/(1-0.00600069867/x**2)+0.231792344/(1-0.0200179144/x**2)+1.01046945/(1-103.560653/x**2))**.5\n",
    "    \n",
    "prism_angle = rad(80)/2\n",
    "sc_dsc = {\n",
    "    \"rays\": [two_d_tracer.Ray([-1.5, 0], [1,1], wl) for wl in np.linspace(410,710, 11)],\n",
    "    \"objects\": [two_d_tracer.Surface([-np.sin(prism_angle),np.cos(prism_angle)], [-np.cos(prism_angle),np.sin(prism_angle)], 1, 1, n_glass),\n",
    "                two_d_tracer.Surface([np.sin(prism_angle),np.cos(prism_angle)], [+np.cos(prism_angle),np.sin(prism_angle)], 1, 1, n_glass),\n",
    "                two_d_tracer.Surface([0,0], [0,-1], 2*np.sin(prism_angle), 1, n_glass)]\n",
    "}\n",
    "scene = two_d_tracer.Scene(**sc_dsc)"
   ]
  },
  {
   "cell_type": "code",
   "execution_count": null,
   "metadata": {
    "hidden": true
   },
   "outputs": [],
   "source": [
    "scene.run(announce_steps=True)"
   ]
  },
  {
   "cell_type": "code",
   "execution_count": null,
   "metadata": {
    "hidden": true
   },
   "outputs": [],
   "source": [
    "fig, ax = plt.subplots()\n",
    "scene.plot(ax, ray_kwargs={\"lw\":0.7})\n",
    "ax.axis(\"equal\")\n",
    "ax.set_xlim(-1,1)"
   ]
  },
  {
   "cell_type": "code",
   "execution_count": null,
   "metadata": {
    "hidden": true
   },
   "outputs": [],
   "source": [
    "scene.rays"
   ]
  },
  {
   "cell_type": "markdown",
   "metadata": {
    "heading_collapsed": true
   },
   "source": [
    "# Chromatic aberration"
   ]
  },
  {
   "cell_type": "code",
   "execution_count": null,
   "metadata": {
    "hidden": true
   },
   "outputs": [],
   "source": [
    "def f(n, R1, R2):\n",
    "    return 1 / ((n-1)*(1/R1-1/R2))\n",
    "\n",
    "def f(n, R1, R2, d):\n",
    "    return 1 / ((n-1)*(1/R1 - 1/R2 + ((n-1)*d)/(n*R1*R2)))\n",
    "\n",
    "def ffd(f, n, R1, R2, d):\n",
    "    return f*(1-(n-1)*d/(n*R1))\n",
    "\n",
    "fig, ax = plt.subplots(2, 2, gridspec_kw={\"height_ratios\":(3,1), \"width_ratios\": (3,1)})\n",
    "ax = ax.flatten()\n",
    "\n",
    "canvas = None\n",
    "\n",
    "@interact(n=(1.5128024728723604, 1.5295687672239824, 0.005))\n",
    "def draw(n=1.514, R1=2., R2=-2., d=1.):\n",
    "    global canvas\n",
    "    fc = f(n, R1, R2, d)\n",
    "    ffdc = ffd(fc, n, R1, R2, d) + d/2\n",
    "    canvas = two_d_tracer.RayCanvas([0,0],[0,1])\n",
    "    canvas2 = two_d_tracer.RayCanvas([ffdc,0],[-1,0])\n",
    "    sc_dsc = {\n",
    "        \"rays\": [two_d_tracer.Ray([-5, y], [1,0], wl) for wl in np.linspace(410,710, 10) for y in np.linspace(-0.1,0.1,10)],\n",
    "        \"objects\": [two_d_tracer.Sphere([R1-d/2,0], R1, [rad(150), rad(-150)], 1, n_glass),\n",
    "                    two_d_tracer.Sphere([R2+d/2,0], -R2, [rad(-30), rad(30)], 1, n_glass), canvas, canvas2]\n",
    "    }\n",
    "    scene = two_d_tracer.Scene(**sc_dsc)\n",
    "    scene.run()\n",
    "    scene.propagate(2)\n",
    "    ax[0].clear()\n",
    "    ax[1].clear()\n",
    "    ax[2].clear()\n",
    "    scene.plot(ax[0], ray_kwargs={\"lw\":.1})\n",
    "#     ax[0].plot([ffdc,ffdc], [-1, 1])\n",
    "    ax[2].scatter(canvas.points, canvas.wavelengths, c=canvas.c)\n",
    "    ax[1].scatter(canvas2.wavelengths, canvas2.points, c=canvas2.c)\n",
    "    ax[2].plot([ffdc,ffdc], [410, 710])\n",
    "#     ax[0].axis(\"equal\")\n",
    "    ax[0].set_xlim(-1, 1.5*ffdc)\n",
    "    print(ffdc)"
   ]
  },
  {
   "cell_type": "markdown",
   "metadata": {
    "heading_collapsed": true
   },
   "source": [
    "# Reflection momentum calculation"
   ]
  },
  {
   "cell_type": "code",
   "execution_count": null,
   "metadata": {
    "hidden": true
   },
   "outputs": [],
   "source": [
    "mirror = two_d_tracer.SurfaceReflective([0,0], [1, 1], None)\n",
    "sc_dsc = {\n",
    "    \"rays\": [two_d_tracer.Ray([-5, y], [1,0], 400+((y+2.5)*50)) for y in np.linspace(-2.5,2.5, 5)],\n",
    "    \"objects\": [mirror]\n",
    "}\n",
    "scene = two_d_tracer.Scene(**sc_dsc)"
   ]
  },
  {
   "cell_type": "code",
   "execution_count": null,
   "metadata": {
    "hidden": true
   },
   "outputs": [],
   "source": [
    "# Initial momentum of the photons\n",
    "initial = np.sum([1/ray.wavelength*ray.dir for ray in scene.rays], axis=0)\n",
    "print(initial)"
   ]
  },
  {
   "cell_type": "code",
   "execution_count": null,
   "metadata": {
    "hidden": true
   },
   "outputs": [],
   "source": [
    "scene.run()"
   ]
  },
  {
   "cell_type": "code",
   "execution_count": null,
   "metadata": {
    "hidden": true
   },
   "outputs": [],
   "source": [
    "fig,ax = plt.subplots()\n",
    "scene.plot(ax, m_quiver=True)\n",
    "ax.axis(\"equal\")"
   ]
  },
  {
   "cell_type": "code",
   "execution_count": null,
   "metadata": {
    "hidden": true
   },
   "outputs": [],
   "source": [
    "# The momentum change observed by the plane\n",
    "mirror.momenta"
   ]
  },
  {
   "cell_type": "code",
   "execution_count": null,
   "metadata": {
    "hidden": true
   },
   "outputs": [],
   "source": [
    "# Total change of mirror momentum\n",
    "np.sum(mirror.momenta, axis=0)"
   ]
  },
  {
   "cell_type": "code",
   "execution_count": null,
   "metadata": {
    "hidden": true
   },
   "outputs": [],
   "source": [
    "# Final momentum of the photons\n",
    "final = np.sum([1/ray.wavelength*ray.dir for ray in scene.rays], axis=0)\n",
    "print(final)"
   ]
  },
  {
   "cell_type": "code",
   "execution_count": null,
   "metadata": {
    "hidden": true
   },
   "outputs": [],
   "source": [
    "# Change in total photon momentum\n",
    "final-initial"
   ]
  },
  {
   "cell_type": "code",
   "execution_count": null,
   "metadata": {
    "hidden": true
   },
   "outputs": [],
   "source": [
    "# Change of momentum for the entire system:\n",
    "np.sum(mirror.momenta, axis=0) + final - initial\n",
    "# Woo, the system has conserved momentum!"
   ]
  },
  {
   "cell_type": "markdown",
   "metadata": {
    "heading_collapsed": true
   },
   "source": [
    "# Refraction momentum calculation"
   ]
  },
  {
   "cell_type": "markdown",
   "metadata": {
    "hidden": true
   },
   "source": [
    "## Surface"
   ]
  },
  {
   "cell_type": "code",
   "execution_count": null,
   "metadata": {
    "hidden": true
   },
   "outputs": [],
   "source": [
    "surface1 = two_d_tracer.Surface([2,0], [1,1], 5*np.sqrt(2), 1, 1.2)\n",
    "surface2 = two_d_tracer.Surface([-2,0], [-1,1], 2*np.sqrt(2), 1, 1.2)\n",
    "sc_dsc = {\n",
    "    \"rays\": [two_d_tracer.Ray([-5, y], [1,0], 400+((y+1.5)*50)) for y in np.linspace(-1.5,1.5, 5)],\n",
    "    \"objects\": [surface1, surface2]\n",
    "}\n",
    "scene = two_d_tracer.Scene(**sc_dsc)"
   ]
  },
  {
   "cell_type": "code",
   "execution_count": null,
   "metadata": {
    "hidden": true
   },
   "outputs": [],
   "source": [
    "# Initial momentum of the photons\n",
    "initial = np.sum([1/ray.wavelength*ray.dir for ray in scene.rays], axis=0)\n",
    "print(initial)"
   ]
  },
  {
   "cell_type": "code",
   "execution_count": null,
   "metadata": {
    "hidden": true
   },
   "outputs": [],
   "source": [
    "scene.run()"
   ]
  },
  {
   "cell_type": "code",
   "execution_count": null,
   "metadata": {
    "hidden": true
   },
   "outputs": [],
   "source": [
    "fig,ax = plt.subplots()\n",
    "scene.plot(ax, m_quiver=True)\n",
    "ax.axis(\"equal\")"
   ]
  },
  {
   "cell_type": "code",
   "execution_count": null,
   "metadata": {
    "hidden": true
   },
   "outputs": [],
   "source": [
    "# Final momentum of the photons\n",
    "final = np.sum([1/ray.wavelength*ray.dir for ray in scene.rays], axis=0)\n",
    "print(final)"
   ]
  },
  {
   "cell_type": "code",
   "execution_count": null,
   "metadata": {
    "hidden": true
   },
   "outputs": [],
   "source": [
    "# Change in total photon momentum\n",
    "final-initial"
   ]
  },
  {
   "cell_type": "code",
   "execution_count": null,
   "metadata": {
    "hidden": true
   },
   "outputs": [],
   "source": [
    "np.sum(scene.momenta, axis=0)"
   ]
  },
  {
   "cell_type": "markdown",
   "metadata": {
    "hidden": true
   },
   "source": [
    "## Sphere"
   ]
  },
  {
   "cell_type": "code",
   "execution_count": null,
   "metadata": {
    "hidden": true
   },
   "outputs": [],
   "source": [
    "sphere = two_d_tracer.Sphere([0,0], 2.5, None, 1, 1.1)\n",
    "sc_dsc = {\n",
    "    \"rays\": [two_d_tracer.Ray([-5, y], [1,0], 400+((y)*200)) for y in np.linspace(0,1.5, 5)],\n",
    "    \"objects\": [sphere]\n",
    "}\n",
    "scene = two_d_tracer.Scene(**sc_dsc)"
   ]
  },
  {
   "cell_type": "code",
   "execution_count": null,
   "metadata": {
    "hidden": true
   },
   "outputs": [],
   "source": [
    "# Initial momentum of the photons\n",
    "initial = np.sum([1/ray.wavelength*ray.dir for ray in scene.rays], axis=0)\n",
    "print(initial)"
   ]
  },
  {
   "cell_type": "code",
   "execution_count": null,
   "metadata": {
    "hidden": true
   },
   "outputs": [],
   "source": [
    "scene.run()"
   ]
  },
  {
   "cell_type": "code",
   "execution_count": null,
   "metadata": {
    "hidden": true
   },
   "outputs": [],
   "source": [
    "fig,ax = plt.subplots()\n",
    "scene.plot(ax, m_quiver=True)\n",
    "ax.axis(\"equal\")"
   ]
  },
  {
   "cell_type": "code",
   "execution_count": null,
   "metadata": {
    "hidden": true
   },
   "outputs": [],
   "source": [
    "# Final momentum of the photons\n",
    "final = np.sum([1/ray.wavelength*ray.dir for ray in scene.rays], axis=0)\n",
    "print(final)"
   ]
  },
  {
   "cell_type": "code",
   "execution_count": null,
   "metadata": {
    "hidden": true
   },
   "outputs": [],
   "source": [
    "# Change in total photon momentum\n",
    "final-initial"
   ]
  },
  {
   "cell_type": "code",
   "execution_count": null,
   "metadata": {
    "hidden": true
   },
   "outputs": [],
   "source": [
    "np.sum(scene.momenta, axis=0)"
   ]
  },
  {
   "cell_type": "markdown",
   "metadata": {
    "hidden": true
   },
   "source": [
    "## Hollow sphere"
   ]
  },
  {
   "cell_type": "code",
   "execution_count": null,
   "metadata": {
    "hidden": true
   },
   "outputs": [],
   "source": [
    "sc_dsc = {\n",
    "    \"rays\": [two_d_tracer.Ray([-5, y], [1,0], 400+((y)*100)) for y in np.linspace(0,2.4, 5)],\n",
    "    \"objects\": [two_d_tracer.Sphere([0,0], 2.5, None, 1, 1.5), two_d_tracer.Sphere([0,0], 2, None, 1.5, 1)]\n",
    "}\n",
    "scene = two_d_tracer.Scene(**sc_dsc)"
   ]
  },
  {
   "cell_type": "code",
   "execution_count": null,
   "metadata": {
    "hidden": true
   },
   "outputs": [],
   "source": [
    "scene.run()"
   ]
  },
  {
   "cell_type": "code",
   "execution_count": null,
   "metadata": {
    "hidden": true
   },
   "outputs": [],
   "source": [
    "fig,ax = plt.subplots()\n",
    "scene.plot(ax, m_quiver=True)\n",
    "ax.axis(\"equal\")"
   ]
  },
  {
   "cell_type": "code",
   "execution_count": null,
   "metadata": {
    "hidden": true
   },
   "outputs": [],
   "source": [
    "# The y component is expected to be negative - the hollow sphere is pushed out of the ray.\n",
    "np.sum(scene.momenta, axis=0)"
   ]
  },
  {
   "cell_type": "markdown",
   "metadata": {
    "hidden": true
   },
   "source": [
    "## Inner radius dependence"
   ]
  },
  {
   "cell_type": "code",
   "execution_count": null,
   "metadata": {
    "hidden": true
   },
   "outputs": [],
   "source": [
    "# Uncomment the commented lines to get a progress animation\n",
    "# fig, ax = plt.subplots()\n",
    "mms = []\n",
    "rs = np.linspace(0.1,2.49,25)\n",
    "for r in tqdm(rs):\n",
    "    sc_dsc = {\n",
    "        \"rays\": [two_d_tracer.Ray([-5, y], [1,0]) for y in np.linspace(0,2.4, 100)],\n",
    "        \"objects\": [two_d_tracer.Sphere([0,0], 2.5, None, 1, 1.5), two_d_tracer.Sphere([0,0], r, None, 1.5, 1)]\n",
    "    }\n",
    "    scene = two_d_tracer.Scene(**sc_dsc)\n",
    "    scene.run()\n",
    "    mms.append(np.sum(scene.momenta, axis=0))\n",
    "#     ax.clear()\n",
    "#     scene.plot(ax, m_quiver=False)\n",
    "#     ax.axis(\"equal\")\n",
    "#     fig.canvas.draw()\n",
    "#     sleep(1)\n",
    "mms = np.array(mms)"
   ]
  },
  {
   "cell_type": "code",
   "execution_count": null,
   "metadata": {
    "hidden": true
   },
   "outputs": [],
   "source": [
    "fig, ax = plt.subplots()\n",
    "ax.plot(rs, mms[:,0], label=\"X\")\n",
    "ax.plot(rs, mms[:,1], label=\"Y\")\n",
    "ax.legend()"
   ]
  },
  {
   "cell_type": "markdown",
   "metadata": {
    "heading_collapsed": true
   },
   "source": [
    "# Parabola"
   ]
  },
  {
   "cell_type": "code",
   "execution_count": null,
   "metadata": {
    "hidden": true
   },
   "outputs": [],
   "source": [
    "canvas = two_d_tracer.RayCanvas([0,1],[1,0],1)\n",
    "sc_dsc = {\n",
    "    \"rays\": [two_d_tracer.Ray([y, -0.5], [0,1]) for y in np.linspace(-2,2, 21)]+\n",
    "            [two_d_tracer.Ray([y, 4], [0,-1], 600) for y in np.linspace(0.2,1.5, 11)]+\n",
    "            [two_d_tracer.Ray([-4, y+0.3], [1,0], 500) for y in np.linspace(0.2,1.5, 11)],\n",
    "    \"objects\": [two_d_tracer.ParabolaReflective(1,0,0), two_d_tracer.RayCanvas([0,5],[0,1]), canvas]\n",
    "}\n",
    "scene = two_d_tracer.Scene(**sc_dsc)"
   ]
  },
  {
   "cell_type": "code",
   "execution_count": null,
   "metadata": {
    "hidden": true
   },
   "outputs": [],
   "source": [
    "scene.run(limit=4)"
   ]
  },
  {
   "cell_type": "code",
   "execution_count": null,
   "metadata": {
    "hidden": true
   },
   "outputs": [],
   "source": [
    "fig, ax = plt.subplots(1, 2, gridspec_kw={\"width_ratios\":(3,1)})\n",
    "scene.plot(ax[0])\n",
    "ax[0].axis(\"equal\")\n",
    "ax[0].set_xlim(-2,2)\n",
    "ax[0].set_ylim(-1,5)\n",
    "ax[1].scatter([0 for p in canvas.points], canvas.points, color=canvas.c, marker=\"x\", s=0.2)"
   ]
  },
  {
   "cell_type": "code",
   "execution_count": null,
   "metadata": {
    "hidden": true
   },
   "outputs": [],
   "source": [
    "sc_dsc = {\n",
    "    \"rays\": [two_d_tracer.Ray([-2, y+0.3], [1,0]) for y in np.linspace(0.2,1.5, 11)]+\n",
    "            [two_d_tracer.Ray([-2, 2.5], [1,0])],\n",
    "    \"objects\": [two_d_tracer.Parabola(1,0,0, [-1.5,1.5], n_in=1.3)]\n",
    "}\n",
    "scene = two_d_tracer.Scene(**sc_dsc)"
   ]
  },
  {
   "cell_type": "code",
   "execution_count": null,
   "metadata": {
    "hidden": true
   },
   "outputs": [],
   "source": [
    "scene.run()"
   ]
  },
  {
   "cell_type": "code",
   "execution_count": null,
   "metadata": {
    "hidden": true
   },
   "outputs": [],
   "source": [
    "fig,ax = plt.subplots()\n",
    "scene.plot(ax)\n",
    "ax.axis(\"equal\")"
   ]
  },
  {
   "cell_type": "markdown",
   "metadata": {
    "heading_collapsed": true
   },
   "source": [
    "# Line segments"
   ]
  },
  {
   "cell_type": "code",
   "execution_count": null,
   "metadata": {
    "hidden": true
   },
   "outputs": [],
   "source": [
    "sc_dsc = {\n",
    "    \"rays\": [two_d_tracer.Ray([-2, y], [1,0]) for y in np.linspace(-2.5,2.5, 11)],\n",
    "    \"objects\": [two_d_tracer.LineSegment([-2,-1], [2,1],n_in=1.5),\n",
    "                two_d_tracer.LineSegmentReflective([1,-2], [3,-1]),\n",
    "                two_d_tracer.LineSegment([3,1], [1,0], n_in=1.5)]\n",
    "}\n",
    "scene = two_d_tracer.Scene(**sc_dsc)\n",
    "scene.run()"
   ]
  },
  {
   "cell_type": "code",
   "execution_count": null,
   "metadata": {
    "hidden": true
   },
   "outputs": [],
   "source": [
    "fig, ax = plt.subplots()\n",
    "scene.plot(ax)\n",
    "ax.axis(\"equal\")"
   ]
  },
  {
   "cell_type": "markdown",
   "metadata": {},
   "source": [
    "# Prism v2: Line Segment Boogaloo"
   ]
  },
  {
   "cell_type": "markdown",
   "metadata": {},
   "source": [
    "The results are consistent with the previous implementation"
   ]
  },
  {
   "cell_type": "code",
   "execution_count": null,
   "metadata": {},
   "outputs": [],
   "source": [
    "# https://refractiveindex.info/?shelf=3d&book=glass&page=BK7\n",
    "def n_glass(wavelength):\n",
    "    x = wavelength * 1e-3 # The formula below works in micormeters\n",
    "    return (1+1.03961212/(1-0.00600069867/x**2)+0.231792344/(1-0.0200179144/x**2)+1.01046945/(1-103.560653/x**2))**.5\n",
    "    \n",
    "prism_angle = rad(80)/2\n",
    "sc_dsc = {\n",
    "    \"rays\": [two_d_tracer.Ray([-1.5, 0], [1,1], wl) for wl in np.linspace(410,710, 11)],\n",
    "    \"objects\": [two_d_tracer.LineSegment([-2*np.sin(prism_angle),0], [0,2*np.cos(prism_angle)], n_in=n_glass),\n",
    "                two_d_tracer.LineSegment([0,2*np.cos(prism_angle)], [2*np.sin(prism_angle),0], n_in=n_glass),\n",
    "                two_d_tracer.LineSegment([2*np.sin(prism_angle),0], [-2*np.sin(prism_angle),0], n_in=n_glass)]\n",
    "}\n",
    "scene = two_d_tracer.Scene(**sc_dsc)\n",
    "scene.run()"
   ]
  },
  {
   "cell_type": "code",
   "execution_count": null,
   "metadata": {},
   "outputs": [],
   "source": [
    "fig, ax = plt.subplots()\n",
    "scene.plot(ax, ray_kwargs={\"lw\":0.7})\n",
    "ax.axis(\"equal\")"
   ]
  },
  {
   "cell_type": "code",
   "execution_count": null,
   "metadata": {},
   "outputs": [],
   "source": [
    "scene.rays"
   ]
  },
  {
   "cell_type": "markdown",
   "metadata": {},
   "source": [
    "# Object containers"
   ]
  },
  {
   "cell_type": "code",
   "execution_count": 46,
   "metadata": {},
   "outputs": [],
   "source": [
    "# https://refractiveindex.info/?shelf=3d&book=glass&page=BK7\n",
    "def n_glass(wavelength):\n",
    "    x = wavelength * 1e-3 # The formula below works in micormeters\n",
    "    return (1+1.03961212/(1-0.00600069867/x**2)+0.231792344/(1-0.0200179144/x**2)+1.01046945/(1-103.560653/x**2))**.5\n",
    "    \n",
    "prism_angle = rad(60)/2\n",
    "\n",
    "prism1 = two_d_tracer.ObjectContainer([\n",
    "    two_d_tracer.LineSegment([-2*np.sin(prism_angle),0], [0,2*np.cos(prism_angle)], n_in=n_glass),\n",
    "    two_d_tracer.LineSegment([0,2*np.cos(prism_angle)], [2*np.sin(prism_angle),0], n_in=n_glass),\n",
    "    two_d_tracer.LineSegment([2*np.sin(prism_angle),0], [-2*np.sin(prism_angle),0], n_in=n_glass)\n",
    "])\n",
    "\n",
    "d=1.5\n",
    "prism2 = two_d_tracer.ObjectContainer([\n",
    "    two_d_tracer.LineSegment([-2*np.sin(prism_angle)+d,2*np.cos(prism_angle)], [2*np.sin(prism_angle)+d,2*np.cos(prism_angle)], n_in=n_glass),\n",
    "    two_d_tracer.LineSegment([2*np.sin(prism_angle)+d,2*np.cos(prism_angle)], [d,0], n_in=n_glass),\n",
    "    two_d_tracer.LineSegment([d,0],[-2*np.sin(prism_angle)+d,2*np.cos(prism_angle)], n_in=n_glass),\n",
    "], label=\"Prism 2\")\n",
    "\n",
    "sc_dsc = {\n",
    "    \"rays\": [two_d_tracer.Ray([-1.5, 0], [1,1], wl) for wl in np.linspace(410,710, 5)],\n",
    "    \"objects\": prism1.objects + prism2.objects\n",
    "}\n",
    "scene = two_d_tracer.Scene(**sc_dsc)\n",
    "scene.run()"
   ]
  },
  {
   "cell_type": "code",
   "execution_count": 47,
   "metadata": {},
   "outputs": [
    {
     "name": "stdout",
     "output_type": "stream",
     "text": [
      "ObjectContainer([Surface([-0.5        0.8660254], [-0.8660254  0.5      ]), Surface([0.5       0.8660254], [0.8660254 0.5      ]), Surface([0. 0.], [ 0. -1.])])\n",
      "\n",
      "Prism 2: ObjectContainer([Surface([1.5        1.73205081], [0. 1.]), Surface([2.        0.8660254], [ 0.8660254 -0.5      ]), Surface([1.        0.8660254], [-0.8660254 -0.5      ])])\n"
     ]
    }
   ],
   "source": [
    "print(prism1)\n",
    "print()\n",
    "print(prism2)"
   ]
  },
  {
   "cell_type": "code",
   "execution_count": 48,
   "metadata": {},
   "outputs": [
    {
     "data": {
      "application/javascript": [
       "/* Put everything inside the global mpl namespace */\n",
       "window.mpl = {};\n",
       "\n",
       "\n",
       "mpl.get_websocket_type = function() {\n",
       "    if (typeof(WebSocket) !== 'undefined') {\n",
       "        return WebSocket;\n",
       "    } else if (typeof(MozWebSocket) !== 'undefined') {\n",
       "        return MozWebSocket;\n",
       "    } else {\n",
       "        alert('Your browser does not have WebSocket support. ' +\n",
       "              'Please try Chrome, Safari or Firefox ≥ 6. ' +\n",
       "              'Firefox 4 and 5 are also supported but you ' +\n",
       "              'have to enable WebSockets in about:config.');\n",
       "    };\n",
       "}\n",
       "\n",
       "mpl.figure = function(figure_id, websocket, ondownload, parent_element) {\n",
       "    this.id = figure_id;\n",
       "\n",
       "    this.ws = websocket;\n",
       "\n",
       "    this.supports_binary = (this.ws.binaryType != undefined);\n",
       "\n",
       "    if (!this.supports_binary) {\n",
       "        var warnings = document.getElementById(\"mpl-warnings\");\n",
       "        if (warnings) {\n",
       "            warnings.style.display = 'block';\n",
       "            warnings.textContent = (\n",
       "                \"This browser does not support binary websocket messages. \" +\n",
       "                    \"Performance may be slow.\");\n",
       "        }\n",
       "    }\n",
       "\n",
       "    this.imageObj = new Image();\n",
       "\n",
       "    this.context = undefined;\n",
       "    this.message = undefined;\n",
       "    this.canvas = undefined;\n",
       "    this.rubberband_canvas = undefined;\n",
       "    this.rubberband_context = undefined;\n",
       "    this.format_dropdown = undefined;\n",
       "\n",
       "    this.image_mode = 'full';\n",
       "\n",
       "    this.root = $('<div/>');\n",
       "    this._root_extra_style(this.root)\n",
       "    this.root.attr('style', 'display: inline-block');\n",
       "\n",
       "    $(parent_element).append(this.root);\n",
       "\n",
       "    this._init_header(this);\n",
       "    this._init_canvas(this);\n",
       "    this._init_toolbar(this);\n",
       "\n",
       "    var fig = this;\n",
       "\n",
       "    this.waiting = false;\n",
       "\n",
       "    this.ws.onopen =  function () {\n",
       "            fig.send_message(\"supports_binary\", {value: fig.supports_binary});\n",
       "            fig.send_message(\"send_image_mode\", {});\n",
       "            if (mpl.ratio != 1) {\n",
       "                fig.send_message(\"set_dpi_ratio\", {'dpi_ratio': mpl.ratio});\n",
       "            }\n",
       "            fig.send_message(\"refresh\", {});\n",
       "        }\n",
       "\n",
       "    this.imageObj.onload = function() {\n",
       "            if (fig.image_mode == 'full') {\n",
       "                // Full images could contain transparency (where diff images\n",
       "                // almost always do), so we need to clear the canvas so that\n",
       "                // there is no ghosting.\n",
       "                fig.context.clearRect(0, 0, fig.canvas.width, fig.canvas.height);\n",
       "            }\n",
       "            fig.context.drawImage(fig.imageObj, 0, 0);\n",
       "        };\n",
       "\n",
       "    this.imageObj.onunload = function() {\n",
       "        fig.ws.close();\n",
       "    }\n",
       "\n",
       "    this.ws.onmessage = this._make_on_message_function(this);\n",
       "\n",
       "    this.ondownload = ondownload;\n",
       "}\n",
       "\n",
       "mpl.figure.prototype._init_header = function() {\n",
       "    var titlebar = $(\n",
       "        '<div class=\"ui-dialog-titlebar ui-widget-header ui-corner-all ' +\n",
       "        'ui-helper-clearfix\"/>');\n",
       "    var titletext = $(\n",
       "        '<div class=\"ui-dialog-title\" style=\"width: 100%; ' +\n",
       "        'text-align: center; padding: 3px;\"/>');\n",
       "    titlebar.append(titletext)\n",
       "    this.root.append(titlebar);\n",
       "    this.header = titletext[0];\n",
       "}\n",
       "\n",
       "\n",
       "\n",
       "mpl.figure.prototype._canvas_extra_style = function(canvas_div) {\n",
       "\n",
       "}\n",
       "\n",
       "\n",
       "mpl.figure.prototype._root_extra_style = function(canvas_div) {\n",
       "\n",
       "}\n",
       "\n",
       "mpl.figure.prototype._init_canvas = function() {\n",
       "    var fig = this;\n",
       "\n",
       "    var canvas_div = $('<div/>');\n",
       "\n",
       "    canvas_div.attr('style', 'position: relative; clear: both; outline: 0');\n",
       "\n",
       "    function canvas_keyboard_event(event) {\n",
       "        return fig.key_event(event, event['data']);\n",
       "    }\n",
       "\n",
       "    canvas_div.keydown('key_press', canvas_keyboard_event);\n",
       "    canvas_div.keyup('key_release', canvas_keyboard_event);\n",
       "    this.canvas_div = canvas_div\n",
       "    this._canvas_extra_style(canvas_div)\n",
       "    this.root.append(canvas_div);\n",
       "\n",
       "    var canvas = $('<canvas/>');\n",
       "    canvas.addClass('mpl-canvas');\n",
       "    canvas.attr('style', \"left: 0; top: 0; z-index: 0; outline: 0\")\n",
       "\n",
       "    this.canvas = canvas[0];\n",
       "    this.context = canvas[0].getContext(\"2d\");\n",
       "\n",
       "    var backingStore = this.context.backingStorePixelRatio ||\n",
       "\tthis.context.webkitBackingStorePixelRatio ||\n",
       "\tthis.context.mozBackingStorePixelRatio ||\n",
       "\tthis.context.msBackingStorePixelRatio ||\n",
       "\tthis.context.oBackingStorePixelRatio ||\n",
       "\tthis.context.backingStorePixelRatio || 1;\n",
       "\n",
       "    mpl.ratio = (window.devicePixelRatio || 1) / backingStore;\n",
       "\n",
       "    var rubberband = $('<canvas/>');\n",
       "    rubberband.attr('style', \"position: absolute; left: 0; top: 0; z-index: 1;\")\n",
       "\n",
       "    var pass_mouse_events = true;\n",
       "\n",
       "    canvas_div.resizable({\n",
       "        start: function(event, ui) {\n",
       "            pass_mouse_events = false;\n",
       "        },\n",
       "        resize: function(event, ui) {\n",
       "            fig.request_resize(ui.size.width, ui.size.height);\n",
       "        },\n",
       "        stop: function(event, ui) {\n",
       "            pass_mouse_events = true;\n",
       "            fig.request_resize(ui.size.width, ui.size.height);\n",
       "        },\n",
       "    });\n",
       "\n",
       "    function mouse_event_fn(event) {\n",
       "        if (pass_mouse_events)\n",
       "            return fig.mouse_event(event, event['data']);\n",
       "    }\n",
       "\n",
       "    rubberband.mousedown('button_press', mouse_event_fn);\n",
       "    rubberband.mouseup('button_release', mouse_event_fn);\n",
       "    // Throttle sequential mouse events to 1 every 20ms.\n",
       "    rubberband.mousemove('motion_notify', mouse_event_fn);\n",
       "\n",
       "    rubberband.mouseenter('figure_enter', mouse_event_fn);\n",
       "    rubberband.mouseleave('figure_leave', mouse_event_fn);\n",
       "\n",
       "    canvas_div.on(\"wheel\", function (event) {\n",
       "        event = event.originalEvent;\n",
       "        event['data'] = 'scroll'\n",
       "        if (event.deltaY < 0) {\n",
       "            event.step = 1;\n",
       "        } else {\n",
       "            event.step = -1;\n",
       "        }\n",
       "        mouse_event_fn(event);\n",
       "    });\n",
       "\n",
       "    canvas_div.append(canvas);\n",
       "    canvas_div.append(rubberband);\n",
       "\n",
       "    this.rubberband = rubberband;\n",
       "    this.rubberband_canvas = rubberband[0];\n",
       "    this.rubberband_context = rubberband[0].getContext(\"2d\");\n",
       "    this.rubberband_context.strokeStyle = \"#000000\";\n",
       "\n",
       "    this._resize_canvas = function(width, height) {\n",
       "        // Keep the size of the canvas, canvas container, and rubber band\n",
       "        // canvas in synch.\n",
       "        canvas_div.css('width', width)\n",
       "        canvas_div.css('height', height)\n",
       "\n",
       "        canvas.attr('width', width * mpl.ratio);\n",
       "        canvas.attr('height', height * mpl.ratio);\n",
       "        canvas.attr('style', 'width: ' + width + 'px; height: ' + height + 'px;');\n",
       "\n",
       "        rubberband.attr('width', width);\n",
       "        rubberband.attr('height', height);\n",
       "    }\n",
       "\n",
       "    // Set the figure to an initial 600x600px, this will subsequently be updated\n",
       "    // upon first draw.\n",
       "    this._resize_canvas(600, 600);\n",
       "\n",
       "    // Disable right mouse context menu.\n",
       "    $(this.rubberband_canvas).bind(\"contextmenu\",function(e){\n",
       "        return false;\n",
       "    });\n",
       "\n",
       "    function set_focus () {\n",
       "        canvas.focus();\n",
       "        canvas_div.focus();\n",
       "    }\n",
       "\n",
       "    window.setTimeout(set_focus, 100);\n",
       "}\n",
       "\n",
       "mpl.figure.prototype._init_toolbar = function() {\n",
       "    var fig = this;\n",
       "\n",
       "    var nav_element = $('<div/>');\n",
       "    nav_element.attr('style', 'width: 100%');\n",
       "    this.root.append(nav_element);\n",
       "\n",
       "    // Define a callback function for later on.\n",
       "    function toolbar_event(event) {\n",
       "        return fig.toolbar_button_onclick(event['data']);\n",
       "    }\n",
       "    function toolbar_mouse_event(event) {\n",
       "        return fig.toolbar_button_onmouseover(event['data']);\n",
       "    }\n",
       "\n",
       "    for(var toolbar_ind in mpl.toolbar_items) {\n",
       "        var name = mpl.toolbar_items[toolbar_ind][0];\n",
       "        var tooltip = mpl.toolbar_items[toolbar_ind][1];\n",
       "        var image = mpl.toolbar_items[toolbar_ind][2];\n",
       "        var method_name = mpl.toolbar_items[toolbar_ind][3];\n",
       "\n",
       "        if (!name) {\n",
       "            // put a spacer in here.\n",
       "            continue;\n",
       "        }\n",
       "        var button = $('<button/>');\n",
       "        button.addClass('ui-button ui-widget ui-state-default ui-corner-all ' +\n",
       "                        'ui-button-icon-only');\n",
       "        button.attr('role', 'button');\n",
       "        button.attr('aria-disabled', 'false');\n",
       "        button.click(method_name, toolbar_event);\n",
       "        button.mouseover(tooltip, toolbar_mouse_event);\n",
       "\n",
       "        var icon_img = $('<span/>');\n",
       "        icon_img.addClass('ui-button-icon-primary ui-icon');\n",
       "        icon_img.addClass(image);\n",
       "        icon_img.addClass('ui-corner-all');\n",
       "\n",
       "        var tooltip_span = $('<span/>');\n",
       "        tooltip_span.addClass('ui-button-text');\n",
       "        tooltip_span.html(tooltip);\n",
       "\n",
       "        button.append(icon_img);\n",
       "        button.append(tooltip_span);\n",
       "\n",
       "        nav_element.append(button);\n",
       "    }\n",
       "\n",
       "    var fmt_picker_span = $('<span/>');\n",
       "\n",
       "    var fmt_picker = $('<select/>');\n",
       "    fmt_picker.addClass('mpl-toolbar-option ui-widget ui-widget-content');\n",
       "    fmt_picker_span.append(fmt_picker);\n",
       "    nav_element.append(fmt_picker_span);\n",
       "    this.format_dropdown = fmt_picker[0];\n",
       "\n",
       "    for (var ind in mpl.extensions) {\n",
       "        var fmt = mpl.extensions[ind];\n",
       "        var option = $(\n",
       "            '<option/>', {selected: fmt === mpl.default_extension}).html(fmt);\n",
       "        fmt_picker.append(option);\n",
       "    }\n",
       "\n",
       "    // Add hover states to the ui-buttons\n",
       "    $( \".ui-button\" ).hover(\n",
       "        function() { $(this).addClass(\"ui-state-hover\");},\n",
       "        function() { $(this).removeClass(\"ui-state-hover\");}\n",
       "    );\n",
       "\n",
       "    var status_bar = $('<span class=\"mpl-message\"/>');\n",
       "    nav_element.append(status_bar);\n",
       "    this.message = status_bar[0];\n",
       "}\n",
       "\n",
       "mpl.figure.prototype.request_resize = function(x_pixels, y_pixels) {\n",
       "    // Request matplotlib to resize the figure. Matplotlib will then trigger a resize in the client,\n",
       "    // which will in turn request a refresh of the image.\n",
       "    this.send_message('resize', {'width': x_pixels, 'height': y_pixels});\n",
       "}\n",
       "\n",
       "mpl.figure.prototype.send_message = function(type, properties) {\n",
       "    properties['type'] = type;\n",
       "    properties['figure_id'] = this.id;\n",
       "    this.ws.send(JSON.stringify(properties));\n",
       "}\n",
       "\n",
       "mpl.figure.prototype.send_draw_message = function() {\n",
       "    if (!this.waiting) {\n",
       "        this.waiting = true;\n",
       "        this.ws.send(JSON.stringify({type: \"draw\", figure_id: this.id}));\n",
       "    }\n",
       "}\n",
       "\n",
       "\n",
       "mpl.figure.prototype.handle_save = function(fig, msg) {\n",
       "    var format_dropdown = fig.format_dropdown;\n",
       "    var format = format_dropdown.options[format_dropdown.selectedIndex].value;\n",
       "    fig.ondownload(fig, format);\n",
       "}\n",
       "\n",
       "\n",
       "mpl.figure.prototype.handle_resize = function(fig, msg) {\n",
       "    var size = msg['size'];\n",
       "    if (size[0] != fig.canvas.width || size[1] != fig.canvas.height) {\n",
       "        fig._resize_canvas(size[0], size[1]);\n",
       "        fig.send_message(\"refresh\", {});\n",
       "    };\n",
       "}\n",
       "\n",
       "mpl.figure.prototype.handle_rubberband = function(fig, msg) {\n",
       "    var x0 = msg['x0'] / mpl.ratio;\n",
       "    var y0 = (fig.canvas.height - msg['y0']) / mpl.ratio;\n",
       "    var x1 = msg['x1'] / mpl.ratio;\n",
       "    var y1 = (fig.canvas.height - msg['y1']) / mpl.ratio;\n",
       "    x0 = Math.floor(x0) + 0.5;\n",
       "    y0 = Math.floor(y0) + 0.5;\n",
       "    x1 = Math.floor(x1) + 0.5;\n",
       "    y1 = Math.floor(y1) + 0.5;\n",
       "    var min_x = Math.min(x0, x1);\n",
       "    var min_y = Math.min(y0, y1);\n",
       "    var width = Math.abs(x1 - x0);\n",
       "    var height = Math.abs(y1 - y0);\n",
       "\n",
       "    fig.rubberband_context.clearRect(\n",
       "        0, 0, fig.canvas.width / mpl.ratio, fig.canvas.height / mpl.ratio);\n",
       "\n",
       "    fig.rubberband_context.strokeRect(min_x, min_y, width, height);\n",
       "}\n",
       "\n",
       "mpl.figure.prototype.handle_figure_label = function(fig, msg) {\n",
       "    // Updates the figure title.\n",
       "    fig.header.textContent = msg['label'];\n",
       "}\n",
       "\n",
       "mpl.figure.prototype.handle_cursor = function(fig, msg) {\n",
       "    var cursor = msg['cursor'];\n",
       "    switch(cursor)\n",
       "    {\n",
       "    case 0:\n",
       "        cursor = 'pointer';\n",
       "        break;\n",
       "    case 1:\n",
       "        cursor = 'default';\n",
       "        break;\n",
       "    case 2:\n",
       "        cursor = 'crosshair';\n",
       "        break;\n",
       "    case 3:\n",
       "        cursor = 'move';\n",
       "        break;\n",
       "    }\n",
       "    fig.rubberband_canvas.style.cursor = cursor;\n",
       "}\n",
       "\n",
       "mpl.figure.prototype.handle_message = function(fig, msg) {\n",
       "    fig.message.textContent = msg['message'];\n",
       "}\n",
       "\n",
       "mpl.figure.prototype.handle_draw = function(fig, msg) {\n",
       "    // Request the server to send over a new figure.\n",
       "    fig.send_draw_message();\n",
       "}\n",
       "\n",
       "mpl.figure.prototype.handle_image_mode = function(fig, msg) {\n",
       "    fig.image_mode = msg['mode'];\n",
       "}\n",
       "\n",
       "mpl.figure.prototype.updated_canvas_event = function() {\n",
       "    // Called whenever the canvas gets updated.\n",
       "    this.send_message(\"ack\", {});\n",
       "}\n",
       "\n",
       "// A function to construct a web socket function for onmessage handling.\n",
       "// Called in the figure constructor.\n",
       "mpl.figure.prototype._make_on_message_function = function(fig) {\n",
       "    return function socket_on_message(evt) {\n",
       "        if (evt.data instanceof Blob) {\n",
       "            /* FIXME: We get \"Resource interpreted as Image but\n",
       "             * transferred with MIME type text/plain:\" errors on\n",
       "             * Chrome.  But how to set the MIME type?  It doesn't seem\n",
       "             * to be part of the websocket stream */\n",
       "            evt.data.type = \"image/png\";\n",
       "\n",
       "            /* Free the memory for the previous frames */\n",
       "            if (fig.imageObj.src) {\n",
       "                (window.URL || window.webkitURL).revokeObjectURL(\n",
       "                    fig.imageObj.src);\n",
       "            }\n",
       "\n",
       "            fig.imageObj.src = (window.URL || window.webkitURL).createObjectURL(\n",
       "                evt.data);\n",
       "            fig.updated_canvas_event();\n",
       "            fig.waiting = false;\n",
       "            return;\n",
       "        }\n",
       "        else if (typeof evt.data === 'string' && evt.data.slice(0, 21) == \"data:image/png;base64\") {\n",
       "            fig.imageObj.src = evt.data;\n",
       "            fig.updated_canvas_event();\n",
       "            fig.waiting = false;\n",
       "            return;\n",
       "        }\n",
       "\n",
       "        var msg = JSON.parse(evt.data);\n",
       "        var msg_type = msg['type'];\n",
       "\n",
       "        // Call the  \"handle_{type}\" callback, which takes\n",
       "        // the figure and JSON message as its only arguments.\n",
       "        try {\n",
       "            var callback = fig[\"handle_\" + msg_type];\n",
       "        } catch (e) {\n",
       "            console.log(\"No handler for the '\" + msg_type + \"' message type: \", msg);\n",
       "            return;\n",
       "        }\n",
       "\n",
       "        if (callback) {\n",
       "            try {\n",
       "                // console.log(\"Handling '\" + msg_type + \"' message: \", msg);\n",
       "                callback(fig, msg);\n",
       "            } catch (e) {\n",
       "                console.log(\"Exception inside the 'handler_\" + msg_type + \"' callback:\", e, e.stack, msg);\n",
       "            }\n",
       "        }\n",
       "    };\n",
       "}\n",
       "\n",
       "// from http://stackoverflow.com/questions/1114465/getting-mouse-location-in-canvas\n",
       "mpl.findpos = function(e) {\n",
       "    //this section is from http://www.quirksmode.org/js/events_properties.html\n",
       "    var targ;\n",
       "    if (!e)\n",
       "        e = window.event;\n",
       "    if (e.target)\n",
       "        targ = e.target;\n",
       "    else if (e.srcElement)\n",
       "        targ = e.srcElement;\n",
       "    if (targ.nodeType == 3) // defeat Safari bug\n",
       "        targ = targ.parentNode;\n",
       "\n",
       "    // jQuery normalizes the pageX and pageY\n",
       "    // pageX,Y are the mouse positions relative to the document\n",
       "    // offset() returns the position of the element relative to the document\n",
       "    var x = e.pageX - $(targ).offset().left;\n",
       "    var y = e.pageY - $(targ).offset().top;\n",
       "\n",
       "    return {\"x\": x, \"y\": y};\n",
       "};\n",
       "\n",
       "/*\n",
       " * return a copy of an object with only non-object keys\n",
       " * we need this to avoid circular references\n",
       " * http://stackoverflow.com/a/24161582/3208463\n",
       " */\n",
       "function simpleKeys (original) {\n",
       "  return Object.keys(original).reduce(function (obj, key) {\n",
       "    if (typeof original[key] !== 'object')\n",
       "        obj[key] = original[key]\n",
       "    return obj;\n",
       "  }, {});\n",
       "}\n",
       "\n",
       "mpl.figure.prototype.mouse_event = function(event, name) {\n",
       "    var canvas_pos = mpl.findpos(event)\n",
       "\n",
       "    if (name === 'button_press')\n",
       "    {\n",
       "        this.canvas.focus();\n",
       "        this.canvas_div.focus();\n",
       "    }\n",
       "\n",
       "    var x = canvas_pos.x * mpl.ratio;\n",
       "    var y = canvas_pos.y * mpl.ratio;\n",
       "\n",
       "    this.send_message(name, {x: x, y: y, button: event.button,\n",
       "                             step: event.step,\n",
       "                             guiEvent: simpleKeys(event)});\n",
       "\n",
       "    /* This prevents the web browser from automatically changing to\n",
       "     * the text insertion cursor when the button is pressed.  We want\n",
       "     * to control all of the cursor setting manually through the\n",
       "     * 'cursor' event from matplotlib */\n",
       "    event.preventDefault();\n",
       "    return false;\n",
       "}\n",
       "\n",
       "mpl.figure.prototype._key_event_extra = function(event, name) {\n",
       "    // Handle any extra behaviour associated with a key event\n",
       "}\n",
       "\n",
       "mpl.figure.prototype.key_event = function(event, name) {\n",
       "\n",
       "    // Prevent repeat events\n",
       "    if (name == 'key_press')\n",
       "    {\n",
       "        if (event.which === this._key)\n",
       "            return;\n",
       "        else\n",
       "            this._key = event.which;\n",
       "    }\n",
       "    if (name == 'key_release')\n",
       "        this._key = null;\n",
       "\n",
       "    var value = '';\n",
       "    if (event.ctrlKey && event.which != 17)\n",
       "        value += \"ctrl+\";\n",
       "    if (event.altKey && event.which != 18)\n",
       "        value += \"alt+\";\n",
       "    if (event.shiftKey && event.which != 16)\n",
       "        value += \"shift+\";\n",
       "\n",
       "    value += 'k';\n",
       "    value += event.which.toString();\n",
       "\n",
       "    this._key_event_extra(event, name);\n",
       "\n",
       "    this.send_message(name, {key: value,\n",
       "                             guiEvent: simpleKeys(event)});\n",
       "    return false;\n",
       "}\n",
       "\n",
       "mpl.figure.prototype.toolbar_button_onclick = function(name) {\n",
       "    if (name == 'download') {\n",
       "        this.handle_save(this, null);\n",
       "    } else {\n",
       "        this.send_message(\"toolbar_button\", {name: name});\n",
       "    }\n",
       "};\n",
       "\n",
       "mpl.figure.prototype.toolbar_button_onmouseover = function(tooltip) {\n",
       "    this.message.textContent = tooltip;\n",
       "};\n",
       "mpl.toolbar_items = [[\"Home\", \"Reset original view\", \"fa fa-home icon-home\", \"home\"], [\"Back\", \"Back to previous view\", \"fa fa-arrow-left icon-arrow-left\", \"back\"], [\"Forward\", \"Forward to next view\", \"fa fa-arrow-right icon-arrow-right\", \"forward\"], [\"\", \"\", \"\", \"\"], [\"Pan\", \"Pan axes with left mouse, zoom with right\", \"fa fa-arrows icon-move\", \"pan\"], [\"Zoom\", \"Zoom to rectangle\", \"fa fa-square-o icon-check-empty\", \"zoom\"], [\"\", \"\", \"\", \"\"], [\"Download\", \"Download plot\", \"fa fa-floppy-o icon-save\", \"download\"]];\n",
       "\n",
       "mpl.extensions = [\"eps\", \"pdf\", \"png\", \"ps\", \"raw\", \"svg\"];\n",
       "\n",
       "mpl.default_extension = \"png\";var comm_websocket_adapter = function(comm) {\n",
       "    // Create a \"websocket\"-like object which calls the given IPython comm\n",
       "    // object with the appropriate methods. Currently this is a non binary\n",
       "    // socket, so there is still some room for performance tuning.\n",
       "    var ws = {};\n",
       "\n",
       "    ws.close = function() {\n",
       "        comm.close()\n",
       "    };\n",
       "    ws.send = function(m) {\n",
       "        //console.log('sending', m);\n",
       "        comm.send(m);\n",
       "    };\n",
       "    // Register the callback with on_msg.\n",
       "    comm.on_msg(function(msg) {\n",
       "        //console.log('receiving', msg['content']['data'], msg);\n",
       "        // Pass the mpl event to the overridden (by mpl) onmessage function.\n",
       "        ws.onmessage(msg['content']['data'])\n",
       "    });\n",
       "    return ws;\n",
       "}\n",
       "\n",
       "mpl.mpl_figure_comm = function(comm, msg) {\n",
       "    // This is the function which gets called when the mpl process\n",
       "    // starts-up an IPython Comm through the \"matplotlib\" channel.\n",
       "\n",
       "    var id = msg.content.data.id;\n",
       "    // Get hold of the div created by the display call when the Comm\n",
       "    // socket was opened in Python.\n",
       "    var element = $(\"#\" + id);\n",
       "    var ws_proxy = comm_websocket_adapter(comm)\n",
       "\n",
       "    function ondownload(figure, format) {\n",
       "        window.open(figure.imageObj.src);\n",
       "    }\n",
       "\n",
       "    var fig = new mpl.figure(id, ws_proxy,\n",
       "                           ondownload,\n",
       "                           element.get(0));\n",
       "\n",
       "    // Call onopen now - mpl needs it, as it is assuming we've passed it a real\n",
       "    // web socket which is closed, not our websocket->open comm proxy.\n",
       "    ws_proxy.onopen();\n",
       "\n",
       "    fig.parent_element = element.get(0);\n",
       "    fig.cell_info = mpl.find_output_cell(\"<div id='\" + id + \"'></div>\");\n",
       "    if (!fig.cell_info) {\n",
       "        console.error(\"Failed to find cell for figure\", id, fig);\n",
       "        return;\n",
       "    }\n",
       "\n",
       "    var output_index = fig.cell_info[2]\n",
       "    var cell = fig.cell_info[0];\n",
       "\n",
       "};\n",
       "\n",
       "mpl.figure.prototype.handle_close = function(fig, msg) {\n",
       "    var width = fig.canvas.width/mpl.ratio\n",
       "    fig.root.unbind('remove')\n",
       "\n",
       "    // Update the output cell to use the data from the current canvas.\n",
       "    fig.push_to_output();\n",
       "    var dataURL = fig.canvas.toDataURL();\n",
       "    // Re-enable the keyboard manager in IPython - without this line, in FF,\n",
       "    // the notebook keyboard shortcuts fail.\n",
       "    IPython.keyboard_manager.enable()\n",
       "    $(fig.parent_element).html('<img src=\"' + dataURL + '\" width=\"' + width + '\">');\n",
       "    fig.close_ws(fig, msg);\n",
       "}\n",
       "\n",
       "mpl.figure.prototype.close_ws = function(fig, msg){\n",
       "    fig.send_message('closing', msg);\n",
       "    // fig.ws.close()\n",
       "}\n",
       "\n",
       "mpl.figure.prototype.push_to_output = function(remove_interactive) {\n",
       "    // Turn the data on the canvas into data in the output cell.\n",
       "    var width = this.canvas.width/mpl.ratio\n",
       "    var dataURL = this.canvas.toDataURL();\n",
       "    this.cell_info[1]['text/html'] = '<img src=\"' + dataURL + '\" width=\"' + width + '\">';\n",
       "}\n",
       "\n",
       "mpl.figure.prototype.updated_canvas_event = function() {\n",
       "    // Tell IPython that the notebook contents must change.\n",
       "    IPython.notebook.set_dirty(true);\n",
       "    this.send_message(\"ack\", {});\n",
       "    var fig = this;\n",
       "    // Wait a second, then push the new image to the DOM so\n",
       "    // that it is saved nicely (might be nice to debounce this).\n",
       "    setTimeout(function () { fig.push_to_output() }, 1000);\n",
       "}\n",
       "\n",
       "mpl.figure.prototype._init_toolbar = function() {\n",
       "    var fig = this;\n",
       "\n",
       "    var nav_element = $('<div/>');\n",
       "    nav_element.attr('style', 'width: 100%');\n",
       "    this.root.append(nav_element);\n",
       "\n",
       "    // Define a callback function for later on.\n",
       "    function toolbar_event(event) {\n",
       "        return fig.toolbar_button_onclick(event['data']);\n",
       "    }\n",
       "    function toolbar_mouse_event(event) {\n",
       "        return fig.toolbar_button_onmouseover(event['data']);\n",
       "    }\n",
       "\n",
       "    for(var toolbar_ind in mpl.toolbar_items){\n",
       "        var name = mpl.toolbar_items[toolbar_ind][0];\n",
       "        var tooltip = mpl.toolbar_items[toolbar_ind][1];\n",
       "        var image = mpl.toolbar_items[toolbar_ind][2];\n",
       "        var method_name = mpl.toolbar_items[toolbar_ind][3];\n",
       "\n",
       "        if (!name) { continue; };\n",
       "\n",
       "        var button = $('<button class=\"btn btn-default\" href=\"#\" title=\"' + name + '\"><i class=\"fa ' + image + ' fa-lg\"></i></button>');\n",
       "        button.click(method_name, toolbar_event);\n",
       "        button.mouseover(tooltip, toolbar_mouse_event);\n",
       "        nav_element.append(button);\n",
       "    }\n",
       "\n",
       "    // Add the status bar.\n",
       "    var status_bar = $('<span class=\"mpl-message\" style=\"text-align:right; float: right;\"/>');\n",
       "    nav_element.append(status_bar);\n",
       "    this.message = status_bar[0];\n",
       "\n",
       "    // Add the close button to the window.\n",
       "    var buttongrp = $('<div class=\"btn-group inline pull-right\"></div>');\n",
       "    var button = $('<button class=\"btn btn-mini btn-primary\" href=\"#\" title=\"Stop Interaction\"><i class=\"fa fa-power-off icon-remove icon-large\"></i></button>');\n",
       "    button.click(function (evt) { fig.handle_close(fig, {}); } );\n",
       "    button.mouseover('Stop Interaction', toolbar_mouse_event);\n",
       "    buttongrp.append(button);\n",
       "    var titlebar = this.root.find($('.ui-dialog-titlebar'));\n",
       "    titlebar.prepend(buttongrp);\n",
       "}\n",
       "\n",
       "mpl.figure.prototype._root_extra_style = function(el){\n",
       "    var fig = this\n",
       "    el.on(\"remove\", function(){\n",
       "\tfig.close_ws(fig, {});\n",
       "    });\n",
       "}\n",
       "\n",
       "mpl.figure.prototype._canvas_extra_style = function(el){\n",
       "    // this is important to make the div 'focusable\n",
       "    el.attr('tabindex', 0)\n",
       "    // reach out to IPython and tell the keyboard manager to turn it's self\n",
       "    // off when our div gets focus\n",
       "\n",
       "    // location in version 3\n",
       "    if (IPython.notebook.keyboard_manager) {\n",
       "        IPython.notebook.keyboard_manager.register_events(el);\n",
       "    }\n",
       "    else {\n",
       "        // location in version 2\n",
       "        IPython.keyboard_manager.register_events(el);\n",
       "    }\n",
       "\n",
       "}\n",
       "\n",
       "mpl.figure.prototype._key_event_extra = function(event, name) {\n",
       "    var manager = IPython.notebook.keyboard_manager;\n",
       "    if (!manager)\n",
       "        manager = IPython.keyboard_manager;\n",
       "\n",
       "    // Check for shift+enter\n",
       "    if (event.shiftKey && event.which == 13) {\n",
       "        this.canvas_div.blur();\n",
       "        // select the cell after this one\n",
       "        var index = IPython.notebook.find_cell_index(this.cell_info[0]);\n",
       "        IPython.notebook.select(index + 1);\n",
       "    }\n",
       "}\n",
       "\n",
       "mpl.figure.prototype.handle_save = function(fig, msg) {\n",
       "    fig.ondownload(fig, null);\n",
       "}\n",
       "\n",
       "\n",
       "mpl.find_output_cell = function(html_output) {\n",
       "    // Return the cell and output element which can be found *uniquely* in the notebook.\n",
       "    // Note - this is a bit hacky, but it is done because the \"notebook_saving.Notebook\"\n",
       "    // IPython event is triggered only after the cells have been serialised, which for\n",
       "    // our purposes (turning an active figure into a static one), is too late.\n",
       "    var cells = IPython.notebook.get_cells();\n",
       "    var ncells = cells.length;\n",
       "    for (var i=0; i<ncells; i++) {\n",
       "        var cell = cells[i];\n",
       "        if (cell.cell_type === 'code'){\n",
       "            for (var j=0; j<cell.output_area.outputs.length; j++) {\n",
       "                var data = cell.output_area.outputs[j];\n",
       "                if (data.data) {\n",
       "                    // IPython >= 3 moved mimebundle to data attribute of output\n",
       "                    data = data.data;\n",
       "                }\n",
       "                if (data['text/html'] == html_output) {\n",
       "                    return [cell, data, j];\n",
       "                }\n",
       "            }\n",
       "        }\n",
       "    }\n",
       "}\n",
       "\n",
       "// Register the function which deals with the matplotlib target/channel.\n",
       "// The kernel may be null if the page has been refreshed.\n",
       "if (IPython.notebook.kernel != null) {\n",
       "    IPython.notebook.kernel.comm_manager.register_target('matplotlib', mpl.mpl_figure_comm);\n",
       "}\n"
      ],
      "text/plain": [
       "<IPython.core.display.Javascript object>"
      ]
     },
     "metadata": {},
     "output_type": "display_data"
    },
    {
     "data": {
      "text/html": [
       "<img src=\"data:image/png;base64,iVBORw0KGgoAAAANSUhEUgAAAoAAAAHgCAYAAAA10dzkAAAgAElEQVR4XuydB3hUVfrG35n0TjqEhCSQECDU0IsUsSAooqsrYANksYKo6/5tKNgVV2VF1y7ogl3EhoXeA4ROIBAghCQQQkJ6mfp/zo2JlEBm5sxk2nufJw8hOd8pv/veOW/uvec7KqPRaAQPEiABEiABEiABEiABtyGgogF0m3PNgZIACZAACZAACZCAQoAGkEIgARIgARIgARIgATcjQAPoZiecwyUBEiABEiABEiABGkBqgARIgARIgARIgATcjAANoJudcA6XBEiABEiABEiABGgAqQESIAESIAESIAEScDMCNIBudsI5XBIgARIgARIgARKgAaQGSIAESIAESIAESMDNCNAAutkJ53BJgARIgARIgARIgAaQGiABEiABEiABEiABNyNAA+hmJ5zDJQESIAESIAESIAEaQGqABEiABEiABEiABNyMAA2gm51wDpcESIAESIAESIAEaACpARIgARIgARIgARJwMwI0gG52wjlcEiABEiABEiABEqABpAZIgARIgARIgARIwM0I0AC62QnncEmABEiABEiABEiABpAaIAESIAESIAESIAE3I0AD6GYnnMMlARIgARIgARIgARpAaoAESIAESIAESIAE3IwADaCbnXAOlwRIgARIgARIgARoAKkBEiABEiABEiABEnAzAjSAbnbCOVwSIAESIAESIAESoAGkBkiABEiABEiABEjAzQjQALrZCedwSYAESIAESIAESIAGkBogARIgARIgARIgATcjQAPoZiecwyUBEiABEiABEiABGkBqgARIgARIgARIgATcjAANoJudcA6XBEiABEiABEiABGgAqQESIAESIAESIAEScDMCNIBudsI5XBIgARIgARIgARKgAaQGSIAESIAESIAESMDNCNAAutkJ53BJgARIgARIgARIgAaQGiABEiABEiABEiABNyNAA+hmJ5zDJQESIAESIAESIAEaQGqABEiABEiABEiABNyMAA2gm51wDpcESIAESIAESIAEaACpARIgARIgARIgARJwMwI0gG52wjlcEiABEiABEiABEqABpAZIgARIgARIgARIwM0I0AC62QnncEmABEiABEiABEiABpAaIAESIAESIAESIAE3I0AD6GYnnMMlARIgARIgARIgARpAaoAESIAESIAESIAE3IwADaCbnXAOlwRIgARIgARIgARoAKkBEiABEiABEiABEnAzAjSAbnbCOVwSIAESIAESIAESoAGkBkiABEiABEiABEjAzQjQALrZCedwSYAESIAESIAESIAGkBogARIgARIgARIgATcjQAPoZiecwyUBEiABEiABEiABGkBqgARIgARIgARIgATcjAANoJudcA6XBEiABEiABEiABGgAqQESIAESIAESIAEScDMCNIBudsI5XBIgARIgARIgARKgAaQGSIAESIAESIAESMDNCNAASpxwg8GAgoICBAUFQaVSSdTEUBIgARIgARIggZYiYDQaUVFRgZiYGKjV6pZq1qHaoQGUOB15eXmIi4uTqIGhJEACJEACJEAC9iJw/PhxxMbG2qt5u7ZLAyiBv6ysDK1atYIQUHBwsERNDCUBEiABEiABEmgpAuXl5coNnNLSUoSEhLRUsw7VDg2gxOkQAhLCEUaQBlACJENJgARIgARIoAUJcP4GaAAlBEcBScBjKAmQAAmQAAnYiQDnbxpAKelRQFL4GEwCJEACJEACdiHA+ZsGUEp4FJAUPgaTAAmQAAmQgF0IcP6mAZQSHgUkhY/BJEACJEACJGAXApy/aQClhEcBSeFjMAmQAAmQAAnYhQDnbxpAKeFRQFL4GEwCJEACJEACdiHA+ZsGUEp4FJAUPgaTAAmQAAmQgF0IcP6mAZQSHgUkhY/BJEACJEACJGAXApy/aQClhEcBSeFjMAmQAAmQAAnYhQDnbxpAKeFRQFL4GEwCJEACJEACdiHA+ZsGUEp4FJAUPgaTAAmQAAmQgF0IcP6mAZQSHgUkhY/BJEACJEACJGAXApy/aQClhEcBSeFjMAmQAAmQAAnYhQDnbxpAKeFRQFL4GEwCJEACJEACdiHA+ZsGUEp4FJAUPgaTAAmQAAmQgF0IcP6mAZQSHgUkhY/BJEACJEACJGAXApy/aQClhEcBSeFjMAmQAAmQAAnYhQDnbxpAKeFRQFL4GEwCJEACJEACdiHA+ZsGUEp4FJAUPgaTAAmQAAmQgF0IcP6mAZQSHgUkhY/BJEACJEACJGAXApy/aQClhEcBSeFjMAmQAAmQAAnYhQDnbxpAKeFRQFL4GEwCJEACJEACdiHA+ZsGUEp4FJAUPgaTAAmQAAmQgF0IcP6mAZQSHgUkhY/BJEACJEACJGAXApy/aQClhEcBSeFjMAmQAAmQAAnYhQDnbxpAKeFRQFL4GEwCJEACJEACdiHA+ZsGUEp4FJAUPgaTAAmQAAmQgF0IcP6mAZQSHgUkhY/BJEACJEACJGAXApy/aQClhEcBSeFjMAmQAAmQAAnYhQDnbxpAKeFRQFL4GEwCJEACJEACdiHA+ZsGUEp4FJAUPgaTAAmQAAmQgF0IcP6mAZQSHgUkhY/BJEACJEACJGAXApy/aQClhEcBSeFjMAmQAAmQAAnYhQDnbxpAKeFRQFL4GEwCJEACJEACdiHA+ZsGUEp4FJAUPgaTAAmQAAmQgF0IcP6mAZQSHgUkhY/BJEACJEACJGAXApy/aQClhEcBSeFjMAmQAAmQAAnYhQDnbxcxgC+99BK+++47HDhwAH5+fhg0aBBeeeUVpKSkXFRYCxYswOTJk8/5vY+PD2pra00WIwVkMioWJAESIAESIAGHIcD520UM4KhRozB+/Hj07dsXOp0OTzzxBPbu3YvMzEwEBAQ0KThhAB988EFkZWU1/l6lUiE6OtpkgVJAJqNiQRIgARIgARJwGAKcv13EAJ6vqKKiIkRFRWHNmjUYOnToRQ3gzJkzUVpaarEgKSCL0TGQBEiABEiABOxGgPO3ixrA7OxsJCcnY8+ePejatetFDeDUqVPRtm1bGAwGpKWl4cUXX0RqaqrJgqSATEbFgiRAAiRAAiTgMAQ4f7ugARRmbuzYscqdvfXr119UbJs2bcKhQ4fQvXt3lJWV4bXXXsPatWuxb98+xMbGNhlXV1cH8dVwCAHFxcUp8cHBwQ4jbHaEBEiABEiABEjg4gRoAF3QAN57771YtmyZYv4uZuSakoRWq0Xnzp0xYcIEPPfcc02qZvbs2ZgzZ84Fv6MB5McMCZAACZAACTgPARpAFzOADzzwAJYuXarcyUtMTDRbiTfffDM8PT3x+eef8w6g2fQYQAIkQAIkQALOQYAG0EUMoNFoxPTp07FkyRKsXr1aef/P3EOv1yvv/40ePRqvv/66SeEUkEmYWIgESIAESIAEHIoA528XMYD33XcfFi9erNz9Ozv3X0hIiJIXUBx33HGHsuBD5AwUx7PPPosBAwYgKSlJeV9w7ty5+P7775GRkYEuXbqYJFQKyCRMLEQCJEACJEACDkWA87eLGECRv6+p45NPPsGkSZOUXw0fPhwJCQkQ+f/E8dBDDynJo0+ePInQ0FD07t0bzz//PHr16mWySCkgk1GxIAmQAAmQAAk4DAHO3y5iAO2lKArIXuTZLgmQAAmQAAlYToDzNw2g5eoBQAFJ4WMwCZAACZAACdiFAOdvGkAp4VFAUvgYTAIkQAIkQAJ2IcD5mwZQSngUkBQ+BpMACZAACZCAXQhw/qYBlBIeBSSFj8EkQAIkQAIkYBcCnL9pAKWERwFJ4WMwCZAACZAACdiFAOdvGkAp4VFAUvgYTAIkQAIkQAJ2IcD5mwZQSngUkBQ+BpMACZAACZCAXQhw/qYBlBIeBSSFj8EkQAIkQAIkYBcCnL9pAKWERwFJ4WMwCZAACZAACdiFAOdvGkAp4VFAUvgYTAIkQAIkQAJ2IcD5mwZQSngUkBQ+BpMACZAACZCAXQhw/qYBlBIeBSSFj8EkQAIkQAIkYBcCnL9pAKWERwFJ4WMwCZAACZAACdiFAOdvGkAp4VFAUvgYTAIkQAIkQAJ2IcD5mwZQSngUkBQ+BpMACZAACZCAXQhw/qYBlBIeBSSFj8EkQAIkQAIkYBcCnL9pAKWERwFJ4WMwCZAACZAACdiFAOdvGkAp4VFAUvgYTAIkQAIkQAIXJ2A0Ar/9BowaZXVKnL9pAKVERQFJ4WMwCZAACZAACTRNwGiEdvxgeO49CtWOY4C3t1VJcf6mAZQSFAUkhY/BJEACJEACJHAhAaMRdeMHwGPrFpxZ/Rki291mdUqcv2kApURFAUnhYzAJkAAJkAAJnEvgLPM3d8U8PJ44wyaEOH/TAEoJiwKSwsdgEiABEiABEviLwFnm758fzcMrQ2fAx8M2gDh/0wBKKYsCksLHYBIgARIgARKoJ3CW+Zs+bx4m1cxA/7/bDg7nbxpAKXVRQFL4GEwCJEACJEACLW7+BHLO3zSAUpceBSSFj8EkQAIkQALuTqCF7/w14Ob8TQModelRQFL4GEwCJEACJODOBOxk/ngHsF50KqNRZFrkYQkBGkBLqDGGBEiABEjA7QnY0fzRANIASl9/NIDSCFkBCZAACZCAuxGws/mjAaQBlL7kaAClEbICEiABEiABdyLgAOaPBpAGUPqSowGURsgKSIAESIAE3IWAg5g/GkAaQOlLjgZQGiErIAESIAEScAcCDmT+aABpAKUvORpAaYSsgARIgARIwNUJOJj5owGkAZS+5GgApRGyAhIgARIgAVcm4IDmjwaQBlD6kqMBlEbICkiABEiABFyVgIOaPxpAGkDpS44GUBohKyABEiABEnBFAg5s/mgAaQClLzkaQGmErIAESIAESMDVCDi4+aMBpAGUvuRoAKURsgISIAESIAFXIuAE5o8GkAZQ+pKjAZRGyApIgARIgARchYCTmD8aQBcygC+99BK+++47HDhwAH5+fhg0aBBeeeUVpKSkXPKy+vrrrzFr1izk5OQgOTlZiRk9erTJlyINoMmoWJAESIAESMCVCTiR+aMBdCEDOGrUKIwfPx59+/aFTqfDE088gb179yIzMxMBAQFNXnIbN27E0KFDIczjtddei8WLFysGcPv27ejatatJlykNoEmYWIgESIAESMCVCTiZ+aMBdCEDeP51VVRUhKioKKxZs0YxeU0dt9xyC6qqqvDTTz81/nrAgAHo2bMn3n33XZMuVRpAkzCxEAmQAAmQgKsScELzRwPowgYwOztbeaS7Z8+ei97Na9euHR5++GHMnDmz8bJ85pln8P3332PXrl0mXao0gCZhYiESIAESIAFXJOCk5o8G0EUNoMFgwNixY1FaWor169df9JLz9vbGwoULMWHChMYy77zzDubMmYPCwsIm4+rq6iC+Gg5hAOPi4lBWVobg4GBXvLw5JhIgARIgARK4kIATmz8aQBc1gPfeey+WLVummL/Y2FirGsDZs2crBvH8gwaQn44kQAIkQAJuQ8DJzR8NoAsawAceeABLly7F2rVrkZiYeMlr0ZJHwLwD6DYfbxwoCZAACZBAUwRcwPzRALqQATQajZg+fTqWLFmC1atXK+//NXeIRSDV1dX48ccfG4uK9DHdu3fnIpDm4PH3JEACJEAC7kfARcwfDaALGcD77rtPSeMi7v6dnfsvJCREyQsojjvuuANt27ZV0r6IQ6SBGTZsGF5++WWMGTMGX3zxBV588UWmgXG/jzSOmARIgARIoDkCLmT+aABdyACqVKompfvJJ59g0qRJyu+GDx+OhIQELFiwoLGsSAT91FNPNSaCfvXVV5kIurkPAf6eBEiABEjAvQi4mPmjAXQhA2ivK5FpYOxFnu2SAAmQAAm0CAEXNH80gDSA0tcODaA0QlZAAiRAAiTgqARc1PzRANIASl9yNIDSCFkBCZAACZCAIxJwYfNHA0gDKH3J0QBKI2QFJEACJEACjkbAxc0fDSANoPQlRwMojZAVkAAJkAAJOBIBNzB/NIA0gNKXHA2gNEJWQAIkQAIk4CgE3MT80QDSAEpfcjSA0ghZAQmQAAmQgCMQcCPzRwNIAyh9ydEASiNkBSRAAiRAAvYm4GbmjwaQBlD6kqMBlEbICkiABEiABOxJwA3NHw0gDaD0JUcDKI2QFZAACZAACdiLgJuaPxpAGkDpS44GUBohKyABmxMwGo242HaRNm+cDZDAeQSMBiO2/HQUqZfFIDDU13583Nj80QDSAEpfeDSA0ghZAQnYlMCJQ1lYtfB9DL11MmI7d7VpW6ycBEwhcGDTCaxYuB/+wd6444VB8PBSmxJm3TJubv5oAGkApS8oGkBphKyABGxK4I8P5mP38l/RtlMqxs95xaZtsXISMIVAUW4F1n15EAndI5B2dbwpIdYtQ/On8OT8DaiM4vkID4sIUEAWYWMQCdiMgE6jgV6ng4+/v9JGdXkZNnz5GQbeNBGBoWE2a5cVk4A5BMS0Kx4Fqz3q7/4VF1Ri3ZeHMPimJETGBZlTlXllaf4aeXH+pgE07+I5rzQFJIWPwSRgVQLH9uzE7++9hcSeabhi6v1WrZuVkYAtCfz8zm7k7D6N9r0icc3d3WzTFM3fOVw5f9MASl1oFJAUPgaTgFUJ5O3fiy9nP4agiEhM/vd/4eVrxxfsrToyVubqBCpKarF56WH0u7Y9QiL9lOHqtHpl8ZKHpxXeEaT5u0BCnL9pAKU+VyggKXwMJgEpAuLx7pkTBWib0rmxngMb16JDWj+aPymyDHYEAuk/HEF2xikMndARcZ0kXl+g+WvydHL+pgGUus4pICl8DCYBiwkUHsnG188/CU8vb0x58z14+9W/88eDBFyBgF5nwKKnN0PcGRw1rSs6pEVZNiyav4ty4/xNA2jZRfVnFAUkhY/BJGAxAZ1Wi4X/vA9evn64bub/IbRNW4vrYiAJOCIBTY0OWekn0XVY28Y8lsX5lQgM9YGPv1fzXab5uyQjzt80gM1fRJcoQQFJ4WNwCxFwhUTIJQV52L9+DQbdPBHGmhqFXEVFOYIiI6FWe8Co1Spf8PCA2senkaxBlBWJoH18oPLwUH5u1Olg1GgAtRrqs94TNKtsbS1gMEDl7Q2Vp2d9vXo9jHV1F9Z7qbIqFdR+9e98icMg4vV6qLy8lK9z6jWlrMEAo2gPgPrPldBKvWK8Op3SV9FnpV5zyopVq39yV/n5NRoSwVHwPKfeZsrC0xPqP/ug9K26WumPytcXKnX9+24N9ZpU1pxzb07Zi+mk4Xyaoilzzn0zZY1ePvjiuS2ordLimqmd0CYl4uIJzmn+mv105fxNA9isSC5VgAKSwsdgWxOoLkFm9mHc/E0xerULxeyxXZAUZcMUEzYaT3FeLj577EHotVpc/+gsGKY/BP2ZM2j/4w/wSU5WWj3z1Vc4+fQzCBw5EnFvz2/sSfblI6EtKEDC11/Br1v96sqyH39EwaP/QsCggWj38ceNZQ9fey002YfRbuFCBPTvp/y8Yvly5D0wHX69eiHh88WNZY/edDNq9+5F7Lv/RdDw4crPKzdswPG7psKnUye0/35JY9ljt9+B6q1b0fbNNxA8apTy8+rt23Fs4q3wim+HpN9+ayybe/fdqFqzFm1efBGtbrxB+Xnt/v04esON8IyKQvLaNY1l8x6ciYrffkP0rKcQduutys81OTk4POoaqIOCkLJ1S2PZgsceR9n33yPq0X8i/K67lJ9rCwuRPWw4hMnqvHdPY9mTzz6LM4s/R8T99yNy+gPKz/Xl5TjYr7/yfac9uxvNaeGrc1Hy8ccImzIF0f96VPm9MOIHunVXvu+4JR0ewcHK90Vvzcfpt99G6MQJaP30043t7e/aTTGnSWtWwys6Wvl58Ucf4dTc1xAybhxiXn6psWxW334wVFSgw6/L4J2QoPy8ZNEiFD73PIKuvhqx895sLHto6DDoTp1C4pLv4Nu5/j3R0u+W4MQTTyBg2FC0e++9xrLZV18N7bFcxC9eBP+0NOXn5b/+ivyZD8G/b1/Ef/ZpY9kj425A3YEDiPvoQwQOHqz8vGL1auTdcy98u3ZF4jdfN5bNmTARNTt2IHb+Wwi64grl51XpW5B7553wTuqADj/91Fg2d8oUVG3chJi5ryLkuuuUn9fs2YOcm/8Or5gYRH31E356ezdqKzUYXvUt1KVFiF/0vwtNIM1fI9NLfcP5mwbQJKFcrBAFJIWPwbYkkLMB+PI2GIPb4Onot/HZlgJ8/o8BGNgh3Jat2qTuotwcJZmzf0gIUgYOxem/3UwDCIAG0L0MYNLKFdDrDThzrARFoy9TrrWU7Rnn3OkVd7vrxg+Ax9YtmD5vHibVzED/v9vksnT6Sjl/0wBKiZgCksLHYFsSqC4B/tMLCGqD/DGf4ZdcD/wjuRJo3Q1QqXC4qBLxYf7w/DMRrS27Ilu3eCx64smnlGravPC88ohUHOc8MrTGoz1zHhfzEbByDvgIuJnXCqz4CFi8KlBaWA3/ADUql3wDlY83Wt1wQ+PdWJo/8z5pOH/TAJqnmPNKU0BS+BhsTQIlR4HDK4G+9Y/3ajR6+BRnQh3VGVB7AEvuBnZ/CUz4AlUJV+Lyf69GsK8XPryzD+LDA6zZE6vXJd4Ry0rr3XjHQ69WM82L1SmzQkcnIO7+ffncFmjr9Ljmnm6Iiq9/tF7vxHnnz9zzx/mbBtBczZxTngKSwsdgaxEoLwDm9QT0GmDaaiCmJ55Ysgf78svwwg3d0LVtCLB8NrBhHjDiCexImIopC7YiyNcLfzw8FD6e9XcxHPUQ75SdWbwYdVoNdmuqkJu5B5Nefwde3n8t9nDUvrNfJGAtAuLu3w/zdkKr0eO2Zwf8tRKY5s8ixJy/aQAtEk5DEAUkhY/B1iTw7VSg6jQwei7K/BNw2asrUV6rw1d3D0S/xDCgrgI4cwxo3VVptaxai7zSaqTGhPx5A8GIL7Yex7Xd2yjG0BEPbV0tPnnoXlQUF2Hsw08guf8gR+wm+0QCNiOg0+hRUlCJEO0ppQ3v9u2hmTiI7/xZQJzzNw2gBbL5K4QCksLHYEsJHN8CrH0N+NsHgG+9gYO2FvD0Ud7vE8epilr8kVmIW/vHm9TKiv2FuGvhNrRt5YcVjwyDr5dj3hXM2b0DXj6+5+z+YdIAWYgEXITA2a9EJHQNgtf2rVzwYcG55fxNA2iBbGgApaAxWI6AQQ+8MwA4fRAYPBO4co759VUWAdnLgZ4TGmM3Hj6Np5bsxZWp0Xj8mr+2VjO/cutHiHx12oITSsVeMW0ac8VZvyXWSAKOR6C4oBKVJXWI71q/gl8YwOyRV8BYXorEmgN4cN6bXO1rwWmjAaQBtEA2NIBS0BhsPoHz7u7h0B9A5vfA5U8DQfV508RRq9XjeEk1kqMvketPPCb+TxpQV974vmBDvEZngN5ghJ93/d2//NIa/Pv3LPzzqhTEtPorWbH5A5CLOH8RSEOC47rqKoj9gENbx8g1wGgScFACIon70jd3ID+rFAPGtUfvUQlc8GGlc0UDSAMoJSUKSAofg00hsP9H4NcngKtfALqMvWTE/JWH8MbyQ3hwZDJmjKxPkNzk8e0/gNNZwHX/URaMXOyY8fkO/LCrAEM7RuLTKfWJke1xCAN4cPAQpemOG9Yrec/yMvfihzdeQnBEFG594d+8K2iPE8M2bU5A7Am8+fvDyFxfgFue6ofgcF/m+bMSdc7fNIBSUqKApPAx2BQCK18A1r4KxA8GJv9yyYiHv9yJ73bkY974nri+5yX2xhULQrwClC3LLnXszS/D8z9n4qkxXepXEjvQUVV6Bh/PnIaA0HDc/NTzCAqPcKDesSskYF0CdTU6+Ph60PxZESvnbxpAKTlRQFL4GGwKAU0VsOV9oN/dgLd/sxE7cs+gZ1yri+8R2mwNzlOg8Eg2ItolwOPPvXidp+fsKQmYSeCsVC8zX/s3pn1xAuHt6hOjn733tZm1unVxzt80gFIXAAUkhY/B9iZgMAA7FwGaSmDAvfbuDdsnARL4k0BVaR3SfziCftclIrCVz7l3/sqmIvj5vxKjN7wTS3jmEeD8TQNonmLOK00BSeFjsBUIGAxGLEo/hr/1joW/t6d5NYrFJItuAjz9gAe2Aq3izItvodIGjQaFzz2ntBY9axbU3t7ntCxelD+0ZSOi4tujVes2LdQrNkMCtiOwYkEmDmw+idiUUIzafM85ef763VCfGF0coRMn/rUVnO2645I1c/6mAZQSNgUkhY/BViDwbUYeHvl6F5KiAvHbzKHwUNfnATTpMBqBzycACUOAftMAz3ONlUl1tEChi60Cbmh63eIF2LL0GyT1HYDr/1m/ZzAPEnBmAkW5FVj31UH02/4iWm/+jnn+bHAyOX/TAErJigKSwsdgKxBYdeAUZi3di9sHxOPuYR3Mr1GYwD+TR5sf3DIRRo0GxR9/rDQWPmUKVOfdASzOO47FTz2MtNHjMOimCVwR3DKnha3YkoDRiNrxA+C5dQvNn404c/6mAZSSFgUkhY/BViIg8v+pVSp4e156VW+zzQkzKA4HN4RNjaOuuho+/s0vkmmWAQuQgB0JGA1G5fKrGz/gotu7MTG6dU4Q528aQCklUUBS+BjsSAQK9wG/PgZ0+zuQdrsj9Yx9IQG3IKCp1eHbVzOQcmgxum6cjwfffKPJHT6aeyXCLWBZYZCcv2kApWREAUnhY7AEgRd+zsSgDhEY0SlKopazQjfOB35/EghpB8zYAXiYuaDEOr1oshaxyEN/5ozyO4/Q0EumuCk9eQKbvlmM4ZOmwS/wEjui2LC/rJoELCGwa3ku1n+TjaDqAmy8oRiTtQ+i/9/PrWnTpk0w1NQg/JF/Kr9oSIxuSXvuHsP524UM4Nq1azF37lxkZGTgxIkTWLJkCcaNG3dRja9evRojRoy44PcitnXr1iZdGxSQSZhYyMoExL69Ez9IVxZ8rP7ncMSFWVc6QOAAACAASURBVOHRp04D/DELGHAfEBpv5R7LVWfqHQ9hFBc/+TBOHj6EXqOuw+WT75ZrmNEkYCsCVVVAZiawZw+wYzOwMwPazCxkpo7AglvH4qcHVqHDyBLMnz8fSUlJjb349ttvMWXKFIj5q1evXrbqnVvUy/nbhQzgsmXLsGHDBvTu3Rs33nijyQYwKysLwcHBjYKPioqCupkdEhoKU0Bu8TnhcIMsr9Vi/spsiBQwT13bxeH6Z+0OmWoARbu5e3cpK4KH3zEVEXGOZWStzYX1OQGBujrgwIE/jV46sHMbsP8gjKUVMEZ7AqEa6Nt6oaKTD450q8a/I9/AtrEbkK37XBmch4cHHnzwQTzzzDPKPPXxxx/jrrvuQkREBKZNm4bnn3/eLZK+2+JMc/52IQN4tkBUKpXJBvDMmTNo1aqVRfqigCzCxiBnIFB5Cgi00uNlZxgv+0gCMgR0OuDQIWDfPmB7OrB9C7D/AIynSmCM9ALCNDC08UBlii8KexiRl6rBmTbtcTwiDcdr+2CTRwIqVnRD3d9nNZq/s7sj5qjXXnsNYr569NFHlV+JeW7GjBl48803ZXrutrGcv2kAER8fj7q6OnTt2hWzZ8/G4MGDTb4gKCCTUbGgFQiIO35qc/L8Wdrm6peBda8DEz4HkkZaWotDxIkVkyoT7+g7RIfZCccmIHbPOXq03ujt2AJkpAP798OYVwhjqCcQroOhtQpVHf1Q1N2A4901KI5JxPHIXjjq0wv7Dak4YExFlKodOhvViD9tROv/bEXFMT2W/PIxtpV/eMnx+/j4KPPV2YeYtx555BEEBgY6NjsH6x3nbzc2gOLRr3iPok+fPsoF9eGHH+Kzzz5Deno60tLSmpSqKHf2xScEFBcXh7KysnMeIzuYztkdFyHw7I+ZKK6qw2PXdEKbED/bjerXx4HN7wB9pgDXvmG7dmxYs06rxfZfliJr0zpMeO41eHp52bA1Vu1yBERKpLy8P43eNmD7JuV7Y04BEOQBY4QexkgjqpN9UdQNON5Lg+LYBORG9sRhvzTF6B1SjF48OunViDsNRGUDQdsBbAZOZQIlOUB45woE9spAraYas7+YgKq6cotQdu7cGStWrECbNtwJx1SANIBubACbEsmwYcPQrl07xQg2dYi/tObMmXPBr2gATb3kWM5SAkUVdRj88kpo9Ab8767+GJIcYWlVzcfVnAGObQRSRjtlTkAxQE1NNT6eeTeqSs/gqntmoNuIq5ofN0u4HwFh9E6dqjd6OzOAjI3A3r0wHs4FfFUwRhiASAOqk/xwOhXIS6tDUbt2yI3qieyA3orRyzamorUqAR21HogtBCIOAoEZgGEzUJQJVBQCkclAdOf6r9Zd6v+NTAI8vIDxN92OXZv340B+hhT/mJgY7N69G+Hh4VL1uEswDSAN4DlaF+9WrF+/HmKpfVMH7wC6y0eDY45zb34Zft93Eg9fleKYHXSwXh3cvB7aujp0uWwEHwM72LmxS3dEKiFh9HZtB7ZtAPbugfFgDqDSwxhlBMINqOngg+JUFfLSNChKjENuVHdkBfZBprErjhm7oLWqPZJqPRBTAERkAYFbAe2fd/Q01ecaPMXsda5fVH+ptxAqKyvx8ssvK+/4nf9411xO7du3x44dO/hEygRwNIA0gOfI5Morr0RQUBC+++47E+QDUEAmYWIhZyYg0sMc2wB0uDBlkjMPi313YQKVlfUpVnbtBLatB/bsgvHgEaCuFsYoNRCmQ117HxR3USM/rQ6FyW0Vo7c/uC/2G7viuLijh/ZoX+2JmDwgbD8QsAWo2wSc2l+/ZfbZd/Iavg+KNv2GeVlRDQx6A0JbBzSeiKNHjyoLPESqF5lDvM8uDOWYMWNkqnH5WM7fLmQAxV9R2dnZimhFfqTXX39dyfMXFhamPNZ9/PHHkZ+fj08//VQpI1ZOJSYmIjU1FbW1tco7gG+99RZ+//13jBxp2ovvFJDLf0bYfYAanQFVdTqEBni3fF9qy4D3RwBnjgL3rAeiU1u+D1Zq0WDQo7aiAv4hlq34t1I3WI01CdTW1qdY2b0T2LoB2L0DxoOHgbLKRqOnSfDGmS4eitE7mdIGx6K6I7NVX2SiGwqMXRCNJCSWe6LNcSAsE/DbBNSKR7fiMW7EX49tGw1fJ8A/VH4QP761C3n7SzD8thR0HhRzToXi3XSR+kU8zrX08Pb2xrvvvovJkydbWoXLx3H+diEDeLHEznfeeScWLFiASZMmIScnR1n4IY5XX30V77//vmIK/f390b17dzz99NNNJoe+2JVAAbn8Z4TdB/j+2sN4e9VhzLq2C27qHdvy/fnydiB3M3DDf4GkK1q+fSu0WJSbg2Vvvw4vH1+Mn/MK86ZZgWmLVqHV1qdYEYZI3NHblQHjgUPA6VIYI9RAuB7aOG+UdlYjv6cGJ7pFIzeqG/aF9sVeVXcUGlMRbUxCwhkvtM4FQvYA/huBqvT6v23EI9qGx7XRXeof20alAN5WyK/eFCedRo/fPtyH3H3FmPB0f7SKvrAhvV6v3JR44oknUFJSYjHur7/+GjfddJPF8a4cyPnbhQygPYRKAdmDuvu0KXa2uOW9zdiSU4K5N3XHzX3iWn7wIh+gpy/g+1ey9JbvhFyLFSWnlQUhHp6euPWF1xHapq1chYy2DQG9vj7FimL0NgC7tsG4PwsoOA1jWIPR80RZigdO9NCioEcUclunYk9Yf+xRd0exWHWrT0ZciReijwIhuwHfDUDVZkDIuGEhRsMijLMXYthmQJeutfRUNVpFXdplirx/jz32mHKzwtLjt99+w1VXcRHU+fw4f9MAWnpNKXEUkBQ+BptAQG8w4uc9J3BttzYtkwPQhD45Y5GjO7YhukMy/INDnLH7rtVnsfL2+PH63TGE0du5BcbMA0BuIYzBKqjC9dC19UBZR0+c7KFFfq8IHIvpgt3h/bHbswfKjKmI0HREbJE3oo4AITsBr3VA1RbA0oUYjg547969ys4fF1ugeKn+i91E1qxZY1aOW0fnYY3+cf6mAZTSEQUkhY/Bzkbg2CagNBfocUuL9ryiogKbN2/GgQMHlElQJMPl4QQEhNErLKw3ehmblD1vjfsygaMFMIo0luF66GM8UJHsgcLuOuT1DkdObGfsjuiPXV49UWFMRXhtR7Qt9EFkNhC8HfBcC1Rs/XMhxp+Pa89Or2LOQoyWJlhTocG+dQXocUUcvLw9LGr+l19+wT333IPjwkCbcYh3AsXikquvvhpezInJGzh/akdlFM+ZeFhEgAbQImw2CxLvyogcjn379lUSfIsPPWc8xCW5OqsIwzpGOs5dv5z1wIIxgHcgMD0DCGptM7SFhYVKOqZ169Yp/+7cuRMBAQFYtWrVRZO0m9OZUzlH4BcUjKBwG+ZSNKdDrlC2uLg+xYowets3wbh3HyBy6XkYYAw3KLtjVCR7oaibFvm9Q3EkoTN2RfbDDu801BhTEVqVgpiTvo059DxXAxU7bLsQo6Wxr1p0AJnrCpDQPQJj7utuUfPikfCsWbOUrU4LCgrMqkN8HopMF0uXLlX2GHb3g/M37wBKXQMUkBQ+mwSLD8abb75Z+Su3X79+uOyyyzBkyBAMGjTIaXJj/bS7AA8s3oHBSeFK0mex56fdD7EF1iejgKjOwMhnAP8wq3RJmN3Dhw83mj1h+g6JF/7POvz8/JTV+eI8yh7bl/2AVQs/QMrAy3Dtg/+Src794isq/toGbdt6GMXdvexjgFYDYyRgjAIqkzxR1E2H/LQQHEkSRq8vMnz7oNaQitCKFLQu8EN4FhC0FVCvAqoygdB256ZWsfVCDHucuOyMU9jw7SFcOTkVMcnyq9HFdSL2Av7111/NGs6ECROwaNEix/hcMavn1i3M+ZsGUEpRFJAUPpsFi1Q/YvX32YdarVZWejcYQvGvo26btDg9F8//nIm7h3bAg1ck24yT2RXrtfVbF0gcOp1OSW/RcHdP3OE7efLkRWsURv7HH39UHl1Z4xB3//732Ex0HDgE19z/sLIwhEcTBGpqlD1usXMbsHUdjHt2AYeOAhU1iskzRhhRleSFoi46FPQOxpGUFOyK6ott/n2h0acipKwTovP963PopQOqFYDmmOMtxGjpc6/XG+DhobZqs+IO+W233YZ94g6sice9996Lt99+261NIOdvGkATL5emi1FAUvhsGiw+3B544IFLtiGy5p9tCDt27OgwH4inymsR5OsFPwvfFbIpXDMrF+/uiXQUDbvsiHf6TDmEaf/qq6/wt7/9zZTiJpcpPXkCrVpzz1QFmEYDHDyopFbBlrUwipx6IpdeSQWMESpAGL32nijuoseJtCBkd+mIndF9sDWgH7T6rggu7YTo3ACE7qvPoSeMnrGk6UTJ4i7fpXbEMPkEsmAjAfFIWHzOLV682GwqIsXMCy+8YHacqwRw/qYBlNIyBSSFz+bBL730kpJHy9QjMjJSecwovsaPHw+xtyaPJghUnQZWvQDEDwa6NZ9jTLyrdP/99+P77783C6fI33n+nVyzKmDhvwiIFCuHDwO7dgBb1sC4ezuMWYegOlkKY5gwegbUJHiiuLMRJ9P8cahbMna17oPNQf2hF0avuDMicgLRag/guxHAcsDXCDTkzTt7ZwxHXojR0pIQOf+WvbcXPUbGol0X6+/RK16hEI+CG+6or127FkeOHDF5mK+88gr+9S/3fBWC8zcNoMkXSlMFKSApfC0SLHJoiQ85Uw9fX188//zzmDlzZou/KP3B2iMY0SkSSVFBpnbXPuXWvwksfwYIigEe3Al4nrsqNy8v75wJSaSwMPcQu/I0dwfX3DrPL19XXY1tPy1Bn2tvgI+/jbL+ynbS3HjxrmZubv3uGOKO3s6tMGZlQZVXAqNI5RhhQG07T5zpbMDJnn442DMZO2N6Iz14APS6bgg83RnhR4KUHHp+6wHDSqBV8F87YpydQ89f/jU2c0fndOW3/3YMm5YcRmCoD257diA8vKz7+LcpICdOnFAWeojdrrKysppl9t577ymr693t4PxNAyileQpICl+LBIu/kMXdp//+97/NthccHIyJEydi3LhxGDhwYIsuGtmWU4Kb3t0Ebw811v/fCEQF+zbbX7sV0NYC394FDLgPSBh8Tjeqq6sxb948iLuvpj7qPX8cwoA/+eSTNh/el3MeQ17mXvS57kYMu22KzduzagMiecOJE/VJk7eugXFHOoz7D0B17BSMwstGGFAX54HSTkac7O6LQ707YGdsGjaFDIJB1w0BhV0Qdji4PofeWkC9Hoho4/oLMax6DkyorLZKi20/5yC6fTCS+0SbEGHdIiJvoNgF66B4zH+J44svvsAtt7RseifrjtT82jh/0wCar5qzIiggKXwtFmwwGJRHif/73/9MblO8f9ajRw/lcXDDe4K2XDRyrLgKz/20H5FB3njpRstSRJg8OBsU/OCDD/DOO+9gz549ENtYWXo8+uijyh3bllj5LJJDr1r4Pobf8Q+0T+traZdtH3f6dH0uva1rgO3pMOzfB9WREzB6GpR39DSxHijtaMSp7j441Ls9dsSnYVPoQOi1PeBf2AWhB0MQlAF4rQG8M4DWiec+urX3jhi2B+ieLYgFV6+99hpmz56Nurq6S0IQ15tYbDVmzBi3gcX5mwZQSuwUkBS+Fg0WH4ZiT0zxaMTSo0OHDoo5sfaihLP7o9Ub4GXlVYKWjteUOJGQdsb992D1uo0oLS01JeSiZe6++27lTm1LmL+GTuh1OsdZCVxeDojH5VvWKrn0DJkixUo+VAadsupW21aNsmTgVDdvHO4Tj4z2aUgPGwSttif8Crog5EAoAoXRWwkEHgTadPzr0W3DO3pciCElUZOD9VpDizzuvViHxGsXkydPxrZt20zus3j9RaRbEn/wusPB+ZsGUErnFJAUvhYPrq2txXXXXYfly5eb3bb4cBSpEx5//HGIxSI86gnoti9CxXcP4frPSrAu1/I7f+LRu0jf4xYJaqurgcxMYOt6IGMDDPt2AdnHoarSAJFGaNuoUZ4MnO7mieze8cjomIZN4YOg1fSCb34XBO8LQ4DYDWMFEH4KaJMCiLx5Zy/I4EIM+12hRoMR37yagdDW/hh0YxL8g1s+IX1GRgZWrlyprLwXXyJJvimHeA3GWgnXTWnPnmU4f9MASumPApLCZ5fgqqoqJRu+JXtqNnS4U6dOjY+FxSPixMREi+9avbm8/t0ckfPPKVO+/PQQsO1jFEcNQocnNqGsrMzs8zp27Fh88803dtuiSmhi0fx5iIQWYx950np3BEWKlQMHgG0bgW3rYNi7Azh0DKrSGhjDAb3YHSNJhdNdPXAkLRZbu/RCesRg1Gp7wyc3FUF7whGwBfBYCcTUAG06XZhehQsxzJabzQMKskux5LXt8PL1wK1zBiAgxL5bF4pXYEQqJrFSuGG18LFjxy7KITw8HGI1cZcuXWzOyp4NcP6mAZTSHwUkhc9uweJR5fDhw7Fr1y6lD3FxcWbvrdnQ+RtuuAEffvghwsLM3xkjv7QGI+auhkZvwCeT+2JESpTdmFjccFUxsGsxrnrqG/yxaq3J1dx6663KbgSXX345fv75Z4g7rPY4hPF89aWXMDY+En5enrhi6n3oceVo87qi09WnWBHboG1ZC8OeDODgUaiKKmEMBQzRKlR2UOF0qho5abFI79YTWyIHo1rbBz7HuiBgV6SSQ897LdDOo97oNay2dcUdMcyD65ylC3PKUVZUjY59bbdlogwZ8erG2dstikfGZ+8KK1Jgid+LP25d9eD8TQMopW0KSAqfXYNPnTqFoUOHKmkSxIefuCso0ieYe4g9asU2cw2LRfr37w9/E1OKiA/cn/ecwPpDp/HSjd0svotobp+tXr6sFM+NGwDPokOorDWgXAOcqQNKa4AyLVCuB8p0QKURqAVw25Qp+NcTT2Dirbcqj+MDAwOt3iVTKly2bBlGj643e5d364w5TzyOfuNugrevX9PhIsWKuHOyPV3JpWfYLVKsZENdUA5jCJSt0Co7qFHSWYWcnjFI79kDW1sPRqW2H7xyUuGXEQW/jfU7YyQG1Js85dFt5/rvIzpIb7RiyrBZhgQuICASSm/cuLHxDuHWrVsRGxur/N9V86Fy/qYBlPoooICk8Nk9WPwVPHLkSMUEZmZmKobQ1Hdlmuq8eHQidiBx2XQKVVXQpP+I8i3fw7BjB/yy8uGfWw11tRG6NkBtuAc8fQFVsQFqrRFqLaBq+NKJFwYBiNcExb8GAGrA6AkYvVR/fqlh9FLD6K2G0ccTRi8PwMcLRm8vqHy9ofLxhkrcKfTxBXz9oPILhMo3ACq/IKh8g6D2D4HKLwAICAT8gwH/QCAgqP578TMfH8DXF6W1tVi2ciXumDYNOpFOBUBQUBCmT5+u3An+dOFCoKAA2LEV2LIahp3pMGYdhDq3FMYAo2L0qhJVONNZjdwerZGe1g1bY4agTDsAHofrjZ7vOpWSSy8p/FyTJ8weF2LY/dK3SQeqyurg4amGb4Dcdok26ZyZlYr3pYUJFJ+H119/vZnRzlGc8zcNoJRSKSApfA4RnJ+fj7Zt2yp9ER94whBamr+uYUAJCQmKmXzxxRcb6z57sDq9AcJ2OOxq37o6aLb9itL076DfvhX+B/IQkFsFjzID9FFARYI3TrQPR058Z+TEXgl92N/ROyAa0RuGo53qIK75rDcOlkXCIyAcnv6h8A0PR2rfVFSgBl3TOkKnroBRXQoPYwk8DMXwNZyBj74UPoZy+OvL4Wesgp++Cn7aavhqa+BTVwtvTR18ajXwrtPCp1YL71odvOr08KwzwFOjh0edER4aI9QaQK1RKQZUpVFBJf4VJvRP42lsMKB/GlKVATB4AEYPQO8J6NWAr04Nna8KnmEGVCeocKaTCsd7RCG9dzdsixuMEs1AeBzuCp/01vBeq0LrY0D7CKANF2I4xDVtr04se3cPCg6VYuSdnZHQPcJe3WC7JhLg/E0DaKJUmi5GAUnhc8jgNWvWYNSoURB/Afv4+DSbP6upQYj3ZsR7geL9tqaOTzfl4NNNxzBnbCoGJ9lxotDpoNm1EiWbvoJuWzoCDhxHQG4FvIoNMIQDlfFeKEwMQ058CnLbXQ599AT0Ck9GSkcVglsDKtV5o1t8C4zZKzDvaBIeWpCuLOpQHnP//DOioqKQkpICP7+LPF79syq9FqitAOoqzvq3/K//i9+VVQPldfWPlyu0QKX4MtR/Val1qPWugcanBvrAaqjDaqBuVQN1SBU8A8qh1RfA0/MMfLyq4OdZAT91NfyN1QjWVCJAUwX/omrUbAtAhToU6dMmweNQN3hvbgPvdSrEnwLat/7r/TxxN098cSGGQ17KLdopTY0O387NwJmT1bjlqb4Ij7HPaw0tOmgnb4zzNw2glIQpICl8Dhv8yy+/KI89xB6Zr7/+umIGTT2mTp2KN95446LvtRkMRlzxxhocKarC8+O64rYB8aZWbXk5gwGazA04veEL6LZuQkBWDgJzyuF9Sg9DCFDdzhOnEkNxPCEJeQnDoY2bgF7RXdGxowr+oWY0e+YYYDRg2mMvKSld7rvvPuXdyBtvvNGMSqxXVLyyp6kEasqNyNyRjZefexM7tx6AN4KULy/l3+Czvg9CYJAag676Diq1AYkJ8xDfs73ynl5UCuDtIrvFWY8wazqbgEFvwMkjZYhJNueiIUN7EeD8TQMopT0KSAqfQwd/9dVXEAs8PD09ce2110Ikkjb1EItCNmzYcNHiZTVaLE7PxT8uS4SnNZM+G43QHN6Ok2sXQb9lHQKzjiIopww+J3QwBgDVcZ44nRiC/IT2yE8cAn3iRPSI640OySr4BJg6uubL7du3DydPnsTgwYPttrr37F4+88wzWLx4MbKzs5vvPIDe8W0R27ETvv/d/HyRJjXAQiRAAnYnwPmbBlBKhBSQFD6HDxb5s8SWcN9++y1uvvlm5XtztjkTxkNsw2SLQ3M8EwWrPoV2y1oEZWUjJOcMfPN1MHoBtXEeKE4IRkFCAk60HwxdygT06jAA8e3V8GypnLSlucCpA0DHq2wxfJPrFHdwH3nkEZPLNxQUKyBFMl3x6JoHCVyMgNjr9/j+EiT1jnLeVfxueno5f9MASkmfApLC51TBCxYswKxZs9CuXTslXYKph3gPTiRVFelhDp2qRMfoIFNDlXK1hUeRu3wB9FtXISTrIEKOlsAvXwvx+l1tjBpnEoJxon07FHboD33qePToNAyx8R5Qq81qxrqFC3YCH18NePgAM7YDAfZ5z1HsTzxt2jSLxtatWzfMmTMHV18+QnnZ0T84xKJ6GOTaBNZ9eRC7V+Wh8+A2uPz2zq49WBcbHedvGkApSVNAUvicLvjXX3/FgAEDzkki3TCI+Ph4XCq7fkzfUfC6/AGM7xvXZM6/2pJ8HP79Uxi2LUergwcQevQ0/I5roK4DNIrRC0RhYiyKOvSFsftNSO01Cm3aeF64EMMRqBr0wPvDAN9WwPXzgdCEFu/Vl19+ifHjx1vUbq9evZSdSTQn8/DH+/OR3G8gRt33kEV1Mci1CWT8moNtv+Rg9H3dEdfJ/GTwrk3HsUfH+ZsGUEqhFJAUPqcNFkmkxYbpoaGhSE9PV8ZRXFyMoqIipKWloVrs9XreETLkVrQaPAHTBsZgdN0qGLf/jtCD+xB2tAgBx+ugrgS0rVUoiw/AqcS2OJ2cBvS8EV0HjEV4eEs9t7XiKakuAfxCm1gqbMU2LlKVWHUs9nw+e2eD5loVK5TFORVfDdv7nTx8EIuffATR7ZMxfs4r8PR2wvPQ3MD5e2kCNZUa+AVSG9IgW7gCzt80gFKSo4Ck8Dl1cF5enmL6xPtlK1asgFarVRaMiOOdd97BAw880GhA2seEYWNiHfLPxKDjsePwaVWH8nb+ON2+DUqSe0LV+3p0Gfo3BAdfOkWKUwNroc6vXr1a2dXFnEU7omvCAH7yyScYOHDgOT3Ny9yLtp26QGXXZ+otBI/NkIAbEeD8TQMoJXcKSAqfSwRXVlYqaU5+//33C8YjUsns3bYee/3KcKZdIE7MnIvOIybAP8iNcoTpNMDWD4DQRKCTmXvsmqmQLVu2KAm46+rqTIoUi3p69OjRuI2fuPPXpk0bk2JZyH0J6HUGiHf/el7RDq2imRvIWZXA+ZsGUEq7FJAUPpcJFo98m9r/92TOQaybfA+6+BxEp5+OwcPTw2XGbPJANs4Hfn8SaNUOuH8L4GWbu5xiP2fxfmZVVVWzXevTpw+eeuopjBgxAsHBwc2WFwWMBgMy161Ccv9BF98r2KSaWMjZCez4PRcbv8tGYJgPbn9uINTWTOXk7HCcqP+cv2kApeRKAUnhc+lgYf6O3zwWN4/8N8L8vbDyn8PRyt8N3xPSVAGfXAP0nQr0vBVQW98Ei/x+YpW1Ofs4i91aPvroI8UEmnL8+PpLOJi+AQNuvAWDb7ndlBCWcVECZ05WYcO32ejQKxKdB8W46Chdf1icv2kApVROAUnhc9lgYf5aXdEFa7v3xtwhr6Jb2xC8fktPlx1vswMzGm22GOT48ePo16+fknjalEMk9xbv+TUs+Bg+fLhJ+dsObdmIX995E0PG345eo64zpSmWcXECYpGR6oL9EF180C40PM7fNIBScqaApPC5ZHCD+StOCkXrn07CqFKhWqtHsK+XS47X7EFZ0Qw2rMY+ePDgRbshEjmLd/saVvf27NmzcbGOOX0Xk31tVSX8As3L42hOGyzr2ARo+Bz7/JjbO87fNIDmauac8hSQFD6XCz7f/LnlO3+XOqu56cCvjwHXvArE9ZU6/6Wlpcrj2507d55TT1JSUqPZE8YvOTmZd2mkSDNYEBDm76f5u9CmQyv0vCIOnt7Wf5WBpFuWAOdvGkApxVFAUvhcKvhs8/fbk+kID/LB2B4xNB9nn+Xv7wd2/g9IHAbc+YPFz5A6CwAAIABJREFU518s9LjqqquwefNmiDt6DXf3hOFr3bq1xfWaGlh07Ch2/fELLp9yD9Q2eKfR1H6wXMsROLavGD+9tQue3mpMnD0AQWG+Ldc4W7IJAc7fNIBSwqKApPC5TPDZ5k//2VFcOW8d6nQGfHZXP1yWHOky45QeSEUhsOZlYPjjQKDle+yKXH8ajUZ5ly8oqGUfyWo1dfjgvsmoqSjHFVPvR48rr5HGwgocn4C4A3hoWyHqqnToNjzW8TvMHjZLgPM3DWCzIrlUAQpICp9LBJ//2FdrBD5cdwTbc0vx0Z19eAfQJc7yuYPY/stS5Gftx9BbJyMkKtoFR8ghkYDrE+D8TQMopXIKSAqf0wdf6p0/vjBuwukV28X5O9/+qTy3JpxbFylSV6ODl7eauf5c5HyePQzO3zSAUrKmgKTwOXXw+eZPJINlSggTT6nYHeS3J4Cdi4F7NwBhiSYGOmYxGkLHPC/W6NXvH+1DcX4lRtzeCa0TQ6xRJetwEAKcv2kApaRIAUnhc9rgpu78fbElF79nFuLJMZ3RIdKNtnqz5CyKVDCfXg8cXQNc9TwwaLoltdg9RlNTjfTvv8aZgnyMfeQJu/eHHbAugZpKDRY/k47aai3+/nhfRLZr2fdNrTsa1nY+Ac7fNIBSVwUFJIXPKYObMn9avQGXvbIKJ8tr8dSYzph6WXunHFuLdrooC6gsBBKHtmiz1mzszIl8LHjkfhj0Oox/di7apnS2ZvWsywEI1FZpcTyzBMl9+a6nA5wOq3aB87cLGcC1a9di7ty5yMjIwIkTJ7BkyRKMGzfukoIRqwkffvhh7Nu3D3Fxccr+oJMmTTJZZBSQyahcouCl3vk7XFSJj9cfxeyxqfDi3qAucb5NGcS2n5agVXQbdOjTn68AmAKMZUjAQQhw/nYhA7hs2TJs2LABvXv3xo033tisATx69Ci6du2Ke+65B1OnTsWKFSswc+ZM/Pzzz7j66qtNkigFZBImlyjEJM82PI11lUDRASC2jw0bYdUkYBoBTY0OpaeqERUfbFoASzklAc7fLmQAz1ageBm/uTuA//d//6eYvb179zaGjh8/HmKHgV9//dUkQVNAJmFy+kKXMn8lVRqEBXg7/RjtNoDTh4CF1wG6OmDGdsAv1G5dkW1Yr9NCp9HCx99ftirG25HAxm+zsWN5LvqOTkC/6/g6hx1PhU2b5vztxgZw6NChSEtLw5tvvtkosk8++US5C1hWVmaS8CggkzA5daFLmb/VWadw7/+2Y8bIZNw7vINTj9NunddrgXeHANoa4JbPgDY97NYVmYaP79uN399/C+269sCV/3hApirG2pGAWNG96n8HsH/DCYy5vzsSukXYsTds2pYEOH+7sQHs2LEjJk+ejMcff7xRY7/88gvGjBmD6upq+Pn5XaC9uro6iK+GQwhIvDsoDGNwMB8X2PJitUfdzT32ffTrXfg6Iw9ThyTiqWu72KOLrtFmyREgKAbwct7ttfL278WXsx9DYFg4Jr/xLrx9L/z8cI2T5R6jKC6oRFibAL7X6cKnmwaQBtAsAzh79mzMmTPngkuCBtD1PiWaM39ixMoG8btPYGjHSIT4ebkeBI7ILAL7169Gh9794O3HR8BmgWNhErADARpANzaAljwC5h1AO1yldmjSFPNnh265fpMiP+Ch3wFPX6D9MNcfL0foMAQMegN2/JGLrkPbwseff8w5zImxYUdoAN3YAIpFIOKR7549exolNnHiRJSUlHARiA0vOkev2hTzt/lIMfrEh8KT6V6sezozFgI/zgDCOgD3bQY8nXdxTf6BTES17wAvbx/rMmJtNiGwe1Ue1n15EKGt/THh6f5QqVU2aYeVOg4BGkAXMoCVlZXIzs5W1NWrVy+8/vrrGDFiBMLCwtCuXTvlUW9+fj4+/fRTpUxDGpj7778fU6ZMwcqVKzFjxgymgXGc67PFe2KK+dt/ohxj/rMOyVFB+Pa+QQj08Wzxfrpsg7XlwH8HAak3AMMfB7yd81HqqoUfYPsvSzH4ltsx4MZbXPZ0udLAju8vUQxg98vjlLuAPFyfAA2gCxlAkdRZGL7zjzvvvBMLFixQEjzn5ORAlGs4xPcPPfQQMjMzERsbi1mzZjERtOtf902O0BTzJwKXZxbi0W92YVCHCLx9a5qb0rLhsLW1Tr0YRJDZv2ENlr31b6SNHovhd0y1ISxWbU0Cer1BWfSh5t0/a2J12LpoAF3IANpDZRSQPahbv01TzV9Dy2XVWtTp9YgKct5Vq9anyBobCIjFQSUFeQhvG0coJEACDkqA8zcNoJQ0KSApfA4RbK75c4hOu0MnyvKA5bOBgQ8AMT3dYcQcYwsTEEZ95af7Ed81Ah3SIpnypYX527s5zt80gFIapICk8Nk92Bzzt3RnPhLCA9AjrpXd++0WHVhyD7DrcyDhMmDST0475OryMuxZ8Rv6XX8TVGq1047DFTt+dPdp/PLObnh4qnHbcwMQGMo7+q54ni82Js7fNIBSeqeApPDZNdgc81dYXosRr61GtUaPb+8diN7xYXbtu1s0Lu4A/jAduGK20+4Ootfp8NGMf6CiuAij7nsIqcNGusWpc5ZBajV67PjtmLLit++YRGfpNvtpJQKcv2kApaREAUnhs1uwOeZPdLKoog4vLduPY8XV+OaegXxUZLcz53wNb1n6DbI2rsPlU+5B25TOzjcA9pgEXJQA528aQClpU0BS+OwSbK75O7uTdTo9fDw97NJvt29U7Bns4XwJesVdQHGHSa2mbhxFw2K1rwdzeDrK6bBbPzh/0wBKiY8CksLX4sEy5q/FO8sG6wkY9MCWD4AN84CpfwAhsSRDAlIEVizMRF21DoNvSkZIJPdsloLpxMGcv2kApeRLAUnha9FgS8yfWPixO68MM0Ymc6/fFj1bZzUmtof75BogdxMw5KH6dwKd8DAaDMhctwonDmXhiqn3OeEIXKPLlWfq8NlTG2HQG/G3/+uN1okhrjEwjsJsApy/aQDNFs3ZARSQFL4WC7bE/NVq9Rg2dxUKy+vwxOhOmDa0Q4v1lw2dR+DELiB/O5B2B+Ckj1JLCvKx4JF7IYzgLc+8jNguXXma7USgpKAKuZnF6HlFOzv1gM06AgHO3zSAUjqkgKTwtUiwJeavoWNrDhZh4cYcvHNrGny9+A5Xi5wwF25k3ecL4RsQiF7XjIWnl/O9z+jCp4ZDc0MCnL9pAKVkTwFJ4bN5sIz5s3nn2IBlBAwGoPQYEMa0HZYBdM8obZ0emlodAkJ83BMAR30BAc7fNIBSlwUFJIXPpsEy5k+jM8Dbk0l7bXqCLKm8LB/46g6gNBeYngH4BltSi0PEiF0oDHodPDx5J7AlTkj6j0ewa/lxDL4pCamXtW2JJtmGgxPg/E0DKCVRCkgKn82CZczfpsPF+OfXu/DkmM4Y3a2NzfrIii0goNMA7wwAKguBCV8AiZdZUIn9Q4rzjmPlgvcQEdsOIyZNs3+HXLwHRoMRS+ftQH5WKUZN64oOaVEuPmIOzxQCnL9pAE3RyUXLUEBS+GwSLGP+RIfuWrAVKw6cwu0D4vHcOL6ob5OTJFNpwQ4gqA0Q1FqmFrvGHtu9E9+88BS8fHzxj3c+gV9gkF374w6NCxN4bF8x4ruGM5G7O5xwE8bI+ZsG0ASZXLwIBSSFz+rBsuZPdKhGo8dH649gYv94hAV4W72PrJAEBAGxQ0jHAUPQKtp5jSzPJAk4MwHO3zSAUvqlgKTwWTXYGubPqh1iZbYncOoAoK0C2va2fVtswekIGAxGZGcUIql3NNRqldP1nx22LQHO3zSAUgqjgKTwWS3YGubv6OkqJEYEWK1PrMjGBDJ/AL6eBER0BO5ZD3h42rhB21VfXnQKAaGhXBBiZcT71uVj9aIsxCS3wriHe/HRr5X5Ont1nL9pAKU0TAFJ4bNKsDXMX/apSox6cy2Gp0Ri/kTm/LPKibF1JdUlwFtpQPxgYOxbgH+YrVu0Sf0ZP3+P9Z9/ikG33Ia+191okzbctdL9Gwuw4Zts9B2TiB4j49wVA8d9EQKcv2kApS4OCkgKn3SwNcyf6MSXW3Px5JK9igH88M6+0v1iBS1EoOKkUy8GEZT2rvoDv707D0l9B2DsI0/yLpWVpVNTqYG3nyc8PJjWycponb46zt80gFIipoCk8EkFW8v8NXQi+1QFfDw9EBfmL9UvBpOAOQTE1nDHdu9AfI80mj9zwLEsCUgS4PxNAyglIQpICp/FwdY2fxZ3hIGOQUBTBWyYB6TeAER1dow+sRd2I7B56WF06BWFyHZMr2O3k+AEDXP+pgGUkikFJIXPomBrmr/VWafQuU0wooN9LeoLgxyEwA8zgO0LgfYjgNuXACrnXPGp12lxcNN6dBoynHcDLZSWyPX301u74OGpxp0vDYJfEFM5WYjS5cM4f9MASomcApLCZ3awNc3f6co6jJi7GnqjEd/eO0gxgjyclEDJUWDRzcDlTwFdrndKA2gw6LHo8YdxKucwxjz4L3QaNNRJT4Z9u11RUotNSw7DP8QbQ25Ktm9n2LpDE+D8TQMoJVAKSAqfWcHWNH+iYZH25eGvdkKrN+CH+4cwT5hZZ8MBCxsMgNq5X/Tf9M3n2Pn7z7h88j1IGTjEASE7T5fEzh8q5v5znhNmh55y/qYBlJIdBSSFz+Rga5u/hoZFotiSag0iAn1M7gsLkoCtCGg1dTDodPDxZz5KWzFmvSTQQIDzNw2g1NVAAUnhMynYVubPpMZZyPkIHFoOrH4RGP85EBTtfP1njy0isO6rg0qqlz6jE5S0LzxIoDkCnL9pAJvTyCV/TwFJ4Ws22Bbmb3lmIU6U12Jiv3bw4COiZs+BUxUwGoEPLgcKtgP9pgGj5zpV98/ubH7WfuTu2YmBN01w2jG0VMfLiqqx6OnNEKdf7PjRtmNoSzXNdpyYAOdvGkAp+VJAUvguGWwL81er1WPkv9cgv7QGs6/rgkmDE203ANZsHwLHtwKZ3wNDHwX8WtmnD5Ktiq3hPpw+FUajAePnvIq2nbpI1uj64Tl7TqPgYCkG/S3J9QfLEVqFAOdvGkApIVFAUvguGmwL8yca0+kNWJSeiy+2Hsd39w6Cn7eHbQbAWklAksAf789XDODgW25HQCve0ZLEyXASuIAA528aQKnLggKSwtdksK3M39mNGY1G5lmz/qlzzBprywDfEMfs2yV6RY02f8r0WgOMMMLTi3/INU+LJc4nwPmbBlDqqqCApPBdEGxL88cJ1brnyuFrqy4Bfn0MyNkAPLAF8HbulbXU74WK27YsB/s3FGDo+BTEdw13eEmyg45FgPM3DaCUIikgKXznBNvS/GUcK8Ery7Iw69ou6BbrfHeDrEfZjWrS1gDz+wFlx4Fb/gd0vtYpB19TUY4NXy2Cj78/Lptwp1OOwRadNugN+PzZLSgtrMYVk7sgpX9rWzTDOl2YAOdvGkApeVNAUvgag21p/kQjt7y3CelHS/D3PrF49aYe1uk0a3F8AkfWAD5BQNs0x+/rRXp4OGMLvn/1WXh4emLq/I8RGBrmtGOxdsc1tTocTD+J1KFt+UqHteG6QX2cv2kApWROAUnhU4Jtbf5EGwWlNXjjj4N4dFQKooK476/8WWMNLUVAPPpdtfB9JPUZiHZdu7dUs2yHBFyeAOdvGkApkVNAUvhaxPzJ9ZDRLkNAvBNYXQxEcH9YZz6nYou3wpxytG7PVzmc+Tw6Qt85f9MASumQArIcX0vc+Sur0SLEz8vyTjLSNQgcXQt8dQcQEgdMWw2onXfVqKa2Bp5e3lB7OO8YZESVtfkEli/Yj04DWmPkJOZHlGHp7rGcv2kApa4BCsgyfC1h/o4VV2H0vHW4dUA8Hr06BV4eass6yyjnJ1B1GvhPGhDSFrjtWyA4xinHdDB9A1Z98h76jbsZvUZd55RjkO301p+PYuvPOeg/NhG9RyXIVsd4NybA+ZsGUEr+FJD5+FrC/Ilevb0qG3N/y8JlyRH4dEo/viRu/qlyrYiTe4HIToCH8+4Tu+uPX7D8w3cQ3T4Zt774uttqurigEiGRfsz/51pXaIuPhvM3DaCU6Cgg8/C1lPlr6NWqA6cQF+aHpKgg8zrK0iTggAQMBj32rPgNqcOugKe3twP2kF0iAechwPnbxQzg22+/jblz5+LkyZPo0aMH3nrrLfTr169JRS5YsACTJ08+53c+Pj6ora01WcEUkMmouODDdFQsaUsCRiOw5xsgphcQwX1jbYnamnXvXZOHxJ6RCAjxsWa1rMuNCXD+diED+OWXX+KOO+7Au+++i/79++PNN9/E119/jaysLERFRV0gc2EAH3zwQeX3DYdKpUJ0dLTJlwQFZBqqlrzztyevDMnRgfDl9lCmnRx3K/X7LGDjf4COo4CJXzrt6EV6mIKs/YhJ6ezyj4Lzss5g6Rs74OPvidufHwgffy7sclrhOlDHOX+7kAEUpq9v376YP3++IjGDwYC4uDhMnz4djz32WJMGcObMmSgtLbVYkhRQ8+ha0vyVVmsw4rXVCPDxxKKp/REf7tzbfzVPlyXMJlB0EPjoCmDQDGDIw4Da+RYHCfP3w79fQPbWzbj+0VlI6tPfbAzOFHDqWDnWLM5CVEIwhk1Icaaus68OTIDzt4sYQI1GA39/f3zzzTcYN25co+TuvPNOxeAtXbq0SQM4depUtG3bVjGLaWlpePHFF5GammqyZCmgS6NqSfMnerLreCnu/ixDSf3y84wh8OTKX5O17FYFNVVOvzfwus8XIuOnJbhs4mT0HnO9y58+kf9PpzPAy9s909+4/Am2wwA5f7uIASwoKFCM3MaNGzFw4MBGKf3rX//CmjVrkJ6efoG8Nm3ahEOHDqF79+4oKyvDa6+9hrVr12Lfvn2IjY1tUo51dXUQXw2HEJC4yyjig4OD7SBhx22ypc1fA4lqjQ4ny2rR/v/buw/oqIq2D+D/JKRBSAgltITea4DQEUKTKoKigAXF8vmB4If4vgiIUhQQUQxFJTbqS3+RqqBgKBJFOoIEBQ0toQVSSN9svjM3ZmkJ7GaSnXt3//cczuEkd+7M/ObZzLO3zC3no18ctowCkgIZqSlIToiHfwVjLmkj2X0Wp4C0ABNAJ04A746ezMxM1K9fH0OGDMG7776bZ3BNnjwZU6ZMued3TADvJFGV/En/ReABnEvg2p9AxDSg90dAiTLO1XcD9Fas+Sce+qjXriJcXV0M0GI20UgCTAAdJAEsyCXgvAL1iSeeQLFixbBixQqeASzgJ1lF8hd55hrEw53ta5UtYKtZzOkERMB80QWIOQS0fBno86FhCRKvXUH0kUNo0q2nYftwd8NvXErGyqm/wmzOxoA3mqFSbX+H6Rs7og8BJoAOkgCKcBIPgYglX8TSL2IT9/VVqVIFI0eOzPMhkLtDMCsrS7v/r3fv3pg9e7ZVEcoAUn/mL92UhR4f70Z0XAo+eqIpHm+R9+V7qwaUOzmXwN97gJ/nAz2mA2VqGrLvyfE38OVrL8GUno6np81GhVp1DNmPe/8em3F850VcPZeEbsP4yjeHGFSddYLztwMlgGIZGPHQR3h4uJYIimVgVq9ejaioKG1pF7FEjLhPcMaMGVoYTp06FW3atEGtWrW0B0XE+oHr16/HwYMH0aCBdX9wGEC3PtEqzvyJ2pPTTdobP7aduIQfxnSCj6dx3/Sgs7+PbI5BBL6d/xGSrl1F1xeHo2xQVYO0ms2kgFoBzt8OlACKUBJLwOQuBB0cHIy5c+dqZwbFFhoaimrVqkGs/ye2119/HevWrdMWjfb390eLFi3w3nvvoVmzZlZHJQMoh0pV8nf7QImHP4p7MPmzOni5470C5izA1XhPmWamp6GYh6dDrAcoLvm6uMAh+sKPmL4FOH87WAJo73BjAOkj+bP3uLM+BxPITMtZHPrEeuDlHwF3LwfroHG6c2T7OUQfu4YOT9ZB2UA+yW+ckTNeSzl/MwGUilpnDyCVZ/7EGz+W/ByNf/esi4CSnLClAtnZC6ffBOaHAEmxwKOfAs2eNqRIlsmEo99vgbifueUjjxmuD1kmM5ZMiERKYgY6P1sPDdpziRvDDaKBGuzs87cYKpdssaw8twIJOHMAqUz+RMgOCv8Fv0Zfx5MhgfhgYNMCjR8LUcAicHIzkJUONHxMXH80JMyZg79i/QdTUczdA8PCwuFbtpzh+pEYl4oTu2PQ+tEaXPrFcKNnrAY78/ydO1JMACVi1lkDSGXylztch87dwAdbo/DxoGBU9POWGEUWpYBjCIgvRpvDZqJq42A06tIdrga8n9ExRoK9MIKAs87ft48NE0CJSHXGANJD8icxZCxKgQcLZJmAlGtAyQoP3pd7SAuIxPXmjXSULM1bOaQxeQCrBZxx/r4bhwmg1eFy747OFkB6SP5MWWa+41ciZln0AQKXfgP++xLg4QO8+APg6mpYsmyzWWu7i877cPrgFfyw8ARa9KyGVn2rG9abDTeWgLPN33mNDhNAiZh1pgDSQ/IXE5+KJxb8jJFdamFQSBDvEZKIXRbNRyAxFpjXAijmCby03bALRMeePoUfF4ajcZceaNK1h66H+8clJ3EyMhYt+1RDq0dq6LqtbJzjCDjT/J3fqDEBlIhnZwkgPSR/YpimbfkdX+z5G62ql8aq/2nDtcIkYpdF7yNwJgKoFAx4G/f1Ywe3bMDOJV+gVPmKGBa2QNf3A4pLwGePx6FyXX+4exhvHUZ+lowp4Czz9/1GhwmgROw6QwDpJfkTw5SZZcbSn89qCWCjyn4SI8eiFHBsAbEkTOTqZWje+1GUKGXcRNaxR4m9UyngDPP3g3yZAD5I6D6/d/QA0lPyJzFMLEqBggtcOAj4lANKVSn4MVgyT4G/j11Dlfql4eZu3PssObTGFXD0+duakWECaI1SPvs4cgDpKfm7GJ+KSn5evOQrEassWgCByPnA928BDR4FnlxSgAPop0ji1SvwLRegmwbFnknAulkH4RfgjUETW/HSr25Gxnka4sjzt7WjyATQWqk89nPUANJT8peUlonOH+5EjXI+mD+kGQJ8uVSERMiyqC0Cl44Dn3cCGj8J9JsHuBnzXdM7l36FQ99uwIA3J6F6cAtbBIps3+jfriFiaRSqNi6DLs/WL7J6eGAK5CfgqPO3LSPOBNAWrbv2dcQA0lPyJ7j3/HkVLy0+gMqlvLF1dEd4FOPlIomQZVFbBeLPA6WCbC2lq/3FwyDioZAWffojdOhLumlbRpoJ5qxseJVw102b2BDnEXDE+dvW0WMCaKvYbfs7WgDpLfnLpRaXgK8lpaNpUCmJ0WJRCjinQFryTVz+67T2hhBuFKBAjoCjzd8FGVcmgAVR+6eMIwWQXpM/ieFhUQoUnkDqDWDvHKD9aMCbX0QKCnt81wX4VyyBynX4ZHJBDVmucAQcaf4uqAgTwILKOdA3CD0mf8cuxMPP2x1Vy5SQGCEWpUAhCXzdCzgXCbQdCfSYVkgHtf9hMtPScO7EMdRs0crulSdcTcHyKftgNmVj4LgQlK/ma/c2sEIK5AowAQSYAEp8HhwhgPSY/InXvfWaswdn41Lw2TPN0bV+eYlRYlEKFILA6e3AtreAnjOAml0K4YD2P0TazZtYPHYkkq9fx7Mz56BcVfu+di3tZib2bfwLiXGp6DuyKZ/qt38IsMbbBBxh/pYdUCaAEoJGDyA9Jn9iOOJupmP0qiM4EZOIiDdC4VecN4lLhCmLFpaAOQtwNfabKjZ9/D4unfkDPUe8jqAGjQtLxqbjmM3ZfI2jTWLcuSgEjD5/F4YJE0AJRSMHkF6Tv9zhEK+HupSYhop+3hIjxKIUoMDtAimJCXD38oK7hydhKODUAkaevwtr4JgASkgaNYD0nvxJDAmLUqBoBbKzgRPrgENLgadWA8U8irY+Bzj68d0XcfVcElr3q4HivvRygCF1iC4Ydf4uTHwmgBKaRgwgPSd/py4lYUfUZbzYoTo8ixn7UptEWLGongXSk4A5wUDKNaD3h0Crl/Xc2vu27e8jB3HzRhwad364yPqQmZ6FJRMikZaciY6D66BxaGCR1cUDU8AWASPO37b0z5p9mQBao5TPPkYLID0nf+KS79Nf7kPkmTg826Yq3u3fSGJkWJQCRShwZAUQfw5oNwrwKF6EFRXdoc/+dgRr35sId08vvBAWDp/SZYqsspg/4yHOAnZ7vj5c3biQe5FB88A2CRht/rapc1buzATQSqi8djNSAOk5+RO2IgFcf+QiPv7hT/znpdYIKm3MiVUinFiUAnYTEJ+31VPGo3zN2mj7+GB4FudyS3bDZ0W6EDDS/F1UYEwAJWSNEkB6T/5uH4IsczbcXF0kRoVFKWBngYxkwMN4CZTZnAXXInqqWSSYpgwz3D15K4edo5HVWSlglPnbyu4UaDcmgAViyylkhAAyUvInMRQsSgH7C4jLwN+OBcR9gc9vBlzy/+KSkpmC1stba23c99Q+FHd37DPcfx+7hohlUWj/WE3UbVPR/mPDGinwAAEjzN9FPYhMACWE9R5ARkj+riSm4dXlhzCme120rVl09yFJDDOLUiBvgfjzwPwQwGwC/mcXUCH/+1b1nAAmxV3DnuWLUC24BRo81LlQRnvTvKM4dyIOzXtURdsBNQvlmDwIBQpTQO/zd2H2Nb9jMQGUUNZzAKlO/sSEF7o6VNPd+eTOfM94TFz/G5b9cg7BQaXwzYh2fDuARDyyqAKBY2uAik2BcnXuW7m4JHoj/Ya2j7+nv67i/NcNa7UE0KdMWbw090u4FSsmDZllMmsPftRvVxEeXvLHk24QD0CBuwT0PH/ba7CYAEpI6zWAVCd/gtTaMx7XkzMw+4dTeLx5IJpV4QviJcKRRSlQIAFTRga2LZiDkL4DUL5GrQIdg4UoYDQBvc7f9nRkAiihrccA0kPyJ0jN2WbEJsdquhVLVISrC5d/kAg1FjVt+bToAAAdnElEQVSCQGIsIOK8pPO+u1os+Fw2yEdXZziNEDpso/0F9Dh/21uBCaCEuN4CSC/JnzWkyekmlPDkpSFrrLiPAQSOrQY2jQbq9wUe+/yeBmdmZWLhiYXaz4c1HAZ3N/2+3zojLRUeXra/gvHK2USsef8AAuv6o+/IpnArxi99Bohcp22i3uZvFQPBBFBCXU8BZKTkLyXDhO6zd6NjnbIY37s+fL30OxlKhAeLOpPAxUPAF52BoNbA0I2Au9cdvbf2lgjVZEd/+BY/rVyKfmPGI6hhE5uaczIyBruW/4Eazcrh4Rcb2lSWO1PA3gJ6mr/t3ffc+pgASsjrJYD0mPxlmjOxMmqlpju43mC4u95K8jYfi8HI5YcR6O+N7WM6wcuda4VJhCGL6kXg/K9AYMs8l4PJyMrA9H3TtZZOaD0BHm76fCfu9q8+w9Hvt6Be+07o89q/bZZNvJaqnfkrUcrT5rIsQAF7Cuhl/rZnn++uiwmghL4eAkiPyZ8gfdAZj/3R15FhMqN9rbISI8CiFKBAYQqkJiXij19+QuMuPeDqxi9mhWnLY+lLQA/zt2oRJoASI6A6gPSa/AnS9Kx0vLP3HU13avup8HTjGQGJUGNRIwlkmYAjy4BGjwOeJXXX8syMLLh7FF5yd/rgFQRULQnfsve/b1A8bXxwy3p4+/qhSdceunNhg5xLQPX8rQdtJoASo6AygPSc/OVH+tfVmyhX0hMlec+fRNSxqO4FVj4NRG0GOowBuk3SVXNNGVlY8e6vCKznj3YDasKzeP7334q1C6/8fea+S8MkXU/D8km/IDsbeGJCCMpU8sm3v8d3bse2z8LgVcIHL8z9At4++kuOdTVYbEyRCqicv4u0YzYcnAmgDVh376oqgIyY/Il3/D4y7ydcSUrDgmdaIKRaaQl5FqWAjgWivgXWDwe6TQZChmkNtXZh9KLu1ZlDV7D18+Pw8ffEU1Pa5HsmUDwJvHba27h85k8MnTUfZSoH5dm0hKspiFh2CtnmbPQf0+ye5V+yTCbLwtLi3cPrZ05FvQ6hqN++E1xc+ZRwUY83j5+/gKr5W09jwgRQYjRUBJARkz9BfDE+Fc9+uQ/XbqYj4l+hKOPDS8ISoceiehYQp8PSEwEvP0srH3RPrD27E/NnPMSZwCoNb716USzhElDV945mfPPBVJw/fgw9ho9G3bYd8m2iOFOYkZYFT+9byzql3kzC3pVLcfVcNAZPfp/Jnj0HmHVZJaBi/raqYXbciQmgBLa9A8hIyZ+Y8Hr+t6emu/Xxrdqr4MRDH39cTkKjyrcmRgl+FqWAYQT0vDD6+ajr2Bh2BNWalEXv/20MF1cXzTXx2hW4urrBp7Tt7+i+eT0OX49+BZnpaXjynek2LyljmIFlQw0rYO/5W49QTAAlRsWeAWSk5E+Q6umMh8QQsygF5ARiDgP7vwT6zgHc9Lnw+dEfzyPyv6fRqGNlPDTo/u80zsX449dLSE7IQJPOgZYFn6/HXETpSpUtXid27YBv2XJM/uQiiKWLSMCe83cRdUH6sA6VAH7yySeYNWsWLl26hKZNm2LevHlo1apVvkhr1qzB22+/jejoaNSuXRszZ85E7969rUa1VwAZLfkTgOKMx1/xf+HCjRSkJJdBr0aV+HooqyOLOzqEQGYq8HFDICUO6PMR0PIl3XYr/nIKvHzc4VUi56GQ5IR0RB+7hvrtK8HV1QVxF8/jRsxF1GrZBhmpJix752ekJmWi01N1Ua9NOWwKex/RRw5i6AfzUSYw7/sFddt5NswpBew1f+sZ12ESwFWrVmHo0KFYsGABWrdujbCwMIgE79SpUwgICLhnDCIjI9GxY0fMmDEDffv2xfLly7UE8NChQ2jUqJFVY2aPADJi8nc73guL9uPHqCsY1aUW3ni4rlWu3IkCDiPw6xfAhf3I7DIRK2N2ad26e2F0PfZ1x5KTiIqMRb12FdGgrStWThoLd08vvBAWDu+Sfoj6JRZRP19Cv/8L1s4Arp/1Lv4+fADdXnoVjbs8rMcusU0UuEPAHvO33skdJgEUSV/Lli0xf/58zdxsNiMoKAijRo3CuHHj7hmHQYMGITk5GZs3b7b8rk2bNggODtaSSGu2og4goyd/4snfsO1/YOHeaGwc2R41yuW/RIQ13tyHAoYTEA+EuLgY7paIYxHn8eumv7V3+gZU88F/JozR7gXs+sJw+JQujZN7dqJ263aWdwYnXLkMU2ZGvk8LG27c2GCHFyjq+dsIgA6RAGZkZKB48eJYu3Yt+vfvb3F/7rnnEB8fjw0bNtwzFlWqVMGYMWMwevRoy+8mTZqE9evX4+jRo1aNXVEGkNGTP/EquA2nN2gLQveuOgD+xYtrpqmmVIinBsXC0G6uOYvRmswmiFdlubq4wqvYrXeo2rJvmilNu+wsXrFVzDXnXqssc5ZW/93Hvd++Li4u8C52a0FbUV4cx93N3fI6u9zjWrOvaJOoT2ziQZjcTfRX9Fu8Ik8cW/vSYsO+wlD4iE20V7RFbJlZmRD2tx/3QfsKr9tfTSbu3xSbGAthd/txrdrXnKm1Q4zv7QuA5zWeoq3W7ptfnOSOpzUxZcvY27JvXnFy+3gKC21h9GxgagdjLIyemZ4Fd8+cz2h6Sgr+OpKAhCspuPTHcpw5uA/tnngabQcOsepvJXeigN4EinL+1ltf82uPQySAMTExqFy5MsRl3bZt21r6OnbsWOzatQv79u27p/8eHh5YvHgxhgy59Qfs008/xZQpU3D58uU8vdLT0yH+5W4igMRZxoSEBPj63rmEgkwAJMVfh3tIAOJq+aPC5ktwK1Z4q/bLtMuWsrc/BDKnzbfoUjfnvqAea3sgJjkGK/qsQKOyOZfaN/+1GeP3jEebim3wxcNfWKrpv74/ziScwdc9vkbLCi21n+84twOjI0YjuFwwlvZeatl38ObBOBF3Ap90/QQdAztqP4+MicQrP7yCuv51sbbfWsu+w7YOw4HLB/Bhpw/Ro1rOGwkOXzmMod8NRZWSVbDlsS2WfUdsH4E9F/fg3fbvon+tnC8XUdej8MSmJxDgHYAdT+6w7Dtm5xj8cPYH7V2vQ+rlxNXZxLPo+01flHQvicinIi37vvXTW9h4ZiPGtBiDYY1y1oq7nHwZ3dZ2QzGXYjg89LBl3/d+eQ+rTq3C8KbDMSJ4hPbzxIxEtF/RXvv/oWcPWZLTjw58hEUnFuH5hs/jjZA3tN+LJKv50uba//cO2Qtfj5xY/fTIp/js6GcYVHcQJraZaKmv2ZJmMGWbsH3gdpQvUV77+cLjCzH74Gz0q9kP0zpMs+zbbnk7JGUmYfOAzajqW1X7+YqoFdp7b7tX7Y7ZobMt+3Zd3RVXUq9gzSNrUK90Pe3n60+vx9t738ZDlR/Cp90+tezbZ10fnEs6hyW9lqBZQDPt59uit+Ffu/6FkPIhWNhzoWXfgRsH4tSNUwjvHo52ldppP999YTde3fEqGpZpiJV9c95JLbZnv30WR64eQVjnMHSt0lX72f5L+/HCthdQ068m1vdfb9n35e9fxi+xv2DGQzPQt0Zf7efHrx3HkC1DUKlEJWwbuM2y72s/voaI8xGY1HYSBtYZqP389I3TGLBxAPw9/bDbVB7wrQyIhPqRMEs5o/wnI82EJRNy4rfxQ6nYv/FrdBg8FME9+hilC2wnBe4QYAIIMAG0IQGcPHmyliDevRV2AiiOv+/DFxEy+nNDJn+i/eKs03Nbn0P0FeDcyUH4d4+6eLVzLSaA/wQPE0BnSgD9sftyIhB/FnhkDtB8qOGmYvF5/uvIVRzdcR41m5dDnZal4F2y8L70Gg6EDTa8ABNAB0kA7XUJ2F5nAA3/yfqnA5mmLEzdcgyr91/Cltc6oFZASV4C/seGl4Bzzmo75CVguAF/fAdz7R5IM2do/Sx+7U/A1R0o38BRPt7sBwUMLcAE0EESQBGF4iEQseSLWPpFbOIhEHGf38iRI/N9CCQlJQWbNm2yBHG7du3QpEkT3TwEYuhP122Nj7uZfsebP5b9chaexVzxePNAbYkJbhRwGAHx0MfSAcBfEUD/z4Dgpxyma+wIBRxJgAmgAyWAYhkY8dBHeHi4lgiKZWBWr16NqKgolC9fXlsiRtwnKJZ9EZu4X7BTp054//330adPH6xcuRLTp0/X3TIwjvSBE325kpiG0A93IiUjC18MDUH3Bjn3mHGjgMMI7J0D7PoAePhdIOQFh+kWO0IBRxJgAuhACaAITLEETO5C0GI5l7lz52pnBsUWGhqKatWqYdGiRZYYFusETpw40bIQ9AcffKDLhaAd6UOXbsrCor3R2HsmDouHtbQ8vWo2Z/NsoCMNtLP0RSz2/PN8oG6fW5d3TelA6g2gZAVnUWA/KWA4ASaADpYA2jsCGUAFFxc3lecuXWLKMuPJ8J/RqU4AXulUA17uxnvqueASLGlogc2vAwe+Bqp3AoZu0Nb840YBCuhfgPM3E0CpKGUASfFZCn/7WyxG/OcQ/LzdsfNfofAv4VE4B+ZRKFAUAv8s7qwd+vrfOff8dX4LaDyQCWBRePOYFCgCAc7fTAClwooBJMVnKSzOBm4+FovMLDMeax5o+XlsQioq+t1alLlwauNRKFBAgeRrQMQ0wKc8EHrb24XMWcA/i5oX8MgsRgEK2FmA8zcTQKmQYwBJ8d238G8XEtD/0714MiQQ7/VvDDc+LVx02DyydQK/bwRWPwuIt9W8fgIoUda6ctyLAhTQnQDnbyaAUkHJAJLiu2/hTyJOY9a2U3g0uBLmDM55EwQ3CigVEJd+vxsLNOgPVMt5Cws3ClDAmAKcv5kASkUuA0iK74GF90dfR6C/N3gZ+IFU3IECFKAABWwQ4PzNBNCGcLl3VwaQFB8LU4ACFKAABZQIcP5mAigVeAwgKT4WpgAFKEABCigR4PzNBFAq8BhAUnwsTAEKUIACFFAiwPmbCaBU4DGApPhYmAIUoAAFKKBEgPM3E0CpwGMASfGxMAUoQAEKUECJAOdvJoBSgccAkuJjYQpQgAIUoIASAc7fTAClAo8BJMXHwhSgAAUoQAElApy/mQBKBR4DSIqPhSlAAQpQgAJKBDh/MwGUCjwGkBQfC1OAAhSgAAWUCHD+ZgIoFXgMICk+FqYABShAAQooEeD8zQRQKvAYQFJ8LEwBClCAAhRQIsD5mwmgVOAxgKT4WJgCFKAABSigRIDzNxNAqcBjAEnxsTAFKEABClBAiQDnbyaAUoHHAJLiY2EKUIACFKCAEgHO30wApQKPASTFx8IUoAAFKEABJQKcv5kASgUeA0iKj4UpQAEKUIACSgQ4fzMBlAo8BpAUHwtTgAIUoAAFlAhw/mYCKBV4DCApPhamAAUoQAEKKBHg/M0EUCrwGEBSfCxMAQpQgAIUUCLA+ZsJoFTgMYCk+FiYAhSgAAUooESA8zcTQKnAYwBJ8bEwBShAAQpQQIkA528mgFKBxwCS4mNhClCAAhSggBIBzt9MAKUCjwEkxcfCFKAABShAASUCnL+ZAEoFHgNIio+FKUABClCAAkoEOH8zAZQKPAaQFB8LU4ACFKAABZQIcP5mAigVeAwgKT4WpgAFKEABCigR4PzNBFAq8BhAUnwsTAEKUIACFFAiwPmbCaBU4DGApPhYmAIUoAAFKKBEgPM3E0CpwGMASfGxMAUoQAEKUECJAOdvJoBSgccAkuJjYQpQgAIUoIASAc7fTAClAo8BJMXHwhSgAAUoQAElApy/mQBKBR4DSIqPhSlAAQpQgAJKBDh/MwGUCjwGkBQfC1OAAhSgAAWUCHD+dpAE8Pr16xg1ahQ2bdoEV1dXPP7445gzZw58fHzyDazQ0FDs2rXrjt+/8sorWLBggdXByACymoo7UoACFKAABXQjwPnbQRLAXr16ITY2FuHh4cjMzMSwYcPQsmVLLF++/L4JYJ06dTB16lTLPsWLF4evr6/VAcoAspqKO1KAAhSgAAV0I8D52wESwJMnT6JBgwbYv38/QkJCtODaunUrevfujQsXLqBSpUp5Bpw4AxgcHIywsLACByQDqMB0LEgBClCAAhRQJsD52wESwK+//hpvvPEGbty4YQkkk8kELy8vrFmzBgMGDMg3ATxx4gSys7NRoUIFPPLII3j77bchzgJauzGArJXifhSgAAUoQAH9CHD+doAEcPr06Vi8eDFOnTp1R2QFBARgypQpGD58eJ4R9/nnn6Nq1araGcJjx47hzTffRKtWrbBu3bp8IzQ9PR3iX+4mAigoKAgJCQk2XTrWz0eALaEABShAAQo4nwATQB0ngOPGjcPMmTPvG5Xi8q9I2AqSAN594B9//BFdu3bF6dOnUbNmzTzrnTx5spZU3r0xAXS+Px7sMQUoQAEKGFeACaCOE8CrV68iLi7uvtFVo0YNLFu2rECXgO8+cHJysvbUsLh/sEePHnnWyzOAxv2ws+UUoAAFKECB26/g+fn5OfUVPJdscROcgbfch0AOHDiAFi1aaD35/vvv0bNnz/s+BHJ3l/fu3YsOHTrg6NGjaNKkiVUi/AZhFRN3ogAFKEABCuhKgPO3js8A2hIpYhmYy5cva2v45S4DI54Izl0G5uLFi9rl3SVLlmj3+Z05c0b7nXhSuEyZMto9gK+//joCAwPvWRvwfu1gANkyStyXAhSgAAUooA8Bzt8OkgCKhaBHjhx5x0LQc+fOtSwEHR0djerVqyMiIgJi+Zfz58/jmWeewfHjxyEu/YoHOcTTwhMnTrTpYQ4GkD4+yGwFBShAAQpQwBYBzt8OkgDaMuiFuS8DqDA1eSwKUIACFKCAfQQ4fzMBlIo0BpAUHwtTgAIUoAAFlAhw/mYCKBV4DCApPhamAAUoQAEKKBHg/M0EUCrwGEBSfCxMAQpQgAIUUCLA+ZsJoFTgMYCk+FiYAhSgAAUooESA8zcTQKnAYwBJ8bEwBShAAQpQQIkA528mgFKBxwCS4mNhClCAAhSggBIBzt9MAKUCjwEkxcfCFKAABShAASUCnL+ZAEoFHgNIio+FKUABClCAAkoEOH8zAZQKPAaQFB8LU4ACFKAABZQIcP5mAigVeAwgKT4WpgAFKEABCigR4PzNBFAq8BhAUnwsTAEKUIACFFAiwPmbCaBU4DGApPhYmAIUoAAFKKBEgPM3E0CpwGMASfGxMAUoQAEKUECJAOdvJoBSgccAkuJjYQpQgAIUoIASAc7fTAClAo8BJMXHwhSgAAUoQAElApy/mQBKBR4DSIqPhSlAAQpQgAJKBDh/MwGUCjwGkBQfC1OAAhSgAAWUCHD+ZgIoFXgMICk+FqYABShAAQooEeD8zQRQKvAYQFJ8LEwBClCAAhRQIsD5mwmgVOAxgKT4WJgCFKAABSigRIDzNxNAqcBjAEnxsTAFKEABClBAiQDnbyaAUoHHAJLiY2EKUIACFKCAEgHO30wApQKPASTFx8IUoAAFKEABJQKcv5kASgVeQkICSpUqhfPnz8PX11fqWCxMAQpQgAIUoIB9BEQCGBQUhPj4ePj5+dmnUp3V4pKdnZ2tszYZpjkXLlzQAogbBShAAQpQgALGExAncAIDA43X8EJoMRNACUSz2YyYmBiULFkSLi4uEkdyzKK537B4hlTt+HIc1Prn1s5x4DjoQ0AfrVD9eRDnvpKSklCpUiW4urrqA8XOrWACaGdwZ6qO91joY7Q5DhwHfQjooxX8PHAc9CGgvhVMANWPgcO2gH9o9TG0HAeOgz4E9NEKfh44DvoQUN8KJoDqx8BhW8A/tPoYWo4Dx0EfAvpoBT8PHAd9CKhvBRNA9WPgsC1IT0/HjBkzMH78eHh6ejpsP/XeMY6DPkaI48Bx0IeAPlrBz4P6cWACqH4M2AIKUIACFKAABShgVwEmgHblZmUUoAAFKEABClBAvQATQPVjwBZQgAIUoAAFKEABuwowAbQrNyujAAUoQAEKUIAC6gWYAKofA7aAAhSgAAUoQAEK2FWACaBduZ23smnTpmHLli04cuQIPDw8tPcvcit6gU8++QSzZs3CpUuX0LRpU8ybNw+tWrUq+opZg0Vg9+7d2hgcPHgQsbGx+Oabb9C/f38K2VFArEawbt06REVFwdvbG+3atcPMmTNRt25dO7aCVQmBzz77TPsXHR2tgTRs2BDvvPMOevXqRSA7CzABtDO4s1Y3adIklCpVCuL9yV999RUTQDsEwqpVqzB06FAsWLAArVu3RlhYGNasWYNTp04hICDADi1gFULgu+++w969e9GiRQs89thjTAAVhEXPnj0xePBgtGzZEiaTCRMmTMDx48fx+++/o0SJEgpa5LxVbtq0CW5ubqhduzbE69gWL16sfUE6fPiwlgxys58AE0D7WbMmAIsWLcLo0aOZANohGkTSJya8+fPna7WJd1cHBQVh1KhRGDdunB1awCruFhDvDOcZQPVxcfXqVe1L0K5du9CxY0f1DXLyFpQuXVpLAl988UUnl7Bv95kA2tfb6WtjAmifEMjIyEDx4sWxdu3aOy43Pvfcc1ryvWHDBvs0hLXcIcAEUB8Bcfr0ae0M1G+//YZGjRrpo1FO2IqsrCztqoT4uyTOADZo0MAJFdR1mQmgOnunrJkJoH2GPSYmBpUrV0ZkZCTatm1rqXTs2LHaWY99+/bZpyGshQmgzmJAnAnv16+f9kXop59+0lnrnKM5IvEWf5fS0tLg4+OD5cuXo3fv3s7ReR31kgmgjgbDaE0RlxHFjdT3206ePIl69epZdmECaJ9RZgJoH2dba+EZQFvFCn//4cOHa/dliuQvMDCw8CvgER8oIK5QnDt3DgkJCdpVii+//FL7YsozgA+kK9QdmAAWKqdzHUzcRxMXF3ffTteoUUN76jd3YwJonxjhJWD7ONtaCxNAW8UKd/+RI0dqtz+IJ7OrV69euAfn0Qos0K1bN9SsWRPh4eEFPgYL2i7ABNB2M5aQEGACKIFnY1HxEIhY8kUs/SI2cemrSpUqEJMgHwKxEbOQdmcCWEiQNh5GPG0qHn4SD+Ds3LlTu/+Pm34EunTpov1tEvMDN/sJMAG0n7VT1yRO91+/fh0bN27Unvbas2eP5lGrVi3tHhBuhS8gloERN1eLb9UiERTLwKxevVpbC618+fKFXyGPmKfAzZs3IR46EFuzZs0we/ZsdO7cGeLJRzHpcSt6gREjRmj3mYmzf7ev/efn56etC8jNfgLjx4/X1vwTsZ+UlKSNi7iVaNu2bejevbv9GsKawASQQWAXgeeff15b7+nuLSIiAqGhoXZpgzNWIpaAyV0IOjg4GHPnztXWBORmPwFxxkkkfHdvIjnnGQ/7jIM485rXtnDhQoi/TdzsJyCWetmxY4e2KLpIwJs0aYI333yTyZ/9hsBSExNABeiskgIUoAAFKEABCqgUYAKoUp91U4ACFKAABShAAQUCTAAVoLNKClCAAhSgAAUooFKACaBKfdZNAQpQgAIUoAAFFAgwAVSAziopQAEKUIACFKCASgEmgCr1WTcFKEABClCAAhRQIMAEUAE6q6QABShAAQpQgAIqBZgAqtRn3RSgAAUoQAEKUECBABNABeiskgIUoAAFKEABCqgUYAKoUp91U4ACFKAABShAAQUCTAAVoLNKClCAAhSgAAUooFKACaBKfdZNAQpQgAIUoAAFFAgwAVSAziopQAEKUIACFKCASgEmgCr1WTcFKEABClCAAhRQIMAEUAE6q6QABShAAQpQgAIqBZgAqtRn3RSgAAUoQAEKUECBABNABeiskgIUoAAFKEABCqgUYAKoUp91U4ACFKAABShAAQUCTAAVoLNKClCAAhSgAAUooFKACaBKfdZNAQpQgAIUoAAFFAgwAVSAziopQAEKUIACFKCASgEmgCr1WTcFKEABClCAAhRQIMAEUAE6q6QABShAAQpQgAIqBZgAqtRn3RSgAAUoQAEKUECBABNABeiskgIUoAAFKEABCqgUYAKoUp91U4ACFKAABShAAQUCTAAVoLNKClCAAhSgAAUooFKACaBKfdZNAQpQgAIUoAAFFAgwAVSAziopQAEKUIACFKCASgEmgCr1WTcFKEABClCAAhRQIMAEUAE6q6QABShAAQpQgAIqBZgAqtRn3RSgAAUoQAEKUECBwP8DueEJP49dgHwAAAAASUVORK5CYII=\" width=\"640\">"
      ],
      "text/plain": [
       "<IPython.core.display.HTML object>"
      ]
     },
     "metadata": {},
     "output_type": "display_data"
    },
    {
     "data": {
      "text/plain": [
       "(-1.7299018246388964,\n",
       " 3.3279383174168227,\n",
       " -0.21751211537659884,\n",
       " 2.367754422908576)"
      ]
     },
     "execution_count": 48,
     "metadata": {},
     "output_type": "execute_result"
    }
   ],
   "source": [
    "fig, ax = plt.subplots()\n",
    "scene.plot(ax, ray_kwargs={\"lw\":0.7}, m_quiver=True)\n",
    "ax.axis(\"equal\")"
   ]
  },
  {
   "cell_type": "code",
   "execution_count": 49,
   "metadata": {},
   "outputs": [
    {
     "data": {
      "text/plain": [
       "array([[-0.00195842,  0.00113069],\n",
       "       [-0.00163917,  0.00094638],\n",
       "       [-0.00141077,  0.00081451],\n",
       "       [-0.00123881,  0.00071523],\n",
       "       [-0.00110445,  0.00063765],\n",
       "       [ 0.00124731,  0.00072014],\n",
       "       [ 0.00103711,  0.00059878],\n",
       "       [ 0.00088894,  0.00051323],\n",
       "       [ 0.00077839,  0.0004494 ],\n",
       "       [ 0.00069253,  0.00039983],\n",
       "       [ 0.00195842, -0.00113069],\n",
       "       [ 0.00163917, -0.00094638],\n",
       "       [ 0.00141077, -0.00081451],\n",
       "       [ 0.00123881, -0.00071523],\n",
       "       [ 0.00110445, -0.00063765],\n",
       "       [-0.00124731, -0.00072014],\n",
       "       [-0.00103711, -0.00059878],\n",
       "       [-0.00088894, -0.00051323],\n",
       "       [-0.00077839, -0.0004494 ],\n",
       "       [-0.00069253, -0.00039983]])"
      ]
     },
     "execution_count": 49,
     "metadata": {},
     "output_type": "execute_result"
    }
   ],
   "source": [
    "scene.momenta"
   ]
  },
  {
   "cell_type": "code",
   "execution_count": 50,
   "metadata": {},
   "outputs": [
    {
     "data": {
      "text/plain": [
       "array([[-0.00195842,  0.00113069],\n",
       "       [-0.00163917,  0.00094638],\n",
       "       [-0.00141077,  0.00081451],\n",
       "       [-0.00123881,  0.00071523],\n",
       "       [-0.00110445,  0.00063765],\n",
       "       [ 0.00124731,  0.00072014],\n",
       "       [ 0.00103711,  0.00059878],\n",
       "       [ 0.00088894,  0.00051323],\n",
       "       [ 0.00077839,  0.0004494 ],\n",
       "       [ 0.00069253,  0.00039983]])"
      ]
     },
     "execution_count": 50,
     "metadata": {},
     "output_type": "execute_result"
    }
   ],
   "source": [
    "prism1.momenta"
   ]
  },
  {
   "cell_type": "code",
   "execution_count": 51,
   "metadata": {},
   "outputs": [
    {
     "data": {
      "text/plain": [
       "array([[ 0.00195842, -0.00113069],\n",
       "       [ 0.00163917, -0.00094638],\n",
       "       [ 0.00141077, -0.00081451],\n",
       "       [ 0.00123881, -0.00071523],\n",
       "       [ 0.00110445, -0.00063765],\n",
       "       [-0.00124731, -0.00072014],\n",
       "       [-0.00103711, -0.00059878],\n",
       "       [-0.00088894, -0.00051323],\n",
       "       [-0.00077839, -0.0004494 ],\n",
       "       [-0.00069253, -0.00039983]])"
      ]
     },
     "execution_count": 51,
     "metadata": {},
     "output_type": "execute_result"
    }
   ],
   "source": [
    "prism2.momenta"
   ]
  },
  {
   "cell_type": "code",
   "execution_count": 52,
   "metadata": {},
   "outputs": [
    {
     "data": {
      "text/plain": [
       "array([-0.00270734,  0.00692584])"
      ]
     },
     "execution_count": 52,
     "metadata": {},
     "output_type": "execute_result"
    }
   ],
   "source": [
    "prism1.momentum"
   ]
  },
  {
   "cell_type": "code",
   "execution_count": 53,
   "metadata": {},
   "outputs": [
    {
     "data": {
      "text/plain": [
       "array([ 0.00270734, -0.00692584])"
      ]
     },
     "execution_count": 53,
     "metadata": {},
     "output_type": "execute_result"
    }
   ],
   "source": [
    "prism2.momentum"
   ]
  },
  {
   "cell_type": "code",
   "execution_count": 57,
   "metadata": {},
   "outputs": [
    {
     "data": {
      "text/plain": [
       "array([ 3.03576608e-18, -6.50521303e-19])"
      ]
     },
     "execution_count": 57,
     "metadata": {},
     "output_type": "execute_result"
    }
   ],
   "source": [
    "scene.momentum"
   ]
  },
  {
   "cell_type": "code",
   "execution_count": 56,
   "metadata": {},
   "outputs": [
    {
     "data": {
      "text/plain": [
       "array([-4.33680869e-19,  8.67361738e-19])"
      ]
     },
     "execution_count": 56,
     "metadata": {},
     "output_type": "execute_result"
    }
   ],
   "source": [
    "scene.momentum - prism1.momentum - prism2.momentum"
   ]
  },
  {
   "cell_type": "code",
   "execution_count": null,
   "metadata": {},
   "outputs": [],
   "source": []
  }
 ],
 "metadata": {
  "kernelspec": {
   "display_name": "UROP20",
   "language": "python",
   "name": "urop20"
  },
  "language_info": {
   "codemirror_mode": {
    "name": "ipython",
    "version": 3
   },
   "file_extension": ".py",
   "mimetype": "text/x-python",
   "name": "python",
   "nbconvert_exporter": "python",
   "pygments_lexer": "ipython3",
   "version": "3.7.7"
  }
 },
 "nbformat": 4,
 "nbformat_minor": 4
}
