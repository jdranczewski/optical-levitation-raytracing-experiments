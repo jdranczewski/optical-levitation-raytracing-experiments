{
 "cells": [
  {
   "cell_type": "code",
   "execution_count": 35,
   "metadata": {},
   "outputs": [],
   "source": [
    "import numpy as np"
   ]
  },
  {
   "cell_type": "code",
   "execution_count": 48,
   "metadata": {},
   "outputs": [
    {
     "data": {
      "text/plain": [
       "<module 'two_d_tracer' from '/home/jdranczewski/Documents/Imperial/UROP20/optical-levitation-raytracing-experiments/two_d_tracer.py'>"
      ]
     },
     "execution_count": 48,
     "metadata": {},
     "output_type": "execute_result"
    }
   ],
   "source": [
    "import importlib\n",
    "import two_d_tracer\n",
    "importlib.reload(two_d_tracer)"
   ]
  },
  {
   "cell_type": "code",
   "execution_count": 49,
   "metadata": {},
   "outputs": [],
   "source": [
    "scene = two_d_tracer.Scene([two_d_tracer.Ray([-5, y], [1,0]) for y in np.linspace(-2.5,2.5, 6)], [two_d_tracer.Mirror([0,0],[-1,0])])"
   ]
  },
  {
   "cell_type": "code",
   "execution_count": 50,
   "metadata": {},
   "outputs": [
    {
     "data": {
      "text/plain": [
       "[Ray([-5.  -2.5], [1 0]),\n",
       " Ray([-5.  -1.5], [1 0]),\n",
       " Ray([-5.  -0.5], [1 0]),\n",
       " Ray([-5.   0.5], [1 0]),\n",
       " Ray([-5.   1.5], [1 0]),\n",
       " Ray([-5.   2.5], [1 0])]"
      ]
     },
     "execution_count": 50,
     "metadata": {},
     "output_type": "execute_result"
    }
   ],
   "source": [
    "scene.rays"
   ]
  },
  {
   "cell_type": "code",
   "execution_count": 52,
   "metadata": {},
   "outputs": [
    {
     "name": "stdout",
     "output_type": "stream",
     "text": [
      "5.0\n",
      "[ 0.  -2.5] <two_d_tracer.Mirror object at 0x7f3ce4f86650>\n",
      "5.0\n",
      "[ 0.  -1.5] <two_d_tracer.Mirror object at 0x7f3ce4f86650>\n",
      "5.0\n",
      "[ 0.  -0.5] <two_d_tracer.Mirror object at 0x7f3ce4f86650>\n",
      "5.0\n",
      "[0.  0.5] <two_d_tracer.Mirror object at 0x7f3ce4f86650>\n",
      "5.0\n",
      "[0.  1.5] <two_d_tracer.Mirror object at 0x7f3ce4f86650>\n",
      "5.0\n",
      "[0.  2.5] <two_d_tracer.Mirror object at 0x7f3ce4f86650>\n"
     ]
    }
   ],
   "source": [
    "scene.step()"
   ]
  },
  {
   "cell_type": "code",
   "execution_count": null,
   "metadata": {},
   "outputs": [],
   "source": []
  }
 ],
 "metadata": {
  "kernelspec": {
   "display_name": "UROP20",
   "language": "python",
   "name": "urop20"
  },
  "language_info": {
   "codemirror_mode": {
    "name": "ipython",
    "version": 3
   },
   "file_extension": ".py",
   "mimetype": "text/x-python",
   "name": "python",
   "nbconvert_exporter": "python",
   "pygments_lexer": "ipython3",
   "version": "3.7.7"
  }
 },
 "nbformat": 4,
 "nbformat_minor": 4
}
