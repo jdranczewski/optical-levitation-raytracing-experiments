{
 "cells": [
  {
   "cell_type": "code",
   "execution_count": 1,
   "metadata": {},
   "outputs": [],
   "source": [
    "import numpy as np\n",
    "import matplotlib.pyplot as plt"
   ]
  },
  {
   "cell_type": "code",
   "execution_count": 2,
   "metadata": {},
   "outputs": [],
   "source": [
    "rad = lambda x: x/180*np.pi"
   ]
  },
  {
   "cell_type": "code",
   "execution_count": 127,
   "metadata": {},
   "outputs": [
    {
     "data": {
      "text/plain": [
       "<module 'two_d_tracer' from '/home/jdranczewski/Documents/Imperial/UROP20/optical-levitation-raytracing-experiments/two_d_tracer.py'>"
      ]
     },
     "execution_count": 127,
     "metadata": {},
     "output_type": "execute_result"
    }
   ],
   "source": [
    "import importlib\n",
    "import two_d_tracer\n",
    "importlib.reload(two_d_tracer)"
   ]
  },
  {
   "cell_type": "markdown",
   "metadata": {
    "heading_collapsed": true
   },
   "source": [
    "# Mirrors"
   ]
  },
  {
   "cell_type": "code",
   "execution_count": 405,
   "metadata": {
    "hidden": true
   },
   "outputs": [],
   "source": [
    "scene = two_d_tracer.Scene([two_d_tracer.Ray([-10, y], [1,0]) for y in np.linspace(-2.5,2.5, 5)],\n",
    "                           [two_d_tracer.Mirror([0,0],[-np.cos(rad(45/2)),-np.sin(rad(45/2))]),\n",
    "                           two_d_tracer.Mirror([0,-5], [0,1])])"
   ]
  },
  {
   "cell_type": "code",
   "execution_count": 406,
   "metadata": {
    "hidden": true
   },
   "outputs": [
    {
     "data": {
      "text/plain": [
       "[Ray([-10.   -2.5], [1. 0.]),\n",
       " Ray([-10.    -1.25], [1. 0.]),\n",
       " Ray([-10.   0.], [1. 0.]),\n",
       " Ray([-10.     1.25], [1. 0.]),\n",
       " Ray([-10.    2.5], [1. 0.])]"
      ]
     },
     "execution_count": 406,
     "metadata": {},
     "output_type": "execute_result"
    }
   ],
   "source": [
    "scene.rays"
   ]
  },
  {
   "cell_type": "code",
   "execution_count": 413,
   "metadata": {
    "hidden": true
   },
   "outputs": [],
   "source": [
    "scene.step()\n",
    "scene.step()\n",
    "scene.step()\n",
    "# scene.propagate(3)"
   ]
  },
  {
   "cell_type": "code",
   "execution_count": 414,
   "metadata": {
    "hidden": true
   },
   "outputs": [
    {
     "data": {
      "text/plain": [
       "(-11.98393577750951, 1.6555086527633227, -5.375, 2.875)"
      ]
     },
     "execution_count": 414,
     "metadata": {},
     "output_type": "execute_result"
    },
    {
     "data": {
      "image/png": "[encoded data removed]",
      "text/plain": [
       "<Figure size 432x288 with 1 Axes>"
      ]
     },
     "metadata": {
      "needs_background": "light"
     },
     "output_type": "display_data"
    }
   ],
   "source": [
    "fig, ax = plt.subplots()\n",
    "\n",
    "for ray in scene.rays:\n",
    "    ax.plot(ray.history[:,0], ray.history[:,1])\n",
    "    \n",
    "ax.axis(\"equal\")"
   ]
  },
  {
   "cell_type": "code",
   "execution_count": 412,
   "metadata": {
    "hidden": true
   },
   "outputs": [
    {
     "data": {
      "text/plain": [
       "[True, True, True, True, True]"
      ]
     },
     "execution_count": 412,
     "metadata": {},
     "output_type": "execute_result"
    }
   ],
   "source": [
    "[ray.done for ray in scene.rays]"
   ]
  },
  {
   "cell_type": "markdown",
   "metadata": {
    "heading_collapsed": true
   },
   "source": [
    "# Refracting surfaces"
   ]
  },
  {
   "cell_type": "code",
   "execution_count": 111,
   "metadata": {
    "hidden": true
   },
   "outputs": [],
   "source": [
    "sc_dsc = {\n",
    "    \"rays\": [two_d_tracer.Ray([-10, y], [1,0]) for y in np.linspace(-2.5,2.5, 5)],\n",
    "    \"objects\": [two_d_tracer.RefractiveSurface([0,0], [-1, -1], 1, 1.5)]\n",
    "}\n",
    "scene = two_d_tracer.Scene(**sc_dsc)"
   ]
  },
  {
   "cell_type": "code",
   "execution_count": 112,
   "metadata": {
    "hidden": true,
    "scrolled": false
   },
   "outputs": [
    {
     "name": "stdout",
     "output_type": "stream",
     "text": [
      "0.7071067811865475\n",
      "0.7071067811865475\n",
      "0.7071067811865475\n",
      "0.7071067811865475\n",
      "0.7071067811865475\n"
     ]
    }
   ],
   "source": [
    "scene.step()\n",
    "scene.propagate(1e-14)\n",
    "scene.step()"
   ]
  },
  {
   "cell_type": "code",
   "execution_count": 113,
   "metadata": {
    "hidden": true
   },
   "outputs": [
    {
     "data": {
      "text/plain": [
       "(-10.672847144889783,\n",
       " 4.129790042685448,\n",
       " -2.7645138115564496,\n",
       " 3.054790042685443)"
      ]
     },
     "execution_count": 113,
     "metadata": {},
     "output_type": "execute_result"
    },
    {
     "data": {
      "image/png": "[encoded data removed]",
      "text/plain": [
       "<Figure size 432x288 with 1 Axes>"
      ]
     },
     "metadata": {
      "needs_background": "light"
     },
     "output_type": "display_data"
    }
   ],
   "source": [
    "fig, ax = plt.subplots()\n",
    "\n",
    "for ray in scene.rays:\n",
    "    ax.plot(ray.history[:,0], ray.history[:,1])\n",
    "    \n",
    "ax.axis(\"equal\")"
   ]
  },
  {
   "cell_type": "code",
   "execution_count": 114,
   "metadata": {
    "hidden": true
   },
   "outputs": [
    {
     "data": {
      "text/plain": [
       "[Ray([ 3.4569429  -2.20972377], [0.9569429  0.29027623]),\n",
       " Ray([ 2.2069429  -0.95972377], [0.9569429  0.29027623]),\n",
       " Ray([0.9569429  0.29027623], [0.9569429  0.29027623]),\n",
       " Ray([-0.2930571   1.54027623], [0.9569429  0.29027623]),\n",
       " Ray([-1.5430571   2.79027623], [0.9569429  0.29027623])]"
      ]
     },
     "execution_count": 114,
     "metadata": {},
     "output_type": "execute_result"
    }
   ],
   "source": [
    "scene.rays"
   ]
  },
  {
   "cell_type": "code",
   "execution_count": 115,
   "metadata": {
    "hidden": true
   },
   "outputs": [
    {
     "data": {
      "text/plain": [
       "0.2945154851081369"
      ]
     },
     "execution_count": 115,
     "metadata": {},
     "output_type": "execute_result"
    }
   ],
   "source": [
    "scene.rays[0].angle"
   ]
  },
  {
   "cell_type": "code",
   "execution_count": 116,
   "metadata": {
    "hidden": true
   },
   "outputs": [
    {
     "data": {
      "text/plain": [
       "0.29451548510813697"
      ]
     },
     "execution_count": 116,
     "metadata": {},
     "output_type": "execute_result"
    }
   ],
   "source": [
    "# Compare to Snell's (algebra in Xournal)\n",
    "rad(45) - np.arcsin(1/1.5*np.sin(rad(45)))"
   ]
  },
  {
   "cell_type": "markdown",
   "metadata": {},
   "source": [
    "# A glass slab"
   ]
  },
  {
   "cell_type": "code",
   "execution_count": 128,
   "metadata": {},
   "outputs": [],
   "source": [
    "sc_dsc = {\n",
    "    \"rays\": [two_d_tracer.Ray([-5, y], [1,-0.5]) for y in np.linspace(-2.5,2.5, 5)],\n",
    "    \"objects\": [two_d_tracer.RefractiveSurface([0,0], [-1, 0], 1, 1.5),\n",
    "                two_d_tracer.RefractiveSurface([2,0], [1, 0], 1, 1.5)]\n",
    "}\n",
    "scene = two_d_tracer.Scene(**sc_dsc)"
   ]
  },
  {
   "cell_type": "code",
   "execution_count": 129,
   "metadata": {},
   "outputs": [
    {
     "data": {
      "text/plain": [
       "-0.4636476090008061"
      ]
     },
     "execution_count": 129,
     "metadata": {},
     "output_type": "execute_result"
    }
   ],
   "source": [
    "scene.rays[0].angle"
   ]
  },
  {
   "cell_type": "code",
   "execution_count": 130,
   "metadata": {},
   "outputs": [
    {
     "name": "stdout",
     "output_type": "stream",
     "text": [
      "-0.30274595162300433\n"
     ]
    }
   ],
   "source": [
    "scene.step()\n",
    "scene.propagate(1e-14)\n",
    "print(scene.rays[0].angle)\n",
    "scene.step()\n",
    "scene.propagate(1e-14)\n",
    "scene.step()"
   ]
  },
  {
   "cell_type": "code",
   "execution_count": 131,
   "metadata": {},
   "outputs": [
    {
     "data": {
      "text/plain": [
       "(-5.3947213595499965,\n",
       " 3.289148550549921,\n",
       " -6.500504075207105,\n",
       " 2.9285954321527194)"
      ]
     },
     "execution_count": 131,
     "metadata": {},
     "output_type": "execute_result"
    },
    {
     "data": {
      "image/png": "[encoded data removed]",
      "text/plain": [
       "<Figure size 432x288 with 1 Axes>"
      ]
     },
     "metadata": {
      "needs_background": "light"
     },
     "output_type": "display_data"
    }
   ],
   "source": [
    "fig, ax = plt.subplots()\n",
    "\n",
    "for ray in scene.rays:\n",
    "    ax.plot(ray.history[:,0], ray.history[:,1])\n",
    "    \n",
    "ax.axis(\"equal\")"
   ]
  },
  {
   "cell_type": "code",
   "execution_count": 121,
   "metadata": {},
   "outputs": [
    {
     "data": {
      "text/plain": [
       "-0.463647609000806"
      ]
     },
     "execution_count": 121,
     "metadata": {},
     "output_type": "execute_result"
    }
   ],
   "source": [
    "scene.rays[0].angle"
   ]
  },
  {
   "cell_type": "markdown",
   "metadata": {},
   "source": [
    "# Retroreflector"
   ]
  },
  {
   "cell_type": "code",
   "execution_count": 142,
   "metadata": {},
   "outputs": [],
   "source": [
    "sc_dsc = {\n",
    "    \"rays\": [two_d_tracer.Ray([-5, y], [1,0]) for y in np.linspace(0.1,2.5, 5)],\n",
    "    \"objects\": [two_d_tracer.RefractiveSurface([0,2], [1, 1], 1, 1.5),\n",
    "                two_d_tracer.RefractiveSurface([0,-2], [1, -1], 1, 1.5)]\n",
    "}\n",
    "scene = two_d_tracer.Scene(**sc_dsc)"
   ]
  },
  {
   "cell_type": "code",
   "execution_count": 143,
   "metadata": {},
   "outputs": [
    {
     "name": "stdout",
     "output_type": "stream",
     "text": [
      "TIR!\n",
      "TIR!\n",
      "TIR!\n",
      "TIR!\n",
      "TIR!\n",
      "TIR!\n",
      "TIR!\n",
      "TIR!\n",
      "TIR!\n",
      "TIR!\n"
     ]
    }
   ],
   "source": [
    "scene.step()\n",
    "scene.propagate(1e-14)\n",
    "scene.step()\n",
    "scene.propagate(1e-14)\n",
    "scene.step()"
   ]
  },
  {
   "cell_type": "code",
   "execution_count": 144,
   "metadata": {},
   "outputs": [
    {
     "data": {
      "text/plain": [
       "(-5.345, 2.244999999999999, -2.7499999999999987, 2.75)"
      ]
     },
     "execution_count": 144,
     "metadata": {},
     "output_type": "execute_result"
    },
    {
     "data": {
      "image/png": "[encoded data removed]",
      "text/plain": [
       "<Figure size 432x288 with 1 Axes>"
      ]
     },
     "metadata": {
      "needs_background": "light"
     },
     "output_type": "display_data"
    }
   ],
   "source": [
    "fig, ax = plt.subplots()\n",
    "\n",
    "for ray in scene.rays:\n",
    "    ax.plot(ray.history[:,0], ray.history[:,1])\n",
    "    \n",
    "ax.axis(\"equal\")"
   ]
  },
  {
   "cell_type": "code",
   "execution_count": 145,
   "metadata": {},
   "outputs": [
    {
     "data": {
      "text/plain": [
       "[Ray([ 0.9 -0.1], [-1.  0.]),\n",
       " Ray([ 0.3 -0.7], [-1.  0.]),\n",
       " Ray([-0.3 -1.3], [-1.  0.]),\n",
       " Ray([-0.9 -1.9], [-1.  0.]),\n",
       " Ray([-1.5 -2.5], [-1.  0.])]"
      ]
     },
     "execution_count": 145,
     "metadata": {},
     "output_type": "execute_result"
    }
   ],
   "source": [
    "scene.rays"
   ]
  },
  {
   "cell_type": "code",
   "execution_count": null,
   "metadata": {},
   "outputs": [],
   "source": []
  }
 ],
 "metadata": {
  "kernelspec": {
   "display_name": "UROP20",
   "language": "python",
   "name": "urop20"
  },
  "language_info": {
   "codemirror_mode": {
    "name": "ipython",
    "version": 3
   },
   "file_extension": ".py",
   "mimetype": "text/x-python",
   "name": "python",
   "nbconvert_exporter": "python",
   "pygments_lexer": "ipython3",
   "version": "3.7.7"
  }
 },
 "nbformat": 4,
 "nbformat_minor": 4
}
