{
 "cells": [
  {
   "cell_type": "code",
   "execution_count": 1,
   "metadata": {},
   "outputs": [],
   "source": [
    "import sympy"
   ]
  },
  {
   "cell_type": "code",
   "execution_count": 26,
   "metadata": {},
   "outputs": [],
   "source": [
    "a, b, c, x, P_y, P_x, D_y, D_x, l = sympy.symbols(\"a, b, c, x, P_y, P_x, D_y, D_x, l\".replace(\",\",\"\"))"
   ]
  },
  {
   "cell_type": "code",
   "execution_count": 27,
   "metadata": {},
   "outputs": [
    {
     "data": {
      "text/latex": [
       "$\\displaystyle x$"
      ],
      "text/plain": [
       "x"
      ]
     },
     "execution_count": 27,
     "metadata": {},
     "output_type": "execute_result"
    }
   ],
   "source": [
    "x"
   ]
  },
  {
   "cell_type": "code",
   "execution_count": 28,
   "metadata": {},
   "outputs": [
    {
     "data": {
      "text/latex": [
       "$\\displaystyle \\left\\{\\left( \\frac{- P_{x} - \\frac{D_{x} b - D_{y}}{2 D_{x} a} - \\frac{\\sqrt{4 D_{x}^{2} P_{y} a - 4 D_{x}^{2} a c + D_{x}^{2} b^{2} - 4 D_{x} D_{y} P_{x} a - 2 D_{x} D_{y} b + D_{y}^{2}}}{2 D_{x} a}}{D_{x}}, \\  - \\frac{D_{x} b - D_{y}}{2 D_{x} a} - \\frac{\\sqrt{4 D_{x}^{2} P_{y} a - 4 D_{x}^{2} a c + D_{x}^{2} b^{2} - 4 D_{x} D_{y} P_{x} a - 2 D_{x} D_{y} b + D_{y}^{2}}}{2 D_{x} a}\\right), \\left( \\frac{- P_{x} - \\frac{D_{x} b - D_{y}}{2 D_{x} a} + \\frac{\\sqrt{4 D_{x}^{2} P_{y} a - 4 D_{x}^{2} a c + D_{x}^{2} b^{2} - 4 D_{x} D_{y} P_{x} a - 2 D_{x} D_{y} b + D_{y}^{2}}}{2 D_{x} a}}{D_{x}}, \\  - \\frac{D_{x} b - D_{y}}{2 D_{x} a} + \\frac{\\sqrt{4 D_{x}^{2} P_{y} a - 4 D_{x}^{2} a c + D_{x}^{2} b^{2} - 4 D_{x} D_{y} P_{x} a - 2 D_{x} D_{y} b + D_{y}^{2}}}{2 D_{x} a}\\right)\\right\\}$"
      ],
      "text/plain": [
       "FiniteSet(((-P_x - (D_x*b - D_y)/(2*D_x*a) - sqrt(4*D_x**2*P_y*a - 4*D_x**2*a*c + D_x**2*b**2 - 4*D_x*D_y*P_x*a - 2*D_x*D_y*b + D_y**2)/(2*D_x*a))/D_x, -(D_x*b - D_y)/(2*D_x*a) - sqrt(4*D_x**2*P_y*a - 4*D_x**2*a*c + D_x**2*b**2 - 4*D_x*D_y*P_x*a - 2*D_x*D_y*b + D_y**2)/(2*D_x*a)), ((-P_x - (D_x*b - D_y)/(2*D_x*a) + sqrt(4*D_x**2*P_y*a - 4*D_x**2*a*c + D_x**2*b**2 - 4*D_x*D_y*P_x*a - 2*D_x*D_y*b + D_y**2)/(2*D_x*a))/D_x, -(D_x*b - D_y)/(2*D_x*a) + sqrt(4*D_x**2*P_y*a - 4*D_x**2*a*c + D_x**2*b**2 - 4*D_x*D_y*P_x*a - 2*D_x*D_y*b + D_y**2)/(2*D_x*a)))"
      ]
     },
     "execution_count": 28,
     "metadata": {},
     "output_type": "execute_result"
    }
   ],
   "source": [
    "sympy.nonlinsolve([a*x**2+b*x+c-P_y-l*D_y, P_x+l*D_x-x], [l,x])"
   ]
  },
  {
   "cell_type": "code",
   "execution_count": 29,
   "metadata": {},
   "outputs": [],
   "source": [
    "sol = sympy.solveset(a*(P_x+l*D_x)**2 + b*(P_x+l*D_x) + c - P_y - l*D_y, l)"
   ]
  },
  {
   "cell_type": "code",
   "execution_count": 30,
   "metadata": {},
   "outputs": [
    {
     "data": {
      "text/latex": [
       "$\\displaystyle \\left\\{- \\frac{2 D_{x} P_{x} a + D_{x} b - D_{y}}{2 D_{x}^{2} a} - \\frac{\\sqrt{4 D_{x}^{2} P_{y} a - 4 D_{x}^{2} a c + D_{x}^{2} b^{2} - 4 D_{x} D_{y} P_{x} a - 2 D_{x} D_{y} b + D_{y}^{2}}}{2 D_{x}^{2} a}, - \\frac{2 D_{x} P_{x} a + D_{x} b - D_{y}}{2 D_{x}^{2} a} + \\frac{\\sqrt{4 D_{x}^{2} P_{y} a - 4 D_{x}^{2} a c + D_{x}^{2} b^{2} - 4 D_{x} D_{y} P_{x} a - 2 D_{x} D_{y} b + D_{y}^{2}}}{2 D_{x}^{2} a}\\right\\}$"
      ],
      "text/plain": [
       "FiniteSet(-(2*D_x*P_x*a + D_x*b - D_y)/(2*D_x**2*a) - sqrt(4*D_x**2*P_y*a - 4*D_x**2*a*c + D_x**2*b**2 - 4*D_x*D_y*P_x*a - 2*D_x*D_y*b + D_y**2)/(2*D_x**2*a), -(2*D_x*P_x*a + D_x*b - D_y)/(2*D_x**2*a) + sqrt(4*D_x**2*P_y*a - 4*D_x**2*a*c + D_x**2*b**2 - 4*D_x*D_y*P_x*a - 2*D_x*D_y*b + D_y**2)/(2*D_x**2*a))"
      ]
     },
     "execution_count": 30,
     "metadata": {},
     "output_type": "execute_result"
    }
   ],
   "source": [
    "sol"
   ]
  },
  {
   "cell_type": "code",
   "execution_count": 25,
   "metadata": {},
   "outputs": [
    {
     "data": {
      "text/plain": [
       "'FiniteSet(-(2*D_x*P_x*a + D_x*b - D_y)/(2*D_x**2*a) - sqrt(4*D_x**2*Py*a - 4*D_x**2*a*c + D_x**2*b**2 - 4*D_x*D_y*P_x*a - 2*D_x*D_y*b + D_y**2)/(2*D_x**2*a), -(2*D_x*P_x*a + D_x*b - D_y)/(2*D_x**2*a) + sqrt(4*D_x**2*Py*a - 4*D_x**2*a*c + D_x**2*b**2 - 4*D_x*D_y*P_x*a - 2*D_x*D_y*b + D_y**2)/(2*D_x**2*a))'"
      ]
     },
     "execution_count": 25,
     "metadata": {},
     "output_type": "execute_result"
    }
   ],
   "source": [
    "str(sol)"
   ]
  },
  {
   "cell_type": "code",
   "execution_count": 31,
   "metadata": {},
   "outputs": [],
   "source": [
    "sol = sympy.solveset(a*(P_x)**2 + b*(P_x) + c - P_y - l*D_y, l)"
   ]
  },
  {
   "cell_type": "code",
   "execution_count": 32,
   "metadata": {},
   "outputs": [
    {
     "data": {
      "text/latex": [
       "$\\displaystyle \\left\\{\\frac{P_{x}^{2} a + P_{x} b - P_{y} + c}{D_{y}}\\right\\}$"
      ],
      "text/plain": [
       "FiniteSet((P_x**2*a + P_x*b - P_y + c)/D_y)"
      ]
     },
     "execution_count": 32,
     "metadata": {},
     "output_type": "execute_result"
    }
   ],
   "source": [
    "sol"
   ]
  },
  {
   "cell_type": "code",
   "execution_count": 33,
   "metadata": {},
   "outputs": [
    {
     "data": {
      "text/plain": [
       "'FiniteSet((P_x**2*a + P_x*b - P_y + c)/D_y)'"
      ]
     },
     "execution_count": 33,
     "metadata": {},
     "output_type": "execute_result"
    }
   ],
   "source": [
    "str(sol)"
   ]
  },
  {
   "cell_type": "code",
   "execution_count": null,
   "metadata": {},
   "outputs": [],
   "source": []
  }
 ],
 "metadata": {
  "kernelspec": {
   "display_name": "UROP20",
   "language": "python",
   "name": "urop20"
  },
  "language_info": {
   "codemirror_mode": {
    "name": "ipython",
    "version": 3
   },
   "file_extension": ".py",
   "mimetype": "text/x-python",
   "name": "python",
   "nbconvert_exporter": "python",
   "pygments_lexer": "ipython3",
   "version": "3.7.7"
  }
 },
 "nbformat": 4,
 "nbformat_minor": 4
}
