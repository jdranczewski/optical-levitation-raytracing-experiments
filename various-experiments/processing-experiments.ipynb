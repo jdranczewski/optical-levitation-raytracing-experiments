{
 "cells": [
  {
   "cell_type": "markdown",
   "metadata": {},
   "source": [
    "This Notebook was used to look at making the Scene object process rays in parallel.\n",
    "\n",
    "Created during an Undergraduate Research Experience Programme placement at Imperial College London 2020\n",
    "by Jakub Dranczewski.\n",
    "\n",
    "To contact me, try (in no particular order)\n",
    "* jbd17@ic.ac.uk (unless I left)\n",
    "* jakub.dranczewski@gmail.com\n",
    "* jdranczewski.github.io (there should be an email in the CV)\n",
    "* some other social media platform\n",
    "\n",
    "This code should also be available at https://github.com/jdranczewski/optical-levitation-raytracing-experiments"
   ]
  },
  {
   "cell_type": "code",
   "execution_count": 1,
   "metadata": {},
   "outputs": [],
   "source": [
    "from sys import path\n",
    "path.insert(0,'..')\n",
    "\n",
    "import multiprocessing as mp\n",
    "import numpy as np"
   ]
  },
  {
   "cell_type": "code",
   "execution_count": null,
   "metadata": {},
   "outputs": [],
   "source": [
    "def f(x):\n",
    "    print(x)\n",
    "    return x\n",
    "\n",
    "if __name__ == '__main__':\n",
    "    with mp.Pool(5) as p:\n",
    "        print(p.map(f, np.linspace(0,1,20), 2))"
   ]
  },
  {
   "cell_type": "code",
   "execution_count": null,
   "metadata": {},
   "outputs": [],
   "source": [
    "s = slice(1,3)\n",
    "a = np.arange(0,10,1)"
   ]
  },
  {
   "cell_type": "code",
   "execution_count": null,
   "metadata": {},
   "outputs": [],
   "source": [
    "a[1:3]"
   ]
  },
  {
   "cell_type": "code",
   "execution_count": null,
   "metadata": {},
   "outputs": [],
   "source": [
    "a[s]"
   ]
  },
  {
   "cell_type": "code",
   "execution_count": null,
   "metadata": {},
   "outputs": [],
   "source": [
    "print(s)"
   ]
  },
  {
   "cell_type": "markdown",
   "metadata": {},
   "source": [
    "# Multi Scene"
   ]
  },
  {
   "cell_type": "code",
   "execution_count": 2,
   "metadata": {},
   "outputs": [],
   "source": [
    "import ptracer as pt\n",
    "from importlib import reload\n",
    "%matplotlib notebook\n",
    "import matplotlib.pyplot as plt\n",
    "%load_ext snakeviz"
   ]
  },
  {
   "cell_type": "code",
   "execution_count": 12,
   "metadata": {},
   "outputs": [
    {
     "data": {
      "text/plain": [
       "<module 'ptracer' from '/home/jdranczewski/Documents/Imperial/UROP20/optical-levitation-raytracing-experiments/ptracer.py'>"
      ]
     },
     "execution_count": 12,
     "metadata": {},
     "output_type": "execute_result"
    }
   ],
   "source": [
    "reload(pt)"
   ]
  },
  {
   "cell_type": "code",
   "execution_count": 6,
   "metadata": {},
   "outputs": [],
   "source": [
    "class MultiScene:\n",
    "    def __init__(self, rf, obj, n_threads=5):\n",
    "        self.scenes = []\n",
    "        batch = int(np.ceil(len(rf.origins) / n_threads))\n",
    "        for i in range(n_threads):\n",
    "            rf2 = pt.RayFactory()\n",
    "            s = slice(batch*i, batch*(i+1))\n",
    "            rf2.origins = rf.origins[s]\n",
    "            rf2.dirs = rf.dirs[s]\n",
    "            rf2.weights = rf.weights[s]\n",
    "            rf2.wavelength = rf.wavelength\n",
    "            self.scenes.append(pt.Scene(rf2, obj))"
   ]
  },
  {
   "cell_type": "code",
   "execution_count": null,
   "metadata": {},
   "outputs": [],
   "source": [
    "m = pt.Sphere([1e-6,2e-6,50e-6],5e-6,n_in=1.52, reflective=False)\n",
    "rf = pt.AdaptiveGaussianRF([0,0,0],[0,0,1],3.4e-6,300e-3,300,532,[1e-6,2e-6,-5.1e-6+50e-6],5e-6)\n",
    "ms = MultiScene(rf, [m])"
   ]
  },
  {
   "cell_type": "code",
   "execution_count": null,
   "metadata": {},
   "outputs": [],
   "source": [
    "ps_parts_acc = []\n",
    "for scene in ms.scenes:\n",
    "    scene.run(100)\n",
    "    ps_parts_acc.append(scene.momentum)"
   ]
  },
  {
   "cell_type": "code",
   "execution_count": null,
   "metadata": {},
   "outputs": [],
   "source": [
    "ps_parts_acc"
   ]
  },
  {
   "cell_type": "code",
   "execution_count": null,
   "metadata": {},
   "outputs": [],
   "source": [
    "np.array(ps_parts_acc)[1:] - np.array(ps_parts_acc)[:-1]"
   ]
  },
  {
   "cell_type": "code",
   "execution_count": 31,
   "metadata": {},
   "outputs": [
    {
     "data": {
      "text/plain": [
       "[array([-2.17195583e+13, -1.92580473e+13,  7.54600766e+13]),\n",
       " array([-1.21451837e+13, -4.04899420e+13,  5.79401007e+13]),\n",
       " array([-7.36346146e+13, -1.15044873e+14,  1.69491411e+14]),\n",
       " array([-3.34125967e+13, -9.90494863e+13,  1.29104608e+14]),\n",
       " array([-9.24423757e+13, -1.52660385e+14,  2.48671285e+14])]"
      ]
     },
     "execution_count": 31,
     "metadata": {},
     "output_type": "execute_result"
    }
   ],
   "source": [
    "ps_parts"
   ]
  },
  {
   "cell_type": "code",
   "execution_count": null,
   "metadata": {},
   "outputs": [],
   "source": [
    "np.sum(ps_parts, axis=0)"
   ]
  },
  {
   "cell_type": "markdown",
   "metadata": {},
   "source": [
    "Normal scene gives [-8.33919559e-11 -1.66784159e-10  2.50316261e-10]\n",
    "\n",
    "The usual result is [-1.25854323e+14 -2.51709019e+14  3.77774849e+14]"
   ]
  },
  {
   "cell_type": "code",
   "execution_count": null,
   "metadata": {
    "cell_style": "center"
   },
   "outputs": [],
   "source": [
    "m = pt.Sphere([1e-6,2e-6,50e-6],5e-6,n_in=1.52, reflective=False)\n",
    "rf = pt.AdaptiveGaussianRF([0,0,0],[0,0,1],3.4e-6,300e-3,300,532,[1e-6,2e-6,-5.1e-6+50e-6],5e-6)\n",
    "ms = MultiScene(rf, [m])\n",
    "\n",
    "q = mp.Queue()\n",
    "for scene in ms.scenes:\n",
    "    p = mp.Process(target=scene.run, args=(100,q))\n",
    "    p.start()\n",
    "p.join()\n",
    "\n",
    "ps = []\n",
    "for i in range(len(ms.scenes)):\n",
    "    ps.append(q.get())"
   ]
  },
  {
   "cell_type": "code",
   "execution_count": null,
   "metadata": {
    "cell_style": "center"
   },
   "outputs": [],
   "source": [
    "ps"
   ]
  },
  {
   "cell_type": "code",
   "execution_count": null,
   "metadata": {},
   "outputs": [],
   "source": [
    "ps_parts_acc[-1]"
   ]
  },
  {
   "cell_type": "code",
   "execution_count": null,
   "metadata": {},
   "outputs": [],
   "source": [
    "np.sum(ps, axis=0)"
   ]
  },
  {
   "cell_type": "markdown",
   "metadata": {},
   "source": [
    "The usual result is [-1.25854323e+14 -2.51709019e+14  3.77774849e+14]"
   ]
  },
  {
   "cell_type": "code",
   "execution_count": null,
   "metadata": {},
   "outputs": [],
   "source": [
    "for scene in ms.scenes:\n",
    "    print(len(scene.r_origins))"
   ]
  },
  {
   "cell_type": "markdown",
   "metadata": {},
   "source": [
    "# Snakeviz"
   ]
  },
  {
   "cell_type": "code",
   "execution_count": 9,
   "metadata": {},
   "outputs": [
    {
     "name": "stdout",
     "output_type": "stream",
     "text": [
      "[-1.17125612e+14 -2.31801866e+14  3.40500708e+14]\n",
      " \n",
      "*** Profile stats marshalled to file '/tmp/tmpyp9vvdkh'. \n",
      "Embedding SnakeViz in this document...\n"
     ]
    },
    {
     "data": {
      "text/html": [
       "\n",
       "<iframe id='snakeviz-42dd57fc-e17c-11ea-97d2-f079590a236e' frameborder=0 seamless width='100%' height='1000'></iframe>\n",
       "<script>document.getElementById(\"snakeviz-42dd57fc-e17c-11ea-97d2-f079590a236e\").setAttribute(\"src\", \"http://\" + document.location.hostname + \":8080/snakeviz/%2Ftmp%2Ftmpyp9vvdkh\")</script>\n"
      ],
      "text/plain": [
       "<IPython.core.display.HTML object>"
      ]
     },
     "metadata": {},
     "output_type": "display_data"
    }
   ],
   "source": [
    "%%snakeviz\n",
    "m = pt.MeshTO([1e-6,2e-6,50e-6], \"cruel_sphere.obj\",5e-6,n_in=1.52, reflective=False)\n",
    "rf = pt.AdaptiveGaussianRF([0,0,0],[0,0,1],3.4e-6,300e-3,300,532,[1e-6,2e-6,-5.1e-6+50e-6],5e-6)\n",
    "s = pt.Scene(rf, [m])\n",
    "s.run(limit=5)\n",
    "print(s.momentum)"
   ]
  },
  {
   "cell_type": "code",
   "execution_count": 17,
   "metadata": {},
   "outputs": [
    {
     "name": "stdout",
     "output_type": "stream",
     "text": [
      "[-1.17125594e+14 -2.31801449e+14  3.40501486e+14]\n",
      " \n",
      "*** Profile stats marshalled to file '/tmp/tmpkb0oaml4'. \n",
      "Embedding SnakeViz in this document...\n"
     ]
    },
    {
     "data": {
      "text/html": [
       "\n",
       "<iframe id='snakeviz-9a1c0e78-e17c-11ea-97d2-f079590a236e' frameborder=0 seamless width='100%' height='1000'></iframe>\n",
       "<script>document.getElementById(\"snakeviz-9a1c0e78-e17c-11ea-97d2-f079590a236e\").setAttribute(\"src\", \"http://\" + document.location.hostname + \":8080/snakeviz/%2Ftmp%2Ftmpkb0oaml4\")</script>\n"
      ],
      "text/plain": [
       "<IPython.core.display.HTML object>"
      ]
     },
     "metadata": {},
     "output_type": "display_data"
    }
   ],
   "source": [
    "%%snakeviz\n",
    "m = pt.MeshTO([1e-6,2e-6,50e-6], \"cruel_sphere.obj\",5e-6,n_in=1.52, reflective=False)\n",
    "rf = pt.AdaptiveGaussianRF([0,0,0],[0,0,1],3.4e-6,300e-3,300,532,[1e-6,2e-6,-5.1e-6+50e-6],5e-6)\n",
    "ms = MultiScene(rf, [m], 5)\n",
    "\n",
    "q = mp.Queue()\n",
    "for scene in ms.scenes:\n",
    "    p = mp.Process(target=scene.run, args=(5,q))\n",
    "    p.start()\n",
    "p.join()\n",
    "\n",
    "ps = np.zeros(3)\n",
    "for i in range(len(ms.scenes)):\n",
    "    ps += q.get()\n",
    "print(ps)"
   ]
  },
  {
   "cell_type": "markdown",
   "metadata": {},
   "source": [
    "## Mesh"
   ]
  },
  {
   "cell_type": "code",
   "execution_count": 62,
   "metadata": {},
   "outputs": [
    {
     "name": "stdout",
     "output_type": "stream",
     "text": [
      "205 ms ± 1.93 ms per loop (mean ± std. dev. of 7 runs, 1 loop each)\n"
     ]
    }
   ],
   "source": [
    "%%timeit\n",
    "m = pt.MeshTO([1e-6,2e-6,50e-6], \"simple_sphere.obj\",5e-6,n_in=1.52, reflective=False)\n",
    "rf = pt.AdaptiveGaussianRF([0,0,0],[0,0,1],3.4e-6,300e-3,1000,532,[1e-6,2e-6,-5.1e-6+50e-6],5e-6)\n",
    "s = pt.Scene(rf, [m])\n",
    "s.run(5)\n",
    "# print(s.momentum)"
   ]
  },
  {
   "cell_type": "code",
   "execution_count": 61,
   "metadata": {},
   "outputs": [
    {
     "name": "stdout",
     "output_type": "stream",
     "text": [
      "96.9 ms ± 2.89 ms per loop (mean ± std. dev. of 7 runs, 10 loops each)\n"
     ]
    }
   ],
   "source": [
    "%%timeit\n",
    "m = pt.MeshTO([1e-6,2e-6,50e-6], \"simple_sphere.obj\", 5e-6,n_in=1.52, reflective=False)\n",
    "rf = pt.AdaptiveGaussianRF([0,0,0],[0,0,1],3.4e-6,300e-3,1000,532,[1e-6,2e-6,-5.1e-6+50e-6],5e-6)\n",
    "s = pt.MultiScene(rf, [m], 8)\n",
    "s.run(5)\n",
    "# print(s.momentum)"
   ]
  },
  {
   "cell_type": "markdown",
   "metadata": {},
   "source": [
    "## Sphere"
   ]
  },
  {
   "cell_type": "code",
   "execution_count": 44,
   "metadata": {},
   "outputs": [
    {
     "name": "stdout",
     "output_type": "stream",
     "text": [
      "5.22 ms ± 47.4 µs per loop (mean ± std. dev. of 7 runs, 100 loops each)\n"
     ]
    }
   ],
   "source": [
    "%%timeit\n",
    "m = pt.Sphere([1e-6,2e-6,50e-6],5e-6,n_in=1.52, reflective=False)\n",
    "rf = pt.AdaptiveGaussianRF([0,0,0],[0,0,1],3.4e-6,300e-3,1000,532,[1e-6,2e-6,-5.1e-6+50e-6],5e-6)\n",
    "s = pt.Scene(rf, [m])\n",
    "s.run(5)\n",
    "# print(s.momentum)"
   ]
  },
  {
   "cell_type": "code",
   "execution_count": 45,
   "metadata": {
    "scrolled": true
   },
   "outputs": [
    {
     "name": "stdout",
     "output_type": "stream",
     "text": [
      "34.7 ms ± 371 µs per loop (mean ± std. dev. of 7 runs, 10 loops each)\n"
     ]
    }
   ],
   "source": [
    "%%timeit\n",
    "m = pt.Sphere([1e-6,2e-6,50e-6],5e-6,n_in=1.52, reflective=False)\n",
    "rf = pt.AdaptiveGaussianRF([0,0,0],[0,0,1],3.4e-6,300e-3,1000,532,[1e-6,2e-6,-5.1e-6+50e-6],5e-6)\n",
    "s = pt.MultiScene(rf, [m])\n",
    "s.run(5)\n",
    "# print(s.momentum)"
   ]
  },
  {
   "cell_type": "markdown",
   "metadata": {},
   "source": [
    "# Whyyyy"
   ]
  },
  {
   "cell_type": "code",
   "execution_count": 31,
   "metadata": {},
   "outputs": [],
   "source": [
    "m = pt.Sphere([1e-6,2e-6,50e-6],5e-6,n_in=1.52, reflective=False)\n",
    "rf = pt.AdaptiveGaussianRF([0,0,0],[0,0,1],3.4e-6,300e-3,300,532,[1e-6,2e-6,-5.1e-6+50e-6],5e-6)\n",
    "s = pt.Scene(rf, [m])\n",
    "ms = pt.MultiScene(rf, [m])"
   ]
  },
  {
   "cell_type": "code",
   "execution_count": 43,
   "metadata": {
    "cell_style": "center"
   },
   "outputs": [
    {
     "data": {
      "text/plain": [
       "[532, 532, 532, 532, 532]"
      ]
     },
     "execution_count": 43,
     "metadata": {},
     "output_type": "execute_result"
    }
   ],
   "source": [
    "[sc.r_wavelength for sc in ms.scenes]"
   ]
  },
  {
   "cell_type": "code",
   "execution_count": 42,
   "metadata": {
    "cell_style": "center"
   },
   "outputs": [
    {
     "data": {
      "text/plain": [
       "532"
      ]
     },
     "execution_count": 42,
     "metadata": {},
     "output_type": "execute_result"
    }
   ],
   "source": [
    "s.r_wavelength"
   ]
  },
  {
   "cell_type": "code",
   "execution_count": null,
   "metadata": {},
   "outputs": [],
   "source": []
  }
 ],
 "metadata": {
  "kernelspec": {
   "display_name": "UROP20",
   "language": "python",
   "name": "urop20"
  },
  "language_info": {
   "codemirror_mode": {
    "name": "ipython",
    "version": 3
   },
   "file_extension": ".py",
   "mimetype": "text/x-python",
   "name": "python",
   "nbconvert_exporter": "python",
   "pygments_lexer": "ipython3",
   "version": "3.7.7"
  }
 },
 "nbformat": 4,
 "nbformat_minor": 4
}
